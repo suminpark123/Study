{
  "nbformat": 4,
  "nbformat_minor": 0,
  "metadata": {
    "colab": {
      "provenance": []
    },
    "kernelspec": {
      "name": "python3",
      "display_name": "Python 3"
    },
    "language_info": {
      "name": "python"
    }
  },
  "cells": [
    {
      "cell_type": "code",
      "execution_count": null,
      "metadata": {
        "id": "CF30NcPAEtuX"
      },
      "outputs": [],
      "source": [
        "from tensorflow.keras.datasets import mnist #손글씨 데이터"
      ]
    },
    {
      "cell_type": "code",
      "source": [
        "data=mnist.load_data()"
      ],
      "metadata": {
        "colab": {
          "base_uri": "https://localhost:8080/"
        },
        "id": "3ULj0mMMF11Z",
        "outputId": "a1d8c030-e3d7-4b47-8ff0-75667858463b"
      },
      "execution_count": null,
      "outputs": [
        {
          "output_type": "stream",
          "name": "stdout",
          "text": [
            "Downloading data from https://storage.googleapis.com/tensorflow/tf-keras-datasets/mnist.npz\n",
            "11490434/11490434 [==============================] - 0s 0us/step\n"
          ]
        }
      ]
    },
    {
      "cell_type": "code",
      "source": [
        "len(data)"
      ],
      "metadata": {
        "colab": {
          "base_uri": "https://localhost:8080/"
        },
        "id": "WyJD1ShCGK-G",
        "outputId": "3c960e66-0258-45e1-bf29-2b316a1f4782"
      },
      "execution_count": null,
      "outputs": [
        {
          "output_type": "execute_result",
          "data": {
            "text/plain": [
              "2"
            ]
          },
          "metadata": {},
          "execution_count": 3
        }
      ]
    },
    {
      "cell_type": "code",
      "source": [
        "print(len(data[0]))\n",
        "print(len(data[1]))"
      ],
      "metadata": {
        "colab": {
          "base_uri": "https://localhost:8080/"
        },
        "id": "qg9YxDZ8M9IF",
        "outputId": "6cbea294-0d8a-42c2-c334-fc3ec68a989d"
      },
      "execution_count": null,
      "outputs": [
        {
          "output_type": "stream",
          "name": "stdout",
          "text": [
            "2\n",
            "2\n"
          ]
        }
      ]
    },
    {
      "cell_type": "code",
      "source": [
        "a,b = (1,3)\n",
        "print(a)\n",
        "print(b)"
      ],
      "metadata": {
        "colab": {
          "base_uri": "https://localhost:8080/"
        },
        "id": "zDnD2SRQND5j",
        "outputId": "369e764d-f2d0-4bd3-b337-6e728c88a9b7"
      },
      "execution_count": null,
      "outputs": [
        {
          "output_type": "stream",
          "name": "stdout",
          "text": [
            "1\n",
            "3\n"
          ]
        }
      ]
    },
    {
      "cell_type": "code",
      "source": [
        "(X_train,y_train),(X_test,y_test)=data"
      ],
      "metadata": {
        "id": "He_-Ji-3NlE-"
      },
      "execution_count": null,
      "outputs": []
    },
    {
      "cell_type": "code",
      "source": [
        "X_train.shape,y_train.shape"
      ],
      "metadata": {
        "colab": {
          "base_uri": "https://localhost:8080/"
        },
        "id": "8kQ67mKFN6bs",
        "outputId": "72657ed5-a793-4b5f-e0cd-7e61c39d07ab"
      },
      "execution_count": null,
      "outputs": [
        {
          "output_type": "execute_result",
          "data": {
            "text/plain": [
              "((60000, 28, 28), (60000,))"
            ]
          },
          "metadata": {},
          "execution_count": 11
        }
      ]
    },
    {
      "cell_type": "code",
      "source": [
        "X_test.shape,y_test.shape"
      ],
      "metadata": {
        "colab": {
          "base_uri": "https://localhost:8080/"
        },
        "id": "InENQAW0OMoE",
        "outputId": "2bc64e57-11fd-4927-8a5d-501901c7a660"
      },
      "execution_count": null,
      "outputs": [
        {
          "output_type": "execute_result",
          "data": {
            "text/plain": [
              "((10000, 28, 28), (10000,))"
            ]
          },
          "metadata": {},
          "execution_count": 12
        }
      ]
    },
    {
      "cell_type": "markdown",
      "source": [
        "### 데이터 시각화"
      ],
      "metadata": {
        "id": "h57TNEkHPViu"
      }
    },
    {
      "cell_type": "code",
      "source": [
        "import matplotlib.pyplot as plt"
      ],
      "metadata": {
        "id": "3JBaHC1qOYqd"
      },
      "execution_count": null,
      "outputs": []
    },
    {
      "cell_type": "code",
      "source": [
        "# 픽셀 정보(숫자)를 이미지화 시켜줌\n",
        "plt.imshow(X_train[0])"
      ],
      "metadata": {
        "colab": {
          "base_uri": "https://localhost:8080/",
          "height": 283
        },
        "id": "YnWhQaibPihm",
        "outputId": "c161c18f-a966-482d-abf4-747b7ab95ca8"
      },
      "execution_count": null,
      "outputs": [
        {
          "output_type": "execute_result",
          "data": {
            "text/plain": [
              "<matplotlib.image.AxesImage at 0x7fc3d6af6e50>"
            ]
          },
          "metadata": {},
          "execution_count": 18
        },
        {
          "output_type": "display_data",
          "data": {
            "text/plain": [
              "<Figure size 432x288 with 1 Axes>"
            ],
            "image/png": "[encoded data removed]"
          },
          "metadata": {
            "needs_background": "light"
          }
        }
      ]
    },
    {
      "cell_type": "code",
      "source": [
        "plt.imshow(X_train[3333])"
      ],
      "metadata": {
        "colab": {
          "base_uri": "https://localhost:8080/",
          "height": 283
        },
        "id": "YM1w1_qHPkmj",
        "outputId": "cd29146c-ef1b-4fc8-ccb7-b9723d4e3eec"
      },
      "execution_count": null,
      "outputs": [
        {
          "output_type": "execute_result",
          "data": {
            "text/plain": [
              "<matplotlib.image.AxesImage at 0x7fc3d6a59580>"
            ]
          },
          "metadata": {},
          "execution_count": 19
        },
        {
          "output_type": "display_data",
          "data": {
            "text/plain": [
              "<Figure size 432x288 with 1 Axes>"
            ],
            "image/png": "[encoded data removed]"
          },
          "metadata": {
            "needs_background": "light"
          }
        }
      ]
    },
    {
      "cell_type": "code",
      "source": [
        "plt.imshow(X_train[0],cmap='gray')"
      ],
      "metadata": {
        "colab": {
          "base_uri": "https://localhost:8080/",
          "height": 283
        },
        "id": "nRL3XyhkQVSD",
        "outputId": "37bbfa8c-aac6-40d0-ace3-f2b30f3d2d2d"
      },
      "execution_count": null,
      "outputs": [
        {
          "output_type": "execute_result",
          "data": {
            "text/plain": [
              "<matplotlib.image.AxesImage at 0x7fc3d69ac3a0>"
            ]
          },
          "metadata": {},
          "execution_count": 21
        },
        {
          "output_type": "display_data",
          "data": {
            "text/plain": [
              "<Figure size 432x288 with 1 Axes>"
            ],
            "image/png": "[encoded data removed]"
          },
          "metadata": {
            "needs_background": "light"
          }
        }
      ]
    },
    {
      "cell_type": "code",
      "source": [
        "y_train[0]"
      ],
      "metadata": {
        "colab": {
          "base_uri": "https://localhost:8080/"
        },
        "id": "MXKoVHqEQoS7",
        "outputId": "4c801257-7246-4335-9324-7483879aed23"
      },
      "execution_count": null,
      "outputs": [
        {
          "output_type": "execute_result",
          "data": {
            "text/plain": [
              "5"
            ]
          },
          "metadata": {},
          "execution_count": 22
        }
      ]
    },
    {
      "cell_type": "code",
      "source": [
        "\n",
        "import numpy as np"
      ],
      "metadata": {
        "id": "XxnhNL0eQwe0"
      },
      "execution_count": null,
      "outputs": []
    },
    {
      "cell_type": "code",
      "source": [
        "# 정답 데이터의 종류\n",
        "np.unique(y_train)"
      ],
      "metadata": {
        "colab": {
          "base_uri": "https://localhost:8080/"
        },
        "id": "BzaUF5vbSNnU",
        "outputId": "e546c8e6-de48-4fa4-a110-a8f8f2872ee4"
      },
      "execution_count": null,
      "outputs": [
        {
          "output_type": "execute_result",
          "data": {
            "text/plain": [
              "array([0, 1, 2, 3, 4, 5, 6, 7, 8, 9], dtype=uint8)"
            ]
          },
          "metadata": {},
          "execution_count": 26
        }
      ]
    },
    {
      "cell_type": "code",
      "source": [
        "#정답 데이터의 빈도수\n",
        "np.bincount(y_train)"
      ],
      "metadata": {
        "colab": {
          "base_uri": "https://localhost:8080/"
        },
        "id": "Ll8QFydOSP8L",
        "outputId": "29bcf12a-bb25-46ca-a9ac-57a2e080f09a"
      },
      "execution_count": null,
      "outputs": [
        {
          "output_type": "execute_result",
          "data": {
            "text/plain": [
              "array([5923, 6742, 5958, 6131, 5842, 5421, 5918, 6265, 5851, 5949])"
            ]
          },
          "metadata": {},
          "execution_count": 27
        }
      ]
    },
    {
      "cell_type": "code",
      "source": [
        "plt.hist(X_train[0])\n",
        "plt.show()"
      ],
      "metadata": {
        "colab": {
          "base_uri": "https://localhost:8080/",
          "height": 265
        },
        "id": "R72bKLAQSUQj",
        "outputId": "59627cd3-f670-4dd3-ca34-9b311ef633d8"
      },
      "execution_count": null,
      "outputs": [
        {
          "output_type": "display_data",
          "data": {
            "text/plain": [
              "<Figure size 432x288 with 1 Axes>"
            ],
            "image/png": "[encoded data removed]"
          },
          "metadata": {
            "needs_background": "light"
          }
        }
      ]
    },
    {
      "cell_type": "markdown",
      "source": [
        "### 모델링\n",
        "1. 모델 구조/설계\n",
        "2. 모델 학습 및 평가\n",
        "3. 모델 평가 결과 시각화"
      ],
      "metadata": {
        "id": "kOFDJNV8TWJU"
      }
    },
    {
      "cell_type": "code",
      "source": [
        "from tensorflow.keras import Sequential\n",
        "from tensorflow.keras.layers import InputLayer, Dense,Flatten\n",
        "from tensorflow.keras.utils import to_categorical"
      ],
      "metadata": {
        "id": "T1GmpYEoSyUj"
      },
      "execution_count": null,
      "outputs": []
    },
    {
      "cell_type": "code",
      "source": [
        "y_train[:10]"
      ],
      "metadata": {
        "colab": {
          "base_uri": "https://localhost:8080/"
        },
        "id": "BxDxJVlDTjj3",
        "outputId": "a0391aa7-7ffc-4457-fad5-1f314724afa8"
      },
      "execution_count": null,
      "outputs": [
        {
          "output_type": "execute_result",
          "data": {
            "text/plain": [
              "array([5, 0, 4, 1, 9, 2, 1, 3, 1, 4], dtype=uint8)"
            ]
          },
          "metadata": {},
          "execution_count": 47
        }
      ]
    },
    {
      "cell_type": "code",
      "source": [
        "#확률 정보로 변경\n",
        "#딥러닝 다중분류 -최종 예측을 위해 확률 정보를 계산\n",
        "#확률 정보로 변경 ->분류 모델이 최종 예측 결과를 위해 확률값 계산\n",
        "to_categorical(y_train[:10])"
      ],
      "metadata": {
        "colab": {
          "base_uri": "https://localhost:8080/"
        },
        "id": "snWhZ7MxZXob",
        "outputId": "852c80ee-5670-435f-ed48-8f29265ae756"
      },
      "execution_count": null,
      "outputs": [
        {
          "output_type": "execute_result",
          "data": {
            "text/plain": [
              "array([[0., 0., 0., 0., 0., 1., 0., 0., 0., 0.],\n",
              "       [1., 0., 0., 0., 0., 0., 0., 0., 0., 0.],\n",
              "       [0., 0., 0., 0., 1., 0., 0., 0., 0., 0.],\n",
              "       [0., 1., 0., 0., 0., 0., 0., 0., 0., 0.],\n",
              "       [0., 0., 0., 0., 0., 0., 0., 0., 0., 1.],\n",
              "       [0., 0., 1., 0., 0., 0., 0., 0., 0., 0.],\n",
              "       [0., 1., 0., 0., 0., 0., 0., 0., 0., 0.],\n",
              "       [0., 0., 0., 1., 0., 0., 0., 0., 0., 0.],\n",
              "       [0., 1., 0., 0., 0., 0., 0., 0., 0., 0.],\n",
              "       [0., 0., 0., 0., 1., 0., 0., 0., 0., 0.]], dtype=float32)"
            ]
          },
          "metadata": {},
          "execution_count": 48
        }
      ]
    },
    {
      "cell_type": "code",
      "source": [
        "y_train_one_hot = to_categorical(y_train)\n",
        "y_test_one_hot = to_categorical(y_test)"
      ],
      "metadata": {
        "id": "WAC-Q4qMaGyX"
      },
      "execution_count": null,
      "outputs": []
    },
    {
      "cell_type": "code",
      "source": [
        "# 1. 모델 구조 설계\n",
        "mnist_model = Sequential() #모델 뼈대\n",
        "mnist_model.add(InputLayer(input_shape=(28,28)))\n",
        "mnist_model.add(Flatten())   # 입력된 데이터를 1차원으로 평평하게 만들어주는 층\n",
        "mnist_model.add(Dense(units=32,activation='sigmoid'))\n",
        "mnist_model.add(Dense(units=64,activation='sigmoid'))\n",
        "mnist_model.add(Dense(units=32,activation='sigmoid'))\n",
        "mnist_model.add(Dense(units=64,activation='sigmoid'))\n",
        "mnist_model.add(Dense(units=10,activation='softmax'))\n",
        "#다중분류의출력층 units =클래스의수,활성화 함수 ='softmax'\n",
        "\n"
      ],
      "metadata": {
        "id": "9oY0L9vqcfT4"
      },
      "execution_count": null,
      "outputs": []
    },
    {
      "cell_type": "code",
      "source": [
        "# 2. 모델 학습/평가 방법 설정\n",
        "mnist_model.compile(loss='categorical_crossentropy',\n",
        "              optimizer='Adam',\n",
        "              metrics=['accuracy']\n",
        "              )"
      ],
      "metadata": {
        "id": "NrafWizLci_5"
      },
      "execution_count": null,
      "outputs": []
    },
    {
      "cell_type": "code",
      "source": [
        "mnist_history = mnist_model.fit(X_train,y_train_one_hot,validation_split=0.3,\n",
        "                                epochs=150)"
      ],
      "metadata": {
        "colab": {
          "base_uri": "https://localhost:8080/"
        },
        "id": "BwuIThjMoyYF",
        "outputId": "682ce9fb-77ea-4e87-abd4-c55c3f47bc07"
      },
      "execution_count": null,
      "outputs": [
        {
          "output_type": "stream",
          "name": "stdout",
          "text": [
            "Epoch 1/150\n",
            "1313/1313 [==============================] - 6s 4ms/step - loss: 1.3701 - accuracy: 0.5284 - val_loss: 0.8682 - val_accuracy: 0.7293\n",
            "Epoch 2/150\n",
            "1313/1313 [==============================] - 4s 3ms/step - loss: 0.8064 - accuracy: 0.7386 - val_loss: 0.6980 - val_accuracy: 0.7818\n",
            "Epoch 3/150\n",
            "1313/1313 [==============================] - 4s 3ms/step - loss: 0.6734 - accuracy: 0.7898 - val_loss: 0.5663 - val_accuracy: 0.8298\n",
            "Epoch 4/150\n",
            "1313/1313 [==============================] - 4s 3ms/step - loss: 0.5700 - accuracy: 0.8312 - val_loss: 0.5304 - val_accuracy: 0.8417\n",
            "Epoch 5/150\n",
            "1313/1313 [==============================] - 4s 3ms/step - loss: 0.5163 - accuracy: 0.8441 - val_loss: 0.4943 - val_accuracy: 0.8485\n",
            "Epoch 6/150\n",
            "1313/1313 [==============================] - 4s 3ms/step - loss: 0.4898 - accuracy: 0.8518 - val_loss: 0.4626 - val_accuracy: 0.8646\n",
            "Epoch 7/150\n",
            "1313/1313 [==============================] - 4s 3ms/step - loss: 0.4553 - accuracy: 0.8634 - val_loss: 0.4487 - val_accuracy: 0.8624\n",
            "Epoch 8/150\n",
            "1313/1313 [==============================] - 4s 3ms/step - loss: 0.4306 - accuracy: 0.8677 - val_loss: 0.4104 - val_accuracy: 0.8721\n",
            "Epoch 9/150\n",
            "1313/1313 [==============================] - 4s 3ms/step - loss: 0.4362 - accuracy: 0.8671 - val_loss: 0.4042 - val_accuracy: 0.8757\n",
            "Epoch 10/150\n",
            "1313/1313 [==============================] - 5s 4ms/step - loss: 0.4111 - accuracy: 0.8743 - val_loss: 0.4136 - val_accuracy: 0.8697\n",
            "Epoch 11/150\n",
            "1313/1313 [==============================] - 4s 3ms/step - loss: 0.3920 - accuracy: 0.8814 - val_loss: 0.3846 - val_accuracy: 0.8800\n",
            "Epoch 12/150\n",
            "1313/1313 [==============================] - 4s 3ms/step - loss: 0.3863 - accuracy: 0.8796 - val_loss: 0.3738 - val_accuracy: 0.8902\n",
            "Epoch 13/150\n",
            "1313/1313 [==============================] - 4s 3ms/step - loss: 0.3715 - accuracy: 0.8881 - val_loss: 0.3873 - val_accuracy: 0.8859\n",
            "Epoch 14/150\n",
            "1313/1313 [==============================] - 4s 3ms/step - loss: 0.3754 - accuracy: 0.8859 - val_loss: 0.3542 - val_accuracy: 0.8906\n",
            "Epoch 15/150\n",
            "1313/1313 [==============================] - 4s 3ms/step - loss: 0.3581 - accuracy: 0.8915 - val_loss: 0.3464 - val_accuracy: 0.8935\n",
            "Epoch 16/150\n",
            "1313/1313 [==============================] - 4s 3ms/step - loss: 0.3457 - accuracy: 0.8912 - val_loss: 0.3373 - val_accuracy: 0.8939\n",
            "Epoch 17/150\n",
            "1313/1313 [==============================] - 4s 3ms/step - loss: 0.3395 - accuracy: 0.8953 - val_loss: 0.3409 - val_accuracy: 0.8971\n",
            "Epoch 18/150\n",
            "1313/1313 [==============================] - 4s 3ms/step - loss: 0.3341 - accuracy: 0.8967 - val_loss: 0.3344 - val_accuracy: 0.8964\n",
            "Epoch 19/150\n",
            "1313/1313 [==============================] - 4s 3ms/step - loss: 0.3291 - accuracy: 0.8982 - val_loss: 0.3338 - val_accuracy: 0.8986\n",
            "Epoch 20/150\n",
            "1313/1313 [==============================] - 4s 3ms/step - loss: 0.3150 - accuracy: 0.9018 - val_loss: 0.3134 - val_accuracy: 0.9044\n",
            "Epoch 21/150\n",
            "1313/1313 [==============================] - 4s 3ms/step - loss: 0.3107 - accuracy: 0.9041 - val_loss: 0.3063 - val_accuracy: 0.9059\n",
            "Epoch 22/150\n",
            "1313/1313 [==============================] - 4s 3ms/step - loss: 0.3174 - accuracy: 0.9020 - val_loss: 0.3269 - val_accuracy: 0.8978\n",
            "Epoch 23/150\n",
            "1313/1313 [==============================] - 4s 3ms/step - loss: 0.3108 - accuracy: 0.9036 - val_loss: 0.3018 - val_accuracy: 0.9086\n",
            "Epoch 24/150\n",
            "1313/1313 [==============================] - 4s 3ms/step - loss: 0.2924 - accuracy: 0.9107 - val_loss: 0.3004 - val_accuracy: 0.9063\n",
            "Epoch 25/150\n",
            "1313/1313 [==============================] - 4s 3ms/step - loss: 0.2918 - accuracy: 0.9105 - val_loss: 0.3084 - val_accuracy: 0.9053\n",
            "Epoch 26/150\n",
            "1313/1313 [==============================] - 4s 3ms/step - loss: 0.2855 - accuracy: 0.9119 - val_loss: 0.3045 - val_accuracy: 0.9084\n",
            "Epoch 27/150\n",
            "1313/1313 [==============================] - 4s 3ms/step - loss: 0.2953 - accuracy: 0.9093 - val_loss: 0.2985 - val_accuracy: 0.9079\n",
            "Epoch 28/150\n",
            "1313/1313 [==============================] - 4s 3ms/step - loss: 0.2855 - accuracy: 0.9139 - val_loss: 0.2828 - val_accuracy: 0.9151\n",
            "Epoch 29/150\n",
            "1313/1313 [==============================] - 4s 3ms/step - loss: 0.2874 - accuracy: 0.9145 - val_loss: 0.2951 - val_accuracy: 0.9096\n",
            "Epoch 30/150\n",
            "1313/1313 [==============================] - 4s 3ms/step - loss: 0.2806 - accuracy: 0.9146 - val_loss: 0.2883 - val_accuracy: 0.9110\n",
            "Epoch 31/150\n",
            "1313/1313 [==============================] - 4s 3ms/step - loss: 0.2928 - accuracy: 0.9100 - val_loss: 0.2829 - val_accuracy: 0.9127\n",
            "Epoch 32/150\n",
            "1313/1313 [==============================] - 4s 3ms/step - loss: 0.2732 - accuracy: 0.9151 - val_loss: 0.2820 - val_accuracy: 0.9129\n",
            "Epoch 33/150\n",
            "1313/1313 [==============================] - 4s 3ms/step - loss: 0.2766 - accuracy: 0.9140 - val_loss: 0.2811 - val_accuracy: 0.9148\n",
            "Epoch 34/150\n",
            "1313/1313 [==============================] - 4s 3ms/step - loss: 0.2736 - accuracy: 0.9178 - val_loss: 0.2792 - val_accuracy: 0.9159\n",
            "Epoch 35/150\n",
            "1313/1313 [==============================] - 4s 3ms/step - loss: 0.2682 - accuracy: 0.9167 - val_loss: 0.2655 - val_accuracy: 0.9188\n",
            "Epoch 36/150\n",
            "1313/1313 [==============================] - 4s 3ms/step - loss: 0.2537 - accuracy: 0.9215 - val_loss: 0.2927 - val_accuracy: 0.9066\n",
            "Epoch 37/150\n",
            "1313/1313 [==============================] - 4s 3ms/step - loss: 0.2747 - accuracy: 0.9138 - val_loss: 0.2778 - val_accuracy: 0.9163\n",
            "Epoch 38/150\n",
            "1313/1313 [==============================] - 4s 3ms/step - loss: 0.2567 - accuracy: 0.9223 - val_loss: 0.2888 - val_accuracy: 0.9121\n",
            "Epoch 39/150\n",
            "1313/1313 [==============================] - 4s 3ms/step - loss: 0.2518 - accuracy: 0.9225 - val_loss: 0.2547 - val_accuracy: 0.9220\n",
            "Epoch 40/150\n",
            "1313/1313 [==============================] - 4s 3ms/step - loss: 0.2407 - accuracy: 0.9257 - val_loss: 0.2544 - val_accuracy: 0.9234\n",
            "Epoch 41/150\n",
            "1313/1313 [==============================] - 4s 3ms/step - loss: 0.2443 - accuracy: 0.9238 - val_loss: 0.2725 - val_accuracy: 0.9172\n",
            "Epoch 42/150\n",
            "1313/1313 [==============================] - 4s 3ms/step - loss: 0.2502 - accuracy: 0.9229 - val_loss: 0.2671 - val_accuracy: 0.9199\n",
            "Epoch 43/150\n",
            "1313/1313 [==============================] - 4s 3ms/step - loss: 0.2431 - accuracy: 0.9248 - val_loss: 0.2569 - val_accuracy: 0.9208\n",
            "Epoch 44/150\n",
            "1313/1313 [==============================] - 4s 3ms/step - loss: 0.2463 - accuracy: 0.9234 - val_loss: 0.2659 - val_accuracy: 0.9200\n",
            "Epoch 45/150\n",
            "1313/1313 [==============================] - 4s 3ms/step - loss: 0.2313 - accuracy: 0.9296 - val_loss: 0.2416 - val_accuracy: 0.9267\n",
            "Epoch 46/150\n",
            "1313/1313 [==============================] - 4s 3ms/step - loss: 0.2230 - accuracy: 0.9331 - val_loss: 0.2437 - val_accuracy: 0.9278\n",
            "Epoch 47/150\n",
            "1313/1313 [==============================] - 4s 3ms/step - loss: 0.2287 - accuracy: 0.9306 - val_loss: 0.2608 - val_accuracy: 0.9221\n",
            "Epoch 48/150\n",
            "1313/1313 [==============================] - 4s 3ms/step - loss: 0.2397 - accuracy: 0.9280 - val_loss: 0.2531 - val_accuracy: 0.9226\n",
            "Epoch 49/150\n",
            "1313/1313 [==============================] - 4s 3ms/step - loss: 0.2498 - accuracy: 0.9240 - val_loss: 0.2846 - val_accuracy: 0.9142\n",
            "Epoch 50/150\n",
            "1313/1313 [==============================] - 4s 3ms/step - loss: 0.2543 - accuracy: 0.9231 - val_loss: 0.2601 - val_accuracy: 0.9226\n",
            "Epoch 51/150\n",
            "1313/1313 [==============================] - 4s 3ms/step - loss: 0.2496 - accuracy: 0.9239 - val_loss: 0.2431 - val_accuracy: 0.9273\n",
            "Epoch 52/150\n",
            "1313/1313 [==============================] - 4s 3ms/step - loss: 0.2270 - accuracy: 0.9304 - val_loss: 0.2391 - val_accuracy: 0.9277\n",
            "Epoch 53/150\n",
            "1313/1313 [==============================] - 4s 3ms/step - loss: 0.2177 - accuracy: 0.9324 - val_loss: 0.2378 - val_accuracy: 0.9277\n",
            "Epoch 54/150\n",
            "1313/1313 [==============================] - 4s 3ms/step - loss: 0.2110 - accuracy: 0.9339 - val_loss: 0.2291 - val_accuracy: 0.9312\n",
            "Epoch 55/150\n",
            "1313/1313 [==============================] - 4s 3ms/step - loss: 0.2086 - accuracy: 0.9357 - val_loss: 0.2227 - val_accuracy: 0.9329\n",
            "Epoch 56/150\n",
            "1313/1313 [==============================] - 4s 3ms/step - loss: 0.2170 - accuracy: 0.9331 - val_loss: 0.2392 - val_accuracy: 0.9281\n",
            "Epoch 57/150\n",
            "1313/1313 [==============================] - 4s 3ms/step - loss: 0.2245 - accuracy: 0.9305 - val_loss: 0.2460 - val_accuracy: 0.9250\n",
            "Epoch 58/150\n",
            "1313/1313 [==============================] - 4s 3ms/step - loss: 0.2151 - accuracy: 0.9332 - val_loss: 0.2405 - val_accuracy: 0.9263\n",
            "Epoch 59/150\n",
            "1313/1313 [==============================] - 4s 3ms/step - loss: 0.2213 - accuracy: 0.9312 - val_loss: 0.2389 - val_accuracy: 0.9289\n",
            "Epoch 60/150\n",
            "1313/1313 [==============================] - 5s 4ms/step - loss: 0.2134 - accuracy: 0.9345 - val_loss: 0.2489 - val_accuracy: 0.9262\n",
            "Epoch 61/150\n",
            "1313/1313 [==============================] - 4s 3ms/step - loss: 0.2098 - accuracy: 0.9355 - val_loss: 0.2290 - val_accuracy: 0.9308\n",
            "Epoch 62/150\n",
            "1313/1313 [==============================] - 4s 3ms/step - loss: 0.2093 - accuracy: 0.9361 - val_loss: 0.2460 - val_accuracy: 0.9256\n",
            "Epoch 63/150\n",
            "1313/1313 [==============================] - 4s 3ms/step - loss: 0.2256 - accuracy: 0.9317 - val_loss: 0.2454 - val_accuracy: 0.9265\n",
            "Epoch 64/150\n",
            "1313/1313 [==============================] - 4s 3ms/step - loss: 0.2161 - accuracy: 0.9337 - val_loss: 0.2332 - val_accuracy: 0.9291\n",
            "Epoch 65/150\n",
            "1313/1313 [==============================] - 4s 3ms/step - loss: 0.2074 - accuracy: 0.9365 - val_loss: 0.2177 - val_accuracy: 0.9367\n",
            "Epoch 66/150\n",
            "1313/1313 [==============================] - 4s 3ms/step - loss: 0.1953 - accuracy: 0.9397 - val_loss: 0.2292 - val_accuracy: 0.9321\n",
            "Epoch 67/150\n",
            "1313/1313 [==============================] - 4s 3ms/step - loss: 0.2012 - accuracy: 0.9378 - val_loss: 0.2225 - val_accuracy: 0.9337\n",
            "Epoch 68/150\n",
            "1313/1313 [==============================] - 4s 3ms/step - loss: 0.1871 - accuracy: 0.9421 - val_loss: 0.2254 - val_accuracy: 0.9336\n",
            "Epoch 69/150\n",
            "1313/1313 [==============================] - 4s 3ms/step - loss: 0.2046 - accuracy: 0.9373 - val_loss: 0.2201 - val_accuracy: 0.9344\n",
            "Epoch 70/150\n",
            "1313/1313 [==============================] - 4s 3ms/step - loss: 0.2049 - accuracy: 0.9373 - val_loss: 0.2232 - val_accuracy: 0.9326\n",
            "Epoch 71/150\n",
            "1313/1313 [==============================] - 4s 3ms/step - loss: 0.2047 - accuracy: 0.9380 - val_loss: 0.2405 - val_accuracy: 0.9284\n",
            "Epoch 72/150\n",
            "1313/1313 [==============================] - 4s 3ms/step - loss: 0.2021 - accuracy: 0.9390 - val_loss: 0.2174 - val_accuracy: 0.9364\n",
            "Epoch 73/150\n",
            "1313/1313 [==============================] - 4s 3ms/step - loss: 0.2058 - accuracy: 0.9368 - val_loss: 0.2269 - val_accuracy: 0.9324\n",
            "Epoch 74/150\n",
            "1313/1313 [==============================] - 4s 3ms/step - loss: 0.2045 - accuracy: 0.9383 - val_loss: 0.2288 - val_accuracy: 0.9308\n",
            "Epoch 75/150\n",
            "1313/1313 [==============================] - 4s 3ms/step - loss: 0.1989 - accuracy: 0.9386 - val_loss: 0.2335 - val_accuracy: 0.9296\n",
            "Epoch 76/150\n",
            "1313/1313 [==============================] - 4s 3ms/step - loss: 0.1986 - accuracy: 0.9385 - val_loss: 0.2158 - val_accuracy: 0.9352\n",
            "Epoch 77/150\n",
            "1313/1313 [==============================] - 4s 3ms/step - loss: 0.1876 - accuracy: 0.9416 - val_loss: 0.2189 - val_accuracy: 0.9337\n",
            "Epoch 78/150\n",
            "1313/1313 [==============================] - 4s 3ms/step - loss: 0.1918 - accuracy: 0.9406 - val_loss: 0.2169 - val_accuracy: 0.9341\n",
            "Epoch 79/150\n",
            "1313/1313 [==============================] - 4s 3ms/step - loss: 0.1898 - accuracy: 0.9413 - val_loss: 0.2126 - val_accuracy: 0.9369\n",
            "Epoch 80/150\n",
            "1313/1313 [==============================] - 4s 3ms/step - loss: 0.1873 - accuracy: 0.9429 - val_loss: 0.2199 - val_accuracy: 0.9347\n",
            "Epoch 81/150\n",
            "1313/1313 [==============================] - 4s 3ms/step - loss: 0.1906 - accuracy: 0.9408 - val_loss: 0.2128 - val_accuracy: 0.9355\n",
            "Epoch 82/150\n",
            "1313/1313 [==============================] - 4s 3ms/step - loss: 0.1820 - accuracy: 0.9432 - val_loss: 0.1923 - val_accuracy: 0.9426\n",
            "Epoch 83/150\n",
            "1313/1313 [==============================] - 4s 3ms/step - loss: 0.1782 - accuracy: 0.9452 - val_loss: 0.2142 - val_accuracy: 0.9353\n",
            "Epoch 84/150\n",
            "1313/1313 [==============================] - 4s 3ms/step - loss: 0.1808 - accuracy: 0.9446 - val_loss: 0.2083 - val_accuracy: 0.9389\n",
            "Epoch 85/150\n",
            "1313/1313 [==============================] - 4s 3ms/step - loss: 0.1859 - accuracy: 0.9430 - val_loss: 0.2156 - val_accuracy: 0.9357\n",
            "Epoch 86/150\n",
            "1313/1313 [==============================] - 4s 3ms/step - loss: 0.1845 - accuracy: 0.9433 - val_loss: 0.2041 - val_accuracy: 0.9375\n",
            "Epoch 87/150\n",
            "1313/1313 [==============================] - 4s 3ms/step - loss: 0.1801 - accuracy: 0.9447 - val_loss: 0.2168 - val_accuracy: 0.9334\n",
            "Epoch 88/150\n",
            "1313/1313 [==============================] - 4s 3ms/step - loss: 0.1789 - accuracy: 0.9444 - val_loss: 0.2135 - val_accuracy: 0.9391\n",
            "Epoch 89/150\n",
            "1313/1313 [==============================] - 4s 3ms/step - loss: 0.1832 - accuracy: 0.9440 - val_loss: 0.2146 - val_accuracy: 0.9363\n",
            "Epoch 90/150\n",
            "1313/1313 [==============================] - 4s 3ms/step - loss: 0.1818 - accuracy: 0.9450 - val_loss: 0.2089 - val_accuracy: 0.9376\n",
            "Epoch 91/150\n",
            "1313/1313 [==============================] - 4s 3ms/step - loss: 0.1805 - accuracy: 0.9445 - val_loss: 0.2138 - val_accuracy: 0.9364\n",
            "Epoch 92/150\n",
            "1313/1313 [==============================] - 4s 3ms/step - loss: 0.1778 - accuracy: 0.9451 - val_loss: 0.2095 - val_accuracy: 0.9372\n",
            "Epoch 93/150\n",
            "1313/1313 [==============================] - 4s 3ms/step - loss: 0.1777 - accuracy: 0.9445 - val_loss: 0.2123 - val_accuracy: 0.9369\n",
            "Epoch 94/150\n",
            "1313/1313 [==============================] - 4s 3ms/step - loss: 0.1796 - accuracy: 0.9444 - val_loss: 0.2091 - val_accuracy: 0.9368\n",
            "Epoch 95/150\n",
            "1313/1313 [==============================] - 4s 3ms/step - loss: 0.1768 - accuracy: 0.9452 - val_loss: 0.2052 - val_accuracy: 0.9369\n",
            "Epoch 96/150\n",
            "1313/1313 [==============================] - 4s 3ms/step - loss: 0.1795 - accuracy: 0.9437 - val_loss: 0.2047 - val_accuracy: 0.9373\n",
            "Epoch 97/150\n",
            "1313/1313 [==============================] - 4s 3ms/step - loss: 0.1756 - accuracy: 0.9450 - val_loss: 0.2067 - val_accuracy: 0.9375\n",
            "Epoch 98/150\n",
            "1313/1313 [==============================] - 4s 3ms/step - loss: 0.1747 - accuracy: 0.9446 - val_loss: 0.2040 - val_accuracy: 0.9394\n",
            "Epoch 99/150\n",
            "1313/1313 [==============================] - 4s 3ms/step - loss: 0.1720 - accuracy: 0.9450 - val_loss: 0.2043 - val_accuracy: 0.9399\n",
            "Epoch 100/150\n",
            "1313/1313 [==============================] - 4s 3ms/step - loss: 0.1747 - accuracy: 0.9464 - val_loss: 0.2025 - val_accuracy: 0.9383\n",
            "Epoch 101/150\n",
            "1313/1313 [==============================] - 4s 3ms/step - loss: 0.1704 - accuracy: 0.9475 - val_loss: 0.1991 - val_accuracy: 0.9402\n",
            "Epoch 102/150\n",
            "1313/1313 [==============================] - 4s 3ms/step - loss: 0.1744 - accuracy: 0.9454 - val_loss: 0.2155 - val_accuracy: 0.9359\n",
            "Epoch 103/150\n",
            "1313/1313 [==============================] - 4s 3ms/step - loss: 0.1772 - accuracy: 0.9450 - val_loss: 0.2082 - val_accuracy: 0.9365\n",
            "Epoch 104/150\n",
            "1313/1313 [==============================] - 4s 3ms/step - loss: 0.1672 - accuracy: 0.9486 - val_loss: 0.2088 - val_accuracy: 0.9387\n",
            "Epoch 105/150\n",
            "1313/1313 [==============================] - 4s 3ms/step - loss: 0.1731 - accuracy: 0.9460 - val_loss: 0.2064 - val_accuracy: 0.9396\n",
            "Epoch 106/150\n",
            "1313/1313 [==============================] - 4s 3ms/step - loss: 0.1625 - accuracy: 0.9499 - val_loss: 0.1950 - val_accuracy: 0.9429\n",
            "Epoch 107/150\n",
            "1313/1313 [==============================] - 4s 3ms/step - loss: 0.1623 - accuracy: 0.9503 - val_loss: 0.1962 - val_accuracy: 0.9411\n",
            "Epoch 108/150\n",
            "1313/1313 [==============================] - 4s 3ms/step - loss: 0.1695 - accuracy: 0.9475 - val_loss: 0.2074 - val_accuracy: 0.9379\n",
            "Epoch 109/150\n",
            "1313/1313 [==============================] - 4s 3ms/step - loss: 0.1728 - accuracy: 0.9478 - val_loss: 0.2127 - val_accuracy: 0.9387\n",
            "Epoch 110/150\n",
            "1313/1313 [==============================] - 4s 3ms/step - loss: 0.1664 - accuracy: 0.9486 - val_loss: 0.1992 - val_accuracy: 0.9411\n",
            "Epoch 111/150\n",
            "1313/1313 [==============================] - 6s 4ms/step - loss: 0.1672 - accuracy: 0.9478 - val_loss: 0.2098 - val_accuracy: 0.9371\n",
            "Epoch 112/150\n",
            "1313/1313 [==============================] - 4s 3ms/step - loss: 0.1674 - accuracy: 0.9490 - val_loss: 0.2059 - val_accuracy: 0.9402\n",
            "Epoch 113/150\n",
            "1313/1313 [==============================] - 4s 3ms/step - loss: 0.1676 - accuracy: 0.9485 - val_loss: 0.2110 - val_accuracy: 0.9390\n",
            "Epoch 114/150\n",
            "1313/1313 [==============================] - 4s 3ms/step - loss: 0.1639 - accuracy: 0.9500 - val_loss: 0.2101 - val_accuracy: 0.9388\n",
            "Epoch 115/150\n",
            "1313/1313 [==============================] - 4s 3ms/step - loss: 0.1603 - accuracy: 0.9503 - val_loss: 0.1957 - val_accuracy: 0.9422\n",
            "Epoch 116/150\n",
            "1313/1313 [==============================] - 4s 3ms/step - loss: 0.1618 - accuracy: 0.9497 - val_loss: 0.2022 - val_accuracy: 0.9390\n",
            "Epoch 117/150\n",
            "1313/1313 [==============================] - 4s 3ms/step - loss: 0.1589 - accuracy: 0.9512 - val_loss: 0.2078 - val_accuracy: 0.9374\n",
            "Epoch 118/150\n",
            "1313/1313 [==============================] - 4s 3ms/step - loss: 0.1591 - accuracy: 0.9503 - val_loss: 0.2098 - val_accuracy: 0.9381\n",
            "Epoch 119/150\n",
            "1313/1313 [==============================] - 4s 3ms/step - loss: 0.1513 - accuracy: 0.9522 - val_loss: 0.1975 - val_accuracy: 0.9404\n",
            "Epoch 120/150\n",
            "1313/1313 [==============================] - 4s 3ms/step - loss: 0.1539 - accuracy: 0.9512 - val_loss: 0.2106 - val_accuracy: 0.9378\n",
            "Epoch 121/150\n",
            "1313/1313 [==============================] - 4s 3ms/step - loss: 0.1586 - accuracy: 0.9498 - val_loss: 0.1942 - val_accuracy: 0.9414\n",
            "Epoch 122/150\n",
            "1313/1313 [==============================] - 4s 3ms/step - loss: 0.1501 - accuracy: 0.9524 - val_loss: 0.1892 - val_accuracy: 0.9434\n",
            "Epoch 123/150\n",
            "1313/1313 [==============================] - 4s 3ms/step - loss: 0.1529 - accuracy: 0.9524 - val_loss: 0.1933 - val_accuracy: 0.9408\n",
            "Epoch 124/150\n",
            "1313/1313 [==============================] - 4s 3ms/step - loss: 0.1539 - accuracy: 0.9522 - val_loss: 0.1980 - val_accuracy: 0.9421\n",
            "Epoch 125/150\n",
            "1313/1313 [==============================] - 4s 3ms/step - loss: 0.1643 - accuracy: 0.9485 - val_loss: 0.1999 - val_accuracy: 0.9404\n",
            "Epoch 126/150\n",
            "1313/1313 [==============================] - 4s 3ms/step - loss: 0.1521 - accuracy: 0.9524 - val_loss: 0.2017 - val_accuracy: 0.9409\n",
            "Epoch 127/150\n",
            "1313/1313 [==============================] - 4s 3ms/step - loss: 0.1558 - accuracy: 0.9514 - val_loss: 0.1997 - val_accuracy: 0.9407\n",
            "Epoch 128/150\n",
            "1313/1313 [==============================] - 4s 3ms/step - loss: 0.1508 - accuracy: 0.9536 - val_loss: 0.2039 - val_accuracy: 0.9393\n",
            "Epoch 129/150\n",
            "1313/1313 [==============================] - 4s 3ms/step - loss: 0.1539 - accuracy: 0.9520 - val_loss: 0.2010 - val_accuracy: 0.9411\n",
            "Epoch 130/150\n",
            "1313/1313 [==============================] - 4s 3ms/step - loss: 0.1537 - accuracy: 0.9518 - val_loss: 0.1989 - val_accuracy: 0.9396\n",
            "Epoch 131/150\n",
            "1313/1313 [==============================] - 4s 3ms/step - loss: 0.1449 - accuracy: 0.9540 - val_loss: 0.1890 - val_accuracy: 0.9428\n",
            "Epoch 132/150\n",
            "1313/1313 [==============================] - 4s 3ms/step - loss: 0.1469 - accuracy: 0.9541 - val_loss: 0.1948 - val_accuracy: 0.9438\n",
            "Epoch 133/150\n",
            "1313/1313 [==============================] - 4s 3ms/step - loss: 0.1483 - accuracy: 0.9546 - val_loss: 0.1931 - val_accuracy: 0.9439\n",
            "Epoch 134/150\n",
            "1313/1313 [==============================] - 4s 3ms/step - loss: 0.1487 - accuracy: 0.9544 - val_loss: 0.1880 - val_accuracy: 0.9433\n",
            "Epoch 135/150\n",
            "1313/1313 [==============================] - 4s 3ms/step - loss: 0.1466 - accuracy: 0.9541 - val_loss: 0.1928 - val_accuracy: 0.9438\n",
            "Epoch 136/150\n",
            "1313/1313 [==============================] - 4s 3ms/step - loss: 0.1430 - accuracy: 0.9554 - val_loss: 0.1979 - val_accuracy: 0.9397\n",
            "Epoch 137/150\n",
            "1313/1313 [==============================] - 4s 3ms/step - loss: 0.1473 - accuracy: 0.9532 - val_loss: 0.1995 - val_accuracy: 0.9414\n",
            "Epoch 138/150\n",
            "1313/1313 [==============================] - 4s 3ms/step - loss: 0.1543 - accuracy: 0.9507 - val_loss: 0.2114 - val_accuracy: 0.9389\n",
            "Epoch 139/150\n",
            "1313/1313 [==============================] - 4s 3ms/step - loss: 0.1624 - accuracy: 0.9472 - val_loss: 0.2005 - val_accuracy: 0.9416\n",
            "Epoch 140/150\n",
            "1313/1313 [==============================] - 4s 3ms/step - loss: 0.1470 - accuracy: 0.9527 - val_loss: 0.2022 - val_accuracy: 0.9413\n",
            "Epoch 141/150\n",
            "1313/1313 [==============================] - 4s 3ms/step - loss: 0.1442 - accuracy: 0.9536 - val_loss: 0.2081 - val_accuracy: 0.9387\n",
            "Epoch 142/150\n",
            "1313/1313 [==============================] - 4s 3ms/step - loss: 0.1509 - accuracy: 0.9509 - val_loss: 0.2031 - val_accuracy: 0.9374\n",
            "Epoch 143/150\n",
            "1313/1313 [==============================] - 4s 3ms/step - loss: 0.1551 - accuracy: 0.9510 - val_loss: 0.2070 - val_accuracy: 0.9367\n",
            "Epoch 144/150\n",
            "1313/1313 [==============================] - 4s 3ms/step - loss: 0.1597 - accuracy: 0.9478 - val_loss: 0.2061 - val_accuracy: 0.9377\n",
            "Epoch 145/150\n",
            "1313/1313 [==============================] - 4s 3ms/step - loss: 0.1571 - accuracy: 0.9494 - val_loss: 0.1975 - val_accuracy: 0.9409\n",
            "Epoch 146/150\n",
            "1313/1313 [==============================] - 4s 3ms/step - loss: 0.1575 - accuracy: 0.9504 - val_loss: 0.2002 - val_accuracy: 0.9389\n",
            "Epoch 147/150\n",
            "1313/1313 [==============================] - 4s 3ms/step - loss: 0.1631 - accuracy: 0.9485 - val_loss: 0.2092 - val_accuracy: 0.9384\n",
            "Epoch 148/150\n",
            "1313/1313 [==============================] - 4s 3ms/step - loss: 0.1658 - accuracy: 0.9490 - val_loss: 0.2089 - val_accuracy: 0.9381\n",
            "Epoch 149/150\n",
            "1313/1313 [==============================] - 4s 3ms/step - loss: 0.1682 - accuracy: 0.9485 - val_loss: 0.2143 - val_accuracy: 0.9361\n",
            "Epoch 150/150\n",
            "1313/1313 [==============================] - 4s 3ms/step - loss: 0.1646 - accuracy: 0.9485 - val_loss: 0.2036 - val_accuracy: 0.9393\n"
          ]
        }
      ]
    },
    {
      "cell_type": "code",
      "source": [
        "# 3. 모델 학습 및 학습결과 시각화\n",
        "plt.figure(figsize=(15,5))\n",
        "plt.plot(mnist_history.history['loss'],label='loss')\n",
        "plt.plot(mnist_history.history['val_loss'],label='val_loss')\n",
        "plt.legend()\n",
        "plt.show"
      ],
      "metadata": {
        "colab": {
          "base_uri": "https://localhost:8080/",
          "height": 338
        },
        "id": "A3WR8ZxnpLxc",
        "outputId": "074cd178-89df-420f-ae8c-505ed6695c32"
      },
      "execution_count": null,
      "outputs": [
        {
          "output_type": "execute_result",
          "data": {
            "text/plain": [
              "<function matplotlib.pyplot.show(*args, **kw)>"
            ]
          },
          "metadata": {},
          "execution_count": 55
        },
        {
          "output_type": "display_data",
          "data": {
            "text/plain": [
              "<Figure size 1080x360 with 1 Axes>"
            ],
            "image/png": "[encoded data removed]"
          },
          "metadata": {
            "needs_background": "light"
          }
        }
      ]
    },
    {
      "cell_type": "code",
      "source": [
        "plt.figure(figsize=(15,5))\n",
        "plt.plot(mnist_history.history['accuracy'],label='accuracy')\n",
        "plt.plot(mnist_history.history['val_accuracy'],label='val_accuracy')\n",
        "plt.legend()\n",
        "plt.show"
      ],
      "metadata": {
        "colab": {
          "base_uri": "https://localhost:8080/",
          "height": 338
        },
        "id": "X6dGhX-BtXF7",
        "outputId": "87d5bd03-e6c6-4b40-dcfd-673335d59cc5"
      },
      "execution_count": null,
      "outputs": [
        {
          "output_type": "execute_result",
          "data": {
            "text/plain": [
              "<function matplotlib.pyplot.show(*args, **kw)>"
            ]
          },
          "metadata": {},
          "execution_count": 56
        },
        {
          "output_type": "display_data",
          "data": {
            "text/plain": [
              "<Figure size 1080x360 with 1 Axes>"
            ],
            "image/png": "[encoded data removed]"
          },
          "metadata": {
            "needs_background": "light"
          }
        }
      ]
    },
    {
      "cell_type": "code",
      "source": [
        "# 4. 모델 평가\n",
        "mnist_model.evaluate(X_test,y_test_one_hot)"
      ],
      "metadata": {
        "colab": {
          "base_uri": "https://localhost:8080/"
        },
        "id": "m8VyNam0t-V-",
        "outputId": "750c8e7a-d163-49ba-eacc-c0eb50cb64fc"
      },
      "execution_count": null,
      "outputs": [
        {
          "output_type": "stream",
          "name": "stdout",
          "text": [
            "313/313 [==============================] - 1s 2ms/step - loss: 0.1983 - accuracy: 0.9439\n"
          ]
        },
        {
          "output_type": "execute_result",
          "data": {
            "text/plain": [
              "[0.19828340411186218, 0.9438999891281128]"
            ]
          },
          "metadata": {},
          "execution_count": 57
        }
      ]
    },
    {
      "cell_type": "code",
      "source": [
        "import nltk\n",
        "import numpy as np\n",
        "import matplotlib.pyplot as plt\n",
        "from tensorflow.keras.preprocessing.text import Tokenizer\n",
        "from tensorflow.keras.preprocessing.sequence import pad_sequences\n",
        "from tensorflow.keras.utils import to_categorical\n",
        "from sklearn.model_selection import train_test_split"
      ],
      "metadata": {
        "id": "flvoUfmfuI5V"
      },
      "execution_count": null,
      "outputs": []
    },
    {
      "cell_type": "markdown",
      "source": [
        "\n"
      ],
      "metadata": {
        "id": "rgHqEIKKQ63s"
      }
    },
    {
      "cell_type": "code",
      "source": [
        "pip install nltk"
      ],
      "metadata": {
        "colab": {
          "base_uri": "https://localhost:8080/"
        },
        "id": "-5IVtDmnQoWE",
        "outputId": "d3961c38-0783-4dcc-ae3b-54303b406fd6"
      },
      "execution_count": null,
      "outputs": [
        {
          "output_type": "stream",
          "name": "stdout",
          "text": [
            "Looking in indexes: https://pypi.org/simple, https://us-python.pkg.dev/colab-wheels/public/simple/\n",
            "Requirement already satisfied: nltk in /usr/local/lib/python3.8/dist-packages (3.7)\n",
            "Requirement already satisfied: joblib in /usr/local/lib/python3.8/dist-packages (from nltk) (1.2.0)\n",
            "Requirement already satisfied: tqdm in /usr/local/lib/python3.8/dist-packages (from nltk) (4.64.1)\n",
            "Requirement already satisfied: click in /usr/local/lib/python3.8/dist-packages (from nltk) (7.1.2)\n",
            "Requirement already satisfied: regex>=2021.8.3 in /usr/local/lib/python3.8/dist-packages (from nltk) (2022.6.2)\n"
          ]
        }
      ]
    },
    {
      "cell_type": "code",
      "source": [
        "nltk.download('treebank')\n",
        "\n",
        "\n",
        "\n",
        "\n",
        "\n",
        "\n"
      ],
      "metadata": {
        "colab": {
          "base_uri": "https://localhost:8080/"
        },
        "id": "rYlP2EMUQoYv",
        "outputId": "3b131053-6a22-47bd-9ebd-cd9536681fd3"
      },
      "execution_count": null,
      "outputs": [
        {
          "output_type": "stream",
          "name": "stderr",
          "text": [
            "[nltk_data] Downloading package treebank to /root/nltk_data...\n",
            "[nltk_data]   Unzipping corpora/treebank.zip.\n"
          ]
        },
        {
          "output_type": "execute_result",
          "data": {
            "text/plain": [
              "True"
            ]
          },
          "metadata": {},
          "execution_count": 3
        }
      ]
    },
    {
      "cell_type": "code",
      "source": [
        "tagged_sentences = nltk.corpus.treebank.tagged_sents()\n",
        "print(\"품사 태깅이 된 문장 개수: \", len(tagged_sentences))"
      ],
      "metadata": {
        "colab": {
          "base_uri": "https://localhost:8080/"
        },
        "id": "lAhdL7gLQoa8",
        "outputId": "9de6cc0a-bb78-43b4-d399-eebb78944912"
      },
      "execution_count": null,
      "outputs": [
        {
          "output_type": "stream",
          "name": "stdout",
          "text": [
            "품사 태깅이 된 문장 개수:  3914\n"
          ]
        }
      ]
    },
    {
      "cell_type": "code",
      "source": [
        "print(tagged_sentences[0])"
      ],
      "metadata": {
        "colab": {
          "base_uri": "https://localhost:8080/"
        },
        "id": "jU5m9LQdQodU",
        "outputId": "85ab7e6d-5d19-43a2-9b2b-1ae21deefc48"
      },
      "execution_count": null,
      "outputs": [
        {
          "output_type": "stream",
          "name": "stdout",
          "text": [
            "[('Pierre', 'NNP'), ('Vinken', 'NNP'), (',', ','), ('61', 'CD'), ('years', 'NNS'), ('old', 'JJ'), (',', ','), ('will', 'MD'), ('join', 'VB'), ('the', 'DT'), ('board', 'NN'), ('as', 'IN'), ('a', 'DT'), ('nonexecutive', 'JJ'), ('director', 'NN'), ('Nov.', 'NNP'), ('29', 'CD'), ('.', '.')]\n"
          ]
        }
      ]
    },
    {
      "cell_type": "code",
      "source": [
        "sentences, pos_tags = [], [] \n",
        "for tagged_sentence in tagged_sentences: # 3,914개의 문장 샘플을 1개씩 불러온다.\n",
        "    sentence, tag_info = zip(*tagged_sentence) # 각 샘플에서 단어들은 sentence에 품사 태깅 정보들은 tag_info에 저장한다.\n",
        "    sentences.append(list(sentence)) # 각 샘플에서 단어 정보만 저장한다.\n",
        "    pos_tags.append(list(tag_info)) # 각 샘플에서 품사 태깅 정보만 저장한다."
      ],
      "metadata": {
        "id": "MEfnCOq3Qofk"
      },
      "execution_count": null,
      "outputs": []
    },
    {
      "cell_type": "code",
      "source": [
        "print(sentences[0])\n",
        "print(pos_tags[0])"
      ],
      "metadata": {
        "colab": {
          "base_uri": "https://localhost:8080/"
        },
        "id": "D6nXXoevSwR8",
        "outputId": "72a2e206-34e6-495e-aec9-76a614fcaf28"
      },
      "execution_count": null,
      "outputs": [
        {
          "output_type": "stream",
          "name": "stdout",
          "text": [
            "['Pierre', 'Vinken', ',', '61', 'years', 'old', ',', 'will', 'join', 'the', 'board', 'as', 'a', 'nonexecutive', 'director', 'Nov.', '29', '.']\n",
            "['NNP', 'NNP', ',', 'CD', 'NNS', 'JJ', ',', 'MD', 'VB', 'DT', 'NN', 'IN', 'DT', 'JJ', 'NN', 'NNP', 'CD', '.']\n"
          ]
        }
      ]
    },
    {
      "cell_type": "code",
      "source": [
        "print(sentences[8])\n",
        "print(pos_tags[8])"
      ],
      "metadata": {
        "colab": {
          "base_uri": "https://localhost:8080/"
        },
        "id": "doxiKyQdS1cD",
        "outputId": "95ea1e52-b858-4f47-ee9e-a3b8c97693dc"
      },
      "execution_count": null,
      "outputs": [
        {
          "output_type": "stream",
          "name": "stdout",
          "text": [
            "['We', \"'re\", 'talking', 'about', 'years', 'ago', 'before', 'anyone', 'heard', 'of', 'asbestos', 'having', 'any', 'questionable', 'properties', '.']\n",
            "['PRP', 'VBP', 'VBG', 'IN', 'NNS', 'IN', 'IN', 'NN', 'VBD', 'IN', 'NN', 'VBG', 'DT', 'JJ', 'NNS', '.']\n"
          ]
        }
      ]
    },
    {
      "cell_type": "code",
      "source": [
        "print('샘플의 최대 길이 : %d' % max(len(l) for l in sentences))\n",
        "print('샘플의 평균 길이 : %f' % (sum(map(len, sentences))/len(sentences)))\n",
        "plt.hist([len(s) for s in sentences], bins=50)\n",
        "plt.xlabel('length of samples')\n",
        "plt.ylabel('number of samples')\n",
        "plt.show()"
      ],
      "metadata": {
        "colab": {
          "base_uri": "https://localhost:8080/",
          "height": 320
        },
        "id": "PrMb16Uzn5IO",
        "outputId": "10d8dca7-c169-407f-a4d4-5638c97ec566"
      },
      "execution_count": null,
      "outputs": [
        {
          "output_type": "stream",
          "name": "stdout",
          "text": [
            "샘플의 최대 길이 : 271\n",
            "샘플의 평균 길이 : 25.722024\n"
          ]
        },
        {
          "output_type": "display_data",
          "data": {
            "text/plain": [
              "<Figure size 432x288 with 1 Axes>"
            ],
            "image/png": "[encoded data removed]"
          },
          "metadata": {
            "needs_background": "light"
          }
        }
      ]
    },
    {
      "cell_type": "code",
      "source": [
        "def tokenize(samples):\n",
        "  tokenizer = Tokenizer()\n",
        "  tokenizer.fit_on_texts(samples)\n",
        "  return tokenizer"
      ],
      "metadata": {
        "id": "jYhN6PDfofD8"
      },
      "execution_count": null,
      "outputs": []
    },
    {
      "cell_type": "code",
      "source": [
        "src_tokenizer = tokenize(sentences)\n",
        "tar_tokenizer = tokenize(pos_tags)"
      ],
      "metadata": {
        "id": "OEQEN44pokUV"
      },
      "execution_count": null,
      "outputs": []
    },
    {
      "cell_type": "code",
      "source": [
        "vocab_size = len(src_tokenizer.word_index) + 1\n",
        "tag_size = len(tar_tokenizer.word_index) + 1\n",
        "print('단어 집합의 크기 : {}'.format(vocab_size))\n",
        "print('태깅 정보 집합의 크기 : {}'.format(tag_size))"
      ],
      "metadata": {
        "colab": {
          "base_uri": "https://localhost:8080/"
        },
        "id": "qZpm6B59qFGz",
        "outputId": "cf5427a6-c685-4737-e023-da4f038778d3"
      },
      "execution_count": null,
      "outputs": [
        {
          "output_type": "stream",
          "name": "stdout",
          "text": [
            "단어 집합의 크기 : 11388\n",
            "태깅 정보 집합의 크기 : 47\n"
          ]
        }
      ]
    },
    {
      "cell_type": "code",
      "source": [
        "X_train = src_tokenizer.texts_to_sequences(sentences)\n",
        "y_train = tar_tokenizer.texts_to_sequences(pos_tags)"
      ],
      "metadata": {
        "id": "HsdsT-TgqG1W"
      },
      "execution_count": null,
      "outputs": []
    },
    {
      "cell_type": "code",
      "source": [
        "print(X_train[:2])\n",
        "print(y_train[:2])"
      ],
      "metadata": {
        "colab": {
          "base_uri": "https://localhost:8080/"
        },
        "id": "Rlr4LNmpqJF9",
        "outputId": "2419cb4c-f036-4ec3-f85d-0d3550f835cf"
      },
      "execution_count": null,
      "outputs": [
        {
          "output_type": "stream",
          "name": "stdout",
          "text": [
            "[[5601, 3746, 1, 2024, 86, 331, 1, 46, 2405, 2, 131, 27, 6, 2025, 332, 459, 2026, 3], [31, 3746, 20, 177, 4, 5602, 2915, 1, 2, 2916, 637, 147, 3]]\n",
            "[[3, 3, 8, 10, 6, 7, 8, 21, 13, 4, 1, 2, 4, 7, 1, 3, 10, 9], [3, 3, 17, 1, 2, 3, 3, 8, 4, 3, 19, 1, 9]]\n"
          ]
        }
      ]
    },
    {
      "cell_type": "code",
      "source": [
        "max_len = 150\n",
        "X_train = pad_sequences(X_train, padding='post', maxlen=max_len)\n",
        "y_train = pad_sequences(y_train, padding='post', maxlen=max_len)"
      ],
      "metadata": {
        "id": "kahvwZaOqJIM"
      },
      "execution_count": null,
      "outputs": []
    },
    {
      "cell_type": "code",
      "source": [
        "X_train, X_test, y_train, y_test = train_test_split(X_train, y_train, test_size=.2, random_state=777)"
      ],
      "metadata": {
        "id": "6mG2woRnqJJr"
      },
      "execution_count": null,
      "outputs": []
    },
    {
      "cell_type": "code",
      "source": [
        "print('훈련 샘플 문장의 크기 : {}'.format(X_train.shape))\n",
        "print('훈련 샘플 레이블의 크기 : {}'.format(y_train.shape))\n",
        "print('테스트 샘플 문장의 크기 : {}'.format(X_test.shape))\n",
        "print('테스트 샘플 레이블의 크기 : {}'.format(y_test.shape))"
      ],
      "metadata": {
        "colab": {
          "base_uri": "https://localhost:8080/"
        },
        "id": "WizdqlARqJK9",
        "outputId": "46ab01e1-562c-4c2f-8047-fcefcc827f41"
      },
      "execution_count": null,
      "outputs": [
        {
          "output_type": "stream",
          "name": "stdout",
          "text": [
            "훈련 샘플 문장의 크기 : (3131, 150)\n",
            "훈련 샘플 레이블의 크기 : (3131, 150)\n",
            "테스트 샘플 문장의 크기 : (783, 150)\n",
            "테스트 샘플 레이블의 크기 : (783, 150)\n"
          ]
        }
      ]
    },
    {
      "cell_type": "code",
      "source": [
        "from tensorflow.keras.models import Sequential\n",
        "from tensorflow.keras.layers import Dense, LSTM, InputLayer, Bidirectional, TimeDistributed, Embedding\n",
        "from tensorflow.keras.optimizers import Adam\n",
        "\n",
        "embedding_dim = 128\n",
        "hidden_units = 128\n",
        "\n",
        "model = Sequential()\n",
        "model.add(Embedding(vocab_size, embedding_dim, mask_zero=True))\n",
        "model.add(Bidirectional(LSTM(hidden_units, return_sequences=True)))\n",
        "model.add(TimeDistributed(Dense(tag_size, activation=('softmax'))))\n",
        "\n",
        "model.compile(loss='sparse_categorical_crossentropy', optimizer=Adam(0.001), metrics=['accuracy'])\n",
        "model.fit(X_train, y_train, batch_size=128, epochs=7, validation_data=(X_test, y_test))"
      ],
      "metadata": {
        "colab": {
          "base_uri": "https://localhost:8080/"
        },
        "id": "YS1jCIRhqJMO",
        "outputId": "a3943347-7332-48a8-f56b-65ced55ee26a"
      },
      "execution_count": null,
      "outputs": [
        {
          "output_type": "stream",
          "name": "stdout",
          "text": [
            "Epoch 1/7\n",
            "25/25 [==============================] - 47s 1s/step - loss: 0.5924 - accuracy: 0.1316 - val_loss: 0.5153 - val_accuracy: 0.1923\n",
            "Epoch 2/7\n",
            "25/25 [==============================] - 32s 1s/step - loss: 0.5024 - accuracy: 0.1779 - val_loss: 0.4788 - val_accuracy: 0.2105\n",
            "Epoch 3/7\n",
            "25/25 [==============================] - 36s 1s/step - loss: 0.4477 - accuracy: 0.3570 - val_loss: 0.3951 - val_accuracy: 0.4523\n",
            "Epoch 4/7\n",
            "25/25 [==============================] - 32s 1s/step - loss: 0.3354 - accuracy: 0.5212 - val_loss: 0.2678 - val_accuracy: 0.6269\n",
            "Epoch 5/7\n",
            "25/25 [==============================] - 33s 1s/step - loss: 0.2133 - accuracy: 0.7178 - val_loss: 0.1639 - val_accuracy: 0.7822\n",
            "Epoch 6/7\n",
            "25/25 [==============================] - 33s 1s/step - loss: 0.1216 - accuracy: 0.8606 - val_loss: 0.1000 - val_accuracy: 0.8774\n",
            "Epoch 7/7\n",
            "25/25 [==============================] - 33s 1s/step - loss: 0.0697 - accuracy: 0.9237 - val_loss: 0.0706 - val_accuracy: 0.9013\n"
          ]
        },
        {
          "output_type": "execute_result",
          "data": {
            "text/plain": [
              "<keras.callbacks.History at 0x7f2723849040>"
            ]
          },
          "metadata": {},
          "execution_count": 29
        }
      ]
    },
    {
      "cell_type": "code",
      "source": [
        "print(\"\\n 테스트 정확도: %.4f\" % (model.evaluate(X_test, y_test)[1]))"
      ],
      "metadata": {
        "colab": {
          "base_uri": "https://localhost:8080/"
        },
        "id": "tbO0_-g0qJNk",
        "outputId": "83620e41-7400-4951-a95f-e1b3ca851fb0"
      },
      "execution_count": null,
      "outputs": [
        {
          "output_type": "stream",
          "name": "stdout",
          "text": [
            "25/25 [==============================] - 4s 168ms/step - loss: 0.0706 - accuracy: 0.9013\n",
            "\n",
            " 테스트 정확도: 0.9013\n"
          ]
        }
      ]
    },
    {
      "cell_type": "code",
      "source": [
        "index_to_word = src_tokenizer.index_word\n",
        "index_to_tag = tar_tokenizer.index_word\n",
        "\n",
        "i = 10 # 확인하고 싶은 테스트용 샘플의 인덱스.\n",
        "y_predicted = model.predict(np.array([X_test[i]])) # 입력한 테스트용 샘플에 대해서 예측값 y를 리턴\n",
        "y_predicted = np.argmax(y_predicted, axis=-1) # 확률 벡터를 정수 레이블로 변환.\n",
        "\n",
        "print(\"{:15}|{:5}|{}\".format(\"단어\", \"실제값\", \"예측값\"))\n",
        "print(35 * \"-\")\n",
        "\n",
        "for word, tag, pred in zip(X_test[i], y_test[i], y_predicted[0]):\n",
        "    if word != 0: # PAD값은 제외함.\n",
        "        print(\"{:17}: {:7} {}\".format(index_to_word[word], index_to_tag[tag].upper(), index_to_tag[pred].upper()))"
      ],
      "metadata": {
        "colab": {
          "base_uri": "https://localhost:8080/"
        },
        "id": "Qfu9g2NZqJOn",
        "outputId": "c1718295-7ffb-49b5-8d7d-4d17c49891bb"
      },
      "execution_count": null,
      "outputs": [
        {
          "output_type": "stream",
          "name": "stdout",
          "text": [
            "1/1 [==============================] - 4s 4s/step\n",
            "단어             |실제값  |예측값\n",
            "-----------------------------------\n",
            "in               : IN      IN\n",
            "addition         : NN      NN\n",
            ",                : ,       ,\n",
            "buick            : NNP     NNP\n",
            "is               : VBZ     VBZ\n",
            "a                : DT      DT\n",
            "relatively       : RB      RB\n",
            "respected        : VBN     VBN\n",
            "nameplate        : NN      NN\n",
            "among            : IN      IN\n",
            "american         : NNP     NNP\n",
            "express          : NNP     NNP\n",
            "card             : NN      NN\n",
            "holders          : NNS     NNS\n",
            ",                : ,       ,\n",
            "says             : VBZ     VBZ\n",
            "0                : -NONE-  -NONE-\n",
            "*t*-1            : -NONE-  -NONE-\n",
            "an               : DT      DT\n",
            "american         : NNP     NNP\n",
            "express          : NNP     NNP\n",
            "spokeswoman      : NN      NN\n",
            ".                : .       .\n"
          ]
        }
      ]
    },
    {
      "cell_type": "code",
      "source": [
        "import re"
      ],
      "metadata": {
        "id": "Szm2baKctVTm"
      },
      "execution_count": null,
      "outputs": []
    },
    {
      "cell_type": "code",
      "source": [
        "text=\"\"\"\n",
        "임혜성\n",
        "\n",
        "엠소프트\n",
        "트\n",
        "\n",
        "야\n",
        "\n",
        "\n",
        "HyeSeong Lim Researcher\n",
        "\n",
        "에너지 조선 ICT MASS\n",
        "드론제조 1071 BigData AR\n",
        "\n",
        "ADDRESS 전라남도 나주시 도민길 50,(빚가람동) 58323\n",
        "50, Domin-gil, Naju-si, jeollanam-do. Korea\n",
        "\n",
        "INNO-BIZ 기업\n",
        "\n",
        "MAIN-BIZ 기엄\n",
        "\n",
        "전남국방벤처센터 혐약기업\n",
        "한국전력 스타기업\n",
        "전라남도 스타기업\n",
        "전라남도 유망중소기업\n",
        "청년친화 강소기업\n",
        "\n",
        "FAX +82.61.333.8516\n",
        "\n",
        "TEL +82.61.333.8517\n",
        "\n",
        "E-MAIL hs.lim@smsoft.co.kr\n",
        "0\n",
        "MOBILE +82.10.6648.7547\n",
        "\n",
        "HOMEPAGE www.smsoft.co.kr\n",
        "\"\"\"\n",
        "\n"
      ],
      "metadata": {
        "id": "QMDw-DaK0d6P"
      },
      "execution_count": null,
      "outputs": []
    },
    {
      "cell_type": "code",
      "source": [
        "print(text)"
      ],
      "metadata": {
        "colab": {
          "base_uri": "https://localhost:8080/"
        },
        "id": "j8xEA58K0egR",
        "outputId": "0b7cfed8-15d2-4d13-ec13-b7a90973c078"
      },
      "execution_count": null,
      "outputs": [
        {
          "output_type": "stream",
          "name": "stdout",
          "text": [
            "\n",
            "임혜성\n",
            "\n",
            "엠소프트\n",
            "트\n",
            "\n",
            "야\n",
            "\n",
            "\n",
            "HyeSeong Lim Researcher\n",
            "\n",
            "에너지 조선 ICT MASS\n",
            "드론제조 1071 BigData AR\n",
            "\n",
            "ADDRESS 전라남도 나주시 도민길 50,(빚가람동) 58323\n",
            "50, Domin-gil, Naju-si, jeollanam-do. Korea\n",
            "\n",
            "INNO-BIZ 기업\n",
            "\n",
            "MAIN-BIZ 기엄\n",
            "\n",
            "전남국방벤처센터 혐약기업\n",
            "한국전력 스타기업\n",
            "전라남도 스타기업\n",
            "전라남도 유망중소기업\n",
            "청년친화 강소기업\n",
            "\n",
            "FAX +82.61.333.8516\n",
            "\n",
            "TEL +82.61.333.8517\n",
            "\n",
            "E-MAIL hs.lim@smsoft.co.kr\n",
            "0\n",
            "MOBILE +82.10.6648.7547\n",
            "\n",
            "HOMEPAGE www.smsoft.co.kr\n",
            "\n"
          ]
        }
      ]
    },
    {
      "cell_type": "code",
      "source": [
        "# a = re.compile(r\"\\b[A-Z0-9._%+-]+@[A-Z0-9.-]+\\.[A-Z]{2,4}\\b\")\n",
        "# re_list=re.findall(a,text)\n",
        "# print(re_list)\n",
        "\n",
        "pattern = '[A-Z0-9._%+-]+@[A-Z0-9.-]+\\.[A-Z]{2,4}'\n",
        "\n",
        "#컴파일 (IGNORECASE는 대소문자 구분 안한다는 의미)\n",
        "regex = re.compile(pattern, flags=re.IGNORECASE)\n",
        "\n",
        "#이메일 주소만 추리기\n",
        "print(\"E-mail:\",regex.findall(text))"
      ],
      "metadata": {
        "colab": {
          "base_uri": "https://localhost:8080/"
        },
        "id": "H7HG2cFN0eiU",
        "outputId": "90d9ac3e-c4d6-473d-961d-1c0802394159"
      },
      "execution_count": null,
      "outputs": [
        {
          "output_type": "stream",
          "name": "stdout",
          "text": [
            "E-mail: ['hs.lim@smsoft.co.kr']\n"
          ]
        }
      ]
    },
    {
      "cell_type": "code",
      "source": [
        "# text = \"우리집 집전화 번호는 00-111-2222이고, 나의 핸드폰 번호는 333-4444-5555이다.\"\n",
        "# phone_number_list = re.compile('\\d{2,3}-\\d{3,4}-\\d{4}').finditer(text)\n",
        "# for phone_number in phone_number_list: # 전화번호와 인덱스를 출력한다.\n",
        "# \tprint(phone_number, phone_number)   \n",
        " \n",
        "\n",
        "#text2='10.6648.7547,10 6648 8888,10-1111-2222'\n",
        "#  \"(01)\\d{1}\\s\\d{3,4}\\s\\d{4}$\"\n",
        "\n",
        "\n",
        "\n",
        "#pattern2 = \"10[.]\\d{4}[.]\\d{4}$|10.\\d{4}.\\d{4}$\"\n",
        "#pattern2 = '\\d{2}[.]\\d{3,4}[.]\\d{4}|\\d{2}.\\d{3,4}.\\d{4}' #모든숫자뽑기\n",
        "pattern2 = '[01|10]\\d{1,2}[.]\\d{3,4}[.]\\d{4}|[01|10]\\d{1,2}.\\d{3,4}.\\d{4}|[01|10]\\d{1,2}-\\d{3,4}-\\d{4}'\n",
        "\n",
        "#컴파일 (IGNORECASE는 대소문자 구분 안한다는 의미)\n",
        "regex2 = re.compile(pattern2, flags=re.IGNORECASE)\n",
        "\n",
        "#번호만 추리기\n",
        "print(\"폰번호:\",regex2.findall(text)[0])\n"
      ],
      "metadata": {
        "colab": {
          "base_uri": "https://localhost:8080/"
        },
        "id": "2ZMiQQgN0ejd",
        "outputId": "fa2ce939-5790-48af-ef88-73098e3d6bd1"
      },
      "execution_count": null,
      "outputs": [
        {
          "output_type": "stream",
          "name": "stdout",
          "text": [
            "폰번호: 10.6648.7547\n"
          ]
        }
      ]
    },
    {
      "cell_type": "code",
      "source": [
        "pattern3 = '[임]+[ㄱ-ㅣ가-힣]+[ㄱ-ㅣ가-힣]'\n",
        "\n",
        "#컴파일 (IGNORECASE는 대소문자 구분 안한다는 의미)\n",
        "regex3 = re.compile(pattern3, flags=re.IGNORECASE)\n",
        "\n",
        "#이름만 추리기 테스트\n",
        "print(\"이름:\",regex3.findall(text)[0])"
      ],
      "metadata": {
        "colab": {
          "base_uri": "https://localhost:8080/"
        },
        "id": "J2bdiPuw0elv",
        "outputId": "d86029f5-92d7-49cf-c1da-72becd419f20"
      },
      "execution_count": null,
      "outputs": [
        {
          "output_type": "stream",
          "name": "stdout",
          "text": [
            "이름: 임혜성\n"
          ]
        }
      ]
    },
    {
      "cell_type": "code",
      "source": [],
      "metadata": {
        "id": "Hx9d0rC70em9"
      },
      "execution_count": null,
      "outputs": []
    },
    {
      "cell_type": "code",
      "source": [],
      "metadata": {
        "id": "CJTU4eMx0eog"
      },
      "execution_count": null,
      "outputs": []
    },
    {
      "cell_type": "code",
      "source": [],
      "metadata": {
        "id": "i_xMVaaN0epu"
      },
      "execution_count": null,
      "outputs": []
    },
    {
      "cell_type": "code",
      "source": [],
      "metadata": {
        "id": "52yJaDdi0erZ"
      },
      "execution_count": null,
      "outputs": []
    }
  ]
}