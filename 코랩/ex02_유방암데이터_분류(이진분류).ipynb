{
  "nbformat": 4,
  "nbformat_minor": 0,
  "metadata": {
    "colab": {
      "provenance": []
    },
    "kernelspec": {
      "name": "python3",
      "display_name": "Python 3"
    },
    "language_info": {
      "name": "python"
    }
  },
  "cells": [
    {
      "cell_type": "code",
      "execution_count": null,
      "metadata": {
        "id": "_vysm5GPJcmA"
      },
      "outputs": [],
      "source": [
        "from sklearn.datasets import load_breast_cancer"
      ]
    },
    {
      "cell_type": "code",
      "source": [
        "breast_cancer=load_breast_cancer()"
      ],
      "metadata": {
        "id": "DWDidUenKcyX"
      },
      "execution_count": null,
      "outputs": []
    },
    {
      "cell_type": "code",
      "source": [
        "breast_cancer"
      ],
      "metadata": {
        "colab": {
          "base_uri": "https://localhost:8080/"
        },
        "id": "0-P18w7dK5H2",
        "outputId": "e495d3e4-20ee-4305-cb8b-ac1ce3a86614"
      },
      "execution_count": null,
      "outputs": [
        {
          "output_type": "execute_result",
          "data": {
            "text/plain": [
              "{'data': array([[1.799e+01, 1.038e+01, 1.228e+02, ..., 2.654e-01, 4.601e-01,\n",
              "         1.189e-01],\n",
              "        [2.057e+01, 1.777e+01, 1.329e+02, ..., 1.860e-01, 2.750e-01,\n",
              "         8.902e-02],\n",
              "        [1.969e+01, 2.125e+01, 1.300e+02, ..., 2.430e-01, 3.613e-01,\n",
              "         8.758e-02],\n",
              "        ...,\n",
              "        [1.660e+01, 2.808e+01, 1.083e+02, ..., 1.418e-01, 2.218e-01,\n",
              "         7.820e-02],\n",
              "        [2.060e+01, 2.933e+01, 1.401e+02, ..., 2.650e-01, 4.087e-01,\n",
              "         1.240e-01],\n",
              "        [7.760e+00, 2.454e+01, 4.792e+01, ..., 0.000e+00, 2.871e-01,\n",
              "         7.039e-02]]),\n",
              " 'target': array([0, 0, 0, 0, 0, 0, 0, 0, 0, 0, 0, 0, 0, 0, 0, 0, 0, 0, 0, 1, 1, 1,\n",
              "        0, 0, 0, 0, 0, 0, 0, 0, 0, 0, 0, 0, 0, 0, 0, 1, 0, 0, 0, 0, 0, 0,\n",
              "        0, 0, 1, 0, 1, 1, 1, 1, 1, 0, 0, 1, 0, 0, 1, 1, 1, 1, 0, 1, 0, 0,\n",
              "        1, 1, 1, 1, 0, 1, 0, 0, 1, 0, 1, 0, 0, 1, 1, 1, 0, 0, 1, 0, 0, 0,\n",
              "        1, 1, 1, 0, 1, 1, 0, 0, 1, 1, 1, 0, 0, 1, 1, 1, 1, 0, 1, 1, 0, 1,\n",
              "        1, 1, 1, 1, 1, 1, 1, 0, 0, 0, 1, 0, 0, 1, 1, 1, 0, 0, 1, 0, 1, 0,\n",
              "        0, 1, 0, 0, 1, 1, 0, 1, 1, 0, 1, 1, 1, 1, 0, 1, 1, 1, 1, 1, 1, 1,\n",
              "        1, 1, 0, 1, 1, 1, 1, 0, 0, 1, 0, 1, 1, 0, 0, 1, 1, 0, 0, 1, 1, 1,\n",
              "        1, 0, 1, 1, 0, 0, 0, 1, 0, 1, 0, 1, 1, 1, 0, 1, 1, 0, 0, 1, 0, 0,\n",
              "        0, 0, 1, 0, 0, 0, 1, 0, 1, 0, 1, 1, 0, 1, 0, 0, 0, 0, 1, 1, 0, 0,\n",
              "        1, 1, 1, 0, 1, 1, 1, 1, 1, 0, 0, 1, 1, 0, 1, 1, 0, 0, 1, 0, 1, 1,\n",
              "        1, 1, 0, 1, 1, 1, 1, 1, 0, 1, 0, 0, 0, 0, 0, 0, 0, 0, 0, 0, 0, 0,\n",
              "        0, 0, 1, 1, 1, 1, 1, 1, 0, 1, 0, 1, 1, 0, 1, 1, 0, 1, 0, 0, 1, 1,\n",
              "        1, 1, 1, 1, 1, 1, 1, 1, 1, 1, 1, 0, 1, 1, 0, 1, 0, 1, 1, 1, 1, 1,\n",
              "        1, 1, 1, 1, 1, 1, 1, 1, 1, 0, 1, 1, 1, 0, 1, 0, 1, 1, 1, 1, 0, 0,\n",
              "        0, 1, 1, 1, 1, 0, 1, 0, 1, 0, 1, 1, 1, 0, 1, 1, 1, 1, 1, 1, 1, 0,\n",
              "        0, 0, 1, 1, 1, 1, 1, 1, 1, 1, 1, 1, 1, 0, 0, 1, 0, 0, 0, 1, 0, 0,\n",
              "        1, 1, 1, 1, 1, 0, 1, 1, 1, 1, 1, 0, 1, 1, 1, 0, 1, 1, 0, 0, 1, 1,\n",
              "        1, 1, 1, 1, 0, 1, 1, 1, 1, 1, 1, 1, 0, 1, 1, 1, 1, 1, 0, 1, 1, 0,\n",
              "        1, 1, 1, 1, 1, 1, 1, 1, 1, 1, 1, 1, 0, 1, 0, 0, 1, 0, 1, 1, 1, 1,\n",
              "        1, 0, 1, 1, 0, 1, 0, 1, 1, 0, 1, 0, 1, 1, 1, 1, 1, 1, 1, 1, 0, 0,\n",
              "        1, 1, 1, 1, 1, 1, 0, 1, 1, 1, 1, 1, 1, 1, 1, 1, 1, 0, 1, 1, 1, 1,\n",
              "        1, 1, 1, 0, 1, 0, 1, 1, 0, 1, 1, 1, 1, 1, 0, 0, 1, 0, 1, 0, 1, 1,\n",
              "        1, 1, 1, 0, 1, 1, 0, 1, 0, 1, 0, 0, 1, 1, 1, 0, 1, 1, 1, 1, 1, 1,\n",
              "        1, 1, 1, 1, 1, 0, 1, 0, 0, 1, 1, 1, 1, 1, 1, 1, 1, 1, 1, 1, 1, 1,\n",
              "        1, 1, 1, 1, 1, 1, 1, 1, 1, 1, 1, 1, 0, 0, 0, 0, 0, 0, 1]),\n",
              " 'frame': None,\n",
              " 'target_names': array(['malignant', 'benign'], dtype='<U9'),\n",
              " 'DESCR': '.. _breast_cancer_dataset:\\n\\nBreast cancer wisconsin (diagnostic) dataset\\n--------------------------------------------\\n\\n**Data Set Characteristics:**\\n\\n    :Number of Instances: 569\\n\\n    :Number of Attributes: 30 numeric, predictive attributes and the class\\n\\n    :Attribute Information:\\n        - radius (mean of distances from center to points on the perimeter)\\n        - texture (standard deviation of gray-scale values)\\n        - perimeter\\n        - area\\n        - smoothness (local variation in radius lengths)\\n        - compactness (perimeter^2 / area - 1.0)\\n        - concavity (severity of concave portions of the contour)\\n        - concave points (number of concave portions of the contour)\\n        - symmetry\\n        - fractal dimension (\"coastline approximation\" - 1)\\n\\n        The mean, standard error, and \"worst\" or largest (mean of the three\\n        worst/largest values) of these features were computed for each image,\\n        resulting in 30 features.  For instance, field 0 is Mean Radius, field\\n        10 is Radius SE, field 20 is Worst Radius.\\n\\n        - class:\\n                - WDBC-Malignant\\n                - WDBC-Benign\\n\\n    :Summary Statistics:\\n\\n    ===================================== ====== ======\\n                                           Min    Max\\n    ===================================== ====== ======\\n    radius (mean):                        6.981  28.11\\n    texture (mean):                       9.71   39.28\\n    perimeter (mean):                     43.79  188.5\\n    area (mean):                          143.5  2501.0\\n    smoothness (mean):                    0.053  0.163\\n    compactness (mean):                   0.019  0.345\\n    concavity (mean):                     0.0    0.427\\n    concave points (mean):                0.0    0.201\\n    symmetry (mean):                      0.106  0.304\\n    fractal dimension (mean):             0.05   0.097\\n    radius (standard error):              0.112  2.873\\n    texture (standard error):             0.36   4.885\\n    perimeter (standard error):           0.757  21.98\\n    area (standard error):                6.802  542.2\\n    smoothness (standard error):          0.002  0.031\\n    compactness (standard error):         0.002  0.135\\n    concavity (standard error):           0.0    0.396\\n    concave points (standard error):      0.0    0.053\\n    symmetry (standard error):            0.008  0.079\\n    fractal dimension (standard error):   0.001  0.03\\n    radius (worst):                       7.93   36.04\\n    texture (worst):                      12.02  49.54\\n    perimeter (worst):                    50.41  251.2\\n    area (worst):                         185.2  4254.0\\n    smoothness (worst):                   0.071  0.223\\n    compactness (worst):                  0.027  1.058\\n    concavity (worst):                    0.0    1.252\\n    concave points (worst):               0.0    0.291\\n    symmetry (worst):                     0.156  0.664\\n    fractal dimension (worst):            0.055  0.208\\n    ===================================== ====== ======\\n\\n    :Missing Attribute Values: None\\n\\n    :Class Distribution: 212 - Malignant, 357 - Benign\\n\\n    :Creator:  Dr. William H. Wolberg, W. Nick Street, Olvi L. Mangasarian\\n\\n    :Donor: Nick Street\\n\\n    :Date: November, 1995\\n\\nThis is a copy of UCI ML Breast Cancer Wisconsin (Diagnostic) datasets.\\nhttps://goo.gl/U2Uwz2\\n\\nFeatures are computed from a digitized image of a fine needle\\naspirate (FNA) of a breast mass.  They describe\\ncharacteristics of the cell nuclei present in the image.\\n\\nSeparating plane described above was obtained using\\nMultisurface Method-Tree (MSM-T) [K. P. Bennett, \"Decision Tree\\nConstruction Via Linear Programming.\" Proceedings of the 4th\\nMidwest Artificial Intelligence and Cognitive Science Society,\\npp. 97-101, 1992], a classification method which uses linear\\nprogramming to construct a decision tree.  Relevant features\\nwere selected using an exhaustive search in the space of 1-4\\nfeatures and 1-3 separating planes.\\n\\nThe actual linear program used to obtain the separating plane\\nin the 3-dimensional space is that described in:\\n[K. P. Bennett and O. L. Mangasarian: \"Robust Linear\\nProgramming Discrimination of Two Linearly Inseparable Sets\",\\nOptimization Methods and Software 1, 1992, 23-34].\\n\\nThis database is also available through the UW CS ftp server:\\n\\nftp ftp.cs.wisc.edu\\ncd math-prog/cpo-dataset/machine-learn/WDBC/\\n\\n.. topic:: References\\n\\n   - W.N. Street, W.H. Wolberg and O.L. Mangasarian. Nuclear feature extraction \\n     for breast tumor diagnosis. IS&T/SPIE 1993 International Symposium on \\n     Electronic Imaging: Science and Technology, volume 1905, pages 861-870,\\n     San Jose, CA, 1993.\\n   - O.L. Mangasarian, W.N. Street and W.H. Wolberg. Breast cancer diagnosis and \\n     prognosis via linear programming. Operations Research, 43(4), pages 570-577, \\n     July-August 1995.\\n   - W.H. Wolberg, W.N. Street, and O.L. Mangasarian. Machine learning techniques\\n     to diagnose breast cancer from fine-needle aspirates. Cancer Letters 77 (1994) \\n     163-171.',\n",
              " 'feature_names': array(['mean radius', 'mean texture', 'mean perimeter', 'mean area',\n",
              "        'mean smoothness', 'mean compactness', 'mean concavity',\n",
              "        'mean concave points', 'mean symmetry', 'mean fractal dimension',\n",
              "        'radius error', 'texture error', 'perimeter error', 'area error',\n",
              "        'smoothness error', 'compactness error', 'concavity error',\n",
              "        'concave points error', 'symmetry error',\n",
              "        'fractal dimension error', 'worst radius', 'worst texture',\n",
              "        'worst perimeter', 'worst area', 'worst smoothness',\n",
              "        'worst compactness', 'worst concavity', 'worst concave points',\n",
              "        'worst symmetry', 'worst fractal dimension'], dtype='<U23'),\n",
              " 'filename': 'breast_cancer.csv',\n",
              " 'data_module': 'sklearn.datasets.data'}"
            ]
          },
          "metadata": {},
          "execution_count": 3
        }
      ]
    },
    {
      "cell_type": "code",
      "source": [
        "breast_cancer.keys()"
      ],
      "metadata": {
        "colab": {
          "base_uri": "https://localhost:8080/"
        },
        "id": "L8OaPzmgK8ZG",
        "outputId": "3fd6abe3-cb63-47af-e6c3-ed3ab68ef919"
      },
      "execution_count": null,
      "outputs": [
        {
          "output_type": "execute_result",
          "data": {
            "text/plain": [
              "dict_keys(['data', 'target', 'frame', 'target_names', 'DESCR', 'feature_names', 'filename', 'data_module'])"
            ]
          },
          "metadata": {},
          "execution_count": 4
        }
      ]
    },
    {
      "cell_type": "code",
      "source": [
        "print(breast_cancer['DESCR'])"
      ],
      "metadata": {
        "colab": {
          "base_uri": "https://localhost:8080/"
        },
        "id": "pueMV6aTLCiu",
        "outputId": "622590f8-4642-4a66-fbce-ad586dc3fed9"
      },
      "execution_count": null,
      "outputs": [
        {
          "output_type": "stream",
          "name": "stdout",
          "text": [
            ".. _breast_cancer_dataset:\n",
            "\n",
            "Breast cancer wisconsin (diagnostic) dataset\n",
            "--------------------------------------------\n",
            "\n",
            "**Data Set Characteristics:**\n",
            "\n",
            "    :Number of Instances: 569\n",
            "\n",
            "    :Number of Attributes: 30 numeric, predictive attributes and the class\n",
            "\n",
            "    :Attribute Information:\n",
            "        - radius (mean of distances from center to points on the perimeter)\n",
            "        - texture (standard deviation of gray-scale values)\n",
            "        - perimeter\n",
            "        - area\n",
            "        - smoothness (local variation in radius lengths)\n",
            "        - compactness (perimeter^2 / area - 1.0)\n",
            "        - concavity (severity of concave portions of the contour)\n",
            "        - concave points (number of concave portions of the contour)\n",
            "        - symmetry\n",
            "        - fractal dimension (\"coastline approximation\" - 1)\n",
            "\n",
            "        The mean, standard error, and \"worst\" or largest (mean of the three\n",
            "        worst/largest values) of these features were computed for each image,\n",
            "        resulting in 30 features.  For instance, field 0 is Mean Radius, field\n",
            "        10 is Radius SE, field 20 is Worst Radius.\n",
            "\n",
            "        - class:\n",
            "                - WDBC-Malignant\n",
            "                - WDBC-Benign\n",
            "\n",
            "    :Summary Statistics:\n",
            "\n",
            "    ===================================== ====== ======\n",
            "                                           Min    Max\n",
            "    ===================================== ====== ======\n",
            "    radius (mean):                        6.981  28.11\n",
            "    texture (mean):                       9.71   39.28\n",
            "    perimeter (mean):                     43.79  188.5\n",
            "    area (mean):                          143.5  2501.0\n",
            "    smoothness (mean):                    0.053  0.163\n",
            "    compactness (mean):                   0.019  0.345\n",
            "    concavity (mean):                     0.0    0.427\n",
            "    concave points (mean):                0.0    0.201\n",
            "    symmetry (mean):                      0.106  0.304\n",
            "    fractal dimension (mean):             0.05   0.097\n",
            "    radius (standard error):              0.112  2.873\n",
            "    texture (standard error):             0.36   4.885\n",
            "    perimeter (standard error):           0.757  21.98\n",
            "    area (standard error):                6.802  542.2\n",
            "    smoothness (standard error):          0.002  0.031\n",
            "    compactness (standard error):         0.002  0.135\n",
            "    concavity (standard error):           0.0    0.396\n",
            "    concave points (standard error):      0.0    0.053\n",
            "    symmetry (standard error):            0.008  0.079\n",
            "    fractal dimension (standard error):   0.001  0.03\n",
            "    radius (worst):                       7.93   36.04\n",
            "    texture (worst):                      12.02  49.54\n",
            "    perimeter (worst):                    50.41  251.2\n",
            "    area (worst):                         185.2  4254.0\n",
            "    smoothness (worst):                   0.071  0.223\n",
            "    compactness (worst):                  0.027  1.058\n",
            "    concavity (worst):                    0.0    1.252\n",
            "    concave points (worst):               0.0    0.291\n",
            "    symmetry (worst):                     0.156  0.664\n",
            "    fractal dimension (worst):            0.055  0.208\n",
            "    ===================================== ====== ======\n",
            "\n",
            "    :Missing Attribute Values: None\n",
            "\n",
            "    :Class Distribution: 212 - Malignant, 357 - Benign\n",
            "\n",
            "    :Creator:  Dr. William H. Wolberg, W. Nick Street, Olvi L. Mangasarian\n",
            "\n",
            "    :Donor: Nick Street\n",
            "\n",
            "    :Date: November, 1995\n",
            "\n",
            "This is a copy of UCI ML Breast Cancer Wisconsin (Diagnostic) datasets.\n",
            "https://goo.gl/U2Uwz2\n",
            "\n",
            "Features are computed from a digitized image of a fine needle\n",
            "aspirate (FNA) of a breast mass.  They describe\n",
            "characteristics of the cell nuclei present in the image.\n",
            "\n",
            "Separating plane described above was obtained using\n",
            "Multisurface Method-Tree (MSM-T) [K. P. Bennett, \"Decision Tree\n",
            "Construction Via Linear Programming.\" Proceedings of the 4th\n",
            "Midwest Artificial Intelligence and Cognitive Science Society,\n",
            "pp. 97-101, 1992], a classification method which uses linear\n",
            "programming to construct a decision tree.  Relevant features\n",
            "were selected using an exhaustive search in the space of 1-4\n",
            "features and 1-3 separating planes.\n",
            "\n",
            "The actual linear program used to obtain the separating plane\n",
            "in the 3-dimensional space is that described in:\n",
            "[K. P. Bennett and O. L. Mangasarian: \"Robust Linear\n",
            "Programming Discrimination of Two Linearly Inseparable Sets\",\n",
            "Optimization Methods and Software 1, 1992, 23-34].\n",
            "\n",
            "This database is also available through the UW CS ftp server:\n",
            "\n",
            "ftp ftp.cs.wisc.edu\n",
            "cd math-prog/cpo-dataset/machine-learn/WDBC/\n",
            "\n",
            ".. topic:: References\n",
            "\n",
            "   - W.N. Street, W.H. Wolberg and O.L. Mangasarian. Nuclear feature extraction \n",
            "     for breast tumor diagnosis. IS&T/SPIE 1993 International Symposium on \n",
            "     Electronic Imaging: Science and Technology, volume 1905, pages 861-870,\n",
            "     San Jose, CA, 1993.\n",
            "   - O.L. Mangasarian, W.N. Street and W.H. Wolberg. Breast cancer diagnosis and \n",
            "     prognosis via linear programming. Operations Research, 43(4), pages 570-577, \n",
            "     July-August 1995.\n",
            "   - W.H. Wolberg, W.N. Street, and O.L. Mangasarian. Machine learning techniques\n",
            "     to diagnose breast cancer from fine-needle aspirates. Cancer Letters 77 (1994) \n",
            "     163-171.\n"
          ]
        }
      ]
    },
    {
      "cell_type": "code",
      "source": [
        "#data x target y\n",
        "X=breast_cancer['data']\n",
        "y=breast_cancer['target']\n",
        "X"
      ],
      "metadata": {
        "colab": {
          "base_uri": "https://localhost:8080/"
        },
        "id": "gFi-_WI3LXWl",
        "outputId": "ceba30b2-e161-480e-cf5f-943bd2d75438"
      },
      "execution_count": null,
      "outputs": [
        {
          "output_type": "execute_result",
          "data": {
            "text/plain": [
              "array([[1.799e+01, 1.038e+01, 1.228e+02, ..., 2.654e-01, 4.601e-01,\n",
              "        1.189e-01],\n",
              "       [2.057e+01, 1.777e+01, 1.329e+02, ..., 1.860e-01, 2.750e-01,\n",
              "        8.902e-02],\n",
              "       [1.969e+01, 2.125e+01, 1.300e+02, ..., 2.430e-01, 3.613e-01,\n",
              "        8.758e-02],\n",
              "       ...,\n",
              "       [1.660e+01, 2.808e+01, 1.083e+02, ..., 1.418e-01, 2.218e-01,\n",
              "        7.820e-02],\n",
              "       [2.060e+01, 2.933e+01, 1.401e+02, ..., 2.650e-01, 4.087e-01,\n",
              "        1.240e-01],\n",
              "       [7.760e+00, 2.454e+01, 4.792e+01, ..., 0.000e+00, 2.871e-01,\n",
              "        7.039e-02]])"
            ]
          },
          "metadata": {},
          "execution_count": 6
        }
      ]
    },
    {
      "cell_type": "code",
      "source": [
        "y"
      ],
      "metadata": {
        "colab": {
          "base_uri": "https://localhost:8080/"
        },
        "id": "sgDNYM0lLvv-",
        "outputId": "4cd317ed-6a16-42b1-809b-d9dc56dfc480"
      },
      "execution_count": null,
      "outputs": [
        {
          "output_type": "execute_result",
          "data": {
            "text/plain": [
              "array([0, 0, 0, 0, 0, 0, 0, 0, 0, 0, 0, 0, 0, 0, 0, 0, 0, 0, 0, 1, 1, 1,\n",
              "       0, 0, 0, 0, 0, 0, 0, 0, 0, 0, 0, 0, 0, 0, 0, 1, 0, 0, 0, 0, 0, 0,\n",
              "       0, 0, 1, 0, 1, 1, 1, 1, 1, 0, 0, 1, 0, 0, 1, 1, 1, 1, 0, 1, 0, 0,\n",
              "       1, 1, 1, 1, 0, 1, 0, 0, 1, 0, 1, 0, 0, 1, 1, 1, 0, 0, 1, 0, 0, 0,\n",
              "       1, 1, 1, 0, 1, 1, 0, 0, 1, 1, 1, 0, 0, 1, 1, 1, 1, 0, 1, 1, 0, 1,\n",
              "       1, 1, 1, 1, 1, 1, 1, 0, 0, 0, 1, 0, 0, 1, 1, 1, 0, 0, 1, 0, 1, 0,\n",
              "       0, 1, 0, 0, 1, 1, 0, 1, 1, 0, 1, 1, 1, 1, 0, 1, 1, 1, 1, 1, 1, 1,\n",
              "       1, 1, 0, 1, 1, 1, 1, 0, 0, 1, 0, 1, 1, 0, 0, 1, 1, 0, 0, 1, 1, 1,\n",
              "       1, 0, 1, 1, 0, 0, 0, 1, 0, 1, 0, 1, 1, 1, 0, 1, 1, 0, 0, 1, 0, 0,\n",
              "       0, 0, 1, 0, 0, 0, 1, 0, 1, 0, 1, 1, 0, 1, 0, 0, 0, 0, 1, 1, 0, 0,\n",
              "       1, 1, 1, 0, 1, 1, 1, 1, 1, 0, 0, 1, 1, 0, 1, 1, 0, 0, 1, 0, 1, 1,\n",
              "       1, 1, 0, 1, 1, 1, 1, 1, 0, 1, 0, 0, 0, 0, 0, 0, 0, 0, 0, 0, 0, 0,\n",
              "       0, 0, 1, 1, 1, 1, 1, 1, 0, 1, 0, 1, 1, 0, 1, 1, 0, 1, 0, 0, 1, 1,\n",
              "       1, 1, 1, 1, 1, 1, 1, 1, 1, 1, 1, 0, 1, 1, 0, 1, 0, 1, 1, 1, 1, 1,\n",
              "       1, 1, 1, 1, 1, 1, 1, 1, 1, 0, 1, 1, 1, 0, 1, 0, 1, 1, 1, 1, 0, 0,\n",
              "       0, 1, 1, 1, 1, 0, 1, 0, 1, 0, 1, 1, 1, 0, 1, 1, 1, 1, 1, 1, 1, 0,\n",
              "       0, 0, 1, 1, 1, 1, 1, 1, 1, 1, 1, 1, 1, 0, 0, 1, 0, 0, 0, 1, 0, 0,\n",
              "       1, 1, 1, 1, 1, 0, 1, 1, 1, 1, 1, 0, 1, 1, 1, 0, 1, 1, 0, 0, 1, 1,\n",
              "       1, 1, 1, 1, 0, 1, 1, 1, 1, 1, 1, 1, 0, 1, 1, 1, 1, 1, 0, 1, 1, 0,\n",
              "       1, 1, 1, 1, 1, 1, 1, 1, 1, 1, 1, 1, 0, 1, 0, 0, 1, 0, 1, 1, 1, 1,\n",
              "       1, 0, 1, 1, 0, 1, 0, 1, 1, 0, 1, 0, 1, 1, 1, 1, 1, 1, 1, 1, 0, 0,\n",
              "       1, 1, 1, 1, 1, 1, 0, 1, 1, 1, 1, 1, 1, 1, 1, 1, 1, 0, 1, 1, 1, 1,\n",
              "       1, 1, 1, 0, 1, 0, 1, 1, 0, 1, 1, 1, 1, 1, 0, 0, 1, 0, 1, 0, 1, 1,\n",
              "       1, 1, 1, 0, 1, 1, 0, 1, 0, 1, 0, 0, 1, 1, 1, 0, 1, 1, 1, 1, 1, 1,\n",
              "       1, 1, 1, 1, 1, 0, 1, 0, 0, 1, 1, 1, 1, 1, 1, 1, 1, 1, 1, 1, 1, 1,\n",
              "       1, 1, 1, 1, 1, 1, 1, 1, 1, 1, 1, 1, 0, 0, 0, 0, 0, 0, 1])"
            ]
          },
          "metadata": {},
          "execution_count": 7
        }
      ]
    },
    {
      "cell_type": "code",
      "source": [
        "X.shape,y.shape"
      ],
      "metadata": {
        "colab": {
          "base_uri": "https://localhost:8080/"
        },
        "id": "H0sUHmg3Lw8O",
        "outputId": "0b7a7ca6-a94c-4d74-877d-ad819204fd07"
      },
      "execution_count": null,
      "outputs": [
        {
          "output_type": "execute_result",
          "data": {
            "text/plain": [
              "((569, 30), (569,))"
            ]
          },
          "metadata": {},
          "execution_count": 8
        }
      ]
    },
    {
      "cell_type": "code",
      "source": [
        "from sklearn.model_selection import train_test_split"
      ],
      "metadata": {
        "id": "x5RuKb5gMO9Z"
      },
      "execution_count": null,
      "outputs": []
    },
    {
      "cell_type": "code",
      "source": [
        "X_train,X_test,y_train,y_test=train_test_split(X,y,random_state=0)"
      ],
      "metadata": {
        "id": "DTk1Ur_9MUaK"
      },
      "execution_count": null,
      "outputs": []
    },
    {
      "cell_type": "code",
      "source": [
        "X_train.shape,y_train.shape"
      ],
      "metadata": {
        "colab": {
          "base_uri": "https://localhost:8080/"
        },
        "id": "Yq7IN4JjMWIs",
        "outputId": "3eb4706c-cdd0-4cbb-9c2f-f16a41d9e404"
      },
      "execution_count": null,
      "outputs": [
        {
          "output_type": "execute_result",
          "data": {
            "text/plain": [
              "((426, 30), (426,))"
            ]
          },
          "metadata": {},
          "execution_count": 12
        }
      ]
    },
    {
      "cell_type": "code",
      "source": [
        "X_test.shape,y_test.shape"
      ],
      "metadata": {
        "colab": {
          "base_uri": "https://localhost:8080/"
        },
        "id": "XCRo4govNIRt",
        "outputId": "5d4a6891-267d-4c4f-fcfc-11509b5278fd"
      },
      "execution_count": null,
      "outputs": [
        {
          "output_type": "execute_result",
          "data": {
            "text/plain": [
              "((143, 30), (143,))"
            ]
          },
          "metadata": {},
          "execution_count": 13
        }
      ]
    },
    {
      "cell_type": "markdown",
      "source": [
        "### 모델링\n",
        "1. 모델 구조 설계\n",
        "2. 모델 학습/평가 방법 설정\n",
        "3. 모델 학습 및 학습결과 시각화\n",
        "4. 모델 평가"
      ],
      "metadata": {
        "id": "Ev2gJ0KGNSvx"
      }
    },
    {
      "cell_type": "code",
      "source": [
        "# 1. 모델 구조 설계"
      ],
      "metadata": {
        "id": "LyPknX7aNQJ-"
      },
      "execution_count": null,
      "outputs": []
    },
    {
      "cell_type": "code",
      "source": [
        "from tensorflow.keras import Sequential\n",
        "from tensorflow.keras.layers import InputLayer, Dense"
      ],
      "metadata": {
        "id": "VM4VRNCIN3h3"
      },
      "execution_count": null,
      "outputs": []
    },
    {
      "cell_type": "code",
      "source": [
        "model = Sequential()\n",
        "model.add(InputLayer(input_shape=(30,))) #특성의 개수 30개 shape로 확인\n",
        "model.add(Dense(units=32,activation='sigmoid'))\n",
        "model.add(Dense(units=16,activation='sigmoid'))\n",
        "model.add(Dense(units=1,activation='sigmoid'))"
      ],
      "metadata": {
        "id": "lTRhl-sHOEi-"
      },
      "execution_count": null,
      "outputs": []
    },
    {
      "cell_type": "code",
      "source": [
        "# 2. 모델 학습/평가 방법 설정\n",
        "model.compile(loss='binary_crossentropy',\n",
        "              optimizer='Adam',\n",
        "              metrics=['accuracy']\n",
        "              )"
      ],
      "metadata": {
        "id": "2w4Kg6vIQDYb"
      },
      "execution_count": null,
      "outputs": []
    },
    {
      "cell_type": "code",
      "source": [
        "# 3. 모델 학습 및 학습결과 시각화\n",
        "breast_history = model.fit(X_train,y_train,validation_split=0.2,epochs=500)"
      ],
      "metadata": {
        "colab": {
          "base_uri": "https://localhost:8080/"
        },
        "id": "GjwzwjZDQDas",
        "outputId": "0c930d0a-b9b3-4736-fb80-83af9a4a2cf0"
      },
      "execution_count": null,
      "outputs": [
        {
          "output_type": "stream",
          "name": "stdout",
          "text": [
            "Epoch 1/500\n",
            "11/11 [==============================] - 1s 25ms/step - loss: 0.7362 - accuracy: 0.3676 - val_loss: 0.7088 - val_accuracy: 0.3953\n",
            "Epoch 2/500\n",
            "11/11 [==============================] - 0s 6ms/step - loss: 0.6938 - accuracy: 0.5118 - val_loss: 0.6855 - val_accuracy: 0.6047\n",
            "Epoch 3/500\n",
            "11/11 [==============================] - 0s 4ms/step - loss: 0.6719 - accuracy: 0.6324 - val_loss: 0.6755 - val_accuracy: 0.6047\n",
            "Epoch 4/500\n",
            "11/11 [==============================] - 0s 5ms/step - loss: 0.6630 - accuracy: 0.6324 - val_loss: 0.6730 - val_accuracy: 0.6047\n",
            "Epoch 5/500\n",
            "11/11 [==============================] - 0s 6ms/step - loss: 0.6593 - accuracy: 0.6324 - val_loss: 0.6734 - val_accuracy: 0.6047\n",
            "Epoch 6/500\n",
            "11/11 [==============================] - 0s 5ms/step - loss: 0.6588 - accuracy: 0.6324 - val_loss: 0.6739 - val_accuracy: 0.6047\n",
            "Epoch 7/500\n",
            "11/11 [==============================] - 0s 5ms/step - loss: 0.6582 - accuracy: 0.6324 - val_loss: 0.6740 - val_accuracy: 0.6047\n",
            "Epoch 8/500\n",
            "11/11 [==============================] - 0s 5ms/step - loss: 0.6580 - accuracy: 0.6324 - val_loss: 0.6743 - val_accuracy: 0.6047\n",
            "Epoch 9/500\n",
            "11/11 [==============================] - 0s 5ms/step - loss: 0.6587 - accuracy: 0.6324 - val_loss: 0.6727 - val_accuracy: 0.6047\n",
            "Epoch 10/500\n",
            "11/11 [==============================] - 0s 7ms/step - loss: 0.6576 - accuracy: 0.6324 - val_loss: 0.6735 - val_accuracy: 0.6047\n",
            "Epoch 11/500\n",
            "11/11 [==============================] - 0s 5ms/step - loss: 0.6578 - accuracy: 0.6324 - val_loss: 0.6740 - val_accuracy: 0.6047\n",
            "Epoch 12/500\n",
            "11/11 [==============================] - 0s 6ms/step - loss: 0.6578 - accuracy: 0.6324 - val_loss: 0.6735 - val_accuracy: 0.6047\n",
            "Epoch 13/500\n",
            "11/11 [==============================] - 0s 5ms/step - loss: 0.6578 - accuracy: 0.6324 - val_loss: 0.6733 - val_accuracy: 0.6047\n",
            "Epoch 14/500\n",
            "11/11 [==============================] - 0s 6ms/step - loss: 0.6576 - accuracy: 0.6324 - val_loss: 0.6732 - val_accuracy: 0.6047\n",
            "Epoch 15/500\n",
            "11/11 [==============================] - 0s 5ms/step - loss: 0.6577 - accuracy: 0.6324 - val_loss: 0.6726 - val_accuracy: 0.6047\n",
            "Epoch 16/500\n",
            "11/11 [==============================] - 0s 5ms/step - loss: 0.6575 - accuracy: 0.6324 - val_loss: 0.6730 - val_accuracy: 0.6047\n",
            "Epoch 17/500\n",
            "11/11 [==============================] - 0s 6ms/step - loss: 0.6576 - accuracy: 0.6324 - val_loss: 0.6730 - val_accuracy: 0.6047\n",
            "Epoch 18/500\n",
            "11/11 [==============================] - 0s 5ms/step - loss: 0.6575 - accuracy: 0.6324 - val_loss: 0.6728 - val_accuracy: 0.6047\n",
            "Epoch 19/500\n",
            "11/11 [==============================] - 0s 7ms/step - loss: 0.6575 - accuracy: 0.6324 - val_loss: 0.6727 - val_accuracy: 0.6047\n",
            "Epoch 20/500\n",
            "11/11 [==============================] - 0s 6ms/step - loss: 0.6579 - accuracy: 0.6324 - val_loss: 0.6724 - val_accuracy: 0.6047\n",
            "Epoch 21/500\n",
            "11/11 [==============================] - 0s 6ms/step - loss: 0.6576 - accuracy: 0.6324 - val_loss: 0.6731 - val_accuracy: 0.6047\n",
            "Epoch 22/500\n",
            "11/11 [==============================] - 0s 6ms/step - loss: 0.6575 - accuracy: 0.6324 - val_loss: 0.6729 - val_accuracy: 0.6047\n",
            "Epoch 23/500\n",
            "11/11 [==============================] - 0s 5ms/step - loss: 0.6575 - accuracy: 0.6324 - val_loss: 0.6734 - val_accuracy: 0.6047\n",
            "Epoch 24/500\n",
            "11/11 [==============================] - 0s 5ms/step - loss: 0.6575 - accuracy: 0.6324 - val_loss: 0.6732 - val_accuracy: 0.6047\n",
            "Epoch 25/500\n",
            "11/11 [==============================] - 0s 7ms/step - loss: 0.6580 - accuracy: 0.6324 - val_loss: 0.6738 - val_accuracy: 0.6047\n",
            "Epoch 26/500\n",
            "11/11 [==============================] - 0s 5ms/step - loss: 0.6574 - accuracy: 0.6324 - val_loss: 0.6726 - val_accuracy: 0.6047\n",
            "Epoch 27/500\n",
            "11/11 [==============================] - 0s 6ms/step - loss: 0.6580 - accuracy: 0.6324 - val_loss: 0.6720 - val_accuracy: 0.6047\n",
            "Epoch 28/500\n",
            "11/11 [==============================] - 0s 5ms/step - loss: 0.6575 - accuracy: 0.6324 - val_loss: 0.6726 - val_accuracy: 0.6047\n",
            "Epoch 29/500\n",
            "11/11 [==============================] - 0s 5ms/step - loss: 0.6574 - accuracy: 0.6324 - val_loss: 0.6729 - val_accuracy: 0.6047\n",
            "Epoch 30/500\n",
            "11/11 [==============================] - 0s 7ms/step - loss: 0.6574 - accuracy: 0.6324 - val_loss: 0.6728 - val_accuracy: 0.6047\n",
            "Epoch 31/500\n",
            "11/11 [==============================] - 0s 6ms/step - loss: 0.6576 - accuracy: 0.6324 - val_loss: 0.6730 - val_accuracy: 0.6047\n",
            "Epoch 32/500\n",
            "11/11 [==============================] - 0s 5ms/step - loss: 0.6575 - accuracy: 0.6324 - val_loss: 0.6730 - val_accuracy: 0.6047\n",
            "Epoch 33/500\n",
            "11/11 [==============================] - 0s 6ms/step - loss: 0.6577 - accuracy: 0.6324 - val_loss: 0.6731 - val_accuracy: 0.6047\n",
            "Epoch 34/500\n",
            "11/11 [==============================] - 0s 5ms/step - loss: 0.6573 - accuracy: 0.6324 - val_loss: 0.6725 - val_accuracy: 0.6047\n",
            "Epoch 35/500\n",
            "11/11 [==============================] - 0s 4ms/step - loss: 0.6575 - accuracy: 0.6324 - val_loss: 0.6722 - val_accuracy: 0.6047\n",
            "Epoch 36/500\n",
            "11/11 [==============================] - 0s 6ms/step - loss: 0.6575 - accuracy: 0.6324 - val_loss: 0.6725 - val_accuracy: 0.6047\n",
            "Epoch 37/500\n",
            "11/11 [==============================] - 0s 6ms/step - loss: 0.6575 - accuracy: 0.6324 - val_loss: 0.6729 - val_accuracy: 0.6047\n",
            "Epoch 38/500\n",
            "11/11 [==============================] - 0s 7ms/step - loss: 0.6574 - accuracy: 0.6324 - val_loss: 0.6729 - val_accuracy: 0.6047\n",
            "Epoch 39/500\n",
            "11/11 [==============================] - 0s 5ms/step - loss: 0.6576 - accuracy: 0.6324 - val_loss: 0.6725 - val_accuracy: 0.6047\n",
            "Epoch 40/500\n",
            "11/11 [==============================] - 0s 5ms/step - loss: 0.6574 - accuracy: 0.6324 - val_loss: 0.6727 - val_accuracy: 0.6047\n",
            "Epoch 41/500\n",
            "11/11 [==============================] - 0s 4ms/step - loss: 0.6574 - accuracy: 0.6324 - val_loss: 0.6727 - val_accuracy: 0.6047\n",
            "Epoch 42/500\n",
            "11/11 [==============================] - 0s 6ms/step - loss: 0.6574 - accuracy: 0.6324 - val_loss: 0.6727 - val_accuracy: 0.6047\n",
            "Epoch 43/500\n",
            "11/11 [==============================] - 0s 5ms/step - loss: 0.6574 - accuracy: 0.6324 - val_loss: 0.6729 - val_accuracy: 0.6047\n",
            "Epoch 44/500\n",
            "11/11 [==============================] - 0s 5ms/step - loss: 0.6575 - accuracy: 0.6324 - val_loss: 0.6731 - val_accuracy: 0.6047\n",
            "Epoch 45/500\n",
            "11/11 [==============================] - 0s 5ms/step - loss: 0.6577 - accuracy: 0.6324 - val_loss: 0.6725 - val_accuracy: 0.6047\n",
            "Epoch 46/500\n",
            "11/11 [==============================] - 0s 5ms/step - loss: 0.6574 - accuracy: 0.6324 - val_loss: 0.6727 - val_accuracy: 0.6047\n",
            "Epoch 47/500\n",
            "11/11 [==============================] - 0s 5ms/step - loss: 0.6575 - accuracy: 0.6324 - val_loss: 0.6730 - val_accuracy: 0.6047\n",
            "Epoch 48/500\n",
            "11/11 [==============================] - 0s 5ms/step - loss: 0.6575 - accuracy: 0.6324 - val_loss: 0.6730 - val_accuracy: 0.6047\n",
            "Epoch 49/500\n",
            "11/11 [==============================] - 0s 5ms/step - loss: 0.6575 - accuracy: 0.6324 - val_loss: 0.6728 - val_accuracy: 0.6047\n",
            "Epoch 50/500\n",
            "11/11 [==============================] - 0s 4ms/step - loss: 0.6576 - accuracy: 0.6324 - val_loss: 0.6730 - val_accuracy: 0.6047\n",
            "Epoch 51/500\n",
            "11/11 [==============================] - 0s 4ms/step - loss: 0.6590 - accuracy: 0.6324 - val_loss: 0.6742 - val_accuracy: 0.6047\n",
            "Epoch 52/500\n",
            "11/11 [==============================] - 0s 7ms/step - loss: 0.6578 - accuracy: 0.6324 - val_loss: 0.6727 - val_accuracy: 0.6047\n",
            "Epoch 53/500\n",
            "11/11 [==============================] - 0s 5ms/step - loss: 0.6577 - accuracy: 0.6324 - val_loss: 0.6722 - val_accuracy: 0.6047\n",
            "Epoch 54/500\n",
            "11/11 [==============================] - 0s 5ms/step - loss: 0.6573 - accuracy: 0.6324 - val_loss: 0.6728 - val_accuracy: 0.6047\n",
            "Epoch 55/500\n",
            "11/11 [==============================] - 0s 6ms/step - loss: 0.6574 - accuracy: 0.6324 - val_loss: 0.6731 - val_accuracy: 0.6047\n",
            "Epoch 56/500\n",
            "11/11 [==============================] - 0s 5ms/step - loss: 0.6574 - accuracy: 0.6324 - val_loss: 0.6730 - val_accuracy: 0.6047\n",
            "Epoch 57/500\n",
            "11/11 [==============================] - 0s 5ms/step - loss: 0.6584 - accuracy: 0.6324 - val_loss: 0.6721 - val_accuracy: 0.6047\n",
            "Epoch 58/500\n",
            "11/11 [==============================] - 0s 5ms/step - loss: 0.6577 - accuracy: 0.6324 - val_loss: 0.6729 - val_accuracy: 0.6047\n",
            "Epoch 59/500\n",
            "11/11 [==============================] - 0s 6ms/step - loss: 0.6583 - accuracy: 0.6324 - val_loss: 0.6740 - val_accuracy: 0.6047\n",
            "Epoch 60/500\n",
            "11/11 [==============================] - 0s 5ms/step - loss: 0.6576 - accuracy: 0.6324 - val_loss: 0.6728 - val_accuracy: 0.6047\n",
            "Epoch 61/500\n",
            "11/11 [==============================] - 0s 5ms/step - loss: 0.6575 - accuracy: 0.6324 - val_loss: 0.6730 - val_accuracy: 0.6047\n",
            "Epoch 62/500\n",
            "11/11 [==============================] - 0s 4ms/step - loss: 0.6575 - accuracy: 0.6324 - val_loss: 0.6724 - val_accuracy: 0.6047\n",
            "Epoch 63/500\n",
            "11/11 [==============================] - 0s 5ms/step - loss: 0.6575 - accuracy: 0.6324 - val_loss: 0.6722 - val_accuracy: 0.6047\n",
            "Epoch 64/500\n",
            "11/11 [==============================] - 0s 5ms/step - loss: 0.6573 - accuracy: 0.6324 - val_loss: 0.6724 - val_accuracy: 0.6047\n",
            "Epoch 65/500\n",
            "11/11 [==============================] - 0s 5ms/step - loss: 0.6576 - accuracy: 0.6324 - val_loss: 0.6730 - val_accuracy: 0.6047\n",
            "Epoch 66/500\n",
            "11/11 [==============================] - 0s 6ms/step - loss: 0.6576 - accuracy: 0.6324 - val_loss: 0.6734 - val_accuracy: 0.6047\n",
            "Epoch 67/500\n",
            "11/11 [==============================] - 0s 5ms/step - loss: 0.6577 - accuracy: 0.6324 - val_loss: 0.6732 - val_accuracy: 0.6047\n",
            "Epoch 68/500\n",
            "11/11 [==============================] - 0s 6ms/step - loss: 0.6578 - accuracy: 0.6324 - val_loss: 0.6734 - val_accuracy: 0.6047\n",
            "Epoch 69/500\n",
            "11/11 [==============================] - 0s 5ms/step - loss: 0.6575 - accuracy: 0.6324 - val_loss: 0.6720 - val_accuracy: 0.6047\n",
            "Epoch 70/500\n",
            "11/11 [==============================] - 0s 5ms/step - loss: 0.6575 - accuracy: 0.6324 - val_loss: 0.6723 - val_accuracy: 0.6047\n",
            "Epoch 71/500\n",
            "11/11 [==============================] - 0s 5ms/step - loss: 0.6576 - accuracy: 0.6324 - val_loss: 0.6721 - val_accuracy: 0.6047\n",
            "Epoch 72/500\n",
            "11/11 [==============================] - 0s 5ms/step - loss: 0.6577 - accuracy: 0.6324 - val_loss: 0.6725 - val_accuracy: 0.6047\n",
            "Epoch 73/500\n",
            "11/11 [==============================] - 0s 5ms/step - loss: 0.6576 - accuracy: 0.6324 - val_loss: 0.6728 - val_accuracy: 0.6047\n",
            "Epoch 74/500\n",
            "11/11 [==============================] - 0s 8ms/step - loss: 0.6573 - accuracy: 0.6324 - val_loss: 0.6725 - val_accuracy: 0.6047\n",
            "Epoch 75/500\n",
            "11/11 [==============================] - 0s 5ms/step - loss: 0.6578 - accuracy: 0.6324 - val_loss: 0.6718 - val_accuracy: 0.6047\n",
            "Epoch 76/500\n",
            "11/11 [==============================] - 0s 6ms/step - loss: 0.6573 - accuracy: 0.6324 - val_loss: 0.6720 - val_accuracy: 0.6047\n",
            "Epoch 77/500\n",
            "11/11 [==============================] - 0s 5ms/step - loss: 0.6574 - accuracy: 0.6324 - val_loss: 0.6722 - val_accuracy: 0.6047\n",
            "Epoch 78/500\n",
            "11/11 [==============================] - 0s 5ms/step - loss: 0.6573 - accuracy: 0.6324 - val_loss: 0.6727 - val_accuracy: 0.6047\n",
            "Epoch 79/500\n",
            "11/11 [==============================] - 0s 7ms/step - loss: 0.6574 - accuracy: 0.6324 - val_loss: 0.6727 - val_accuracy: 0.6047\n",
            "Epoch 80/500\n",
            "11/11 [==============================] - 0s 5ms/step - loss: 0.6574 - accuracy: 0.6324 - val_loss: 0.6722 - val_accuracy: 0.6047\n",
            "Epoch 81/500\n",
            "11/11 [==============================] - 0s 5ms/step - loss: 0.6575 - accuracy: 0.6324 - val_loss: 0.6724 - val_accuracy: 0.6047\n",
            "Epoch 82/500\n",
            "11/11 [==============================] - 0s 5ms/step - loss: 0.6574 - accuracy: 0.6324 - val_loss: 0.6724 - val_accuracy: 0.6047\n",
            "Epoch 83/500\n",
            "11/11 [==============================] - 0s 6ms/step - loss: 0.6575 - accuracy: 0.6324 - val_loss: 0.6725 - val_accuracy: 0.6047\n",
            "Epoch 84/500\n",
            "11/11 [==============================] - 0s 5ms/step - loss: 0.6580 - accuracy: 0.6324 - val_loss: 0.6716 - val_accuracy: 0.6047\n",
            "Epoch 85/500\n",
            "11/11 [==============================] - 0s 5ms/step - loss: 0.6573 - accuracy: 0.6324 - val_loss: 0.6721 - val_accuracy: 0.6047\n",
            "Epoch 86/500\n",
            "11/11 [==============================] - 0s 7ms/step - loss: 0.6575 - accuracy: 0.6324 - val_loss: 0.6725 - val_accuracy: 0.6047\n",
            "Epoch 87/500\n",
            "11/11 [==============================] - 0s 6ms/step - loss: 0.6574 - accuracy: 0.6324 - val_loss: 0.6721 - val_accuracy: 0.6047\n",
            "Epoch 88/500\n",
            "11/11 [==============================] - 0s 6ms/step - loss: 0.6572 - accuracy: 0.6324 - val_loss: 0.6726 - val_accuracy: 0.6047\n",
            "Epoch 89/500\n",
            "11/11 [==============================] - 0s 5ms/step - loss: 0.6573 - accuracy: 0.6324 - val_loss: 0.6728 - val_accuracy: 0.6047\n",
            "Epoch 90/500\n",
            "11/11 [==============================] - 0s 5ms/step - loss: 0.6573 - accuracy: 0.6324 - val_loss: 0.6730 - val_accuracy: 0.6047\n",
            "Epoch 91/500\n",
            "11/11 [==============================] - 0s 5ms/step - loss: 0.6577 - accuracy: 0.6324 - val_loss: 0.6735 - val_accuracy: 0.6047\n",
            "Epoch 92/500\n",
            "11/11 [==============================] - 0s 4ms/step - loss: 0.6571 - accuracy: 0.6324 - val_loss: 0.6724 - val_accuracy: 0.6047\n",
            "Epoch 93/500\n",
            "11/11 [==============================] - 0s 7ms/step - loss: 0.6574 - accuracy: 0.6324 - val_loss: 0.6722 - val_accuracy: 0.6047\n",
            "Epoch 94/500\n",
            "11/11 [==============================] - 0s 7ms/step - loss: 0.6573 - accuracy: 0.6324 - val_loss: 0.6718 - val_accuracy: 0.6047\n",
            "Epoch 95/500\n",
            "11/11 [==============================] - 0s 5ms/step - loss: 0.6578 - accuracy: 0.6324 - val_loss: 0.6716 - val_accuracy: 0.6047\n",
            "Epoch 96/500\n",
            "11/11 [==============================] - 0s 5ms/step - loss: 0.6578 - accuracy: 0.6324 - val_loss: 0.6729 - val_accuracy: 0.6047\n",
            "Epoch 97/500\n",
            "11/11 [==============================] - 0s 5ms/step - loss: 0.6572 - accuracy: 0.6324 - val_loss: 0.6725 - val_accuracy: 0.6047\n",
            "Epoch 98/500\n",
            "11/11 [==============================] - 0s 8ms/step - loss: 0.6572 - accuracy: 0.6324 - val_loss: 0.6719 - val_accuracy: 0.6047\n",
            "Epoch 99/500\n",
            "11/11 [==============================] - 0s 7ms/step - loss: 0.6573 - accuracy: 0.6324 - val_loss: 0.6720 - val_accuracy: 0.6047\n",
            "Epoch 100/500\n",
            "11/11 [==============================] - 0s 5ms/step - loss: 0.6573 - accuracy: 0.6324 - val_loss: 0.6721 - val_accuracy: 0.6047\n",
            "Epoch 101/500\n",
            "11/11 [==============================] - 0s 5ms/step - loss: 0.6569 - accuracy: 0.6324 - val_loss: 0.6721 - val_accuracy: 0.6047\n",
            "Epoch 102/500\n",
            "11/11 [==============================] - 0s 6ms/step - loss: 0.6565 - accuracy: 0.6324 - val_loss: 0.6716 - val_accuracy: 0.6047\n",
            "Epoch 103/500\n",
            "11/11 [==============================] - 0s 6ms/step - loss: 0.6552 - accuracy: 0.6324 - val_loss: 0.6682 - val_accuracy: 0.6047\n",
            "Epoch 104/500\n",
            "11/11 [==============================] - 0s 5ms/step - loss: 0.6530 - accuracy: 0.6324 - val_loss: 0.6652 - val_accuracy: 0.6047\n",
            "Epoch 105/500\n",
            "11/11 [==============================] - 0s 5ms/step - loss: 0.6511 - accuracy: 0.6324 - val_loss: 0.6641 - val_accuracy: 0.6047\n",
            "Epoch 106/500\n",
            "11/11 [==============================] - 0s 6ms/step - loss: 0.6464 - accuracy: 0.6324 - val_loss: 0.6584 - val_accuracy: 0.6047\n",
            "Epoch 107/500\n",
            "11/11 [==============================] - 0s 6ms/step - loss: 0.6430 - accuracy: 0.6324 - val_loss: 0.6548 - val_accuracy: 0.6047\n",
            "Epoch 108/500\n",
            "11/11 [==============================] - 0s 8ms/step - loss: 0.6394 - accuracy: 0.6324 - val_loss: 0.6521 - val_accuracy: 0.6047\n",
            "Epoch 109/500\n",
            "11/11 [==============================] - 0s 5ms/step - loss: 0.6363 - accuracy: 0.6324 - val_loss: 0.6484 - val_accuracy: 0.6047\n",
            "Epoch 110/500\n",
            "11/11 [==============================] - 0s 5ms/step - loss: 0.6335 - accuracy: 0.6324 - val_loss: 0.6440 - val_accuracy: 0.6047\n",
            "Epoch 111/500\n",
            "11/11 [==============================] - 0s 4ms/step - loss: 0.6277 - accuracy: 0.6324 - val_loss: 0.6414 - val_accuracy: 0.6047\n",
            "Epoch 112/500\n",
            "11/11 [==============================] - 0s 7ms/step - loss: 0.6261 - accuracy: 0.6324 - val_loss: 0.6358 - val_accuracy: 0.6047\n",
            "Epoch 113/500\n",
            "11/11 [==============================] - 0s 5ms/step - loss: 0.6213 - accuracy: 0.6324 - val_loss: 0.6314 - val_accuracy: 0.6047\n",
            "Epoch 114/500\n",
            "11/11 [==============================] - 0s 6ms/step - loss: 0.6163 - accuracy: 0.6324 - val_loss: 0.6277 - val_accuracy: 0.6047\n",
            "Epoch 115/500\n",
            "11/11 [==============================] - 0s 5ms/step - loss: 0.6110 - accuracy: 0.6324 - val_loss: 0.6226 - val_accuracy: 0.6047\n",
            "Epoch 116/500\n",
            "11/11 [==============================] - 0s 5ms/step - loss: 0.6079 - accuracy: 0.6324 - val_loss: 0.6218 - val_accuracy: 0.6047\n",
            "Epoch 117/500\n",
            "11/11 [==============================] - 0s 4ms/step - loss: 0.6018 - accuracy: 0.6324 - val_loss: 0.6120 - val_accuracy: 0.6047\n",
            "Epoch 118/500\n",
            "11/11 [==============================] - 0s 4ms/step - loss: 0.5985 - accuracy: 0.6324 - val_loss: 0.6118 - val_accuracy: 0.6047\n",
            "Epoch 119/500\n",
            "11/11 [==============================] - 0s 6ms/step - loss: 0.5988 - accuracy: 0.6324 - val_loss: 0.6097 - val_accuracy: 0.6047\n",
            "Epoch 120/500\n",
            "11/11 [==============================] - 0s 7ms/step - loss: 0.5951 - accuracy: 0.6324 - val_loss: 0.5969 - val_accuracy: 0.6047\n",
            "Epoch 121/500\n",
            "11/11 [==============================] - 0s 7ms/step - loss: 0.5849 - accuracy: 0.6324 - val_loss: 0.5929 - val_accuracy: 0.6047\n",
            "Epoch 122/500\n",
            "11/11 [==============================] - 0s 5ms/step - loss: 0.5774 - accuracy: 0.6324 - val_loss: 0.5874 - val_accuracy: 0.6047\n",
            "Epoch 123/500\n",
            "11/11 [==============================] - 0s 6ms/step - loss: 0.5721 - accuracy: 0.6324 - val_loss: 0.5824 - val_accuracy: 0.6047\n",
            "Epoch 124/500\n",
            "11/11 [==============================] - 0s 5ms/step - loss: 0.5684 - accuracy: 0.6324 - val_loss: 0.5782 - val_accuracy: 0.6047\n",
            "Epoch 125/500\n",
            "11/11 [==============================] - 0s 6ms/step - loss: 0.5632 - accuracy: 0.6353 - val_loss: 0.5695 - val_accuracy: 0.6047\n",
            "Epoch 126/500\n",
            "11/11 [==============================] - 0s 6ms/step - loss: 0.5615 - accuracy: 0.6353 - val_loss: 0.5645 - val_accuracy: 0.6047\n",
            "Epoch 127/500\n",
            "11/11 [==============================] - 0s 4ms/step - loss: 0.5493 - accuracy: 0.6353 - val_loss: 0.5611 - val_accuracy: 0.6047\n",
            "Epoch 128/500\n",
            "11/11 [==============================] - 0s 8ms/step - loss: 0.5427 - accuracy: 0.6353 - val_loss: 0.5617 - val_accuracy: 0.6047\n",
            "Epoch 129/500\n",
            "11/11 [==============================] - 0s 6ms/step - loss: 0.5379 - accuracy: 0.6353 - val_loss: 0.5479 - val_accuracy: 0.6047\n",
            "Epoch 130/500\n",
            "11/11 [==============================] - 0s 5ms/step - loss: 0.5329 - accuracy: 0.6382 - val_loss: 0.5504 - val_accuracy: 0.6395\n",
            "Epoch 131/500\n",
            "11/11 [==============================] - 0s 5ms/step - loss: 0.5289 - accuracy: 0.6441 - val_loss: 0.5373 - val_accuracy: 0.6395\n",
            "Epoch 132/500\n",
            "11/11 [==============================] - 0s 5ms/step - loss: 0.5185 - accuracy: 0.6647 - val_loss: 0.5301 - val_accuracy: 0.9186\n",
            "Epoch 133/500\n",
            "11/11 [==============================] - 0s 5ms/step - loss: 0.5187 - accuracy: 0.9000 - val_loss: 0.5471 - val_accuracy: 0.9070\n",
            "Epoch 134/500\n",
            "11/11 [==============================] - 0s 7ms/step - loss: 0.5145 - accuracy: 0.9088 - val_loss: 0.5164 - val_accuracy: 0.9302\n",
            "Epoch 135/500\n",
            "11/11 [==============================] - 0s 6ms/step - loss: 0.4992 - accuracy: 0.9206 - val_loss: 0.5141 - val_accuracy: 0.9070\n",
            "Epoch 136/500\n",
            "11/11 [==============================] - 0s 5ms/step - loss: 0.4927 - accuracy: 0.9206 - val_loss: 0.5063 - val_accuracy: 0.9186\n",
            "Epoch 137/500\n",
            "11/11 [==============================] - 0s 5ms/step - loss: 0.4886 - accuracy: 0.9118 - val_loss: 0.5016 - val_accuracy: 0.9186\n",
            "Epoch 138/500\n",
            "11/11 [==============================] - 0s 5ms/step - loss: 0.4842 - accuracy: 0.9147 - val_loss: 0.4994 - val_accuracy: 0.9070\n",
            "Epoch 139/500\n",
            "11/11 [==============================] - 0s 5ms/step - loss: 0.4769 - accuracy: 0.9235 - val_loss: 0.4915 - val_accuracy: 0.8953\n",
            "Epoch 140/500\n",
            "11/11 [==============================] - 0s 5ms/step - loss: 0.4828 - accuracy: 0.8941 - val_loss: 0.4875 - val_accuracy: 0.9186\n",
            "Epoch 141/500\n",
            "11/11 [==============================] - 0s 5ms/step - loss: 0.4652 - accuracy: 0.9206 - val_loss: 0.4781 - val_accuracy: 0.9070\n",
            "Epoch 142/500\n",
            "11/11 [==============================] - 0s 7ms/step - loss: 0.4616 - accuracy: 0.9147 - val_loss: 0.4719 - val_accuracy: 0.9186\n",
            "Epoch 143/500\n",
            "11/11 [==============================] - 0s 6ms/step - loss: 0.4539 - accuracy: 0.9206 - val_loss: 0.4641 - val_accuracy: 0.9070\n",
            "Epoch 144/500\n",
            "11/11 [==============================] - 0s 6ms/step - loss: 0.4447 - accuracy: 0.9176 - val_loss: 0.4643 - val_accuracy: 0.9186\n",
            "Epoch 145/500\n",
            "11/11 [==============================] - 0s 6ms/step - loss: 0.4411 - accuracy: 0.9176 - val_loss: 0.4526 - val_accuracy: 0.9070\n",
            "Epoch 146/500\n",
            "11/11 [==============================] - 0s 7ms/step - loss: 0.4378 - accuracy: 0.9118 - val_loss: 0.4492 - val_accuracy: 0.9186\n",
            "Epoch 147/500\n",
            "11/11 [==============================] - 0s 6ms/step - loss: 0.4407 - accuracy: 0.9088 - val_loss: 0.4407 - val_accuracy: 0.9070\n",
            "Epoch 148/500\n",
            "11/11 [==============================] - 0s 6ms/step - loss: 0.4278 - accuracy: 0.9206 - val_loss: 0.4361 - val_accuracy: 0.9186\n",
            "Epoch 149/500\n",
            "11/11 [==============================] - 0s 5ms/step - loss: 0.4178 - accuracy: 0.9147 - val_loss: 0.4439 - val_accuracy: 0.8953\n",
            "Epoch 150/500\n",
            "11/11 [==============================] - 0s 5ms/step - loss: 0.4225 - accuracy: 0.9088 - val_loss: 0.4294 - val_accuracy: 0.9070\n",
            "Epoch 151/500\n",
            "11/11 [==============================] - 0s 6ms/step - loss: 0.4187 - accuracy: 0.8971 - val_loss: 0.4218 - val_accuracy: 0.9070\n",
            "Epoch 152/500\n",
            "11/11 [==============================] - 0s 6ms/step - loss: 0.4201 - accuracy: 0.9059 - val_loss: 0.4155 - val_accuracy: 0.9186\n",
            "Epoch 153/500\n",
            "11/11 [==============================] - 0s 5ms/step - loss: 0.3933 - accuracy: 0.9294 - val_loss: 0.4105 - val_accuracy: 0.9070\n",
            "Epoch 154/500\n",
            "11/11 [==============================] - 0s 7ms/step - loss: 0.3928 - accuracy: 0.9118 - val_loss: 0.4054 - val_accuracy: 0.9070\n",
            "Epoch 155/500\n",
            "11/11 [==============================] - 0s 6ms/step - loss: 0.3809 - accuracy: 0.9294 - val_loss: 0.4054 - val_accuracy: 0.9070\n",
            "Epoch 156/500\n",
            "11/11 [==============================] - 0s 7ms/step - loss: 0.3862 - accuracy: 0.9088 - val_loss: 0.3989 - val_accuracy: 0.9070\n",
            "Epoch 157/500\n",
            "11/11 [==============================] - 0s 6ms/step - loss: 0.3719 - accuracy: 0.9206 - val_loss: 0.3928 - val_accuracy: 0.9070\n",
            "Epoch 158/500\n",
            "11/11 [==============================] - 0s 5ms/step - loss: 0.3650 - accuracy: 0.9265 - val_loss: 0.3910 - val_accuracy: 0.9070\n",
            "Epoch 159/500\n",
            "11/11 [==============================] - 0s 5ms/step - loss: 0.3590 - accuracy: 0.9176 - val_loss: 0.3950 - val_accuracy: 0.8953\n",
            "Epoch 160/500\n",
            "11/11 [==============================] - 0s 4ms/step - loss: 0.3609 - accuracy: 0.9147 - val_loss: 0.3772 - val_accuracy: 0.9186\n",
            "Epoch 161/500\n",
            "11/11 [==============================] - 0s 5ms/step - loss: 0.3669 - accuracy: 0.9206 - val_loss: 0.3740 - val_accuracy: 0.9070\n",
            "Epoch 162/500\n",
            "11/11 [==============================] - 0s 5ms/step - loss: 0.3553 - accuracy: 0.9265 - val_loss: 0.3776 - val_accuracy: 0.9186\n",
            "Epoch 163/500\n",
            "11/11 [==============================] - 0s 5ms/step - loss: 0.3772 - accuracy: 0.9118 - val_loss: 0.3655 - val_accuracy: 0.9070\n",
            "Epoch 164/500\n",
            "11/11 [==============================] - 0s 4ms/step - loss: 0.3395 - accuracy: 0.9324 - val_loss: 0.3642 - val_accuracy: 0.9186\n",
            "Epoch 165/500\n",
            "11/11 [==============================] - 0s 5ms/step - loss: 0.3408 - accuracy: 0.9176 - val_loss: 0.3667 - val_accuracy: 0.9186\n",
            "Epoch 166/500\n",
            "11/11 [==============================] - 0s 4ms/step - loss: 0.3304 - accuracy: 0.9265 - val_loss: 0.3606 - val_accuracy: 0.9070\n",
            "Epoch 167/500\n",
            "11/11 [==============================] - 0s 7ms/step - loss: 0.3322 - accuracy: 0.9294 - val_loss: 0.3519 - val_accuracy: 0.9302\n",
            "Epoch 168/500\n",
            "11/11 [==============================] - 0s 4ms/step - loss: 0.3471 - accuracy: 0.9176 - val_loss: 0.3484 - val_accuracy: 0.9070\n",
            "Epoch 169/500\n",
            "11/11 [==============================] - 0s 4ms/step - loss: 0.3234 - accuracy: 0.9206 - val_loss: 0.3507 - val_accuracy: 0.9186\n",
            "Epoch 170/500\n",
            "11/11 [==============================] - 0s 4ms/step - loss: 0.3182 - accuracy: 0.9265 - val_loss: 0.3513 - val_accuracy: 0.9070\n",
            "Epoch 171/500\n",
            "11/11 [==============================] - 0s 5ms/step - loss: 0.3298 - accuracy: 0.9235 - val_loss: 0.3433 - val_accuracy: 0.9070\n",
            "Epoch 172/500\n",
            "11/11 [==============================] - 0s 5ms/step - loss: 0.3147 - accuracy: 0.9206 - val_loss: 0.3407 - val_accuracy: 0.9070\n",
            "Epoch 173/500\n",
            "11/11 [==============================] - 0s 6ms/step - loss: 0.3195 - accuracy: 0.9206 - val_loss: 0.3375 - val_accuracy: 0.9186\n",
            "Epoch 174/500\n",
            "11/11 [==============================] - 0s 8ms/step - loss: 0.3097 - accuracy: 0.9265 - val_loss: 0.3358 - val_accuracy: 0.9186\n",
            "Epoch 175/500\n",
            "11/11 [==============================] - 0s 5ms/step - loss: 0.3024 - accuracy: 0.9235 - val_loss: 0.3386 - val_accuracy: 0.9186\n",
            "Epoch 176/500\n",
            "11/11 [==============================] - 0s 4ms/step - loss: 0.2960 - accuracy: 0.9235 - val_loss: 0.3415 - val_accuracy: 0.9070\n",
            "Epoch 177/500\n",
            "11/11 [==============================] - 0s 6ms/step - loss: 0.3004 - accuracy: 0.9176 - val_loss: 0.3331 - val_accuracy: 0.9070\n",
            "Epoch 178/500\n",
            "11/11 [==============================] - 0s 6ms/step - loss: 0.2911 - accuracy: 0.9382 - val_loss: 0.3279 - val_accuracy: 0.9070\n",
            "Epoch 179/500\n",
            "11/11 [==============================] - 0s 5ms/step - loss: 0.2914 - accuracy: 0.9235 - val_loss: 0.3287 - val_accuracy: 0.9186\n",
            "Epoch 180/500\n",
            "11/11 [==============================] - 0s 5ms/step - loss: 0.2820 - accuracy: 0.9294 - val_loss: 0.3258 - val_accuracy: 0.9186\n",
            "Epoch 181/500\n",
            "11/11 [==============================] - 0s 7ms/step - loss: 0.2786 - accuracy: 0.9265 - val_loss: 0.3270 - val_accuracy: 0.9186\n",
            "Epoch 182/500\n",
            "11/11 [==============================] - 0s 4ms/step - loss: 0.2796 - accuracy: 0.9294 - val_loss: 0.3256 - val_accuracy: 0.9186\n",
            "Epoch 183/500\n",
            "11/11 [==============================] - 0s 5ms/step - loss: 0.2745 - accuracy: 0.9324 - val_loss: 0.3219 - val_accuracy: 0.9070\n",
            "Epoch 184/500\n",
            "11/11 [==============================] - 0s 5ms/step - loss: 0.2885 - accuracy: 0.9235 - val_loss: 0.3161 - val_accuracy: 0.9070\n",
            "Epoch 185/500\n",
            "11/11 [==============================] - 0s 7ms/step - loss: 0.2704 - accuracy: 0.9382 - val_loss: 0.3162 - val_accuracy: 0.9186\n",
            "Epoch 186/500\n",
            "11/11 [==============================] - 0s 6ms/step - loss: 0.2680 - accuracy: 0.9294 - val_loss: 0.3196 - val_accuracy: 0.9186\n",
            "Epoch 187/500\n",
            "11/11 [==============================] - 0s 5ms/step - loss: 0.2874 - accuracy: 0.9235 - val_loss: 0.3157 - val_accuracy: 0.9186\n",
            "Epoch 188/500\n",
            "11/11 [==============================] - 0s 7ms/step - loss: 0.2890 - accuracy: 0.9147 - val_loss: 0.3173 - val_accuracy: 0.9070\n",
            "Epoch 189/500\n",
            "11/11 [==============================] - 0s 5ms/step - loss: 0.2588 - accuracy: 0.9382 - val_loss: 0.3110 - val_accuracy: 0.9070\n",
            "Epoch 190/500\n",
            "11/11 [==============================] - 0s 4ms/step - loss: 0.3154 - accuracy: 0.9029 - val_loss: 0.3040 - val_accuracy: 0.9186\n",
            "Epoch 191/500\n",
            "11/11 [==============================] - 0s 5ms/step - loss: 0.2826 - accuracy: 0.9235 - val_loss: 0.3061 - val_accuracy: 0.9070\n",
            "Epoch 192/500\n",
            "11/11 [==============================] - 0s 5ms/step - loss: 0.2886 - accuracy: 0.9206 - val_loss: 0.2981 - val_accuracy: 0.9186\n",
            "Epoch 193/500\n",
            "11/11 [==============================] - 0s 5ms/step - loss: 0.2664 - accuracy: 0.9294 - val_loss: 0.3046 - val_accuracy: 0.9186\n",
            "Epoch 194/500\n",
            "11/11 [==============================] - 0s 6ms/step - loss: 0.2701 - accuracy: 0.9118 - val_loss: 0.3120 - val_accuracy: 0.9186\n",
            "Epoch 195/500\n",
            "11/11 [==============================] - 0s 7ms/step - loss: 0.2582 - accuracy: 0.9235 - val_loss: 0.3224 - val_accuracy: 0.9070\n",
            "Epoch 196/500\n",
            "11/11 [==============================] - 0s 6ms/step - loss: 0.2510 - accuracy: 0.9265 - val_loss: 0.3105 - val_accuracy: 0.9070\n",
            "Epoch 197/500\n",
            "11/11 [==============================] - 0s 5ms/step - loss: 0.2547 - accuracy: 0.9265 - val_loss: 0.3091 - val_accuracy: 0.9070\n",
            "Epoch 198/500\n",
            "11/11 [==============================] - 0s 4ms/step - loss: 0.2612 - accuracy: 0.9206 - val_loss: 0.3068 - val_accuracy: 0.9186\n",
            "Epoch 199/500\n",
            "11/11 [==============================] - 0s 5ms/step - loss: 0.2478 - accuracy: 0.9294 - val_loss: 0.3067 - val_accuracy: 0.9070\n",
            "Epoch 200/500\n",
            "11/11 [==============================] - 0s 7ms/step - loss: 0.2768 - accuracy: 0.9235 - val_loss: 0.2978 - val_accuracy: 0.9070\n",
            "Epoch 201/500\n",
            "11/11 [==============================] - 0s 5ms/step - loss: 0.2688 - accuracy: 0.9176 - val_loss: 0.2991 - val_accuracy: 0.9070\n",
            "Epoch 202/500\n",
            "11/11 [==============================] - 0s 6ms/step - loss: 0.2548 - accuracy: 0.9206 - val_loss: 0.3054 - val_accuracy: 0.9070\n",
            "Epoch 203/500\n",
            "11/11 [==============================] - 0s 7ms/step - loss: 0.2355 - accuracy: 0.9382 - val_loss: 0.3032 - val_accuracy: 0.9186\n",
            "Epoch 204/500\n",
            "11/11 [==============================] - 0s 7ms/step - loss: 0.2438 - accuracy: 0.9265 - val_loss: 0.3061 - val_accuracy: 0.9186\n",
            "Epoch 205/500\n",
            "11/11 [==============================] - 0s 5ms/step - loss: 0.2386 - accuracy: 0.9294 - val_loss: 0.3137 - val_accuracy: 0.9070\n",
            "Epoch 206/500\n",
            "11/11 [==============================] - 0s 5ms/step - loss: 0.2335 - accuracy: 0.9324 - val_loss: 0.3092 - val_accuracy: 0.9070\n",
            "Epoch 207/500\n",
            "11/11 [==============================] - 0s 6ms/step - loss: 0.2509 - accuracy: 0.9235 - val_loss: 0.3004 - val_accuracy: 0.9186\n",
            "Epoch 208/500\n",
            "11/11 [==============================] - 0s 5ms/step - loss: 0.2450 - accuracy: 0.9265 - val_loss: 0.2980 - val_accuracy: 0.9186\n",
            "Epoch 209/500\n",
            "11/11 [==============================] - 0s 5ms/step - loss: 0.2350 - accuracy: 0.9294 - val_loss: 0.3055 - val_accuracy: 0.9070\n",
            "Epoch 210/500\n",
            "11/11 [==============================] - 0s 5ms/step - loss: 0.2359 - accuracy: 0.9294 - val_loss: 0.3029 - val_accuracy: 0.9186\n",
            "Epoch 211/500\n",
            "11/11 [==============================] - 0s 5ms/step - loss: 0.2308 - accuracy: 0.9353 - val_loss: 0.3092 - val_accuracy: 0.9070\n",
            "Epoch 212/500\n",
            "11/11 [==============================] - 0s 5ms/step - loss: 0.2348 - accuracy: 0.9294 - val_loss: 0.3022 - val_accuracy: 0.9186\n",
            "Epoch 213/500\n",
            "11/11 [==============================] - 0s 5ms/step - loss: 0.2482 - accuracy: 0.9235 - val_loss: 0.3042 - val_accuracy: 0.9070\n",
            "Epoch 214/500\n",
            "11/11 [==============================] - 0s 7ms/step - loss: 0.2483 - accuracy: 0.9206 - val_loss: 0.2919 - val_accuracy: 0.9186\n",
            "Epoch 215/500\n",
            "11/11 [==============================] - 0s 5ms/step - loss: 0.2255 - accuracy: 0.9353 - val_loss: 0.2906 - val_accuracy: 0.9186\n",
            "Epoch 216/500\n",
            "11/11 [==============================] - 0s 6ms/step - loss: 0.2429 - accuracy: 0.9235 - val_loss: 0.2925 - val_accuracy: 0.9070\n",
            "Epoch 217/500\n",
            "11/11 [==============================] - 0s 5ms/step - loss: 0.2323 - accuracy: 0.9294 - val_loss: 0.2913 - val_accuracy: 0.9186\n",
            "Epoch 218/500\n",
            "11/11 [==============================] - 0s 6ms/step - loss: 0.2364 - accuracy: 0.9294 - val_loss: 0.2977 - val_accuracy: 0.9070\n",
            "Epoch 219/500\n",
            "11/11 [==============================] - 0s 5ms/step - loss: 0.2236 - accuracy: 0.9353 - val_loss: 0.3029 - val_accuracy: 0.9070\n",
            "Epoch 220/500\n",
            "11/11 [==============================] - 0s 6ms/step - loss: 0.2328 - accuracy: 0.9294 - val_loss: 0.2934 - val_accuracy: 0.9186\n",
            "Epoch 221/500\n",
            "11/11 [==============================] - 0s 5ms/step - loss: 0.2358 - accuracy: 0.9265 - val_loss: 0.3001 - val_accuracy: 0.9070\n",
            "Epoch 222/500\n",
            "11/11 [==============================] - 0s 5ms/step - loss: 0.2210 - accuracy: 0.9353 - val_loss: 0.3170 - val_accuracy: 0.8837\n",
            "Epoch 223/500\n",
            "11/11 [==============================] - 0s 5ms/step - loss: 0.2257 - accuracy: 0.9324 - val_loss: 0.3053 - val_accuracy: 0.9070\n",
            "Epoch 224/500\n",
            "11/11 [==============================] - 0s 6ms/step - loss: 0.2204 - accuracy: 0.9324 - val_loss: 0.2986 - val_accuracy: 0.9186\n",
            "Epoch 225/500\n",
            "11/11 [==============================] - 0s 5ms/step - loss: 0.2186 - accuracy: 0.9353 - val_loss: 0.3091 - val_accuracy: 0.8953\n",
            "Epoch 226/500\n",
            "11/11 [==============================] - 0s 5ms/step - loss: 0.2214 - accuracy: 0.9382 - val_loss: 0.2990 - val_accuracy: 0.9186\n",
            "Epoch 227/500\n",
            "11/11 [==============================] - 0s 4ms/step - loss: 0.2322 - accuracy: 0.9324 - val_loss: 0.3031 - val_accuracy: 0.8953\n",
            "Epoch 228/500\n",
            "11/11 [==============================] - 0s 5ms/step - loss: 0.2371 - accuracy: 0.9147 - val_loss: 0.2895 - val_accuracy: 0.9070\n",
            "Epoch 229/500\n",
            "11/11 [==============================] - 0s 5ms/step - loss: 0.2309 - accuracy: 0.9235 - val_loss: 0.2896 - val_accuracy: 0.9070\n",
            "Epoch 230/500\n",
            "11/11 [==============================] - 0s 6ms/step - loss: 0.2415 - accuracy: 0.9294 - val_loss: 0.2898 - val_accuracy: 0.9070\n",
            "Epoch 231/500\n",
            "11/11 [==============================] - 0s 4ms/step - loss: 0.2136 - accuracy: 0.9353 - val_loss: 0.2978 - val_accuracy: 0.9070\n",
            "Epoch 232/500\n",
            "11/11 [==============================] - 0s 5ms/step - loss: 0.2102 - accuracy: 0.9353 - val_loss: 0.2933 - val_accuracy: 0.9070\n",
            "Epoch 233/500\n",
            "11/11 [==============================] - 0s 5ms/step - loss: 0.2290 - accuracy: 0.9235 - val_loss: 0.2884 - val_accuracy: 0.9186\n",
            "Epoch 234/500\n",
            "11/11 [==============================] - 0s 7ms/step - loss: 0.2189 - accuracy: 0.9235 - val_loss: 0.2984 - val_accuracy: 0.9186\n",
            "Epoch 235/500\n",
            "11/11 [==============================] - 0s 5ms/step - loss: 0.2397 - accuracy: 0.9235 - val_loss: 0.2960 - val_accuracy: 0.9070\n",
            "Epoch 236/500\n",
            "11/11 [==============================] - 0s 5ms/step - loss: 0.2304 - accuracy: 0.9265 - val_loss: 0.2893 - val_accuracy: 0.9186\n",
            "Epoch 237/500\n",
            "11/11 [==============================] - 0s 5ms/step - loss: 0.2109 - accuracy: 0.9353 - val_loss: 0.2973 - val_accuracy: 0.9186\n",
            "Epoch 238/500\n",
            "11/11 [==============================] - 0s 5ms/step - loss: 0.2168 - accuracy: 0.9324 - val_loss: 0.3059 - val_accuracy: 0.9070\n",
            "Epoch 239/500\n",
            "11/11 [==============================] - 0s 5ms/step - loss: 0.2365 - accuracy: 0.9382 - val_loss: 0.2922 - val_accuracy: 0.9186\n",
            "Epoch 240/500\n",
            "11/11 [==============================] - 0s 6ms/step - loss: 0.2160 - accuracy: 0.9353 - val_loss: 0.2996 - val_accuracy: 0.9070\n",
            "Epoch 241/500\n",
            "11/11 [==============================] - 0s 5ms/step - loss: 0.2092 - accuracy: 0.9294 - val_loss: 0.2973 - val_accuracy: 0.9070\n",
            "Epoch 242/500\n",
            "11/11 [==============================] - 0s 5ms/step - loss: 0.2299 - accuracy: 0.9206 - val_loss: 0.2998 - val_accuracy: 0.9186\n",
            "Epoch 243/500\n",
            "11/11 [==============================] - 0s 6ms/step - loss: 0.2388 - accuracy: 0.9353 - val_loss: 0.2969 - val_accuracy: 0.9070\n",
            "Epoch 244/500\n",
            "11/11 [==============================] - 0s 5ms/step - loss: 0.2231 - accuracy: 0.9265 - val_loss: 0.2994 - val_accuracy: 0.9070\n",
            "Epoch 245/500\n",
            "11/11 [==============================] - 0s 5ms/step - loss: 0.2142 - accuracy: 0.9265 - val_loss: 0.2868 - val_accuracy: 0.9070\n",
            "Epoch 246/500\n",
            "11/11 [==============================] - 0s 7ms/step - loss: 0.2149 - accuracy: 0.9235 - val_loss: 0.2945 - val_accuracy: 0.9186\n",
            "Epoch 247/500\n",
            "11/11 [==============================] - 0s 6ms/step - loss: 0.2051 - accuracy: 0.9324 - val_loss: 0.3017 - val_accuracy: 0.9070\n",
            "Epoch 248/500\n",
            "11/11 [==============================] - 0s 5ms/step - loss: 0.2030 - accuracy: 0.9353 - val_loss: 0.2958 - val_accuracy: 0.9186\n",
            "Epoch 249/500\n",
            "11/11 [==============================] - 0s 8ms/step - loss: 0.2102 - accuracy: 0.9265 - val_loss: 0.3052 - val_accuracy: 0.9070\n",
            "Epoch 250/500\n",
            "11/11 [==============================] - 0s 5ms/step - loss: 0.2099 - accuracy: 0.9265 - val_loss: 0.2951 - val_accuracy: 0.9070\n",
            "Epoch 251/500\n",
            "11/11 [==============================] - 0s 5ms/step - loss: 0.2047 - accuracy: 0.9382 - val_loss: 0.2967 - val_accuracy: 0.9186\n",
            "Epoch 252/500\n",
            "11/11 [==============================] - 0s 5ms/step - loss: 0.2364 - accuracy: 0.9147 - val_loss: 0.2977 - val_accuracy: 0.9186\n",
            "Epoch 253/500\n",
            "11/11 [==============================] - 0s 7ms/step - loss: 0.2032 - accuracy: 0.9353 - val_loss: 0.3103 - val_accuracy: 0.9070\n",
            "Epoch 254/500\n",
            "11/11 [==============================] - 0s 6ms/step - loss: 0.2503 - accuracy: 0.9294 - val_loss: 0.2828 - val_accuracy: 0.9186\n",
            "Epoch 255/500\n",
            "11/11 [==============================] - 0s 5ms/step - loss: 0.2262 - accuracy: 0.9265 - val_loss: 0.3016 - val_accuracy: 0.8953\n",
            "Epoch 256/500\n",
            "11/11 [==============================] - 0s 6ms/step - loss: 0.2186 - accuracy: 0.9382 - val_loss: 0.3029 - val_accuracy: 0.9070\n",
            "Epoch 257/500\n",
            "11/11 [==============================] - 0s 5ms/step - loss: 0.2250 - accuracy: 0.9324 - val_loss: 0.2833 - val_accuracy: 0.9186\n",
            "Epoch 258/500\n",
            "11/11 [==============================] - 0s 4ms/step - loss: 0.2030 - accuracy: 0.9353 - val_loss: 0.2930 - val_accuracy: 0.9070\n",
            "Epoch 259/500\n",
            "11/11 [==============================] - 0s 5ms/step - loss: 0.2045 - accuracy: 0.9412 - val_loss: 0.2906 - val_accuracy: 0.9186\n",
            "Epoch 260/500\n",
            "11/11 [==============================] - 0s 5ms/step - loss: 0.2004 - accuracy: 0.9353 - val_loss: 0.3043 - val_accuracy: 0.9070\n",
            "Epoch 261/500\n",
            "11/11 [==============================] - 0s 6ms/step - loss: 0.2024 - accuracy: 0.9353 - val_loss: 0.2996 - val_accuracy: 0.9070\n",
            "Epoch 262/500\n",
            "11/11 [==============================] - 0s 5ms/step - loss: 0.2076 - accuracy: 0.9294 - val_loss: 0.3027 - val_accuracy: 0.9070\n",
            "Epoch 263/500\n",
            "11/11 [==============================] - 0s 5ms/step - loss: 0.2118 - accuracy: 0.9294 - val_loss: 0.3058 - val_accuracy: 0.9070\n",
            "Epoch 264/500\n",
            "11/11 [==============================] - 0s 6ms/step - loss: 0.2045 - accuracy: 0.9353 - val_loss: 0.3018 - val_accuracy: 0.9186\n",
            "Epoch 265/500\n",
            "11/11 [==============================] - 0s 5ms/step - loss: 0.1929 - accuracy: 0.9471 - val_loss: 0.2994 - val_accuracy: 0.9186\n",
            "Epoch 266/500\n",
            "11/11 [==============================] - 0s 5ms/step - loss: 0.2003 - accuracy: 0.9353 - val_loss: 0.3008 - val_accuracy: 0.9186\n",
            "Epoch 267/500\n",
            "11/11 [==============================] - 0s 5ms/step - loss: 0.1939 - accuracy: 0.9382 - val_loss: 0.3021 - val_accuracy: 0.9070\n",
            "Epoch 268/500\n",
            "11/11 [==============================] - 0s 5ms/step - loss: 0.1978 - accuracy: 0.9382 - val_loss: 0.2952 - val_accuracy: 0.9070\n",
            "Epoch 269/500\n",
            "11/11 [==============================] - 0s 5ms/step - loss: 0.2167 - accuracy: 0.9265 - val_loss: 0.2889 - val_accuracy: 0.9186\n",
            "Epoch 270/500\n",
            "11/11 [==============================] - 0s 5ms/step - loss: 0.2158 - accuracy: 0.9265 - val_loss: 0.2875 - val_accuracy: 0.9070\n",
            "Epoch 271/500\n",
            "11/11 [==============================] - 0s 7ms/step - loss: 0.2136 - accuracy: 0.9353 - val_loss: 0.3015 - val_accuracy: 0.9070\n",
            "Epoch 272/500\n",
            "11/11 [==============================] - 0s 5ms/step - loss: 0.2022 - accuracy: 0.9324 - val_loss: 0.2967 - val_accuracy: 0.9186\n",
            "Epoch 273/500\n",
            "11/11 [==============================] - 0s 5ms/step - loss: 0.1931 - accuracy: 0.9353 - val_loss: 0.2985 - val_accuracy: 0.9186\n",
            "Epoch 274/500\n",
            "11/11 [==============================] - 0s 5ms/step - loss: 0.1973 - accuracy: 0.9353 - val_loss: 0.3013 - val_accuracy: 0.9186\n",
            "Epoch 275/500\n",
            "11/11 [==============================] - 0s 5ms/step - loss: 0.1983 - accuracy: 0.9382 - val_loss: 0.3040 - val_accuracy: 0.9070\n",
            "Epoch 276/500\n",
            "11/11 [==============================] - 0s 7ms/step - loss: 0.2428 - accuracy: 0.9265 - val_loss: 0.2946 - val_accuracy: 0.9186\n",
            "Epoch 277/500\n",
            "11/11 [==============================] - 0s 7ms/step - loss: 0.1921 - accuracy: 0.9382 - val_loss: 0.2881 - val_accuracy: 0.9186\n",
            "Epoch 278/500\n",
            "11/11 [==============================] - 0s 6ms/step - loss: 0.2208 - accuracy: 0.9265 - val_loss: 0.2891 - val_accuracy: 0.9186\n",
            "Epoch 279/500\n",
            "11/11 [==============================] - 0s 7ms/step - loss: 0.2244 - accuracy: 0.9206 - val_loss: 0.2862 - val_accuracy: 0.9070\n",
            "Epoch 280/500\n",
            "11/11 [==============================] - 0s 5ms/step - loss: 0.2116 - accuracy: 0.9353 - val_loss: 0.2835 - val_accuracy: 0.9186\n",
            "Epoch 281/500\n",
            "11/11 [==============================] - 0s 5ms/step - loss: 0.2041 - accuracy: 0.9294 - val_loss: 0.2846 - val_accuracy: 0.9070\n",
            "Epoch 282/500\n",
            "11/11 [==============================] - 0s 6ms/step - loss: 0.2267 - accuracy: 0.9324 - val_loss: 0.2836 - val_accuracy: 0.9186\n",
            "Epoch 283/500\n",
            "11/11 [==============================] - 0s 6ms/step - loss: 0.2127 - accuracy: 0.9324 - val_loss: 0.2799 - val_accuracy: 0.9186\n",
            "Epoch 284/500\n",
            "11/11 [==============================] - 0s 6ms/step - loss: 0.2118 - accuracy: 0.9324 - val_loss: 0.2785 - val_accuracy: 0.9070\n",
            "Epoch 285/500\n",
            "11/11 [==============================] - 0s 6ms/step - loss: 0.1854 - accuracy: 0.9412 - val_loss: 0.3106 - val_accuracy: 0.8837\n",
            "Epoch 286/500\n",
            "11/11 [==============================] - 0s 5ms/step - loss: 0.2029 - accuracy: 0.9353 - val_loss: 0.2949 - val_accuracy: 0.9186\n",
            "Epoch 287/500\n",
            "11/11 [==============================] - 0s 5ms/step - loss: 0.2002 - accuracy: 0.9412 - val_loss: 0.3054 - val_accuracy: 0.8953\n",
            "Epoch 288/500\n",
            "11/11 [==============================] - 0s 6ms/step - loss: 0.1915 - accuracy: 0.9382 - val_loss: 0.3004 - val_accuracy: 0.9186\n",
            "Epoch 289/500\n",
            "11/11 [==============================] - 0s 6ms/step - loss: 0.2503 - accuracy: 0.9206 - val_loss: 0.2961 - val_accuracy: 0.9186\n",
            "Epoch 290/500\n",
            "11/11 [==============================] - 0s 5ms/step - loss: 0.1986 - accuracy: 0.9353 - val_loss: 0.2958 - val_accuracy: 0.9186\n",
            "Epoch 291/500\n",
            "11/11 [==============================] - 0s 5ms/step - loss: 0.1883 - accuracy: 0.9382 - val_loss: 0.3030 - val_accuracy: 0.9070\n",
            "Epoch 292/500\n",
            "11/11 [==============================] - 0s 6ms/step - loss: 0.2284 - accuracy: 0.9235 - val_loss: 0.2915 - val_accuracy: 0.9186\n",
            "Epoch 293/500\n",
            "11/11 [==============================] - 0s 7ms/step - loss: 0.1974 - accuracy: 0.9324 - val_loss: 0.2901 - val_accuracy: 0.9070\n",
            "Epoch 294/500\n",
            "11/11 [==============================] - 0s 5ms/step - loss: 0.2022 - accuracy: 0.9353 - val_loss: 0.2910 - val_accuracy: 0.9186\n",
            "Epoch 295/500\n",
            "11/11 [==============================] - 0s 5ms/step - loss: 0.2016 - accuracy: 0.9265 - val_loss: 0.2905 - val_accuracy: 0.9186\n",
            "Epoch 296/500\n",
            "11/11 [==============================] - 0s 6ms/step - loss: 0.2049 - accuracy: 0.9353 - val_loss: 0.2928 - val_accuracy: 0.9186\n",
            "Epoch 297/500\n",
            "11/11 [==============================] - 0s 5ms/step - loss: 0.1919 - accuracy: 0.9382 - val_loss: 0.2875 - val_accuracy: 0.9186\n",
            "Epoch 298/500\n",
            "11/11 [==============================] - 0s 5ms/step - loss: 0.1881 - accuracy: 0.9324 - val_loss: 0.2947 - val_accuracy: 0.9186\n",
            "Epoch 299/500\n",
            "11/11 [==============================] - 0s 7ms/step - loss: 0.2053 - accuracy: 0.9265 - val_loss: 0.3017 - val_accuracy: 0.9186\n",
            "Epoch 300/500\n",
            "11/11 [==============================] - 0s 8ms/step - loss: 0.1855 - accuracy: 0.9324 - val_loss: 0.3070 - val_accuracy: 0.9070\n",
            "Epoch 301/500\n",
            "11/11 [==============================] - 0s 5ms/step - loss: 0.1862 - accuracy: 0.9412 - val_loss: 0.3042 - val_accuracy: 0.9186\n",
            "Epoch 302/500\n",
            "11/11 [==============================] - 0s 5ms/step - loss: 0.1861 - accuracy: 0.9441 - val_loss: 0.3006 - val_accuracy: 0.9186\n",
            "Epoch 303/500\n",
            "11/11 [==============================] - 0s 5ms/step - loss: 0.1976 - accuracy: 0.9353 - val_loss: 0.3009 - val_accuracy: 0.9186\n",
            "Epoch 304/500\n",
            "11/11 [==============================] - 0s 7ms/step - loss: 0.1919 - accuracy: 0.9324 - val_loss: 0.3028 - val_accuracy: 0.9186\n",
            "Epoch 305/500\n",
            "11/11 [==============================] - 0s 7ms/step - loss: 0.1900 - accuracy: 0.9324 - val_loss: 0.3039 - val_accuracy: 0.9070\n",
            "Epoch 306/500\n",
            "11/11 [==============================] - 0s 5ms/step - loss: 0.2069 - accuracy: 0.9382 - val_loss: 0.3037 - val_accuracy: 0.9070\n",
            "Epoch 307/500\n",
            "11/11 [==============================] - 0s 6ms/step - loss: 0.2261 - accuracy: 0.9294 - val_loss: 0.2949 - val_accuracy: 0.9186\n",
            "Epoch 308/500\n",
            "11/11 [==============================] - 0s 5ms/step - loss: 0.1919 - accuracy: 0.9471 - val_loss: 0.2984 - val_accuracy: 0.9070\n",
            "Epoch 309/500\n",
            "11/11 [==============================] - 0s 6ms/step - loss: 0.2111 - accuracy: 0.9294 - val_loss: 0.2890 - val_accuracy: 0.9186\n",
            "Epoch 310/500\n",
            "11/11 [==============================] - 0s 5ms/step - loss: 0.2038 - accuracy: 0.9382 - val_loss: 0.2849 - val_accuracy: 0.9186\n",
            "Epoch 311/500\n",
            "11/11 [==============================] - 0s 5ms/step - loss: 0.2402 - accuracy: 0.9206 - val_loss: 0.2839 - val_accuracy: 0.9186\n",
            "Epoch 312/500\n",
            "11/11 [==============================] - 0s 6ms/step - loss: 0.2424 - accuracy: 0.9265 - val_loss: 0.2801 - val_accuracy: 0.9186\n",
            "Epoch 313/500\n",
            "11/11 [==============================] - 0s 6ms/step - loss: 0.2000 - accuracy: 0.9382 - val_loss: 0.2792 - val_accuracy: 0.9186\n",
            "Epoch 314/500\n",
            "11/11 [==============================] - 0s 7ms/step - loss: 0.2009 - accuracy: 0.9294 - val_loss: 0.2752 - val_accuracy: 0.9070\n",
            "Epoch 315/500\n",
            "11/11 [==============================] - 0s 5ms/step - loss: 0.1996 - accuracy: 0.9382 - val_loss: 0.2804 - val_accuracy: 0.9186\n",
            "Epoch 316/500\n",
            "11/11 [==============================] - 0s 7ms/step - loss: 0.1949 - accuracy: 0.9382 - val_loss: 0.2885 - val_accuracy: 0.9186\n",
            "Epoch 317/500\n",
            "11/11 [==============================] - 0s 6ms/step - loss: 0.1883 - accuracy: 0.9294 - val_loss: 0.2940 - val_accuracy: 0.9186\n",
            "Epoch 318/500\n",
            "11/11 [==============================] - 0s 6ms/step - loss: 0.1829 - accuracy: 0.9441 - val_loss: 0.2893 - val_accuracy: 0.9070\n",
            "Epoch 319/500\n",
            "11/11 [==============================] - 0s 6ms/step - loss: 0.2004 - accuracy: 0.9235 - val_loss: 0.2968 - val_accuracy: 0.9070\n",
            "Epoch 320/500\n",
            "11/11 [==============================] - 0s 6ms/step - loss: 0.2163 - accuracy: 0.9382 - val_loss: 0.3131 - val_accuracy: 0.9070\n",
            "Epoch 321/500\n",
            "11/11 [==============================] - 0s 7ms/step - loss: 0.2283 - accuracy: 0.9265 - val_loss: 0.3010 - val_accuracy: 0.8953\n",
            "Epoch 322/500\n",
            "11/11 [==============================] - 0s 5ms/step - loss: 0.2093 - accuracy: 0.9235 - val_loss: 0.2776 - val_accuracy: 0.9070\n",
            "Epoch 323/500\n",
            "11/11 [==============================] - 0s 5ms/step - loss: 0.1891 - accuracy: 0.9382 - val_loss: 0.2874 - val_accuracy: 0.9186\n",
            "Epoch 324/500\n",
            "11/11 [==============================] - 0s 5ms/step - loss: 0.1880 - accuracy: 0.9441 - val_loss: 0.2849 - val_accuracy: 0.9070\n",
            "Epoch 325/500\n",
            "11/11 [==============================] - 0s 5ms/step - loss: 0.1851 - accuracy: 0.9441 - val_loss: 0.2968 - val_accuracy: 0.9070\n",
            "Epoch 326/500\n",
            "11/11 [==============================] - 0s 7ms/step - loss: 0.1739 - accuracy: 0.9412 - val_loss: 0.2906 - val_accuracy: 0.9186\n",
            "Epoch 327/500\n",
            "11/11 [==============================] - 0s 5ms/step - loss: 0.2022 - accuracy: 0.9353 - val_loss: 0.2900 - val_accuracy: 0.9186\n",
            "Epoch 328/500\n",
            "11/11 [==============================] - 0s 6ms/step - loss: 0.1869 - accuracy: 0.9412 - val_loss: 0.2906 - val_accuracy: 0.9186\n",
            "Epoch 329/500\n",
            "11/11 [==============================] - 0s 7ms/step - loss: 0.1901 - accuracy: 0.9382 - val_loss: 0.2926 - val_accuracy: 0.9186\n",
            "Epoch 330/500\n",
            "11/11 [==============================] - 0s 5ms/step - loss: 0.1843 - accuracy: 0.9353 - val_loss: 0.2988 - val_accuracy: 0.9070\n",
            "Epoch 331/500\n",
            "11/11 [==============================] - 0s 7ms/step - loss: 0.1861 - accuracy: 0.9441 - val_loss: 0.2939 - val_accuracy: 0.9070\n",
            "Epoch 332/500\n",
            "11/11 [==============================] - 0s 5ms/step - loss: 0.1811 - accuracy: 0.9412 - val_loss: 0.3006 - val_accuracy: 0.9070\n",
            "Epoch 333/500\n",
            "11/11 [==============================] - 0s 7ms/step - loss: 0.1984 - accuracy: 0.9324 - val_loss: 0.2974 - val_accuracy: 0.9186\n",
            "Epoch 334/500\n",
            "11/11 [==============================] - 0s 6ms/step - loss: 0.1830 - accuracy: 0.9382 - val_loss: 0.2990 - val_accuracy: 0.9070\n",
            "Epoch 335/500\n",
            "11/11 [==============================] - 0s 6ms/step - loss: 0.1797 - accuracy: 0.9441 - val_loss: 0.2982 - val_accuracy: 0.9186\n",
            "Epoch 336/500\n",
            "11/11 [==============================] - 0s 5ms/step - loss: 0.1845 - accuracy: 0.9412 - val_loss: 0.2998 - val_accuracy: 0.9186\n",
            "Epoch 337/500\n",
            "11/11 [==============================] - 0s 5ms/step - loss: 0.1812 - accuracy: 0.9294 - val_loss: 0.2998 - val_accuracy: 0.9070\n",
            "Epoch 338/500\n",
            "11/11 [==============================] - 0s 5ms/step - loss: 0.1921 - accuracy: 0.9324 - val_loss: 0.2990 - val_accuracy: 0.9186\n",
            "Epoch 339/500\n",
            "11/11 [==============================] - 0s 5ms/step - loss: 0.1951 - accuracy: 0.9265 - val_loss: 0.2994 - val_accuracy: 0.9070\n",
            "Epoch 340/500\n",
            "11/11 [==============================] - 0s 6ms/step - loss: 0.2010 - accuracy: 0.9382 - val_loss: 0.2987 - val_accuracy: 0.9070\n",
            "Epoch 341/500\n",
            "11/11 [==============================] - 0s 7ms/step - loss: 0.1796 - accuracy: 0.9441 - val_loss: 0.2984 - val_accuracy: 0.9070\n",
            "Epoch 342/500\n",
            "11/11 [==============================] - 0s 5ms/step - loss: 0.1782 - accuracy: 0.9441 - val_loss: 0.2944 - val_accuracy: 0.9186\n",
            "Epoch 343/500\n",
            "11/11 [==============================] - 0s 5ms/step - loss: 0.1746 - accuracy: 0.9471 - val_loss: 0.2958 - val_accuracy: 0.9186\n",
            "Epoch 344/500\n",
            "11/11 [==============================] - 0s 5ms/step - loss: 0.1765 - accuracy: 0.9412 - val_loss: 0.2970 - val_accuracy: 0.9186\n",
            "Epoch 345/500\n",
            "11/11 [==============================] - 0s 5ms/step - loss: 0.1773 - accuracy: 0.9441 - val_loss: 0.2978 - val_accuracy: 0.9186\n",
            "Epoch 346/500\n",
            "11/11 [==============================] - 0s 5ms/step - loss: 0.1771 - accuracy: 0.9412 - val_loss: 0.2975 - val_accuracy: 0.9186\n",
            "Epoch 347/500\n",
            "11/11 [==============================] - 0s 7ms/step - loss: 0.1905 - accuracy: 0.9382 - val_loss: 0.2987 - val_accuracy: 0.9186\n",
            "Epoch 348/500\n",
            "11/11 [==============================] - 0s 5ms/step - loss: 0.1780 - accuracy: 0.9500 - val_loss: 0.2984 - val_accuracy: 0.9070\n",
            "Epoch 349/500\n",
            "11/11 [==============================] - 0s 6ms/step - loss: 0.1853 - accuracy: 0.9294 - val_loss: 0.2925 - val_accuracy: 0.9070\n",
            "Epoch 350/500\n",
            "11/11 [==============================] - 0s 6ms/step - loss: 0.2030 - accuracy: 0.9324 - val_loss: 0.2918 - val_accuracy: 0.8837\n",
            "Epoch 351/500\n",
            "11/11 [==============================] - 0s 6ms/step - loss: 0.2317 - accuracy: 0.9206 - val_loss: 0.2915 - val_accuracy: 0.9070\n",
            "Epoch 352/500\n",
            "11/11 [==============================] - 0s 5ms/step - loss: 0.1832 - accuracy: 0.9441 - val_loss: 0.2942 - val_accuracy: 0.9186\n",
            "Epoch 353/500\n",
            "11/11 [==============================] - 0s 5ms/step - loss: 0.1763 - accuracy: 0.9471 - val_loss: 0.2936 - val_accuracy: 0.9186\n",
            "Epoch 354/500\n",
            "11/11 [==============================] - 0s 7ms/step - loss: 0.1772 - accuracy: 0.9412 - val_loss: 0.2939 - val_accuracy: 0.9070\n",
            "Epoch 355/500\n",
            "11/11 [==============================] - 0s 7ms/step - loss: 0.2221 - accuracy: 0.9265 - val_loss: 0.2988 - val_accuracy: 0.9186\n",
            "Epoch 356/500\n",
            "11/11 [==============================] - 0s 5ms/step - loss: 0.2090 - accuracy: 0.9382 - val_loss: 0.2950 - val_accuracy: 0.9070\n",
            "Epoch 357/500\n",
            "11/11 [==============================] - 0s 6ms/step - loss: 0.2088 - accuracy: 0.9265 - val_loss: 0.2863 - val_accuracy: 0.9186\n",
            "Epoch 358/500\n",
            "11/11 [==============================] - 0s 7ms/step - loss: 0.1951 - accuracy: 0.9353 - val_loss: 0.2862 - val_accuracy: 0.9186\n",
            "Epoch 359/500\n",
            "11/11 [==============================] - 0s 6ms/step - loss: 0.1859 - accuracy: 0.9412 - val_loss: 0.2756 - val_accuracy: 0.9070\n",
            "Epoch 360/500\n",
            "11/11 [==============================] - 0s 5ms/step - loss: 0.2045 - accuracy: 0.9294 - val_loss: 0.2865 - val_accuracy: 0.9186\n",
            "Epoch 361/500\n",
            "11/11 [==============================] - 0s 5ms/step - loss: 0.2291 - accuracy: 0.9235 - val_loss: 0.2814 - val_accuracy: 0.9186\n",
            "Epoch 362/500\n",
            "11/11 [==============================] - 0s 5ms/step - loss: 0.1798 - accuracy: 0.9412 - val_loss: 0.2882 - val_accuracy: 0.9186\n",
            "Epoch 363/500\n",
            "11/11 [==============================] - 0s 6ms/step - loss: 0.1823 - accuracy: 0.9324 - val_loss: 0.2886 - val_accuracy: 0.9186\n",
            "Epoch 364/500\n",
            "11/11 [==============================] - 0s 6ms/step - loss: 0.1808 - accuracy: 0.9412 - val_loss: 0.2936 - val_accuracy: 0.9070\n",
            "Epoch 365/500\n",
            "11/11 [==============================] - 0s 6ms/step - loss: 0.1915 - accuracy: 0.9353 - val_loss: 0.2934 - val_accuracy: 0.9186\n",
            "Epoch 366/500\n",
            "11/11 [==============================] - 0s 6ms/step - loss: 0.1738 - accuracy: 0.9471 - val_loss: 0.2954 - val_accuracy: 0.9070\n",
            "Epoch 367/500\n",
            "11/11 [==============================] - 0s 5ms/step - loss: 0.1750 - accuracy: 0.9500 - val_loss: 0.2942 - val_accuracy: 0.9186\n",
            "Epoch 368/500\n",
            "11/11 [==============================] - 0s 5ms/step - loss: 0.1735 - accuracy: 0.9471 - val_loss: 0.2903 - val_accuracy: 0.9186\n",
            "Epoch 369/500\n",
            "11/11 [==============================] - 0s 5ms/step - loss: 0.1733 - accuracy: 0.9412 - val_loss: 0.2942 - val_accuracy: 0.9070\n",
            "Epoch 370/500\n",
            "11/11 [==============================] - 0s 5ms/step - loss: 0.1885 - accuracy: 0.9353 - val_loss: 0.2880 - val_accuracy: 0.9070\n",
            "Epoch 371/500\n",
            "11/11 [==============================] - 0s 6ms/step - loss: 0.1702 - accuracy: 0.9412 - val_loss: 0.2939 - val_accuracy: 0.9186\n",
            "Epoch 372/500\n",
            "11/11 [==============================] - 0s 6ms/step - loss: 0.1757 - accuracy: 0.9412 - val_loss: 0.2914 - val_accuracy: 0.9186\n",
            "Epoch 373/500\n",
            "11/11 [==============================] - 0s 7ms/step - loss: 0.1933 - accuracy: 0.9324 - val_loss: 0.2901 - val_accuracy: 0.9186\n",
            "Epoch 374/500\n",
            "11/11 [==============================] - 0s 5ms/step - loss: 0.1911 - accuracy: 0.9353 - val_loss: 0.2958 - val_accuracy: 0.9186\n",
            "Epoch 375/500\n",
            "11/11 [==============================] - 0s 6ms/step - loss: 0.1746 - accuracy: 0.9412 - val_loss: 0.2966 - val_accuracy: 0.9186\n",
            "Epoch 376/500\n",
            "11/11 [==============================] - 0s 5ms/step - loss: 0.1716 - accuracy: 0.9441 - val_loss: 0.2941 - val_accuracy: 0.9186\n",
            "Epoch 377/500\n",
            "11/11 [==============================] - 0s 7ms/step - loss: 0.1831 - accuracy: 0.9412 - val_loss: 0.2911 - val_accuracy: 0.9186\n",
            "Epoch 378/500\n",
            "11/11 [==============================] - 0s 5ms/step - loss: 0.2309 - accuracy: 0.9324 - val_loss: 0.2805 - val_accuracy: 0.9186\n",
            "Epoch 379/500\n",
            "11/11 [==============================] - 0s 7ms/step - loss: 0.2080 - accuracy: 0.9235 - val_loss: 0.2814 - val_accuracy: 0.9186\n",
            "Epoch 380/500\n",
            "11/11 [==============================] - 0s 5ms/step - loss: 0.1928 - accuracy: 0.9441 - val_loss: 0.2748 - val_accuracy: 0.9186\n",
            "Epoch 381/500\n",
            "11/11 [==============================] - 0s 7ms/step - loss: 0.1842 - accuracy: 0.9353 - val_loss: 0.2835 - val_accuracy: 0.9186\n",
            "Epoch 382/500\n",
            "11/11 [==============================] - 0s 7ms/step - loss: 0.1793 - accuracy: 0.9412 - val_loss: 0.2707 - val_accuracy: 0.9186\n",
            "Epoch 383/500\n",
            "11/11 [==============================] - 0s 6ms/step - loss: 0.1916 - accuracy: 0.9382 - val_loss: 0.2832 - val_accuracy: 0.9186\n",
            "Epoch 384/500\n",
            "11/11 [==============================] - 0s 7ms/step - loss: 0.1868 - accuracy: 0.9412 - val_loss: 0.2784 - val_accuracy: 0.9186\n",
            "Epoch 385/500\n",
            "11/11 [==============================] - 0s 5ms/step - loss: 0.1854 - accuracy: 0.9353 - val_loss: 0.2819 - val_accuracy: 0.9186\n",
            "Epoch 386/500\n",
            "11/11 [==============================] - 0s 7ms/step - loss: 0.1850 - accuracy: 0.9382 - val_loss: 0.2826 - val_accuracy: 0.9186\n",
            "Epoch 387/500\n",
            "11/11 [==============================] - 0s 7ms/step - loss: 0.1703 - accuracy: 0.9441 - val_loss: 0.2834 - val_accuracy: 0.9186\n",
            "Epoch 388/500\n",
            "11/11 [==============================] - 0s 6ms/step - loss: 0.1814 - accuracy: 0.9412 - val_loss: 0.2878 - val_accuracy: 0.9070\n",
            "Epoch 389/500\n",
            "11/11 [==============================] - 0s 6ms/step - loss: 0.1737 - accuracy: 0.9412 - val_loss: 0.2808 - val_accuracy: 0.9070\n",
            "Epoch 390/500\n",
            "11/11 [==============================] - 0s 5ms/step - loss: 0.1884 - accuracy: 0.9441 - val_loss: 0.2846 - val_accuracy: 0.9186\n",
            "Epoch 391/500\n",
            "11/11 [==============================] - 0s 5ms/step - loss: 0.1758 - accuracy: 0.9441 - val_loss: 0.2738 - val_accuracy: 0.9070\n",
            "Epoch 392/500\n",
            "11/11 [==============================] - 0s 6ms/step - loss: 0.1912 - accuracy: 0.9324 - val_loss: 0.2837 - val_accuracy: 0.9070\n",
            "Epoch 393/500\n",
            "11/11 [==============================] - 0s 6ms/step - loss: 0.1823 - accuracy: 0.9412 - val_loss: 0.2816 - val_accuracy: 0.9186\n",
            "Epoch 394/500\n",
            "11/11 [==============================] - 0s 7ms/step - loss: 0.1907 - accuracy: 0.9294 - val_loss: 0.2786 - val_accuracy: 0.9186\n",
            "Epoch 395/500\n",
            "11/11 [==============================] - 0s 6ms/step - loss: 0.2096 - accuracy: 0.9382 - val_loss: 0.2733 - val_accuracy: 0.9186\n",
            "Epoch 396/500\n",
            "11/11 [==============================] - 0s 6ms/step - loss: 0.2114 - accuracy: 0.9265 - val_loss: 0.2705 - val_accuracy: 0.9070\n",
            "Epoch 397/500\n",
            "11/11 [==============================] - 0s 6ms/step - loss: 0.1859 - accuracy: 0.9382 - val_loss: 0.2826 - val_accuracy: 0.9186\n",
            "Epoch 398/500\n",
            "11/11 [==============================] - 0s 6ms/step - loss: 0.1886 - accuracy: 0.9353 - val_loss: 0.2720 - val_accuracy: 0.9186\n",
            "Epoch 399/500\n",
            "11/11 [==============================] - 0s 7ms/step - loss: 0.1726 - accuracy: 0.9412 - val_loss: 0.2834 - val_accuracy: 0.9186\n",
            "Epoch 400/500\n",
            "11/11 [==============================] - 0s 6ms/step - loss: 0.1907 - accuracy: 0.9382 - val_loss: 0.2745 - val_accuracy: 0.9070\n",
            "Epoch 401/500\n",
            "11/11 [==============================] - 0s 5ms/step - loss: 0.1798 - accuracy: 0.9382 - val_loss: 0.2823 - val_accuracy: 0.9070\n",
            "Epoch 402/500\n",
            "11/11 [==============================] - 0s 5ms/step - loss: 0.1904 - accuracy: 0.9412 - val_loss: 0.2814 - val_accuracy: 0.9186\n",
            "Epoch 403/500\n",
            "11/11 [==============================] - 0s 6ms/step - loss: 0.1720 - accuracy: 0.9412 - val_loss: 0.2858 - val_accuracy: 0.9186\n",
            "Epoch 404/500\n",
            "11/11 [==============================] - 0s 5ms/step - loss: 0.1708 - accuracy: 0.9412 - val_loss: 0.2874 - val_accuracy: 0.9186\n",
            "Epoch 405/500\n",
            "11/11 [==============================] - 0s 7ms/step - loss: 0.1723 - accuracy: 0.9382 - val_loss: 0.2869 - val_accuracy: 0.9186\n",
            "Epoch 406/500\n",
            "11/11 [==============================] - 0s 5ms/step - loss: 0.1644 - accuracy: 0.9559 - val_loss: 0.2803 - val_accuracy: 0.9186\n",
            "Epoch 407/500\n",
            "11/11 [==============================] - 0s 7ms/step - loss: 0.1791 - accuracy: 0.9412 - val_loss: 0.2838 - val_accuracy: 0.9070\n",
            "Epoch 408/500\n",
            "11/11 [==============================] - 0s 6ms/step - loss: 0.1859 - accuracy: 0.9412 - val_loss: 0.2890 - val_accuracy: 0.9186\n",
            "Epoch 409/500\n",
            "11/11 [==============================] - 0s 5ms/step - loss: 0.1682 - accuracy: 0.9471 - val_loss: 0.2869 - val_accuracy: 0.9070\n",
            "Epoch 410/500\n",
            "11/11 [==============================] - 0s 5ms/step - loss: 0.1679 - accuracy: 0.9500 - val_loss: 0.2874 - val_accuracy: 0.9186\n",
            "Epoch 411/500\n",
            "11/11 [==============================] - 0s 6ms/step - loss: 0.1672 - accuracy: 0.9471 - val_loss: 0.2865 - val_accuracy: 0.9186\n",
            "Epoch 412/500\n",
            "11/11 [==============================] - 0s 6ms/step - loss: 0.1709 - accuracy: 0.9412 - val_loss: 0.2843 - val_accuracy: 0.9070\n",
            "Epoch 413/500\n",
            "11/11 [==============================] - 0s 8ms/step - loss: 0.1918 - accuracy: 0.9382 - val_loss: 0.2817 - val_accuracy: 0.9186\n",
            "Epoch 414/500\n",
            "11/11 [==============================] - 0s 5ms/step - loss: 0.2118 - accuracy: 0.9235 - val_loss: 0.2831 - val_accuracy: 0.9070\n",
            "Epoch 415/500\n",
            "11/11 [==============================] - 0s 6ms/step - loss: 0.2442 - accuracy: 0.9265 - val_loss: 0.2991 - val_accuracy: 0.9186\n",
            "Epoch 416/500\n",
            "11/11 [==============================] - 0s 8ms/step - loss: 0.2057 - accuracy: 0.9294 - val_loss: 0.2714 - val_accuracy: 0.8953\n",
            "Epoch 417/500\n",
            "11/11 [==============================] - 0s 7ms/step - loss: 0.2147 - accuracy: 0.9353 - val_loss: 0.3196 - val_accuracy: 0.9070\n",
            "Epoch 418/500\n",
            "11/11 [==============================] - 0s 5ms/step - loss: 0.2229 - accuracy: 0.9353 - val_loss: 0.2782 - val_accuracy: 0.9070\n",
            "Epoch 419/500\n",
            "11/11 [==============================] - 0s 5ms/step - loss: 0.1807 - accuracy: 0.9471 - val_loss: 0.2685 - val_accuracy: 0.9302\n",
            "Epoch 420/500\n",
            "11/11 [==============================] - 0s 6ms/step - loss: 0.1914 - accuracy: 0.9382 - val_loss: 0.2776 - val_accuracy: 0.9070\n",
            "Epoch 421/500\n",
            "11/11 [==============================] - 0s 6ms/step - loss: 0.1704 - accuracy: 0.9471 - val_loss: 0.2697 - val_accuracy: 0.9186\n",
            "Epoch 422/500\n",
            "11/11 [==============================] - 0s 7ms/step - loss: 0.1703 - accuracy: 0.9441 - val_loss: 0.2812 - val_accuracy: 0.9070\n",
            "Epoch 423/500\n",
            "11/11 [==============================] - 0s 5ms/step - loss: 0.1642 - accuracy: 0.9441 - val_loss: 0.2767 - val_accuracy: 0.9186\n",
            "Epoch 424/500\n",
            "11/11 [==============================] - 0s 6ms/step - loss: 0.1710 - accuracy: 0.9441 - val_loss: 0.2799 - val_accuracy: 0.9186\n",
            "Epoch 425/500\n",
            "11/11 [==============================] - 0s 5ms/step - loss: 0.1687 - accuracy: 0.9382 - val_loss: 0.2821 - val_accuracy: 0.9186\n",
            "Epoch 426/500\n",
            "11/11 [==============================] - 0s 5ms/step - loss: 0.1661 - accuracy: 0.9471 - val_loss: 0.2782 - val_accuracy: 0.9186\n",
            "Epoch 427/500\n",
            "11/11 [==============================] - 0s 5ms/step - loss: 0.1719 - accuracy: 0.9441 - val_loss: 0.2796 - val_accuracy: 0.9186\n",
            "Epoch 428/500\n",
            "11/11 [==============================] - 0s 7ms/step - loss: 0.1792 - accuracy: 0.9412 - val_loss: 0.2823 - val_accuracy: 0.9186\n",
            "Epoch 429/500\n",
            "11/11 [==============================] - 0s 6ms/step - loss: 0.1701 - accuracy: 0.9471 - val_loss: 0.2761 - val_accuracy: 0.9186\n",
            "Epoch 430/500\n",
            "11/11 [==============================] - 0s 7ms/step - loss: 0.1687 - accuracy: 0.9441 - val_loss: 0.2806 - val_accuracy: 0.9070\n",
            "Epoch 431/500\n",
            "11/11 [==============================] - 0s 5ms/step - loss: 0.1695 - accuracy: 0.9471 - val_loss: 0.2796 - val_accuracy: 0.9186\n",
            "Epoch 432/500\n",
            "11/11 [==============================] - 0s 6ms/step - loss: 0.1703 - accuracy: 0.9441 - val_loss: 0.2832 - val_accuracy: 0.9070\n",
            "Epoch 433/500\n",
            "11/11 [==============================] - 0s 6ms/step - loss: 0.1693 - accuracy: 0.9471 - val_loss: 0.2848 - val_accuracy: 0.9186\n",
            "Epoch 434/500\n",
            "11/11 [==============================] - 0s 5ms/step - loss: 0.1673 - accuracy: 0.9441 - val_loss: 0.2837 - val_accuracy: 0.9186\n",
            "Epoch 435/500\n",
            "11/11 [==============================] - 0s 7ms/step - loss: 0.1626 - accuracy: 0.9500 - val_loss: 0.2843 - val_accuracy: 0.9186\n",
            "Epoch 436/500\n",
            "11/11 [==============================] - 0s 6ms/step - loss: 0.1685 - accuracy: 0.9441 - val_loss: 0.2807 - val_accuracy: 0.9070\n",
            "Epoch 437/500\n",
            "11/11 [==============================] - 0s 5ms/step - loss: 0.1747 - accuracy: 0.9441 - val_loss: 0.2806 - val_accuracy: 0.9070\n",
            "Epoch 438/500\n",
            "11/11 [==============================] - 0s 7ms/step - loss: 0.1695 - accuracy: 0.9441 - val_loss: 0.2843 - val_accuracy: 0.9186\n",
            "Epoch 439/500\n",
            "11/11 [==============================] - 0s 6ms/step - loss: 0.1769 - accuracy: 0.9441 - val_loss: 0.2830 - val_accuracy: 0.9070\n",
            "Epoch 440/500\n",
            "11/11 [==============================] - 0s 7ms/step - loss: 0.1679 - accuracy: 0.9412 - val_loss: 0.2856 - val_accuracy: 0.9186\n",
            "Epoch 441/500\n",
            "11/11 [==============================] - 0s 5ms/step - loss: 0.1644 - accuracy: 0.9471 - val_loss: 0.2850 - val_accuracy: 0.9186\n",
            "Epoch 442/500\n",
            "11/11 [==============================] - 0s 6ms/step - loss: 0.1771 - accuracy: 0.9324 - val_loss: 0.2833 - val_accuracy: 0.9186\n",
            "Epoch 443/500\n",
            "11/11 [==============================] - 0s 5ms/step - loss: 0.1882 - accuracy: 0.9441 - val_loss: 0.2797 - val_accuracy: 0.9186\n",
            "Epoch 444/500\n",
            "11/11 [==============================] - 0s 8ms/step - loss: 0.1900 - accuracy: 0.9382 - val_loss: 0.2783 - val_accuracy: 0.9186\n",
            "Epoch 445/500\n",
            "11/11 [==============================] - 0s 5ms/step - loss: 0.2013 - accuracy: 0.9382 - val_loss: 0.2693 - val_accuracy: 0.9186\n",
            "Epoch 446/500\n",
            "11/11 [==============================] - 0s 5ms/step - loss: 0.1700 - accuracy: 0.9471 - val_loss: 0.2750 - val_accuracy: 0.9186\n",
            "Epoch 447/500\n",
            "11/11 [==============================] - 0s 5ms/step - loss: 0.1735 - accuracy: 0.9412 - val_loss: 0.2761 - val_accuracy: 0.9186\n",
            "Epoch 448/500\n",
            "11/11 [==============================] - 0s 7ms/step - loss: 0.1710 - accuracy: 0.9382 - val_loss: 0.2759 - val_accuracy: 0.9070\n",
            "Epoch 449/500\n",
            "11/11 [==============================] - 0s 7ms/step - loss: 0.1713 - accuracy: 0.9471 - val_loss: 0.2754 - val_accuracy: 0.9186\n",
            "Epoch 450/500\n",
            "11/11 [==============================] - 0s 6ms/step - loss: 0.1783 - accuracy: 0.9353 - val_loss: 0.2791 - val_accuracy: 0.9186\n",
            "Epoch 451/500\n",
            "11/11 [==============================] - 0s 8ms/step - loss: 0.1695 - accuracy: 0.9412 - val_loss: 0.2806 - val_accuracy: 0.9186\n",
            "Epoch 452/500\n",
            "11/11 [==============================] - 0s 5ms/step - loss: 0.1636 - accuracy: 0.9471 - val_loss: 0.2813 - val_accuracy: 0.9186\n",
            "Epoch 453/500\n",
            "11/11 [==============================] - 0s 6ms/step - loss: 0.1640 - accuracy: 0.9382 - val_loss: 0.2814 - val_accuracy: 0.9186\n",
            "Epoch 454/500\n",
            "11/11 [==============================] - 0s 5ms/step - loss: 0.1815 - accuracy: 0.9353 - val_loss: 0.2758 - val_accuracy: 0.9070\n",
            "Epoch 455/500\n",
            "11/11 [==============================] - 0s 7ms/step - loss: 0.1673 - accuracy: 0.9471 - val_loss: 0.2742 - val_accuracy: 0.9186\n",
            "Epoch 456/500\n",
            "11/11 [==============================] - 0s 7ms/step - loss: 0.1666 - accuracy: 0.9441 - val_loss: 0.2745 - val_accuracy: 0.9070\n",
            "Epoch 457/500\n",
            "11/11 [==============================] - 0s 5ms/step - loss: 0.1547 - accuracy: 0.9559 - val_loss: 0.2753 - val_accuracy: 0.9070\n",
            "Epoch 458/500\n",
            "11/11 [==============================] - 0s 6ms/step - loss: 0.1895 - accuracy: 0.9441 - val_loss: 0.2734 - val_accuracy: 0.9186\n",
            "Epoch 459/500\n",
            "11/11 [==============================] - 0s 5ms/step - loss: 0.1659 - accuracy: 0.9500 - val_loss: 0.2782 - val_accuracy: 0.9186\n",
            "Epoch 460/500\n",
            "11/11 [==============================] - 0s 6ms/step - loss: 0.1713 - accuracy: 0.9441 - val_loss: 0.2745 - val_accuracy: 0.9186\n",
            "Epoch 461/500\n",
            "11/11 [==============================] - 0s 8ms/step - loss: 0.1684 - accuracy: 0.9471 - val_loss: 0.2759 - val_accuracy: 0.9302\n",
            "Epoch 462/500\n",
            "11/11 [==============================] - 0s 5ms/step - loss: 0.2018 - accuracy: 0.9412 - val_loss: 0.2661 - val_accuracy: 0.9186\n",
            "Epoch 463/500\n",
            "11/11 [==============================] - 0s 6ms/step - loss: 0.2134 - accuracy: 0.9206 - val_loss: 0.2664 - val_accuracy: 0.9070\n",
            "Epoch 464/500\n",
            "11/11 [==============================] - 0s 5ms/step - loss: 0.1781 - accuracy: 0.9412 - val_loss: 0.2718 - val_accuracy: 0.9186\n",
            "Epoch 465/500\n",
            "11/11 [==============================] - 0s 8ms/step - loss: 0.1870 - accuracy: 0.9353 - val_loss: 0.2671 - val_accuracy: 0.9186\n",
            "Epoch 466/500\n",
            "11/11 [==============================] - 0s 5ms/step - loss: 0.1886 - accuracy: 0.9382 - val_loss: 0.2742 - val_accuracy: 0.9186\n",
            "Epoch 467/500\n",
            "11/11 [==============================] - 0s 6ms/step - loss: 0.1600 - accuracy: 0.9529 - val_loss: 0.2743 - val_accuracy: 0.9186\n",
            "Epoch 468/500\n",
            "11/11 [==============================] - 0s 6ms/step - loss: 0.1692 - accuracy: 0.9412 - val_loss: 0.2734 - val_accuracy: 0.9070\n",
            "Epoch 469/500\n",
            "11/11 [==============================] - 0s 7ms/step - loss: 0.1690 - accuracy: 0.9441 - val_loss: 0.2709 - val_accuracy: 0.9186\n",
            "Epoch 470/500\n",
            "11/11 [==============================] - 0s 7ms/step - loss: 0.1659 - accuracy: 0.9500 - val_loss: 0.2758 - val_accuracy: 0.9186\n",
            "Epoch 471/500\n",
            "11/11 [==============================] - 0s 6ms/step - loss: 0.1581 - accuracy: 0.9529 - val_loss: 0.2751 - val_accuracy: 0.9186\n",
            "Epoch 472/500\n",
            "11/11 [==============================] - 0s 6ms/step - loss: 0.1634 - accuracy: 0.9441 - val_loss: 0.2750 - val_accuracy: 0.9186\n",
            "Epoch 473/500\n",
            "11/11 [==============================] - 0s 5ms/step - loss: 0.1607 - accuracy: 0.9471 - val_loss: 0.2748 - val_accuracy: 0.9186\n",
            "Epoch 474/500\n",
            "11/11 [==============================] - 0s 5ms/step - loss: 0.1717 - accuracy: 0.9412 - val_loss: 0.2778 - val_accuracy: 0.9186\n",
            "Epoch 475/500\n",
            "11/11 [==============================] - 0s 5ms/step - loss: 0.1676 - accuracy: 0.9471 - val_loss: 0.2783 - val_accuracy: 0.9186\n",
            "Epoch 476/500\n",
            "11/11 [==============================] - 0s 7ms/step - loss: 0.1771 - accuracy: 0.9353 - val_loss: 0.2749 - val_accuracy: 0.9186\n",
            "Epoch 477/500\n",
            "11/11 [==============================] - 0s 8ms/step - loss: 0.1812 - accuracy: 0.9412 - val_loss: 0.2644 - val_accuracy: 0.9070\n",
            "Epoch 478/500\n",
            "11/11 [==============================] - 0s 5ms/step - loss: 0.1907 - accuracy: 0.9353 - val_loss: 0.2738 - val_accuracy: 0.9186\n",
            "Epoch 479/500\n",
            "11/11 [==============================] - 0s 5ms/step - loss: 0.1624 - accuracy: 0.9500 - val_loss: 0.2772 - val_accuracy: 0.9186\n",
            "Epoch 480/500\n",
            "11/11 [==============================] - 0s 5ms/step - loss: 0.1692 - accuracy: 0.9382 - val_loss: 0.2646 - val_accuracy: 0.9186\n",
            "Epoch 481/500\n",
            "11/11 [==============================] - 0s 7ms/step - loss: 0.1827 - accuracy: 0.9500 - val_loss: 0.2766 - val_accuracy: 0.9186\n",
            "Epoch 482/500\n",
            "11/11 [==============================] - 0s 6ms/step - loss: 0.1610 - accuracy: 0.9471 - val_loss: 0.2715 - val_accuracy: 0.9070\n",
            "Epoch 483/500\n",
            "11/11 [==============================] - 0s 5ms/step - loss: 0.1638 - accuracy: 0.9529 - val_loss: 0.2733 - val_accuracy: 0.9186\n",
            "Epoch 484/500\n",
            "11/11 [==============================] - 0s 5ms/step - loss: 0.1731 - accuracy: 0.9441 - val_loss: 0.2721 - val_accuracy: 0.9186\n",
            "Epoch 485/500\n",
            "11/11 [==============================] - 0s 7ms/step - loss: 0.1886 - accuracy: 0.9412 - val_loss: 0.2685 - val_accuracy: 0.9186\n",
            "Epoch 486/500\n",
            "11/11 [==============================] - 0s 5ms/step - loss: 0.1693 - accuracy: 0.9353 - val_loss: 0.2713 - val_accuracy: 0.9186\n",
            "Epoch 487/500\n",
            "11/11 [==============================] - 0s 5ms/step - loss: 0.1808 - accuracy: 0.9412 - val_loss: 0.2648 - val_accuracy: 0.9186\n",
            "Epoch 488/500\n",
            "11/11 [==============================] - 0s 5ms/step - loss: 0.1653 - accuracy: 0.9441 - val_loss: 0.2674 - val_accuracy: 0.9070\n",
            "Epoch 489/500\n",
            "11/11 [==============================] - 0s 5ms/step - loss: 0.1989 - accuracy: 0.9382 - val_loss: 0.2651 - val_accuracy: 0.9302\n",
            "Epoch 490/500\n",
            "11/11 [==============================] - 0s 5ms/step - loss: 0.1587 - accuracy: 0.9529 - val_loss: 0.2613 - val_accuracy: 0.9070\n",
            "Epoch 491/500\n",
            "11/11 [==============================] - 0s 6ms/step - loss: 0.1697 - accuracy: 0.9382 - val_loss: 0.2575 - val_accuracy: 0.9186\n",
            "Epoch 492/500\n",
            "11/11 [==============================] - 0s 7ms/step - loss: 0.1650 - accuracy: 0.9441 - val_loss: 0.2647 - val_accuracy: 0.9186\n",
            "Epoch 493/500\n",
            "11/11 [==============================] - 0s 5ms/step - loss: 0.1629 - accuracy: 0.9471 - val_loss: 0.2671 - val_accuracy: 0.9186\n",
            "Epoch 494/500\n",
            "11/11 [==============================] - 0s 5ms/step - loss: 0.1709 - accuracy: 0.9441 - val_loss: 0.2708 - val_accuracy: 0.9186\n",
            "Epoch 495/500\n",
            "11/11 [==============================] - 0s 8ms/step - loss: 0.1633 - accuracy: 0.9412 - val_loss: 0.2722 - val_accuracy: 0.9186\n",
            "Epoch 496/500\n",
            "11/11 [==============================] - 0s 7ms/step - loss: 0.1584 - accuracy: 0.9500 - val_loss: 0.2697 - val_accuracy: 0.9186\n",
            "Epoch 497/500\n",
            "11/11 [==============================] - 0s 5ms/step - loss: 0.1835 - accuracy: 0.9441 - val_loss: 0.2560 - val_accuracy: 0.9070\n",
            "Epoch 498/500\n",
            "11/11 [==============================] - 0s 6ms/step - loss: 0.1836 - accuracy: 0.9353 - val_loss: 0.2645 - val_accuracy: 0.9186\n",
            "Epoch 499/500\n",
            "11/11 [==============================] - 0s 5ms/step - loss: 0.1599 - accuracy: 0.9441 - val_loss: 0.2674 - val_accuracy: 0.9070\n",
            "Epoch 500/500\n",
            "11/11 [==============================] - 0s 5ms/step - loss: 0.1603 - accuracy: 0.9412 - val_loss: 0.2707 - val_accuracy: 0.9186\n"
          ]
        }
      ]
    },
    {
      "cell_type": "code",
      "source": [
        "import matplotlib.pyplot as plt"
      ],
      "metadata": {
        "id": "56JJVgElQDc_"
      },
      "execution_count": null,
      "outputs": []
    },
    {
      "cell_type": "code",
      "source": [
        "plt.figure(figsize=(15,5))\n",
        "plt.plot(range(1,501),\n",
        "         breast_history.history['loss'],  #훈련 데이터에 대한 그래프\n",
        "         label='loss')\n",
        "plt.plot(range(1,501),\n",
        "         breast_history.history['val_loss'], #검증 데이터에 대한 그래프\n",
        "         label='val_loss')\n",
        "plt.legend()\n",
        "plt.show()"
      ],
      "metadata": {
        "colab": {
          "base_uri": "https://localhost:8080/",
          "height": 320
        },
        "id": "LIJEQ4ctQDfc",
        "outputId": "36554b43-444a-4d56-8d4a-33f38c8e4e6a"
      },
      "execution_count": null,
      "outputs": [
        {
          "output_type": "display_data",
          "data": {
            "text/plain": [
              "<Figure size 1080x360 with 1 Axes>"
            ],
            "image/png": "[encoded data removed]"
          },
          "metadata": {
            "needs_background": "light"
          }
        }
      ]
    },
    {
      "cell_type": "code",
      "source": [
        "plt.figure(figsize=(15,5))\n",
        "plt.plot(range(1,501),\n",
        "         breast_history.history['accuracy'],label='accuracy') #훈련데이터 그래프\n",
        "plt.plot(range(1,501),\n",
        "         breast_history.history['val_accuracy'],label='val_accuracy')  #검증데이터 그래프\n",
        "plt.legend()\n",
        "plt.show()"
      ],
      "metadata": {
        "colab": {
          "base_uri": "https://localhost:8080/",
          "height": 320
        },
        "id": "rq_0yNn1QDh1",
        "outputId": "50787702-7a02-489e-d1a2-433e4bfbfe9a"
      },
      "execution_count": null,
      "outputs": [
        {
          "output_type": "display_data",
          "data": {
            "text/plain": [
              "<Figure size 1080x360 with 1 Axes>"
            ],
            "image/png": "[encoded data removed]"
          },
          "metadata": {
            "needs_background": "light"
          }
        }
      ]
    },
    {
      "cell_type": "code",
      "source": [
        "# 4. 모델평가\n",
        "model.evaluate(X_test,y_test)"
      ],
      "metadata": {
        "colab": {
          "base_uri": "https://localhost:8080/"
        },
        "id": "3iwq-tdjQDkN",
        "outputId": "54721c45-40f2-4c8f-dacd-c00e715edd0a"
      },
      "execution_count": null,
      "outputs": [
        {
          "output_type": "stream",
          "name": "stdout",
          "text": [
            "5/5 [==============================] - 0s 4ms/step - loss: 0.2213 - accuracy: 0.9301\n"
          ]
        },
        {
          "output_type": "execute_result",
          "data": {
            "text/plain": [
              "[0.22131121158599854, 0.9300699234008789]"
            ]
          },
          "metadata": {},
          "execution_count": 26
        }
      ]
    },
    {
      "cell_type": "code",
      "source": [
        "score=model.evaluate(X_test,y_test)"
      ],
      "metadata": {
        "colab": {
          "base_uri": "https://localhost:8080/"
        },
        "id": "Zmv-wbcWQDmu",
        "outputId": "eff157fb-864e-4551-b9f0-3764a592bc41"
      },
      "execution_count": null,
      "outputs": [
        {
          "output_type": "stream",
          "name": "stdout",
          "text": [
            "5/5 [==============================] - 0s 6ms/step - loss: 0.2213 - accuracy: 0.9301\n"
          ]
        }
      ]
    },
    {
      "cell_type": "code",
      "source": [
        "score[0]"
      ],
      "metadata": {
        "colab": {
          "base_uri": "https://localhost:8080/"
        },
        "id": "Dk2s38PlQDpC",
        "outputId": "44b6fc9f-d01d-40e4-90a2-b0e1297cc0e1"
      },
      "execution_count": null,
      "outputs": [
        {
          "output_type": "execute_result",
          "data": {
            "text/plain": [
              "0.22131121158599854"
            ]
          },
          "metadata": {},
          "execution_count": 28
        }
      ]
    },
    {
      "cell_type": "code",
      "source": [
        "score[1]"
      ],
      "metadata": {
        "colab": {
          "base_uri": "https://localhost:8080/"
        },
        "id": "DBwc2rblQDrX",
        "outputId": "8ae7d0a3-23df-4727-b094-a6e3a9563e1d"
      },
      "execution_count": null,
      "outputs": [
        {
          "output_type": "execute_result",
          "data": {
            "text/plain": [
              "0.9300699234008789"
            ]
          },
          "metadata": {},
          "execution_count": 29
        }
      ]
    },
    {
      "cell_type": "code",
      "source": [],
      "metadata": {
        "id": "_wDI_ET5QDtv"
      },
      "execution_count": null,
      "outputs": []
    },
    {
      "cell_type": "code",
      "source": [],
      "metadata": {
        "id": "1JwS8HlpQDwM"
      },
      "execution_count": null,
      "outputs": []
    },
    {
      "cell_type": "code",
      "source": [],
      "metadata": {
        "id": "2chCKSmyQDy5"
      },
      "execution_count": null,
      "outputs": []
    },
    {
      "cell_type": "code",
      "source": [],
      "metadata": {
        "id": "7jg4H1axQD1Q"
      },
      "execution_count": null,
      "outputs": []
    },
    {
      "cell_type": "code",
      "source": [],
      "metadata": {
        "id": "Nl2sCh7IQD3l"
      },
      "execution_count": null,
      "outputs": []
    },
    {
      "cell_type": "code",
      "source": [],
      "metadata": {
        "id": "UkZnWYPdQD5t"
      },
      "execution_count": null,
      "outputs": []
    },
    {
      "cell_type": "code",
      "source": [],
      "metadata": {
        "id": "dejX_P16QD8Q"
      },
      "execution_count": null,
      "outputs": []
    },
    {
      "cell_type": "code",
      "source": [],
      "metadata": {
        "id": "TbjK1pQbQD-6"
      },
      "execution_count": null,
      "outputs": []
    },
    {
      "cell_type": "code",
      "source": [],
      "metadata": {
        "id": "UlCHsYsgQEBS"
      },
      "execution_count": null,
      "outputs": []
    },
    {
      "cell_type": "code",
      "source": [],
      "metadata": {
        "id": "eJX4Nd6UQED2"
      },
      "execution_count": null,
      "outputs": []
    },
    {
      "cell_type": "code",
      "source": [],
      "metadata": {
        "id": "qhC5gkyQQEF-"
      },
      "execution_count": null,
      "outputs": []
    },
    {
      "cell_type": "code",
      "source": [],
      "metadata": {
        "id": "A8UPeCrAQEIR"
      },
      "execution_count": null,
      "outputs": []
    },
    {
      "cell_type": "code",
      "source": [],
      "metadata": {
        "id": "jz75iaRcQEKc"
      },
      "execution_count": null,
      "outputs": []
    },
    {
      "cell_type": "code",
      "source": [],
      "metadata": {
        "id": "n0rHQAQkQEMc"
      },
      "execution_count": null,
      "outputs": []
    },
    {
      "cell_type": "code",
      "source": [],
      "metadata": {
        "id": "JSkQ0ShMQEPC"
      },
      "execution_count": null,
      "outputs": []
    },
    {
      "cell_type": "code",
      "source": [],
      "metadata": {
        "id": "Ns1O03rUQERM"
      },
      "execution_count": null,
      "outputs": []
    },
    {
      "cell_type": "code",
      "source": [],
      "metadata": {
        "id": "BKDR4QEzQETl"
      },
      "execution_count": null,
      "outputs": []
    },
    {
      "cell_type": "code",
      "source": [],
      "metadata": {
        "id": "tAWSad1GQEV2"
      },
      "execution_count": null,
      "outputs": []
    },
    {
      "cell_type": "code",
      "source": [],
      "metadata": {
        "id": "Do-_0e9dQEYQ"
      },
      "execution_count": null,
      "outputs": []
    },
    {
      "cell_type": "code",
      "source": [],
      "metadata": {
        "id": "VTn2HbuiQEag"
      },
      "execution_count": null,
      "outputs": []
    }
  ]
}