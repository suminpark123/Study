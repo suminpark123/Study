{
  "nbformat": 4,
  "nbformat_minor": 0,
  "metadata": {
    "colab": {
      "provenance": []
    },
    "kernelspec": {
      "name": "python3",
      "display_name": "Python 3"
    },
    "language_info": {
      "name": "python"
    }
  },
  "cells": [
    {
      "cell_type": "code",
      "source": [],
      "metadata": {
        "id": "hYNxBSfH4oQt"
      },
      "execution_count": null,
      "outputs": []
    },
    {
      "cell_type": "code",
      "source": [
        "from google.colab import drive\n",
        "drive.mount('/content/drive')"
      ],
      "metadata": {
        "colab": {
          "base_uri": "https://localhost:8080/"
        },
        "id": "4bssaxXp_uhq",
        "outputId": "5d164a5a-db9e-4dc7-b3e6-8f72d3dd0e08"
      },
      "execution_count": null,
      "outputs": [
        {
          "output_type": "stream",
          "name": "stdout",
          "text": [
            "Drive already mounted at /content/drive; to attempt to forcibly remount, call drive.mount(\"/content/drive\", force_remount=True).\n"
          ]
        }
      ]
    },
    {
      "cell_type": "code",
      "execution_count": null,
      "metadata": {
        "colab": {
          "base_uri": "https://localhost:8080/"
        },
        "id": "2fWbU4te3eDA",
        "outputId": "ffe25dc4-bbd7-417c-f090-825c03cdb8af"
      },
      "outputs": [
        {
          "output_type": "stream",
          "name": "stdout",
          "text": [
            "drive  sample_data\n"
          ]
        }
      ],
      "source": [
        "!ls\n",
        "#현재 작업 폴더의 내부(폴더,파일) 살펴보기"
      ]
    },
    {
      "cell_type": "code",
      "source": [
        "!pwd\n",
        "#현재 작업 폴더 경로 확인"
      ],
      "metadata": {
        "colab": {
          "base_uri": "https://localhost:8080/"
        },
        "id": "T_QyGvD4Dut8",
        "outputId": "316e3b80-e079-4071-e3ba-e4bdf02f312d"
      },
      "execution_count": null,
      "outputs": [
        {
          "output_type": "stream",
          "name": "stdout",
          "text": [
            "/content\n"
          ]
        }
      ]
    },
    {
      "cell_type": "code",
      "source": [
        "%cd /content/drive/MyDrive/Colab Notebooks\n",
        "#작업 폴더 변경 (경로 이동)"
      ],
      "metadata": {
        "colab": {
          "base_uri": "https://localhost:8080/"
        },
        "id": "cLidBlfYDxFa",
        "outputId": "6388414b-b2f7-4d55-af63-93cfd4794b35"
      },
      "execution_count": null,
      "outputs": [
        {
          "output_type": "stream",
          "name": "stdout",
          "text": [
            "/content/drive/MyDrive/Colab Notebooks\n"
          ]
        }
      ]
    },
    {
      "cell_type": "code",
      "source": [
        "!ls"
      ],
      "metadata": {
        "colab": {
          "base_uri": "https://localhost:8080/"
        },
        "id": "youuorzhFIpJ",
        "outputId": "44f9db81-439a-4f70-8204-54c328f01e90"
      },
      "execution_count": null,
      "outputs": [
        {
          "output_type": "stream",
          "name": "stdout",
          "text": [
            "data  ex01_Keras맛보기.ipynb\n"
          ]
        }
      ]
    },
    {
      "cell_type": "code",
      "source": [
        "!pwd"
      ],
      "metadata": {
        "colab": {
          "base_uri": "https://localhost:8080/"
        },
        "id": "521T8GreFKgq",
        "outputId": "1c9d010c-aa26-4ea6-e2d7-7e2c8fecab78"
      },
      "execution_count": null,
      "outputs": [
        {
          "output_type": "stream",
          "name": "stdout",
          "text": [
            "/content/drive/MyDrive/Colab Notebooks\n"
          ]
        }
      ]
    },
    {
      "cell_type": "markdown",
      "source": [
        "# 목표\n",
        "- 학생 성적 데이터를 인공신경망 모델로\n",
        "학습 시켜보자\n",
        "- keras 활용법 숙지(colab환경에 익숙해지기)\n"
      ],
      "metadata": {
        "id": "QZGJKXkyFW5L"
      }
    },
    {
      "cell_type": "code",
      "source": [],
      "metadata": {
        "id": "Lh70MCbKFNja"
      },
      "execution_count": null,
      "outputs": []
    },
    {
      "cell_type": "markdown",
      "source": [
        "# 데이터로딩"
      ],
      "metadata": {
        "id": "gyh4L5_VGTQk"
      }
    },
    {
      "cell_type": "code",
      "source": [
        "import pandas as pd"
      ],
      "metadata": {
        "id": "KYNlOaNmGUc7"
      },
      "execution_count": null,
      "outputs": []
    },
    {
      "cell_type": "code",
      "source": [
        "studentData=pd.read_csv('data/student-mat.csv',delimiter=';')"
      ],
      "metadata": {
        "id": "QkOCObKsGbIS"
      },
      "execution_count": null,
      "outputs": []
    },
    {
      "cell_type": "code",
      "source": [
        "studentData.head()"
      ],
      "metadata": {
        "colab": {
          "base_uri": "https://localhost:8080/",
          "height": 299
        },
        "id": "xA6t_cN4Gm06",
        "outputId": "9ac7b92a-1661-4f0e-df61-0f969ed01ea8"
      },
      "execution_count": null,
      "outputs": [
        {
          "output_type": "execute_result",
          "data": {
            "text/plain": [
              "  school sex  age address famsize Pstatus  Medu  Fedu     Mjob      Fjob  ...  \\\n",
              "0     GP   F   18       U     GT3       A     4     4  at_home   teacher  ...   \n",
              "1     GP   F   17       U     GT3       T     1     1  at_home     other  ...   \n",
              "2     GP   F   15       U     LE3       T     1     1  at_home     other  ...   \n",
              "3     GP   F   15       U     GT3       T     4     2   health  services  ...   \n",
              "4     GP   F   16       U     GT3       T     3     3    other     other  ...   \n",
              "\n",
              "  famrel freetime  goout  Dalc  Walc health absences  G1  G2  G3  \n",
              "0      4        3      4     1     1      3        6   5   6   6  \n",
              "1      5        3      3     1     1      3        4   5   5   6  \n",
              "2      4        3      2     2     3      3       10   7   8  10  \n",
              "3      3        2      2     1     1      5        2  15  14  15  \n",
              "4      4        3      2     1     2      5        4   6  10  10  \n",
              "\n",
              "[5 rows x 33 columns]"
            ],
            "text/html": [
              "\n",
              "  <div id=\"df-39422ee0-97b9-4680-a227-b74caa2caf07\">\n",
              "    <div class=\"colab-df-container\">\n",
              "      <div>\n",
              "<style scoped>\n",
              "    .dataframe tbody tr th:only-of-type {\n",
              "        vertical-align: middle;\n",
              "    }\n",
              "\n",
              "    .dataframe tbody tr th {\n",
              "        vertical-align: top;\n",
              "    }\n",
              "\n",
              "    .dataframe thead th {\n",
              "        text-align: right;\n",
              "    }\n",
              "</style>\n",
              "<table border=\"1\" class=\"dataframe\">\n",
              "  <thead>\n",
              "    <tr style=\"text-align: right;\">\n",
              "      <th></th>\n",
              "      <th>school</th>\n",
              "      <th>sex</th>\n",
              "      <th>age</th>\n",
              "      <th>address</th>\n",
              "      <th>famsize</th>\n",
              "      <th>Pstatus</th>\n",
              "      <th>Medu</th>\n",
              "      <th>Fedu</th>\n",
              "      <th>Mjob</th>\n",
              "      <th>Fjob</th>\n",
              "      <th>...</th>\n",
              "      <th>famrel</th>\n",
              "      <th>freetime</th>\n",
              "      <th>goout</th>\n",
              "      <th>Dalc</th>\n",
              "      <th>Walc</th>\n",
              "      <th>health</th>\n",
              "      <th>absences</th>\n",
              "      <th>G1</th>\n",
              "      <th>G2</th>\n",
              "      <th>G3</th>\n",
              "    </tr>\n",
              "  </thead>\n",
              "  <tbody>\n",
              "    <tr>\n",
              "      <th>0</th>\n",
              "      <td>GP</td>\n",
              "      <td>F</td>\n",
              "      <td>18</td>\n",
              "      <td>U</td>\n",
              "      <td>GT3</td>\n",
              "      <td>A</td>\n",
              "      <td>4</td>\n",
              "      <td>4</td>\n",
              "      <td>at_home</td>\n",
              "      <td>teacher</td>\n",
              "      <td>...</td>\n",
              "      <td>4</td>\n",
              "      <td>3</td>\n",
              "      <td>4</td>\n",
              "      <td>1</td>\n",
              "      <td>1</td>\n",
              "      <td>3</td>\n",
              "      <td>6</td>\n",
              "      <td>5</td>\n",
              "      <td>6</td>\n",
              "      <td>6</td>\n",
              "    </tr>\n",
              "    <tr>\n",
              "      <th>1</th>\n",
              "      <td>GP</td>\n",
              "      <td>F</td>\n",
              "      <td>17</td>\n",
              "      <td>U</td>\n",
              "      <td>GT3</td>\n",
              "      <td>T</td>\n",
              "      <td>1</td>\n",
              "      <td>1</td>\n",
              "      <td>at_home</td>\n",
              "      <td>other</td>\n",
              "      <td>...</td>\n",
              "      <td>5</td>\n",
              "      <td>3</td>\n",
              "      <td>3</td>\n",
              "      <td>1</td>\n",
              "      <td>1</td>\n",
              "      <td>3</td>\n",
              "      <td>4</td>\n",
              "      <td>5</td>\n",
              "      <td>5</td>\n",
              "      <td>6</td>\n",
              "    </tr>\n",
              "    <tr>\n",
              "      <th>2</th>\n",
              "      <td>GP</td>\n",
              "      <td>F</td>\n",
              "      <td>15</td>\n",
              "      <td>U</td>\n",
              "      <td>LE3</td>\n",
              "      <td>T</td>\n",
              "      <td>1</td>\n",
              "      <td>1</td>\n",
              "      <td>at_home</td>\n",
              "      <td>other</td>\n",
              "      <td>...</td>\n",
              "      <td>4</td>\n",
              "      <td>3</td>\n",
              "      <td>2</td>\n",
              "      <td>2</td>\n",
              "      <td>3</td>\n",
              "      <td>3</td>\n",
              "      <td>10</td>\n",
              "      <td>7</td>\n",
              "      <td>8</td>\n",
              "      <td>10</td>\n",
              "    </tr>\n",
              "    <tr>\n",
              "      <th>3</th>\n",
              "      <td>GP</td>\n",
              "      <td>F</td>\n",
              "      <td>15</td>\n",
              "      <td>U</td>\n",
              "      <td>GT3</td>\n",
              "      <td>T</td>\n",
              "      <td>4</td>\n",
              "      <td>2</td>\n",
              "      <td>health</td>\n",
              "      <td>services</td>\n",
              "      <td>...</td>\n",
              "      <td>3</td>\n",
              "      <td>2</td>\n",
              "      <td>2</td>\n",
              "      <td>1</td>\n",
              "      <td>1</td>\n",
              "      <td>5</td>\n",
              "      <td>2</td>\n",
              "      <td>15</td>\n",
              "      <td>14</td>\n",
              "      <td>15</td>\n",
              "    </tr>\n",
              "    <tr>\n",
              "      <th>4</th>\n",
              "      <td>GP</td>\n",
              "      <td>F</td>\n",
              "      <td>16</td>\n",
              "      <td>U</td>\n",
              "      <td>GT3</td>\n",
              "      <td>T</td>\n",
              "      <td>3</td>\n",
              "      <td>3</td>\n",
              "      <td>other</td>\n",
              "      <td>other</td>\n",
              "      <td>...</td>\n",
              "      <td>4</td>\n",
              "      <td>3</td>\n",
              "      <td>2</td>\n",
              "      <td>1</td>\n",
              "      <td>2</td>\n",
              "      <td>5</td>\n",
              "      <td>4</td>\n",
              "      <td>6</td>\n",
              "      <td>10</td>\n",
              "      <td>10</td>\n",
              "    </tr>\n",
              "  </tbody>\n",
              "</table>\n",
              "<p>5 rows × 33 columns</p>\n",
              "</div>\n",
              "      <button class=\"colab-df-convert\" onclick=\"convertToInteractive('df-39422ee0-97b9-4680-a227-b74caa2caf07')\"\n",
              "              title=\"Convert this dataframe to an interactive table.\"\n",
              "              style=\"display:none;\">\n",
              "        \n",
              "  <svg xmlns=\"http://www.w3.org/2000/svg\" height=\"24px\"viewBox=\"0 0 24 24\"\n",
              "       width=\"24px\">\n",
              "    <path d=\"M0 0h24v24H0V0z\" fill=\"none\"/>\n",
              "    <path d=\"M18.56 5.44l.94 2.06.94-2.06 2.06-.94-2.06-.94-.94-2.06-.94 2.06-2.06.94zm-11 1L8.5 8.5l.94-2.06 2.06-.94-2.06-.94L8.5 2.5l-.94 2.06-2.06.94zm10 10l.94 2.06.94-2.06 2.06-.94-2.06-.94-.94-2.06-.94 2.06-2.06.94z\"/><path d=\"M17.41 7.96l-1.37-1.37c-.4-.4-.92-.59-1.43-.59-.52 0-1.04.2-1.43.59L10.3 9.45l-7.72 7.72c-.78.78-.78 2.05 0 2.83L4 21.41c.39.39.9.59 1.41.59.51 0 1.02-.2 1.41-.59l7.78-7.78 2.81-2.81c.8-.78.8-2.07 0-2.86zM5.41 20L4 18.59l7.72-7.72 1.47 1.35L5.41 20z\"/>\n",
              "  </svg>\n",
              "      </button>\n",
              "      \n",
              "  <style>\n",
              "    .colab-df-container {\n",
              "      display:flex;\n",
              "      flex-wrap:wrap;\n",
              "      gap: 12px;\n",
              "    }\n",
              "\n",
              "    .colab-df-convert {\n",
              "      background-color: #E8F0FE;\n",
              "      border: none;\n",
              "      border-radius: 50%;\n",
              "      cursor: pointer;\n",
              "      display: none;\n",
              "      fill: #1967D2;\n",
              "      height: 32px;\n",
              "      padding: 0 0 0 0;\n",
              "      width: 32px;\n",
              "    }\n",
              "\n",
              "    .colab-df-convert:hover {\n",
              "      background-color: #E2EBFA;\n",
              "      box-shadow: 0px 1px 2px rgba(60, 64, 67, 0.3), 0px 1px 3px 1px rgba(60, 64, 67, 0.15);\n",
              "      fill: #174EA6;\n",
              "    }\n",
              "\n",
              "    [theme=dark] .colab-df-convert {\n",
              "      background-color: #3B4455;\n",
              "      fill: #D2E3FC;\n",
              "    }\n",
              "\n",
              "    [theme=dark] .colab-df-convert:hover {\n",
              "      background-color: #434B5C;\n",
              "      box-shadow: 0px 1px 3px 1px rgba(0, 0, 0, 0.15);\n",
              "      filter: drop-shadow(0px 1px 2px rgba(0, 0, 0, 0.3));\n",
              "      fill: #FFFFFF;\n",
              "    }\n",
              "  </style>\n",
              "\n",
              "      <script>\n",
              "        const buttonEl =\n",
              "          document.querySelector('#df-39422ee0-97b9-4680-a227-b74caa2caf07 button.colab-df-convert');\n",
              "        buttonEl.style.display =\n",
              "          google.colab.kernel.accessAllowed ? 'block' : 'none';\n",
              "\n",
              "        async function convertToInteractive(key) {\n",
              "          const element = document.querySelector('#df-39422ee0-97b9-4680-a227-b74caa2caf07');\n",
              "          const dataTable =\n",
              "            await google.colab.kernel.invokeFunction('convertToInteractive',\n",
              "                                                     [key], {});\n",
              "          if (!dataTable) return;\n",
              "\n",
              "          const docLinkHtml = 'Like what you see? Visit the ' +\n",
              "            '<a target=\"_blank\" href=https://colab.research.google.com/notebooks/data_table.ipynb>data table notebook</a>'\n",
              "            + ' to learn more about interactive tables.';\n",
              "          element.innerHTML = '';\n",
              "          dataTable['output_type'] = 'display_data';\n",
              "          await google.colab.output.renderOutput(dataTable, element);\n",
              "          const docLink = document.createElement('div');\n",
              "          docLink.innerHTML = docLinkHtml;\n",
              "          element.appendChild(docLink);\n",
              "        }\n",
              "      </script>\n",
              "    </div>\n",
              "  </div>\n",
              "  "
            ]
          },
          "metadata": {},
          "execution_count": 9
        }
      ]
    },
    {
      "cell_type": "markdown",
      "source": [
        "### 문제와 답 분리"
      ],
      "metadata": {
        "id": "B5ppIz8Q61Au"
      }
    },
    {
      "cell_type": "code",
      "source": [
        "# studytime,G3\n",
        "# 시간성적 학습\n",
        "X = studentData['studytime']\n",
        "y = studentData['G3']\n",
        "X"
      ],
      "metadata": {
        "colab": {
          "base_uri": "https://localhost:8080/"
        },
        "id": "QmQcz2KRHYvJ",
        "outputId": "aa23e35f-53a7-4eac-f89f-772dc57ce7bc"
      },
      "execution_count": null,
      "outputs": [
        {
          "output_type": "execute_result",
          "data": {
            "text/plain": [
              "0      2\n",
              "1      2\n",
              "2      2\n",
              "3      3\n",
              "4      2\n",
              "      ..\n",
              "390    2\n",
              "391    1\n",
              "392    1\n",
              "393    1\n",
              "394    1\n",
              "Name: studytime, Length: 395, dtype: int64"
            ]
          },
          "metadata": {},
          "execution_count": 10
        }
      ]
    },
    {
      "cell_type": "code",
      "source": [
        "y"
      ],
      "metadata": {
        "colab": {
          "base_uri": "https://localhost:8080/"
        },
        "id": "5XUoLq4Z48PV",
        "outputId": "69c0a929-3ff3-4e9a-cb14-115abedd3390"
      },
      "execution_count": null,
      "outputs": [
        {
          "output_type": "execute_result",
          "data": {
            "text/plain": [
              "0       6\n",
              "1       6\n",
              "2      10\n",
              "3      15\n",
              "4      10\n",
              "       ..\n",
              "390     9\n",
              "391    16\n",
              "392     7\n",
              "393    10\n",
              "394     9\n",
              "Name: G3, Length: 395, dtype: int64"
            ]
          },
          "metadata": {},
          "execution_count": 11
        }
      ]
    },
    {
      "cell_type": "code",
      "source": [
        "from sklearn.model_selection import train_test_split"
      ],
      "metadata": {
        "id": "ipP0UAxB49Mc"
      },
      "execution_count": null,
      "outputs": []
    },
    {
      "cell_type": "code",
      "source": [
        "X_train,X_test,y_train,y_test=train_test_split(X,y,random_state=0)"
      ],
      "metadata": {
        "id": "0-c7n_nU7Wde"
      },
      "execution_count": null,
      "outputs": []
    },
    {
      "cell_type": "code",
      "source": [
        "X_train.shape, y_train"
      ],
      "metadata": {
        "colab": {
          "base_uri": "https://localhost:8080/"
        },
        "id": "LRKoqZs97Xxb",
        "outputId": "ad9f523b-2770-4836-b89f-456ba0b9443a"
      },
      "execution_count": null,
      "outputs": [
        {
          "output_type": "execute_result",
          "data": {
            "text/plain": [
              "((296,), 81     11\n",
              " 344    10\n",
              " 336    13\n",
              " 124     8\n",
              " 250     8\n",
              "        ..\n",
              " 323    15\n",
              " 192     8\n",
              " 117    13\n",
              " 47     20\n",
              " 172    10\n",
              " Name: G3, Length: 296, dtype: int64)"
            ]
          },
          "metadata": {},
          "execution_count": 14
        }
      ]
    },
    {
      "cell_type": "code",
      "source": [
        "X_test,y_test"
      ],
      "metadata": {
        "colab": {
          "base_uri": "https://localhost:8080/"
        },
        "id": "XF1KsV8V7X8b",
        "outputId": "487415f0-d786-45b5-873a-0ee923c96830"
      },
      "execution_count": null,
      "outputs": [
        {
          "output_type": "execute_result",
          "data": {
            "text/plain": [
              "(329    3\n",
              " 318    3\n",
              " 317    3\n",
              " 65     2\n",
              " 59     2\n",
              "       ..\n",
              " 239    2\n",
              " 63     3\n",
              " 245    1\n",
              " 154    1\n",
              " 311    2\n",
              " Name: studytime, Length: 99, dtype: int64, 329    14\n",
              " 318    10\n",
              " 317     9\n",
              " 65     15\n",
              " 59     16\n",
              "        ..\n",
              " 239     0\n",
              " 63      9\n",
              " 245    18\n",
              " 154    12\n",
              " 311    13\n",
              " Name: G3, Length: 99, dtype: int64)"
            ]
          },
          "metadata": {},
          "execution_count": 15
        }
      ]
    },
    {
      "cell_type": "markdown",
      "source": [
        "### 신경망 모델 만들기\n",
        "1. 신경망 구조 설계\n",
        "2. 신경망 모델 학습(loss,optimizer)/평가(metrics)방법 설정\n",
        "3. 학습 및 학습과정 시각화\n",
        "4. 모델 평가"
      ],
      "metadata": {
        "id": "Iy6SrERg8PzB"
      }
    },
    {
      "cell_type": "code",
      "source": [
        "from tensorflow.keras import Sequential\n",
        "from tensorflow.keras.layers import InputLayer,Dense\n",
        "#Dense - 뉴런(선형모델)을 넣어주는 층"
      ],
      "metadata": {
        "id": "bHmT9kcF8DHM"
      },
      "execution_count": null,
      "outputs": []
    },
    {
      "cell_type": "code",
      "source": [
        "# 1.신경망 구조 설계\n",
        "model=Sequential() #딥러닝 모델을 구성하는 뼈대\n",
        "# InputLayer에는 데이터의 크기(특성 수)를 알려줘야한다.\n",
        "model.add(InputLayer(input_shape=(1,))) #입력층 설정 ##우리가 학습시키는 문제 데이터의 특성은 'studytime'하나이다\n",
        "model.add(Dense(units=9)) #뉴런층\n",
        "#층 추가하기 유닛수 달라도댐 \n",
        "model.add(Dense(units=9))\n",
        "model.add(Dense(units=9))\n",
        "model.add(Dense(units=1)) #출력층 유닛은 1"
      ],
      "metadata": {
        "id": "fFtH2Tk9CfiZ"
      },
      "execution_count": null,
      "outputs": []
    },
    {
      "cell_type": "code",
      "source": [
        "# 2. 신경망 모델 학습(loss,optimizer)/평가(metrics)방법 설정\n",
        "model.compile(loss='mean_squared_error',\n",
        "              optimizer='SGD')"
      ],
      "metadata": {
        "id": "-Qfy97ZpCfpS"
      },
      "execution_count": null,
      "outputs": []
    },
    {
      "cell_type": "code",
      "source": [
        "# 3. 학습 및 학습 과정 시각화 \n",
        "studentHistory=model.fit(X_train,y_train,epochs=100) #epochs 학습횟수\n"
      ],
      "metadata": {
        "colab": {
          "base_uri": "https://localhost:8080/"
        },
        "id": "iA2TB_DhEKjk",
        "outputId": "bc415ef1-9931-4330-e362-f411a83e4e9d"
      },
      "execution_count": null,
      "outputs": [
        {
          "output_type": "stream",
          "name": "stdout",
          "text": [
            "Epoch 1/100\n",
            "10/10 [==============================] - 1s 2ms/step - loss: 74.6240\n",
            "Epoch 2/100\n",
            "10/10 [==============================] - 0s 2ms/step - loss: 38.3326\n",
            "Epoch 3/100\n",
            "10/10 [==============================] - 0s 2ms/step - loss: 27.3188\n",
            "Epoch 4/100\n",
            "10/10 [==============================] - 0s 2ms/step - loss: 20.4965\n",
            "Epoch 5/100\n",
            "10/10 [==============================] - 0s 2ms/step - loss: 21.8608\n",
            "Epoch 6/100\n",
            "10/10 [==============================] - 0s 2ms/step - loss: 18.6428\n",
            "Epoch 7/100\n",
            "10/10 [==============================] - 0s 2ms/step - loss: 20.3767\n",
            "Epoch 8/100\n",
            "10/10 [==============================] - 0s 2ms/step - loss: 19.1201\n",
            "Epoch 9/100\n",
            "10/10 [==============================] - 0s 2ms/step - loss: 18.1502\n",
            "Epoch 10/100\n",
            "10/10 [==============================] - 0s 2ms/step - loss: 19.8483\n",
            "Epoch 11/100\n",
            "10/10 [==============================] - 0s 2ms/step - loss: 19.8648\n",
            "Epoch 12/100\n",
            "10/10 [==============================] - 0s 2ms/step - loss: 18.4682\n",
            "Epoch 13/100\n",
            "10/10 [==============================] - 0s 2ms/step - loss: 18.9589\n",
            "Epoch 14/100\n",
            "10/10 [==============================] - 0s 2ms/step - loss: 20.2466\n",
            "Epoch 15/100\n",
            "10/10 [==============================] - 0s 2ms/step - loss: 18.3834\n",
            "Epoch 16/100\n",
            "10/10 [==============================] - 0s 2ms/step - loss: 19.4871\n",
            "Epoch 17/100\n",
            "10/10 [==============================] - 0s 2ms/step - loss: 19.1331\n",
            "Epoch 18/100\n",
            "10/10 [==============================] - 0s 2ms/step - loss: 19.2344\n",
            "Epoch 19/100\n",
            "10/10 [==============================] - 0s 2ms/step - loss: 18.6935\n",
            "Epoch 20/100\n",
            "10/10 [==============================] - 0s 2ms/step - loss: 18.5196\n",
            "Epoch 21/100\n",
            "10/10 [==============================] - 0s 2ms/step - loss: 18.6484\n",
            "Epoch 22/100\n",
            "10/10 [==============================] - 0s 2ms/step - loss: 19.0863\n",
            "Epoch 23/100\n",
            "10/10 [==============================] - 0s 2ms/step - loss: 19.4895\n",
            "Epoch 24/100\n",
            "10/10 [==============================] - 0s 2ms/step - loss: 18.5842\n",
            "Epoch 25/100\n",
            "10/10 [==============================] - 0s 2ms/step - loss: 17.8769\n",
            "Epoch 26/100\n",
            "10/10 [==============================] - 0s 2ms/step - loss: 18.8035\n",
            "Epoch 27/100\n",
            "10/10 [==============================] - 0s 2ms/step - loss: 18.9100\n",
            "Epoch 28/100\n",
            "10/10 [==============================] - 0s 2ms/step - loss: 18.5200\n",
            "Epoch 29/100\n",
            "10/10 [==============================] - 0s 2ms/step - loss: 18.0407\n",
            "Epoch 30/100\n",
            "10/10 [==============================] - 0s 2ms/step - loss: 18.6037\n",
            "Epoch 31/100\n",
            "10/10 [==============================] - 0s 2ms/step - loss: 18.7131\n",
            "Epoch 32/100\n",
            "10/10 [==============================] - 0s 2ms/step - loss: 18.6973\n",
            "Epoch 33/100\n",
            "10/10 [==============================] - 0s 2ms/step - loss: 19.1280\n",
            "Epoch 34/100\n",
            "10/10 [==============================] - 0s 2ms/step - loss: 18.6750\n",
            "Epoch 35/100\n",
            "10/10 [==============================] - 0s 3ms/step - loss: 19.1267\n",
            "Epoch 36/100\n",
            "10/10 [==============================] - 0s 3ms/step - loss: 18.2360\n",
            "Epoch 37/100\n",
            "10/10 [==============================] - 0s 2ms/step - loss: 18.7468\n",
            "Epoch 38/100\n",
            "10/10 [==============================] - 0s 3ms/step - loss: 18.3291\n",
            "Epoch 39/100\n",
            "10/10 [==============================] - 0s 2ms/step - loss: 18.8338\n",
            "Epoch 40/100\n",
            "10/10 [==============================] - 0s 2ms/step - loss: 18.2279\n",
            "Epoch 41/100\n",
            "10/10 [==============================] - 0s 2ms/step - loss: 18.8690\n",
            "Epoch 42/100\n",
            "10/10 [==============================] - 0s 2ms/step - loss: 18.4250\n",
            "Epoch 43/100\n",
            "10/10 [==============================] - 0s 2ms/step - loss: 18.5696\n",
            "Epoch 44/100\n",
            "10/10 [==============================] - 0s 2ms/step - loss: 18.7993\n",
            "Epoch 45/100\n",
            "10/10 [==============================] - 0s 2ms/step - loss: 18.8489\n",
            "Epoch 46/100\n",
            "10/10 [==============================] - 0s 2ms/step - loss: 18.3314\n",
            "Epoch 47/100\n",
            "10/10 [==============================] - 0s 2ms/step - loss: 19.0060\n",
            "Epoch 48/100\n",
            "10/10 [==============================] - 0s 3ms/step - loss: 18.0837\n",
            "Epoch 49/100\n",
            "10/10 [==============================] - 0s 2ms/step - loss: 18.2127\n",
            "Epoch 50/100\n",
            "10/10 [==============================] - 0s 2ms/step - loss: 18.1817\n",
            "Epoch 51/100\n",
            "10/10 [==============================] - 0s 2ms/step - loss: 18.4162\n",
            "Epoch 52/100\n",
            "10/10 [==============================] - 0s 2ms/step - loss: 19.0474\n",
            "Epoch 53/100\n",
            "10/10 [==============================] - 0s 2ms/step - loss: 18.0161\n",
            "Epoch 54/100\n",
            "10/10 [==============================] - 0s 2ms/step - loss: 18.7884\n",
            "Epoch 55/100\n",
            "10/10 [==============================] - 0s 2ms/step - loss: 18.1415\n",
            "Epoch 56/100\n",
            "10/10 [==============================] - 0s 3ms/step - loss: 18.0706\n",
            "Epoch 57/100\n",
            "10/10 [==============================] - 0s 2ms/step - loss: 18.5586\n",
            "Epoch 58/100\n",
            "10/10 [==============================] - 0s 2ms/step - loss: 18.4673\n",
            "Epoch 59/100\n",
            "10/10 [==============================] - 0s 2ms/step - loss: 18.6537\n",
            "Epoch 60/100\n",
            "10/10 [==============================] - 0s 2ms/step - loss: 18.5234\n",
            "Epoch 61/100\n",
            "10/10 [==============================] - 0s 2ms/step - loss: 17.8485\n",
            "Epoch 62/100\n",
            "10/10 [==============================] - 0s 2ms/step - loss: 18.7804\n",
            "Epoch 63/100\n",
            "10/10 [==============================] - 0s 2ms/step - loss: 18.2209\n",
            "Epoch 64/100\n",
            "10/10 [==============================] - 0s 2ms/step - loss: 18.6853\n",
            "Epoch 65/100\n",
            "10/10 [==============================] - 0s 2ms/step - loss: 18.3608\n",
            "Epoch 66/100\n",
            "10/10 [==============================] - 0s 2ms/step - loss: 18.7370\n",
            "Epoch 67/100\n",
            "10/10 [==============================] - 0s 2ms/step - loss: 18.8223\n",
            "Epoch 68/100\n",
            "10/10 [==============================] - 0s 2ms/step - loss: 18.2945\n",
            "Epoch 69/100\n",
            "10/10 [==============================] - 0s 2ms/step - loss: 18.3377\n",
            "Epoch 70/100\n",
            "10/10 [==============================] - 0s 2ms/step - loss: 18.9197\n",
            "Epoch 71/100\n",
            "10/10 [==============================] - 0s 2ms/step - loss: 18.1108\n",
            "Epoch 72/100\n",
            "10/10 [==============================] - 0s 2ms/step - loss: 18.1663\n",
            "Epoch 73/100\n",
            "10/10 [==============================] - 0s 2ms/step - loss: 18.2780\n",
            "Epoch 74/100\n",
            "10/10 [==============================] - 0s 2ms/step - loss: 18.3883\n",
            "Epoch 75/100\n",
            "10/10 [==============================] - 0s 3ms/step - loss: 18.2316\n",
            "Epoch 76/100\n",
            "10/10 [==============================] - 0s 2ms/step - loss: 18.3385\n",
            "Epoch 77/100\n",
            "10/10 [==============================] - 0s 2ms/step - loss: 18.2225\n",
            "Epoch 78/100\n",
            "10/10 [==============================] - 0s 2ms/step - loss: 18.2399\n",
            "Epoch 79/100\n",
            "10/10 [==============================] - 0s 2ms/step - loss: 18.3391\n",
            "Epoch 80/100\n",
            "10/10 [==============================] - 0s 2ms/step - loss: 18.8818\n",
            "Epoch 81/100\n",
            "10/10 [==============================] - 0s 2ms/step - loss: 17.9664\n",
            "Epoch 82/100\n",
            "10/10 [==============================] - 0s 2ms/step - loss: 18.5100\n",
            "Epoch 83/100\n",
            "10/10 [==============================] - 0s 2ms/step - loss: 18.3579\n",
            "Epoch 84/100\n",
            "10/10 [==============================] - 0s 2ms/step - loss: 18.1947\n",
            "Epoch 85/100\n",
            "10/10 [==============================] - 0s 2ms/step - loss: 19.2491\n",
            "Epoch 86/100\n",
            "10/10 [==============================] - 0s 2ms/step - loss: 17.9520\n",
            "Epoch 87/100\n",
            "10/10 [==============================] - 0s 2ms/step - loss: 18.4626\n",
            "Epoch 88/100\n",
            "10/10 [==============================] - 0s 2ms/step - loss: 18.2109\n",
            "Epoch 89/100\n",
            "10/10 [==============================] - 0s 2ms/step - loss: 18.5928\n",
            "Epoch 90/100\n",
            "10/10 [==============================] - 0s 2ms/step - loss: 18.3059\n",
            "Epoch 91/100\n",
            "10/10 [==============================] - 0s 2ms/step - loss: 18.0509\n",
            "Epoch 92/100\n",
            "10/10 [==============================] - 0s 2ms/step - loss: 18.2261\n",
            "Epoch 93/100\n",
            "10/10 [==============================] - 0s 2ms/step - loss: 18.4457\n",
            "Epoch 94/100\n",
            "10/10 [==============================] - 0s 2ms/step - loss: 18.4415\n",
            "Epoch 95/100\n",
            "10/10 [==============================] - 0s 2ms/step - loss: 18.2495\n",
            "Epoch 96/100\n",
            "10/10 [==============================] - 0s 2ms/step - loss: 18.4945\n",
            "Epoch 97/100\n",
            "10/10 [==============================] - 0s 3ms/step - loss: 18.3665\n",
            "Epoch 98/100\n",
            "10/10 [==============================] - 0s 2ms/step - loss: 18.3340\n",
            "Epoch 99/100\n",
            "10/10 [==============================] - 0s 2ms/step - loss: 18.3282\n",
            "Epoch 100/100\n",
            "10/10 [==============================] - 0s 2ms/step - loss: 18.1345\n"
          ]
        }
      ]
    },
    {
      "cell_type": "code",
      "source": [
        "import matplotlib.pyplot as plt"
      ],
      "metadata": {
        "id": "9Jfi78GCCfvF"
      },
      "execution_count": null,
      "outputs": []
    },
    {
      "cell_type": "code",
      "source": [
        "plt.figure(figsize=(15,5))\n",
        "plt.plot(range(1,101),\n",
        "         studentHistory.history['loss'],\n",
        "         label='loss')\n",
        "plt.legend()\n",
        "plt.show()"
      ],
      "metadata": {
        "colab": {
          "base_uri": "https://localhost:8080/",
          "height": 320
        },
        "id": "gojiuxyxCfwE",
        "outputId": "94360159-80d1-413b-afd1-d5bd212db170"
      },
      "execution_count": null,
      "outputs": [
        {
          "output_type": "display_data",
          "data": {
            "text/plain": [
              "<Figure size 1080x360 with 1 Axes>"
            ],
            "image/png": "[encoded data removed]"
          },
          "metadata": {
            "needs_background": "light"
          }
        }
      ]
    },
    {
      "cell_type": "code",
      "source": [
        "# 4. 모델 평가\n",
        "model.evaluate(X_test,y_test)"
      ],
      "metadata": {
        "colab": {
          "base_uri": "https://localhost:8080/"
        },
        "id": "sGIv67mOSu2V",
        "outputId": "318afd96-d79d-4dcd-abaf-fe794415626d"
      },
      "execution_count": null,
      "outputs": [
        {
          "output_type": "stream",
          "name": "stdout",
          "text": [
            "4/4 [==============================] - 0s 3ms/step - loss: 28.9242\n"
          ]
        },
        {
          "output_type": "execute_result",
          "data": {
            "text/plain": [
              "28.924245834350586"
            ]
          },
          "metadata": {},
          "execution_count": 22
        }
      ]
    },
    {
      "cell_type": "code",
      "source": [],
      "metadata": {
        "id": "9MGrmzyuT9b0"
      },
      "execution_count": null,
      "outputs": []
    }
  ]
}