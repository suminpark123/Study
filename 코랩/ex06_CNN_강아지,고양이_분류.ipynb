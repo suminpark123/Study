{
  "nbformat": 4,
  "nbformat_minor": 0,
  "metadata": {
    "colab": {
      "provenance": []
    },
    "kernelspec": {
      "name": "python3",
      "display_name": "Python 3"
    },
    "language_info": {
      "name": "python"
    },
    "accelerator": "GPU",
    "gpuClass": "standard"
  },
  "cells": [
    {
      "cell_type": "code",
      "execution_count": null,
      "metadata": {
        "colab": {
          "base_uri": "https://localhost:8080/"
        },
        "id": "O1c2ASd-GNiC",
        "outputId": "940689e1-e3e8-4817-c769-fc00d8266861"
      },
      "outputs": [
        {
          "output_type": "stream",
          "name": "stdout",
          "text": [
            "drive  sample_data\n"
          ]
        }
      ],
      "source": [
        "!ls"
      ]
    },
    {
      "cell_type": "code",
      "source": [
        "%cd /content/drive/MyDrive/Colab Notebooks"
      ],
      "metadata": {
        "colab": {
          "base_uri": "https://localhost:8080/"
        },
        "id": "IzbZl3sSG-VY",
        "outputId": "d1276786-6890-4d44-bd3a-de1bd92164a2"
      },
      "execution_count": null,
      "outputs": [
        {
          "output_type": "stream",
          "name": "stdout",
          "text": [
            "/content/drive/MyDrive/Colab Notebooks\n"
          ]
        }
      ]
    },
    {
      "cell_type": "code",
      "source": [
        "!ls"
      ],
      "metadata": {
        "colab": {
          "base_uri": "https://localhost:8080/"
        },
        "id": "NmAonwRqHB2G",
        "outputId": "738863fa-5592-4974-9be0-f4b814a783e1"
      },
      "execution_count": null,
      "outputs": [
        {
          "output_type": "stream",
          "name": "stdout",
          "text": [
            " cats_dogs.npz\n",
            " data\n",
            "'ex01_Keras맛보기(시간성적데이터,회귀).ipynb'\n",
            "'ex02_유방암데이터 분류(이진분류).ipynb'\n",
            "'ex03_손글씨 분류 실습(다중분류).ipynb'\n",
            " ex04_의류데이터분류.ipynb\n",
            "'ex05_활성화함수,경사하강법 비교.ipynb'\n",
            " ex06_CNN_강아지,고양이_분류.ipynb\n",
            " model\n",
            " my_fashion_mnist_model.h5\n"
          ]
        }
      ]
    },
    {
      "cell_type": "markdown",
      "source": [
        "### NPZ로딩"
      ],
      "metadata": {
        "id": "i-ccyaJNH1l_"
      }
    },
    {
      "cell_type": "code",
      "source": [
        "import numpy as np"
      ],
      "metadata": {
        "id": "WqOVzVAOHCow"
      },
      "execution_count": null,
      "outputs": []
    },
    {
      "cell_type": "code",
      "source": [
        "data = np.load('cats_dogs.npz')"
      ],
      "metadata": {
        "id": "evZVRSoUH7p_"
      },
      "execution_count": null,
      "outputs": []
    },
    {
      "cell_type": "code",
      "source": [
        "X_train = data[\"X_train\"]\n",
        "X_test = data[\"X_test\"]\n",
        "y_train = data['y_train']\n",
        "y_test = data['y_test']"
      ],
      "metadata": {
        "id": "gHaURu45H7wq"
      },
      "execution_count": null,
      "outputs": []
    },
    {
      "cell_type": "code",
      "source": [
        "X_train"
      ],
      "metadata": {
        "id": "5HNLffeOH7z0",
        "colab": {
          "base_uri": "https://localhost:8080/"
        },
        "outputId": "d1a1282e-1645-44f4-f7f6-a79dfdce1487"
      },
      "execution_count": null,
      "outputs": [
        {
          "output_type": "execute_result",
          "data": {
            "text/plain": [
              "array([[[[203, 164,  87],\n",
              "         [205, 166,  89],\n",
              "         [209, 170,  93],\n",
              "         ...,\n",
              "         [245, 204, 119],\n",
              "         [242, 202, 122],\n",
              "         [239, 200, 121]],\n",
              "\n",
              "        [[203, 164,  87],\n",
              "         [205, 166,  89],\n",
              "         [209, 170,  93],\n",
              "         ...,\n",
              "         [245, 204, 120],\n",
              "         [242, 203, 122],\n",
              "         [240, 201, 122]],\n",
              "\n",
              "        [[203, 164,  87],\n",
              "         [205, 166,  89],\n",
              "         [209, 170,  93],\n",
              "         ...,\n",
              "         [245, 204, 122],\n",
              "         [243, 204, 124],\n",
              "         [241, 202, 123]],\n",
              "\n",
              "        ...,\n",
              "\n",
              "        [[154, 123,  56],\n",
              "         [154, 124,  57],\n",
              "         [156, 125,  58],\n",
              "         ...,\n",
              "         [  3,   3,   1],\n",
              "         [  3,   3,   1],\n",
              "         [  3,   3,   1]],\n",
              "\n",
              "        [[153, 122,  55],\n",
              "         [153, 122,  55],\n",
              "         [154, 123,  56],\n",
              "         ...,\n",
              "         [  2,   2,   0],\n",
              "         [  2,   2,   0],\n",
              "         [  2,   2,   0]],\n",
              "\n",
              "        [[151, 120,  53],\n",
              "         [152, 121,  54],\n",
              "         [153, 122,  55],\n",
              "         ...,\n",
              "         [  1,   1,   0],\n",
              "         [  1,   1,   0],\n",
              "         [  1,   1,   0]]],\n",
              "\n",
              "\n",
              "       [[[ 39,  44,  40],\n",
              "         [ 39,  44,  41],\n",
              "         [ 41,  45,  46],\n",
              "         ...,\n",
              "         [209, 206, 179],\n",
              "         [204, 201, 167],\n",
              "         [200, 198, 160]],\n",
              "\n",
              "        [[ 40,  45,  41],\n",
              "         [ 40,  44,  42],\n",
              "         [ 41,  45,  45],\n",
              "         ...,\n",
              "         [204, 200, 173],\n",
              "         [200, 197, 164],\n",
              "         [197, 195, 158]],\n",
              "\n",
              "        [[ 39,  44,  40],\n",
              "         [ 39,  43,  41],\n",
              "         [ 38,  42,  43],\n",
              "         ...,\n",
              "         [198, 194, 167],\n",
              "         [200, 195, 163],\n",
              "         [202, 197, 164]],\n",
              "\n",
              "        ...,\n",
              "\n",
              "        [[ 30,  28,  29],\n",
              "         [ 27,  25,  26],\n",
              "         [ 23,  21,  22],\n",
              "         ...,\n",
              "         [ 42,  29,  23],\n",
              "         [ 39,  26,  20],\n",
              "         [ 50,  38,  32]],\n",
              "\n",
              "        [[ 32,  30,  31],\n",
              "         [ 28,  26,  27],\n",
              "         [ 23,  21,  22],\n",
              "         ...,\n",
              "         [ 38,  24,  18],\n",
              "         [ 42,  29,  22],\n",
              "         [ 54,  43,  35]],\n",
              "\n",
              "        [[ 31,  29,  30],\n",
              "         [ 27,  25,  26],\n",
              "         [ 22,  20,  21],\n",
              "         ...,\n",
              "         [ 55,  41,  33],\n",
              "         [ 47,  34,  26],\n",
              "         [ 43,  32,  23]]],\n",
              "\n",
              "\n",
              "       [[[ 28,  32,  41],\n",
              "         [ 19,  23,  33],\n",
              "         [  9,  13,  24],\n",
              "         ...,\n",
              "         [130, 162, 159],\n",
              "         [127, 159, 156],\n",
              "         [125, 157, 154]],\n",
              "\n",
              "        [[ 33,  38,  47],\n",
              "         [ 37,  42,  51],\n",
              "         [ 28,  33,  43],\n",
              "         ...,\n",
              "         [131, 163, 160],\n",
              "         [128, 160, 157],\n",
              "         [125, 157, 154]],\n",
              "\n",
              "        [[ 37,  44,  50],\n",
              "         [ 40,  47,  54],\n",
              "         [ 39,  46,  54],\n",
              "         ...,\n",
              "         [132, 164, 159],\n",
              "         [129, 161, 157],\n",
              "         [127, 159, 155]],\n",
              "\n",
              "        ...,\n",
              "\n",
              "        [[180, 167, 121],\n",
              "         [174, 161, 116],\n",
              "         [170, 157, 113],\n",
              "         ...,\n",
              "         [190, 187,  10],\n",
              "         [178, 173,  13],\n",
              "         [168, 161,  14]],\n",
              "\n",
              "        [[168, 155, 113],\n",
              "         [164, 150, 108],\n",
              "         [154, 141,  97],\n",
              "         ...,\n",
              "         [189, 186,   8],\n",
              "         [178, 173,   8],\n",
              "         [168, 161,   9]],\n",
              "\n",
              "        [[157, 143, 108],\n",
              "         [148, 134,  96],\n",
              "         [148, 135,  91],\n",
              "         ...,\n",
              "         [189, 187,   6],\n",
              "         [179, 175,   4],\n",
              "         [170, 165,   2]]],\n",
              "\n",
              "\n",
              "       ...,\n",
              "\n",
              "\n",
              "       [[[152, 134, 120],\n",
              "         [156, 138, 124],\n",
              "         [183, 165, 151],\n",
              "         ...,\n",
              "         [158, 136, 113],\n",
              "         [170, 148, 125],\n",
              "         [189, 167, 144]],\n",
              "\n",
              "        [[155, 137, 123],\n",
              "         [166, 148, 134],\n",
              "         [193, 175, 161],\n",
              "         ...,\n",
              "         [162, 140, 117],\n",
              "         [169, 147, 124],\n",
              "         [174, 152, 129]],\n",
              "\n",
              "        [[164, 146, 132],\n",
              "         [175, 157, 143],\n",
              "         [196, 178, 164],\n",
              "         ...,\n",
              "         [160, 138, 115],\n",
              "         [168, 146, 123],\n",
              "         [165, 143, 120]],\n",
              "\n",
              "        ...,\n",
              "\n",
              "        [[ 37,  45,  58],\n",
              "         [ 30,  38,  51],\n",
              "         [ 26,  34,  47],\n",
              "         ...,\n",
              "         [135, 117, 103],\n",
              "         [126, 108,  94],\n",
              "         [ 75,  57,  43]],\n",
              "\n",
              "        [[ 31,  39,  52],\n",
              "         [ 24,  32,  45],\n",
              "         [ 20,  28,  41],\n",
              "         ...,\n",
              "         [130, 112,  98],\n",
              "         [134, 116, 102],\n",
              "         [104,  86,  72]],\n",
              "\n",
              "        [[ 30,  38,  51],\n",
              "         [ 23,  31,  44],\n",
              "         [ 20,  28,  41],\n",
              "         ...,\n",
              "         [133, 115, 101],\n",
              "         [144, 126, 112],\n",
              "         [134, 116, 102]]],\n",
              "\n",
              "\n",
              "       [[[ 63,  91,  40],\n",
              "         [ 64,  92,  41],\n",
              "         [ 65,  93,  42],\n",
              "         ...,\n",
              "         [ 90, 114,  54],\n",
              "         [ 89, 113,  53],\n",
              "         [ 89, 113,  53]],\n",
              "\n",
              "        [[ 64,  92,  41],\n",
              "         [ 65,  93,  42],\n",
              "         [ 66,  94,  43],\n",
              "         ...,\n",
              "         [ 90, 114,  54],\n",
              "         [ 89, 113,  53],\n",
              "         [ 89, 113,  53]],\n",
              "\n",
              "        [[ 65,  93,  42],\n",
              "         [ 66,  94,  43],\n",
              "         [ 67,  95,  44],\n",
              "         ...,\n",
              "         [ 90, 114,  54],\n",
              "         [ 89, 113,  53],\n",
              "         [ 89, 113,  53]],\n",
              "\n",
              "        ...,\n",
              "\n",
              "        [[139, 139, 121],\n",
              "         [125, 120,  99],\n",
              "         [111, 101,  75],\n",
              "         ...,\n",
              "         [ 88, 111,  59],\n",
              "         [ 87, 110,  58],\n",
              "         [ 87, 110,  58]],\n",
              "\n",
              "        [[143, 144, 125],\n",
              "         [127, 124, 103],\n",
              "         [114, 105,  81],\n",
              "         ...,\n",
              "         [ 88, 111,  59],\n",
              "         [ 87, 110,  58],\n",
              "         [ 86, 111,  58]],\n",
              "\n",
              "        [[143, 147, 126],\n",
              "         [131, 131, 110],\n",
              "         [117, 108,  88],\n",
              "         ...,\n",
              "         [ 87, 111,  59],\n",
              "         [ 86, 111,  59],\n",
              "         [ 85, 112,  59]]],\n",
              "\n",
              "\n",
              "       [[[124, 146, 169],\n",
              "         [134, 149, 166],\n",
              "         [143, 148, 162],\n",
              "         ...,\n",
              "         [225, 227, 212],\n",
              "         [228, 232, 213],\n",
              "         [222, 234, 210]],\n",
              "\n",
              "        [[111, 126, 144],\n",
              "         [127, 138, 150],\n",
              "         [142, 146, 158],\n",
              "         ...,\n",
              "         [227, 230, 210],\n",
              "         [228, 234, 208],\n",
              "         [222, 237, 204]],\n",
              "\n",
              "        [[129, 133, 145],\n",
              "         [130, 133, 140],\n",
              "         [148, 149, 156],\n",
              "         ...,\n",
              "         [223, 226, 200],\n",
              "         [223, 230, 198],\n",
              "         [223, 236, 202]],\n",
              "\n",
              "        ...,\n",
              "\n",
              "        [[147, 147, 143],\n",
              "         [160, 151, 145],\n",
              "         [170, 152, 150],\n",
              "         ...,\n",
              "         [214, 178, 181],\n",
              "         [212, 175, 181],\n",
              "         [215, 178, 187]],\n",
              "\n",
              "        [[157, 152, 155],\n",
              "         [166, 153, 156],\n",
              "         [174, 158, 164],\n",
              "         ...,\n",
              "         [212, 177, 183],\n",
              "         [215, 178, 184],\n",
              "         [222, 181, 188]],\n",
              "\n",
              "        [[159, 153, 157],\n",
              "         [166, 152, 159],\n",
              "         [176, 160, 170],\n",
              "         ...,\n",
              "         [209, 175, 182],\n",
              "         [216, 179, 186],\n",
              "         [226, 185, 190]]]], dtype=uint8)"
            ]
          },
          "metadata": {},
          "execution_count": 7
        }
      ]
    },
    {
      "cell_type": "code",
      "source": [
        "X_train.shape,y_train.shape"
      ],
      "metadata": {
        "colab": {
          "base_uri": "https://localhost:8080/"
        },
        "id": "CGGZxoWAH72c",
        "outputId": "af25039d-831c-4d7e-bcf6-f55d99aa442a"
      },
      "execution_count": null,
      "outputs": [
        {
          "output_type": "execute_result",
          "data": {
            "text/plain": [
              "((2000, 224, 224, 3), (2000,))"
            ]
          },
          "metadata": {},
          "execution_count": 8
        }
      ]
    },
    {
      "cell_type": "code",
      "source": [
        "X_test.shape,y_test.shape"
      ],
      "metadata": {
        "colab": {
          "base_uri": "https://localhost:8080/"
        },
        "id": "M8T9tzU0Iqe3",
        "outputId": "8216e0ed-b978-478b-8e96-24975d4f6ee7"
      },
      "execution_count": null,
      "outputs": [
        {
          "output_type": "execute_result",
          "data": {
            "text/plain": [
              "((1000, 224, 224, 3), (1000,))"
            ]
          },
          "metadata": {},
          "execution_count": 9
        }
      ]
    },
    {
      "cell_type": "markdown",
      "source": [
        "### CNN 모델링"
      ],
      "metadata": {
        "id": "Rcwf7AOqI5ps"
      }
    },
    {
      "cell_type": "code",
      "source": [
        "from tensorflow.keras import Sequential\n",
        "from tensorflow.keras.layers import Dense,Flatten,Conv2D,MaxPool2D\n",
        "from tensorflow.keras.optimizers import Adam"
      ],
      "metadata": {
        "id": "2rLL_OUkItr2"
      },
      "execution_count": null,
      "outputs": []
    },
    {
      "cell_type": "code",
      "source": [
        "# 1. 신경망 구조 설계\n",
        "cat_dog_model = Sequential()\n",
        "# 특징 추출부\n",
        "cat_dog_model.add(Conv2D(input_shape=(224,224,3),\n",
        "                         filters =32,  #돋보기 갯수\n",
        "                         kernel_size=(3,3),  #돋보기 크기\n",
        "                         activation='relu'))\n",
        "cat_dog_model.add(MaxPool2D())\n",
        "\n",
        "# 분류기 (MLP)\n",
        "cat_dog_model.add(Flatten())\n",
        "cat_dog_model.add(Dense(32,activation='relu'))\n",
        "cat_dog_model.add(Dense(1,activation='sigmoid'))"
      ],
      "metadata": {
        "id": "6tV5jffvI7vo"
      },
      "execution_count": null,
      "outputs": []
    },
    {
      "cell_type": "code",
      "source": [
        "cat_dog_model.compile(loss='binary_crossentropy',\n",
        "                      optimizer='Adam',\n",
        "                      metrics=['accuracy'])"
      ],
      "metadata": {
        "id": "czTVukHCI7yQ"
      },
      "execution_count": null,
      "outputs": []
    },
    {
      "cell_type": "code",
      "source": [
        "from sklearn.model_selection import train_test_split"
      ],
      "metadata": {
        "id": "2xExgcMiI70v"
      },
      "execution_count": null,
      "outputs": []
    },
    {
      "cell_type": "code",
      "source": [
        "X_train,X_val,y_train,y_val = train_test_split(X_train,y_train)"
      ],
      "metadata": {
        "id": "MzezeopqI73K"
      },
      "execution_count": null,
      "outputs": []
    },
    {
      "cell_type": "code",
      "source": [
        "history1=cat_dog_model.fit(X_train,y_train,validation_data=(X_val,y_val),\n",
        "                  epochs=20)"
      ],
      "metadata": {
        "id": "s1nZL-HLI75W",
        "colab": {
          "base_uri": "https://localhost:8080/"
        },
        "outputId": "1170ee56-48fd-4049-ec61-8fbd80c0ec95"
      },
      "execution_count": null,
      "outputs": [
        {
          "output_type": "stream",
          "name": "stdout",
          "text": [
            "Epoch 1/20\n",
            "47/47 [==============================] - 10s 40ms/step - loss: 303.1514 - accuracy: 0.5413 - val_loss: 9.2019 - val_accuracy: 0.5200\n",
            "Epoch 2/20\n",
            "47/47 [==============================] - 1s 30ms/step - loss: 3.9463 - accuracy: 0.7073 - val_loss: 9.4583 - val_accuracy: 0.5800\n",
            "Epoch 3/20\n",
            "47/47 [==============================] - 1s 29ms/step - loss: 3.0164 - accuracy: 0.7667 - val_loss: 6.3713 - val_accuracy: 0.5880\n",
            "Epoch 4/20\n",
            "47/47 [==============================] - 2s 32ms/step - loss: 0.9071 - accuracy: 0.8900 - val_loss: 8.2638 - val_accuracy: 0.5760\n",
            "Epoch 5/20\n",
            "47/47 [==============================] - 1s 30ms/step - loss: 1.3580 - accuracy: 0.8680 - val_loss: 10.7696 - val_accuracy: 0.5700\n",
            "Epoch 6/20\n",
            "47/47 [==============================] - 1s 30ms/step - loss: 0.6001 - accuracy: 0.9313 - val_loss: 5.0453 - val_accuracy: 0.6380\n",
            "Epoch 7/20\n",
            "47/47 [==============================] - 1s 30ms/step - loss: 0.6431 - accuracy: 0.9300 - val_loss: 6.3112 - val_accuracy: 0.6680\n",
            "Epoch 8/20\n",
            "47/47 [==============================] - 1s 30ms/step - loss: 0.1672 - accuracy: 0.9740 - val_loss: 6.0839 - val_accuracy: 0.6640\n",
            "Epoch 9/20\n",
            "47/47 [==============================] - 1s 30ms/step - loss: 0.0409 - accuracy: 0.9920 - val_loss: 6.1910 - val_accuracy: 0.6560\n",
            "Epoch 10/20\n",
            "47/47 [==============================] - 2s 33ms/step - loss: 0.0304 - accuracy: 0.9920 - val_loss: 6.0648 - val_accuracy: 0.6300\n",
            "Epoch 11/20\n",
            "47/47 [==============================] - 2s 35ms/step - loss: 0.0109 - accuracy: 0.9953 - val_loss: 6.0630 - val_accuracy: 0.6360\n",
            "Epoch 12/20\n",
            "47/47 [==============================] - 2s 35ms/step - loss: 0.0034 - accuracy: 0.9987 - val_loss: 5.8188 - val_accuracy: 0.6380\n",
            "Epoch 13/20\n",
            "47/47 [==============================] - 2s 34ms/step - loss: 0.0062 - accuracy: 0.9973 - val_loss: 7.4418 - val_accuracy: 0.6240\n",
            "Epoch 14/20\n",
            "47/47 [==============================] - 1s 30ms/step - loss: 0.0116 - accuracy: 0.9967 - val_loss: 5.3602 - val_accuracy: 0.6640\n",
            "Epoch 15/20\n",
            "47/47 [==============================] - 1s 30ms/step - loss: 0.0497 - accuracy: 0.9907 - val_loss: 6.2180 - val_accuracy: 0.6600\n",
            "Epoch 16/20\n",
            "47/47 [==============================] - 1s 30ms/step - loss: 0.0418 - accuracy: 0.9913 - val_loss: 5.6788 - val_accuracy: 0.6540\n",
            "Epoch 17/20\n",
            "47/47 [==============================] - 1s 30ms/step - loss: 0.0283 - accuracy: 0.9960 - val_loss: 7.1131 - val_accuracy: 0.6700\n",
            "Epoch 18/20\n",
            "47/47 [==============================] - 2s 32ms/step - loss: 0.2893 - accuracy: 0.9613 - val_loss: 6.9195 - val_accuracy: 0.6420\n",
            "Epoch 19/20\n",
            "47/47 [==============================] - 1s 29ms/step - loss: 0.1760 - accuracy: 0.9760 - val_loss: 8.4695 - val_accuracy: 0.6240\n",
            "Epoch 20/20\n",
            "47/47 [==============================] - 1s 30ms/step - loss: 0.0421 - accuracy: 0.9907 - val_loss: 6.2275 - val_accuracy: 0.6620\n"
          ]
        }
      ]
    },
    {
      "cell_type": "code",
      "source": [
        "# 1. 신경망 구조 설계\n",
        "cat_dog_model = Sequential()\n",
        "# 특징 추출부\n",
        "cat_dog_model.add(Conv2D(input_shape=(224,224,3),\n",
        "                         filters =32,  #돋보기 갯수\n",
        "                         kernel_size=(3,3),  #돋보기 크기\n",
        "                         activation='relu'))\n",
        "cat_dog_model.add(MaxPool2D())\n",
        "\n",
        "cat_dog_model.add(Conv2D(input_shape=(224,224,3),\n",
        "                         filters =48,  #돋보기 갯수\n",
        "                         kernel_size=(3,3),  #돋보기 크기\n",
        "                         activation='relu'))\n",
        "cat_dog_model.add(MaxPool2D())\n",
        "\n",
        "# 분류기 (MLP)\n",
        "cat_dog_model.add(Flatten())\n",
        "cat_dog_model.add(Dense(32,activation='relu'))\n",
        "cat_dog_model.add(Dense(1,activation='sigmoid'))"
      ],
      "metadata": {
        "id": "0-9xlTmINT9n"
      },
      "execution_count": null,
      "outputs": []
    },
    {
      "cell_type": "code",
      "source": [
        "cat_dog_model.compile(loss='binary_crossentropy',\n",
        "                      optimizer='Adam',\n",
        "                      metrics=['accuracy'])"
      ],
      "metadata": {
        "id": "M1Mfn3y3kABW"
      },
      "execution_count": null,
      "outputs": []
    },
    {
      "cell_type": "code",
      "source": [
        "history2=cat_dog_model.fit(X_train,y_train,validation_data=(X_val,y_val),\n",
        "                  epochs=20)"
      ],
      "metadata": {
        "colab": {
          "base_uri": "https://localhost:8080/"
        },
        "id": "FUwTNTbijQPn",
        "outputId": "768d4a4b-6ebe-4b76-8e88-806e873c28a2"
      },
      "execution_count": null,
      "outputs": [
        {
          "output_type": "stream",
          "name": "stdout",
          "text": [
            "Epoch 1/20\n",
            "47/47 [==============================] - 3s 56ms/step - loss: 40.1607 - accuracy: 0.5140 - val_loss: 0.6870 - val_accuracy: 0.5680\n",
            "Epoch 2/20\n",
            "47/47 [==============================] - 2s 44ms/step - loss: 0.5835 - accuracy: 0.7140 - val_loss: 0.6931 - val_accuracy: 0.5900\n",
            "Epoch 3/20\n",
            "47/47 [==============================] - 2s 45ms/step - loss: 0.4035 - accuracy: 0.8220 - val_loss: 0.7309 - val_accuracy: 0.5980\n",
            "Epoch 4/20\n",
            "47/47 [==============================] - 2s 44ms/step - loss: 0.2056 - accuracy: 0.9247 - val_loss: 0.9186 - val_accuracy: 0.5640\n",
            "Epoch 5/20\n",
            "47/47 [==============================] - 2s 44ms/step - loss: 0.1383 - accuracy: 0.9567 - val_loss: 1.0146 - val_accuracy: 0.5840\n",
            "Epoch 6/20\n",
            "47/47 [==============================] - 2s 44ms/step - loss: 0.0891 - accuracy: 0.9760 - val_loss: 1.4344 - val_accuracy: 0.6180\n",
            "Epoch 7/20\n",
            "47/47 [==============================] - 2s 45ms/step - loss: 0.0567 - accuracy: 0.9867 - val_loss: 1.4055 - val_accuracy: 0.5960\n",
            "Epoch 8/20\n",
            "47/47 [==============================] - 2s 45ms/step - loss: 0.1145 - accuracy: 0.9613 - val_loss: 1.2763 - val_accuracy: 0.6280\n",
            "Epoch 9/20\n",
            "47/47 [==============================] - 2s 44ms/step - loss: 0.0530 - accuracy: 0.9920 - val_loss: 1.6869 - val_accuracy: 0.6040\n",
            "Epoch 10/20\n",
            "47/47 [==============================] - 2s 44ms/step - loss: 0.0146 - accuracy: 0.9980 - val_loss: 1.9838 - val_accuracy: 0.5620\n",
            "Epoch 11/20\n",
            "47/47 [==============================] - 2s 44ms/step - loss: 0.0064 - accuracy: 0.9980 - val_loss: 2.7227 - val_accuracy: 0.5720\n",
            "Epoch 12/20\n",
            "47/47 [==============================] - 2s 44ms/step - loss: 0.0131 - accuracy: 0.9960 - val_loss: 2.5517 - val_accuracy: 0.5680\n",
            "Epoch 13/20\n",
            "47/47 [==============================] - 2s 43ms/step - loss: 0.0089 - accuracy: 0.9980 - val_loss: 2.4467 - val_accuracy: 0.5780\n",
            "Epoch 14/20\n",
            "47/47 [==============================] - 2s 44ms/step - loss: 0.0110 - accuracy: 0.9980 - val_loss: 2.5211 - val_accuracy: 0.5700\n",
            "Epoch 15/20\n",
            "47/47 [==============================] - 2s 44ms/step - loss: 0.0465 - accuracy: 0.9907 - val_loss: 2.6810 - val_accuracy: 0.6220\n",
            "Epoch 16/20\n",
            "47/47 [==============================] - 2s 44ms/step - loss: 0.0145 - accuracy: 0.9960 - val_loss: 2.8139 - val_accuracy: 0.5760\n",
            "Epoch 17/20\n",
            "47/47 [==============================] - 2s 44ms/step - loss: 0.0037 - accuracy: 0.9993 - val_loss: 2.5207 - val_accuracy: 0.5960\n",
            "Epoch 18/20\n",
            "47/47 [==============================] - 2s 44ms/step - loss: 0.0017 - accuracy: 1.0000 - val_loss: 2.9519 - val_accuracy: 0.6000\n",
            "Epoch 19/20\n",
            "47/47 [==============================] - 2s 44ms/step - loss: 0.0011 - accuracy: 1.0000 - val_loss: 3.0649 - val_accuracy: 0.5900\n",
            "Epoch 20/20\n",
            "47/47 [==============================] - 2s 44ms/step - loss: 7.3699e-04 - accuracy: 1.0000 - val_loss: 3.2910 - val_accuracy: 0.5880\n"
          ]
        }
      ]
    },
    {
      "cell_type": "code",
      "source": [
        "from tensorflow.keras.layers import Dropout"
      ],
      "metadata": {
        "id": "oSd2ZSYcjQR-"
      },
      "execution_count": null,
      "outputs": []
    },
    {
      "cell_type": "code",
      "source": [
        "# 1. 신경망 구조 설계\n",
        "cat_dog_model = Sequential()\n",
        "# 특징 추출부\n",
        "cat_dog_model.add(Conv2D(input_shape=(224,224,3),\n",
        "                         filters =32,  #돋보기 갯수\n",
        "                         kernel_size=(3,3),  #돋보기 크기\n",
        "                         activation='relu'))\n",
        "cat_dog_model.add(MaxPool2D())\n",
        "\n",
        "cat_dog_model.add(Dropout(0.15))#전체 노드에서 30%를 랜덤으로 제외\n",
        "\n",
        "cat_dog_model.add(Conv2D(input_shape=(224,224,3),\n",
        "                         filters =64,  #돋보기 갯수\n",
        "                         kernel_size=(3,3),  #돋보기 크기\n",
        "                         activation='relu'))\n",
        "cat_dog_model.add(MaxPool2D())\n",
        "\n",
        "#cat_dog_model.add(Dropout(0.15))\n",
        "\n",
        "# 분류기 (MLP)\n",
        "cat_dog_model.add(Flatten())\n",
        "cat_dog_model.add(Dense(32,activation='relu'))\n",
        "\n",
        "cat_dog_model.add(Dense(1,activation='sigmoid'))"
      ],
      "metadata": {
        "id": "SzhUBMbjjQUI"
      },
      "execution_count": null,
      "outputs": []
    },
    {
      "cell_type": "code",
      "source": [
        "cat_dog_model.compile(loss='binary_crossentropy',\n",
        "                      optimizer='Adam',\n",
        "                      metrics=['accuracy'])"
      ],
      "metadata": {
        "id": "faOb7fvGjQWO"
      },
      "execution_count": null,
      "outputs": []
    },
    {
      "cell_type": "code",
      "source": [
        "history3=cat_dog_model.fit(X_train,y_train,validation_data=(X_val,y_val),\n",
        "                  epochs=20)"
      ],
      "metadata": {
        "colab": {
          "base_uri": "https://localhost:8080/"
        },
        "id": "nm1WipRxoG_M",
        "outputId": "c327ad37-4bed-4e14-8dfa-0a0710009bba"
      },
      "execution_count": null,
      "outputs": [
        {
          "output_type": "stream",
          "name": "stdout",
          "text": [
            "Epoch 1/20\n",
            "47/47 [==============================] - 3s 55ms/step - loss: 230.3025 - accuracy: 0.4927 - val_loss: 0.6931 - val_accuracy: 0.5200\n",
            "Epoch 2/20\n",
            "47/47 [==============================] - 2s 51ms/step - loss: 0.6932 - accuracy: 0.4933 - val_loss: 0.6931 - val_accuracy: 0.5200\n",
            "Epoch 3/20\n",
            "47/47 [==============================] - 2s 51ms/step - loss: 0.6932 - accuracy: 0.4933 - val_loss: 0.6931 - val_accuracy: 0.5200\n",
            "Epoch 4/20\n",
            "47/47 [==============================] - 2s 50ms/step - loss: 0.6932 - accuracy: 0.5027 - val_loss: 0.6932 - val_accuracy: 0.4800\n",
            "Epoch 5/20\n",
            "47/47 [==============================] - 2s 50ms/step - loss: 0.6932 - accuracy: 0.5067 - val_loss: 0.6932 - val_accuracy: 0.4800\n",
            "Epoch 6/20\n",
            "47/47 [==============================] - 2s 50ms/step - loss: 0.6931 - accuracy: 0.5067 - val_loss: 0.6933 - val_accuracy: 0.4800\n",
            "Epoch 7/20\n",
            "47/47 [==============================] - 2s 50ms/step - loss: 0.6931 - accuracy: 0.5067 - val_loss: 0.6933 - val_accuracy: 0.4800\n",
            "Epoch 8/20\n",
            "47/47 [==============================] - 2s 50ms/step - loss: 0.6931 - accuracy: 0.5067 - val_loss: 0.6934 - val_accuracy: 0.4800\n",
            "Epoch 9/20\n",
            "47/47 [==============================] - 2s 50ms/step - loss: 0.6931 - accuracy: 0.5067 - val_loss: 0.6934 - val_accuracy: 0.4800\n",
            "Epoch 10/20\n",
            "47/47 [==============================] - 2s 51ms/step - loss: 0.6931 - accuracy: 0.5067 - val_loss: 0.6934 - val_accuracy: 0.4800\n",
            "Epoch 11/20\n",
            "47/47 [==============================] - 3s 54ms/step - loss: 0.6931 - accuracy: 0.5067 - val_loss: 0.6935 - val_accuracy: 0.4800\n",
            "Epoch 12/20\n",
            "47/47 [==============================] - 2s 53ms/step - loss: 0.6931 - accuracy: 0.5067 - val_loss: 0.6935 - val_accuracy: 0.4800\n",
            "Epoch 13/20\n",
            "47/47 [==============================] - 2s 51ms/step - loss: 0.6931 - accuracy: 0.5067 - val_loss: 0.6935 - val_accuracy: 0.4800\n",
            "Epoch 14/20\n",
            "47/47 [==============================] - 2s 50ms/step - loss: 0.6931 - accuracy: 0.5067 - val_loss: 0.6935 - val_accuracy: 0.4800\n",
            "Epoch 15/20\n",
            "47/47 [==============================] - 2s 50ms/step - loss: 0.6931 - accuracy: 0.5067 - val_loss: 0.6936 - val_accuracy: 0.4800\n",
            "Epoch 16/20\n",
            "47/47 [==============================] - 2s 50ms/step - loss: 0.6931 - accuracy: 0.5067 - val_loss: 0.6936 - val_accuracy: 0.4800\n",
            "Epoch 17/20\n",
            "47/47 [==============================] - 2s 51ms/step - loss: 0.6931 - accuracy: 0.5067 - val_loss: 0.6936 - val_accuracy: 0.4800\n",
            "Epoch 18/20\n",
            "47/47 [==============================] - 2s 50ms/step - loss: 0.6931 - accuracy: 0.5067 - val_loss: 0.6936 - val_accuracy: 0.4800\n",
            "Epoch 19/20\n",
            "47/47 [==============================] - 2s 50ms/step - loss: 0.6931 - accuracy: 0.5067 - val_loss: 0.6937 - val_accuracy: 0.4800\n",
            "Epoch 20/20\n",
            "47/47 [==============================] - 2s 50ms/step - loss: 0.6931 - accuracy: 0.5067 - val_loss: 0.6937 - val_accuracy: 0.4800\n"
          ]
        }
      ]
    },
    {
      "cell_type": "code",
      "source": [
        "# 전이학습 사용하기\n",
        "from tensorflow.keras.applications import VGG16\n",
        "\n",
        "conv_base=VGG16(\n",
        "    weights ='imagenet',\n",
        "    include_top=False, #분류기 사용할것인가\n",
        "    input_shape = (224,224,3)\n",
        ")"
      ],
      "metadata": {
        "colab": {
          "base_uri": "https://localhost:8080/"
        },
        "id": "DoNNSFMLoJSI",
        "outputId": "7c287fbb-ac83-4816-cd34-cb5c94d0b35f"
      },
      "execution_count": null,
      "outputs": [
        {
          "output_type": "stream",
          "name": "stdout",
          "text": [
            "Downloading data from https://storage.googleapis.com/tensorflow/keras-applications/vgg16/vgg16_weights_tf_dim_ordering_tf_kernels_notop.h5\n",
            "58889256/58889256 [==============================] - 0s 0us/step\n"
          ]
        }
      ]
    },
    {
      "cell_type": "code",
      "source": [
        "conv_base.summary()"
      ],
      "metadata": {
        "id": "Hf4DBz5txG44"
      },
      "execution_count": null,
      "outputs": []
    },
    {
      "cell_type": "code",
      "source": [
        "# 동결\n",
        "# 가중치가 갱신되는것을 막는것\n",
        "# VGG16모델이 변하는 것을 방지\n",
        "conv_base.trainable = False"
      ],
      "metadata": {
        "id": "E6valxZA0ljB"
      },
      "execution_count": null,
      "outputs": []
    },
    {
      "cell_type": "code",
      "source": [
        "# vgg16 모델 사용해서 딥러닝 모델 설계\n",
        "model = Sequential()\n",
        "model.add(conv_base) #conv 13개층, pool 5개층 추가\n",
        "\n",
        "model.add(Flatten())\n",
        "\n",
        "model.add(Dense(64,activation='relu'))\n",
        "model.add(Dense(1,activation='sigmoid'))\n",
        "\n",
        "model.summary()\n",
        "\n",
        "\n",
        "\n",
        "\n",
        "\n",
        "\n"
      ],
      "metadata": {
        "colab": {
          "base_uri": "https://localhost:8080/"
        },
        "id": "FD_P___H5yT3",
        "outputId": "1464bd57-6b1d-4d18-8071-2420577bb633"
      },
      "execution_count": null,
      "outputs": [
        {
          "output_type": "stream",
          "name": "stdout",
          "text": [
            "Model: \"sequential_5\"\n",
            "_________________________________________________________________\n",
            " Layer (type)                Output Shape              Param #   \n",
            "=================================================================\n",
            " vgg16 (Functional)          (None, 7, 7, 512)         14714688  \n",
            "                                                                 \n",
            " flatten_5 (Flatten)         (None, 25088)             0         \n",
            "                                                                 \n",
            " dense_10 (Dense)            (None, 64)                1605696   \n",
            "                                                                 \n",
            " dense_11 (Dense)            (None, 1)                 65        \n",
            "                                                                 \n",
            "=================================================================\n",
            "Total params: 16,320,449\n",
            "Trainable params: 1,605,761\n",
            "Non-trainable params: 14,714,688\n",
            "_________________________________________________________________\n"
          ]
        }
      ]
    },
    {
      "cell_type": "code",
      "source": [
        "model.compile(\n",
        "    loss = 'binary_crossentropy',\n",
        "    optimizer ='adam',\n",
        "    metrics = ['accuracy']\n",
        ")\n",
        "model.fit(X_train,y_train,validation_data=(X_val,y_val),epochs=20)"
      ],
      "metadata": {
        "colab": {
          "base_uri": "https://localhost:8080/"
        },
        "id": "y9Wfe8C485zR",
        "outputId": "b0736384-8cbd-45ff-d6f9-1b90be11f182"
      },
      "execution_count": null,
      "outputs": [
        {
          "output_type": "stream",
          "name": "stdout",
          "text": [
            "Epoch 1/20\n",
            "47/47 [==============================] - 17s 296ms/step - loss: 2.1228 - accuracy: 0.9060 - val_loss: 0.4212 - val_accuracy: 0.9140\n",
            "Epoch 2/20\n",
            "47/47 [==============================] - 9s 203ms/step - loss: 0.1027 - accuracy: 0.9700 - val_loss: 0.1662 - val_accuracy: 0.9640\n",
            "Epoch 3/20\n",
            "47/47 [==============================] - 10s 209ms/step - loss: 0.0534 - accuracy: 0.9840 - val_loss: 0.1735 - val_accuracy: 0.9580\n",
            "Epoch 4/20\n",
            "47/47 [==============================] - 10s 215ms/step - loss: 0.0140 - accuracy: 0.9933 - val_loss: 0.1949 - val_accuracy: 0.9660\n",
            "Epoch 5/20\n",
            "47/47 [==============================] - 10s 218ms/step - loss: 0.0073 - accuracy: 0.9960 - val_loss: 0.1798 - val_accuracy: 0.9620\n",
            "Epoch 6/20\n",
            "47/47 [==============================] - 10s 221ms/step - loss: 0.0071 - accuracy: 0.9960 - val_loss: 0.1757 - val_accuracy: 0.9540\n",
            "Epoch 7/20\n",
            "47/47 [==============================] - 11s 229ms/step - loss: 0.0059 - accuracy: 0.9967 - val_loss: 0.2004 - val_accuracy: 0.9600\n",
            "Epoch 8/20\n",
            "47/47 [==============================] - 11s 226ms/step - loss: 0.0056 - accuracy: 0.9967 - val_loss: 0.2098 - val_accuracy: 0.9640\n",
            "Epoch 9/20\n",
            "47/47 [==============================] - 10s 219ms/step - loss: 0.0055 - accuracy: 0.9973 - val_loss: 0.2345 - val_accuracy: 0.9620\n",
            "Epoch 10/20\n",
            "47/47 [==============================] - 10s 219ms/step - loss: 0.0052 - accuracy: 0.9973 - val_loss: 0.2387 - val_accuracy: 0.9600\n",
            "Epoch 11/20\n",
            "47/47 [==============================] - 10s 218ms/step - loss: 0.0046 - accuracy: 0.9980 - val_loss: 0.2348 - val_accuracy: 0.9600\n",
            "Epoch 12/20\n",
            "47/47 [==============================] - 10s 218ms/step - loss: 0.0046 - accuracy: 0.9980 - val_loss: 0.2364 - val_accuracy: 0.9600\n",
            "Epoch 13/20\n",
            "47/47 [==============================] - 10s 218ms/step - loss: 0.0046 - accuracy: 0.9980 - val_loss: 0.2380 - val_accuracy: 0.9600\n",
            "Epoch 14/20\n",
            "47/47 [==============================] - 10s 219ms/step - loss: 0.0046 - accuracy: 0.9980 - val_loss: 0.2395 - val_accuracy: 0.9600\n",
            "Epoch 15/20\n",
            "47/47 [==============================] - 10s 220ms/step - loss: 0.0046 - accuracy: 0.9980 - val_loss: 0.2407 - val_accuracy: 0.9600\n",
            "Epoch 16/20\n",
            "47/47 [==============================] - 10s 221ms/step - loss: 0.0041 - accuracy: 0.9993 - val_loss: 0.4425 - val_accuracy: 0.9480\n",
            "Epoch 17/20\n",
            "47/47 [==============================] - 10s 221ms/step - loss: 0.0065 - accuracy: 0.9993 - val_loss: 0.2163 - val_accuracy: 0.9540\n",
            "Epoch 18/20\n",
            "47/47 [==============================] - 10s 218ms/step - loss: 0.0035 - accuracy: 1.0000 - val_loss: 0.2934 - val_accuracy: 0.9560\n",
            "Epoch 19/20\n",
            "47/47 [==============================] - 10s 218ms/step - loss: 0.0032 - accuracy: 1.0000 - val_loss: 0.2972 - val_accuracy: 0.9560\n",
            "Epoch 20/20\n",
            "47/47 [==============================] - 10s 219ms/step - loss: 0.0031 - accuracy: 1.0000 - val_loss: 0.2971 - val_accuracy: 0.9560\n"
          ]
        },
        {
          "output_type": "execute_result",
          "data": {
            "text/plain": [
              "<keras.callbacks.History at 0x7fa53dee4e50>"
            ]
          },
          "metadata": {},
          "execution_count": 37
        }
      ]
    },
    {
      "cell_type": "code",
      "source": [
        "img_path = '/content/down.jfif'\n",
        "import cv2\n",
        "img = cv2.imread(img_path,cv2.IMREAD_COLOR)\n",
        "img = cv2.cvtColor(img, cv2.COLOR_BGR2RGB)\n",
        "img = cv2.resize(img,(224,224))\n",
        "img = img.reshape((1,224,224,3)) #224,224,3 > 1,224,224,3\n",
        "model.predict(img)  #고양이 0, 개 1 \n",
        "# 0.5보다 크면 개\n",
        "# 0.5보다 작으면 고양이\n",
        "# 1.9902979e-18 = 1.9902979 X 0.000000000000000001"
      ],
      "metadata": {
        "colab": {
          "base_uri": "https://localhost:8080/"
        },
        "id": "biXS8qef9LyH",
        "outputId": "00ce9147-cf56-43bc-d378-a00181fc6ea0"
      },
      "execution_count": null,
      "outputs": [
        {
          "output_type": "stream",
          "name": "stdout",
          "text": [
            "1/1 [==============================] - 1s 816ms/step\n"
          ]
        },
        {
          "output_type": "execute_result",
          "data": {
            "text/plain": [
              "array([[0.02731313]], dtype=float32)"
            ]
          },
          "metadata": {},
          "execution_count": 39
        }
      ]
    },
    {
      "cell_type": "markdown",
      "source": [
        "특성추출부를 동결하지 않고 학습을 하게되면\n",
        "첫 학습에서 발생한 큰 오차로 인해 특성추출부의 가중치가 많이 변함\n",
        "미세조정\n",
        "-분류부 부터 학습 시작(특성추출방식)\n",
        "-분류부의 오차가 줄어드는 확인한 후에\n",
        "-분류부와 가까운 특성추출부의 동결해제(학습 가능하게 한다)"
      ],
      "metadata": {
        "id": "oEkflYhMJ1Hq"
      }
    },
    {
      "cell_type": "code",
      "source": [
        "# 전이학습 사용하기\n",
        "from tensorflow.keras.applications import VGG16\n",
        "conv_base = VGG16(\n",
        "    weights = 'imagenet',\n",
        "    include_top = False, # 분류부 사용할것인가?\n",
        "    input_shape = (224,224,3)\n",
        ")\n",
        "# vgg16 모델 사용해서 딥러닝 모델 설계\n",
        "model = Sequential()\n",
        "\n",
        "model.add(conv_base) # conv 13개층, pool 5개층 추가\n",
        "\n",
        "model.add(Flatten())\n",
        "\n",
        "model.add(Dense(64, activation ='relu'))\n",
        "model.add(Dense(1,activation = 'sigmoid'))\n",
        "model.summary()"
      ],
      "metadata": {
        "colab": {
          "base_uri": "https://localhost:8080/"
        },
        "id": "-t6aJY8l_a-f",
        "outputId": "acfb6a6f-f0e7-4687-dcd9-1b74aabce278"
      },
      "execution_count": null,
      "outputs": [
        {
          "output_type": "stream",
          "name": "stdout",
          "text": [
            "Model: \"sequential_6\"\n",
            "_________________________________________________________________\n",
            " Layer (type)                Output Shape              Param #   \n",
            "=================================================================\n",
            " vgg16 (Functional)          (None, 7, 7, 512)         14714688  \n",
            "                                                                 \n",
            " flatten_6 (Flatten)         (None, 25088)             0         \n",
            "                                                                 \n",
            " dense_12 (Dense)            (None, 64)                1605696   \n",
            "                                                                 \n",
            " dense_13 (Dense)            (None, 1)                 65        \n",
            "                                                                 \n",
            "=================================================================\n",
            "Total params: 16,320,449\n",
            "Trainable params: 16,320,449\n",
            "Non-trainable params: 0\n",
            "_________________________________________________________________\n"
          ]
        }
      ]
    },
    {
      "cell_type": "code",
      "source": [
        "set_trainable=False\n",
        "for layer in conv_base.layers: #VGG16층을 하나씩 가져오기\n",
        "     \n",
        "     \n",
        "     if set_trainable == True:\n",
        "       layer.trainable=True\n",
        "     else:\n",
        "        layer.trainable = False\n",
        "# O VGG16의 특성 추출부 전체 동결 > 학습 오차가 줄어들때까지 학습\n",
        "# 1 분류부와 맞닿아있는 층의 동결 해제(block5) > 오차가 줄어들때까지 학습\n",
        "# 2 동결 해제(block4) > 오차가 줄어들때까지 학습\n",
        "# 3 동결 해제(block3) > 오차가 줄어들때까지 학습"
      ],
      "metadata": {
        "id": "2f9NUyMv_bBP"
      },
      "execution_count": null,
      "outputs": []
    },
    {
      "cell_type": "code",
      "source": [
        "model.compile(\n",
        "    loss = 'binary_crossentropy',\n",
        "    optimizer = 'adam',\n",
        "    metrics = ['accuracy']\n",
        ")\n",
        "model.fit(X_train, y_train, validation_data=( X_val, y_val),epochs=20)"
      ],
      "metadata": {
        "id": "1fQPO-Kq_bDe"
      },
      "execution_count": null,
      "outputs": []
    },
    {
      "cell_type": "code",
      "source": [],
      "metadata": {
        "id": "Si4tQXMz_bFm"
      },
      "execution_count": null,
      "outputs": []
    },
    {
      "cell_type": "code",
      "source": [],
      "metadata": {
        "id": "New7gd8X_bHn"
      },
      "execution_count": null,
      "outputs": []
    }
  ]
}