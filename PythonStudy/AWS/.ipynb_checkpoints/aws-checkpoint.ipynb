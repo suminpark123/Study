{
 "cells": [
  {
   "cell_type": "markdown",
   "id": "3489570c",
   "metadata": {},
   "source": [
    "AWS를 Window에서 사용해보기\n",
    " - https://us-east-1.console.aws.amazon.com/iam/home#/users$new?step=final&accessKey&userNames=sumin_parkkkk&groups=smhrd_sumin"
   ]
  },
  {
   "cell_type": "code",
   "execution_count": 2,
   "id": "9b43353b",
   "metadata": {},
   "outputs": [
    {
     "name": "stdout",
     "output_type": "stream",
     "text": [
      "Requirement already satisfied: boto3 in c:\\users\\smhrd\\anaconda3\\lib\\site-packages (1.21.32)\n",
      "Requirement already satisfied: jmespath<2.0.0,>=0.7.1 in c:\\users\\smhrd\\anaconda3\\lib\\site-packages (from boto3) (0.10.0)\n",
      "Requirement already satisfied: botocore<1.25.0,>=1.24.32 in c:\\users\\smhrd\\anaconda3\\lib\\site-packages (from boto3) (1.24.32)\n",
      "Requirement already satisfied: s3transfer<0.6.0,>=0.5.0 in c:\\users\\smhrd\\anaconda3\\lib\\site-packages (from boto3) (0.5.0)\n",
      "Requirement already satisfied: python-dateutil<3.0.0,>=2.1 in c:\\users\\smhrd\\anaconda3\\lib\\site-packages (from botocore<1.25.0,>=1.24.32->boto3) (2.8.2)\n",
      "Requirement already satisfied: urllib3<1.27,>=1.25.4 in c:\\users\\smhrd\\anaconda3\\lib\\site-packages (from botocore<1.25.0,>=1.24.32->boto3) (1.26.9)\n",
      "Requirement already satisfied: six>=1.5 in c:\\users\\smhrd\\anaconda3\\lib\\site-packages (from python-dateutil<3.0.0,>=2.1->botocore<1.25.0,>=1.24.32->boto3) (1.16.0)\n"
     ]
    }
   ],
   "source": [
    "#boto3\n",
    "#내 이미지를 보내고 AWS로부터 값을 받아올 수 있는 라이브러리\n",
    "!pip3 install boto3"
   ]
  },
  {
   "cell_type": "code",
   "execution_count": 27,
   "id": "b2f8a954",
   "metadata": {},
   "outputs": [
    {
     "name": "stdout",
     "output_type": "stream",
     "text": [
      "Detected labels in common.jpg\n",
      "다른사진입니다\n",
      "Labels detected: 7\n"
     ]
    }
   ],
   "source": [
    "#Copyright 2018 Amazon.com, Inc. or its affiliates. All Rights Reserved.\n",
    "#PDX-License-Identifier: MIT-0 (For details, see https://github.com/awsdocs/amazon-rekognition-developer-guide/blob/master/LICENSE-SAMPLECODE.)\n",
    "\n",
    "import boto3\n",
    "\n",
    "def detect_labels_local_file(photo):\n",
    "\n",
    "\n",
    "    client=boto3.client('rekognition')\n",
    "   \n",
    "    with open(photo, 'rb') as image:\n",
    "        response = client.detect_labels(Image={'Bytes': image.read()})\n",
    "        #print(response)\n",
    "    \n",
    "    check = True\n",
    "    print('Detected labels in ' + photo)    \n",
    "    for label in response['Labels']:\n",
    "        if label['Name'] == 'Kitten':\n",
    "            print(\"내 사진이 Kitten일 확률은 {:.2f}%입니다\".format(label['Confidence']))\n",
    "            check = False\n",
    "    if check ==True:\n",
    "        print('다른사진입니다')\n",
    "        #print (label['Name'] + ' : ' + str(label['Confidence']))\n",
    "       \n",
    "            \n",
    "            \n",
    "        \n",
    "     \n",
    "    return len(response['Labels'])\n",
    "\n",
    "def main():\n",
    "    photo='common.jpg'\n",
    "\n",
    "    label_count=detect_labels_local_file(photo)\n",
    "    print(\"Labels detected: \" + str(label_count))\n",
    "\n",
    "\n",
    "if __name__ == \"__main__\":\n",
    "    main()\n",
    "\n"
   ]
  },
  {
   "cell_type": "code",
   "execution_count": 28,
   "id": "231a0402",
   "metadata": {},
   "outputs": [
    {
     "name": "stdout",
     "output_type": "stream",
     "text": [
      "Requirement already satisfied: flask in c:\\users\\smhrd\\anaconda3\\lib\\site-packages (1.1.2)\n",
      "Requirement already satisfied: Werkzeug>=0.15 in c:\\users\\smhrd\\anaconda3\\lib\\site-packages (from flask) (2.0.3)\n",
      "Requirement already satisfied: click>=5.1 in c:\\users\\smhrd\\anaconda3\\lib\\site-packages (from flask) (8.0.4)\n",
      "Requirement already satisfied: Jinja2>=2.10.1 in c:\\users\\smhrd\\anaconda3\\lib\\site-packages (from flask) (2.11.3)\n",
      "Requirement already satisfied: itsdangerous>=0.24 in c:\\users\\smhrd\\anaconda3\\lib\\site-packages (from flask) (2.0.1)\n",
      "Requirement already satisfied: colorama in c:\\users\\smhrd\\anaconda3\\lib\\site-packages (from click>=5.1->flask) (0.4.4)\n",
      "Requirement already satisfied: MarkupSafe>=0.23 in c:\\users\\smhrd\\anaconda3\\lib\\site-packages (from Jinja2>=2.10.1->flask) (2.0.1)\n"
     ]
    }
   ],
   "source": [
    "#플라스크 사용\n",
    "!pip3 install flask"
   ]
  },
  {
   "cell_type": "code",
   "execution_count": null,
   "id": "fe56a02a",
   "metadata": {},
   "outputs": [
    {
     "name": "stdout",
     "output_type": "stream",
     "text": [
      " * Serving Flask app \"__main__\" (lazy loading)\n",
      " * Environment: production\n",
      "\u001b[31m   WARNING: This is a development server. Do not use it in a production deployment.\u001b[0m\n",
      "\u001b[2m   Use a production WSGI server instead.\u001b[0m\n",
      " * Debug mode: off\n"
     ]
    },
    {
     "name": "stderr",
     "output_type": "stream",
     "text": [
      " * Running on http://127.0.0.1:5000/ (Press CTRL+C to quit)\n",
      "127.0.0.1 - - [16/Dec/2022 12:27:11] \"GET / HTTP/1.1\" 200 -\n",
      "127.0.0.1 - - [16/Dec/2022 12:27:17] \"GET / HTTP/1.1\" 200 -\n",
      "127.0.0.1 - - [16/Dec/2022 12:32:01] \"GET / HTTP/1.1\" 200 -\n"
     ]
    }
   ],
   "source": [
    "from flask import Flask,render_template\n",
    "app = Flask(__name__)\n",
    "#경로\n",
    "@app.route('/')\n",
    "def Hello():\n",
    "    \n",
    "    #return render_template()\n",
    "    return\n",
    "    '''\n",
    "    <html>\n",
    "    <body>\n",
    "    <h1>ㅎㅇㅎㅇㅇㅎㅇ</h1>\n",
    "    <p>ggdgdgd가나</p>\n",
    "    </body>\n",
    "    </html>\n",
    "    '''\n",
    "    \n",
    "    \n",
    "#서버올리기\n",
    "if __name__ == \"__main__\":\n",
    "    app.run()"
   ]
  },
  {
   "cell_type": "code",
   "execution_count": null,
   "id": "16feba29",
   "metadata": {},
   "outputs": [],
   "source": []
  }
 ],
 "metadata": {
  "kernelspec": {
   "display_name": "Python 3 (ipykernel)",
   "language": "python",
   "name": "python3"
  },
  "language_info": {
   "codemirror_mode": {
    "name": "ipython",
    "version": 3
   },
   "file_extension": ".py",
   "mimetype": "text/x-python",
   "name": "python",
   "nbconvert_exporter": "python",
   "pygments_lexer": "ipython3",
   "version": "3.9.12"
  },
  "toc": {
   "base_numbering": 1,
   "nav_menu": {},
   "number_sections": true,
   "sideBar": true,
   "skip_h1_title": false,
   "title_cell": "Table of Contents",
   "title_sidebar": "Contents",
   "toc_cell": false,
   "toc_position": {},
   "toc_section_display": true,
   "toc_window_display": false
  }
 },
 "nbformat": 4,
 "nbformat_minor": 5
}
