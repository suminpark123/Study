{
 "cells": [
  {
   "cell_type": "markdown",
   "id": "3898f42e",
   "metadata": {},
   "source": [
    "### 설명작성 셀\n",
    "- Commande Mode(파란색):Esc (셀을 작동)\n",
    "- Edit Mode(초록색) : Enter or Click(코드 작성 모드)\n",
    "- 실행 단축키 : Ctrl+Enter / Shift+Enter /Alt+Enter"
   ]
  },
  {
   "attachments": {
    "image%20%287%29.png": {
     "image/png": "[encoded data removed]"
    }
   },
   "cell_type": "markdown",
   "id": "e3560221",
   "metadata": {},
   "source": [
    "![image%20%287%29.png](attachment:image%20%287%29.png)"
   ]
  },
  {
   "cell_type": "code",
   "execution_count": 2,
   "id": "21ecd041",
   "metadata": {},
   "outputs": [
    {
     "data": {
      "text/plain": [
       "3"
      ]
     },
     "execution_count": 2,
     "metadata": {},
     "output_type": "execute_result"
    }
   ],
   "source": [
    "# 파이썬의 주석은 '#'으로 한다\n",
    "3"
   ]
  },
  {
   "cell_type": "code",
   "execution_count": 3,
   "id": "a3fbf855",
   "metadata": {},
   "outputs": [
    {
     "data": {
      "text/plain": [
       "20"
      ]
     },
     "execution_count": 3,
     "metadata": {},
     "output_type": "execute_result"
    }
   ],
   "source": [
    "20"
   ]
  },
  {
   "cell_type": "code",
   "execution_count": 4,
   "id": "795ff17d",
   "metadata": {},
   "outputs": [
    {
     "name": "stdout",
     "output_type": "stream",
     "text": [
      "3\n"
     ]
    }
   ],
   "source": [
    "num =3\n",
    "print(num)"
   ]
  },
  {
   "cell_type": "code",
   "execution_count": 8,
   "id": "290a1a96",
   "metadata": {},
   "outputs": [
    {
     "name": "stdout",
     "output_type": "stream",
     "text": [
      "3.124\n"
     ]
    }
   ],
   "source": [
    "num1 = 3.124\n",
    "print(num1)"
   ]
  },
  {
   "cell_type": "code",
   "execution_count": 9,
   "id": "5b2a8bd0",
   "metadata": {},
   "outputs": [
    {
     "name": "stdout",
     "output_type": "stream",
     "text": [
      "3\n"
     ]
    }
   ],
   "source": [
    "print(num)"
   ]
  },
  {
   "cell_type": "code",
   "execution_count": 12,
   "id": "6c025ffb",
   "metadata": {},
   "outputs": [
    {
     "name": "stdout",
     "output_type": "stream",
     "text": [
      "Funny \"Py\"thon Easy Python\n"
     ]
    }
   ],
   "source": [
    "#Python의 문자열은 따옴표 큰따옴표의 구분이 없다.\n",
    "#대신 시작 기호문자와 끝 기호문자를 맞춰줘야한다.\n",
    "str1 ='Funny \"Py\"thon'\n",
    "str2 =\"Easy Python\"\n",
    "print(str1,str2)"
   ]
  },
  {
   "cell_type": "code",
   "execution_count": 13,
   "id": "c9d8371b",
   "metadata": {},
   "outputs": [
    {
     "name": "stdout",
     "output_type": "stream",
     "text": [
      "10\n",
      "15\n"
     ]
    }
   ],
   "source": [
    "a,b =10, 15\n",
    "print(a)\n",
    "print(b)"
   ]
  },
  {
   "cell_type": "code",
   "execution_count": 14,
   "id": "bf4df9ed",
   "metadata": {},
   "outputs": [
    {
     "name": "stdout",
     "output_type": "stream",
     "text": [
      "10 10 10\n"
     ]
    }
   ],
   "source": [
    "num1=num2=num3=10\n",
    "print(num1,num2,num3)"
   ]
  },
  {
   "cell_type": "code",
   "execution_count": 15,
   "id": "6e8b11ab",
   "metadata": {},
   "outputs": [
    {
     "name": "stdout",
     "output_type": "stream",
     "text": [
      "300\n"
     ]
    }
   ],
   "source": [
    "x=100\n",
    "y=200\n",
    "sum1=x+y\n",
    "print(sum1)"
   ]
  },
  {
   "cell_type": "markdown",
   "id": "5a378d9c",
   "metadata": {},
   "source": [
    "### 문자열"
   ]
  },
  {
   "cell_type": "code",
   "execution_count": 24,
   "id": "6c04f158",
   "metadata": {},
   "outputs": [
    {
     "name": "stdout",
     "output_type": "stream",
     "text": [
      "she's gone\n",
      "she's gone\n"
     ]
    }
   ],
   "source": [
    "#작은따옴표의 쌍이 맞지 않아서 에러가 난다.\n",
    "#msg = 'she's gone'\n",
    "msg =\"she's gone\" #1.쌍따옴표 문자열시작-> 작은 따옴표 사용가능\n",
    "msg2 ='she\\'s gone' #2. 이스케이프 코드! 역 슬래쉬(\\)\n",
    "\n",
    "print(msg)\n",
    "print(msg2)"
   ]
  },
  {
   "cell_type": "code",
   "execution_count": 25,
   "id": "2e5ad6e9",
   "metadata": {},
   "outputs": [
    {
     "name": "stdout",
     "output_type": "stream",
     "text": [
      "안녕하세요!\n",
      "제 이름은 정세연입니다!\n",
      "파이썬최고~\n"
     ]
    }
   ],
   "source": [
    "msg3=\"안녕하세요!\\n제 이름은 정세연입니다!\\n파이썬최고~\"\n",
    "print(msg3)"
   ]
  },
  {
   "cell_type": "code",
   "execution_count": 27,
   "id": "404c3ffd",
   "metadata": {},
   "outputs": [
    {
     "name": "stdout",
     "output_type": "stream",
     "text": [
      "지각하면 안됩니다\n",
      "간식은 하루에 하나씩 수업 때 졸지 말고\n",
      "열심히 공부하기!\n"
     ]
    }
   ],
   "source": [
    "#따옴표(쌍따옴표)를 3개 연속으로 써준다!\n",
    "msg4=\"\"\"지각하면 안됩니다\n",
    "간식은 하루에 하나씩 수업 때 졸지 말고\n",
    "열심히 공부하기!\"\"\"\n",
    "print(msg4)"
   ]
  },
  {
   "cell_type": "markdown",
   "id": "3655c17c",
   "metadata": {},
   "source": [
    "### 문자열 인덱싱 & 슬라이싱\n",
    "- 대괄호[ ] 사용\n",
    "- 양수,음수 모두 사용가능\n",
    "- 파이썬은 0부터 시작한다.\n",
    "- 인덱싱 :가르키다\n",
    "- 슬라이싱 :잘라내다"
   ]
  },
  {
   "cell_type": "code",
   "execution_count": 82,
   "id": "ec45d475",
   "metadata": {},
   "outputs": [
    {
     "name": "stdout",
     "output_type": "stream",
     "text": [
      "My name is SY\n",
      "S\n",
      "Y\n",
      "S Y\n"
     ]
    }
   ],
   "source": [
    "intro = \"My name is SY\"\n",
    "print(intro)\n",
    "#인덱싱\n",
    "print(intro[11])\n",
    "print(intro[12])\n",
    "\n",
    "print(intro[-2],intro[-1])"
   ]
  },
  {
   "cell_type": "code",
   "execution_count": 36,
   "id": "7fca7b40",
   "metadata": {},
   "outputs": [
    {
     "name": "stdout",
     "output_type": "stream",
     "text": [
      "SY\n",
      "name\n",
      "SY\n"
     ]
    }
   ],
   "source": [
    "# 슬라이싱\n",
    "#변수 [시작 인덱스 : 끝 인덱스(포함X)]\n",
    "print(intro[11:13])\n",
    "print(intro[-10:-6])\n",
    "print(intro[-2:]) #SY를 음수로 가져와보자"
   ]
  },
  {
   "cell_type": "code",
   "execution_count": 77,
   "id": "bfa10aa5",
   "metadata": {},
   "outputs": [
    {
     "name": "stdout",
     "output_type": "stream",
     "text": [
      "My name\n",
      "is SY\n",
      "My name is SY\n"
     ]
    }
   ],
   "source": [
    "# 슬라이싱\n",
    "# 변수 [시작 :] ->시작부터 끝까지\n",
    "# 변수 [ :인덱스] ->처음부터 인덱스 앞까지\n",
    "# 변수[:] ->처음부터 끝까지\n",
    "\n",
    "#'My name' 가져오기\n",
    "# 'is SY'가져오기\n",
    "print(intro[:7])\n",
    "print(intro[-5:])\n",
    "print(intro[:])"
   ]
  },
  {
   "cell_type": "code",
   "execution_count": 61,
   "id": "9f0fa3c3",
   "metadata": {},
   "outputs": [
    {
     "name": "stdout",
     "output_type": "stream",
     "text": [
      "년도 :2022\n",
      "월일 :0906\n",
      "날씨 :Sunny\n"
     ]
    }
   ],
   "source": [
    "dy_info = \"20220906Sunny\"\n",
    "year=dy_info[:4]\n",
    "day=dy_info[4:8]\n",
    "weather=dy_info[8:]\n",
    "\n",
    "\n",
    "print(\"년도 :\"+year)\n",
    "print(\"월일 :\"+day)\n",
    "print(\"날씨 :\"+weather)\n",
    "\n"
   ]
  },
  {
   "cell_type": "markdown",
   "id": "18473fd7",
   "metadata": {},
   "source": [
    "### 문자열 포매팅(Formatting)\n",
    "- 문자열 내에 특정한 값을 삽입할 때 사용한다.\n",
    "1. % 문자활용\n",
    "2. format() 기능 활용\n",
    "3. f문자열 스트링"
   ]
  },
  {
   "cell_type": "code",
   "execution_count": 66,
   "id": "d1b43b69",
   "metadata": {},
   "outputs": [
    {
     "data": {
      "text/plain": [
       "'오늘은 9월 6일입니다.'"
      ]
     },
     "execution_count": 66,
     "metadata": {},
     "output_type": "execute_result"
    }
   ],
   "source": [
    "\"오늘은 9월 6일입니다.\""
   ]
  },
  {
   "cell_type": "code",
   "execution_count": 67,
   "id": "d54ab785",
   "metadata": {},
   "outputs": [
    {
     "data": {
      "text/plain": [
       "'모레은(는) 9월 8일입니다.'"
      ]
     },
     "execution_count": 67,
     "metadata": {},
     "output_type": "execute_result"
    }
   ],
   "source": [
    "# % 문자 활용 - 문자열 포맷 코드\n",
    "month =9\n",
    "day = 8\n",
    "morae = \"모레\"\n",
    "\"%s은(는) %d월 %d일입니다.\"%(morae,month,day)"
   ]
  },
  {
   "cell_type": "code",
   "execution_count": 72,
   "id": "fee16ed6",
   "metadata": {},
   "outputs": [
    {
     "data": {
      "text/plain": [
       "'저는 23살 다온입니다.'"
      ]
     },
     "execution_count": 72,
     "metadata": {},
     "output_type": "execute_result"
    }
   ],
   "source": [
    "#format() 기능 활용\n",
    "age =23\n",
    "name =\"다온\"\n",
    "\"저는 {}살 {}입니다.\".format(age,name)"
   ]
  },
  {
   "cell_type": "code",
   "execution_count": 78,
   "id": "1483c2c4",
   "metadata": {},
   "outputs": [
    {
     "data": {
      "text/plain": [
       "'저는 23살 세연입니다.'"
      ]
     },
     "execution_count": 78,
     "metadata": {},
     "output_type": "execute_result"
    }
   ],
   "source": [
    "# f문자열 스트링\n",
    "f\"저는 {age}살 세연입니다.\""
   ]
  },
  {
   "attachments": {
    "image.png": {
     "image/png": "[encoded data removed]"
    }
   },
   "cell_type": "markdown",
   "id": "72eaff36",
   "metadata": {},
   "source": [
    "![image.png](attachment:image.png)"
   ]
  },
  {
   "cell_type": "code",
   "execution_count": 89,
   "id": "00dbee35",
   "metadata": {},
   "outputs": [
    {
     "name": "stdout",
     "output_type": "stream",
     "text": [
      "100와200의 합은 300입니다.\n",
      "100와200의 합은 300입니다.\n",
      "100와200의 합은 300입니다.\n"
     ]
    }
   ],
   "source": [
    "x=100\n",
    "y=200\n",
    "sum=x+y\n",
    "print(f\"{x}와{y}의 합은 {sum}입니다.\")\n",
    "\n",
    "print(\"{}와{}의 합은 {}입니다.\".format(x,y,sum))\n",
    "\n",
    "print(\"%d와%d의 합은 %d입니다.\"%(x,y,sum))"
   ]
  },
  {
   "cell_type": "markdown",
   "id": "af33ffcd",
   "metadata": {},
   "source": [
    "### 문자열 함수\n",
    "- count() : 문자열에 포함된 문자의 개수를 세어주는 함수\n",
    "- strip() : 문자열 양 옆에 있는 공백을 지워주는 함수\n",
    "- replace('문자1', '문자2') : 문자1을 문자2로 바꿔주는 함수\n",
    "- split(): 문자열을 나누어주는 함수"
   ]
  },
  {
   "cell_type": "code",
   "execution_count": 91,
   "id": "bd737d04",
   "metadata": {},
   "outputs": [
    {
     "data": {
      "text/plain": [
       "'안녕하세요'"
      ]
     },
     "execution_count": 91,
     "metadata": {},
     "output_type": "execute_result"
    }
   ],
   "source": [
    "\"안녕하세요    \".strip()"
   ]
  },
  {
   "attachments": {
    "image.png": {
     "image/png": "[encoded data removed]"
    }
   },
   "cell_type": "markdown",
   "id": "ef0574fc",
   "metadata": {},
   "source": [
    "![image.png](attachment:image.png)"
   ]
  },
  {
   "cell_type": "code",
   "execution_count": 92,
   "id": "d0185daf",
   "metadata": {},
   "outputs": [
    {
     "name": "stdout",
     "output_type": "stream",
     "text": [
      "1.4285714285714286\n",
      "3\n",
      "1\n"
     ]
    }
   ],
   "source": [
    "num1 =10\n",
    "num2 =7\n",
    "print(num1/num2)\n",
    "print(num1%num2)\n",
    "print(num1//num2)"
   ]
  },
  {
   "cell_type": "code",
   "execution_count": 93,
   "id": "f770357b",
   "metadata": {},
   "outputs": [
    {
     "name": "stdout",
     "output_type": "stream",
     "text": [
      "안녕하세요\n"
     ]
    }
   ],
   "source": [
    "str1 = '안녕'\n",
    "str2 = '하세요'\n",
    "print(str1+str2)"
   ]
  },
  {
   "cell_type": "code",
   "execution_count": 98,
   "id": "39b69357",
   "metadata": {},
   "outputs": [
    {
     "name": "stdout",
     "output_type": "stream",
     "text": [
      "107\n"
     ]
    }
   ],
   "source": [
    "str1='10'\n",
    "str2='7'\n",
    "print(str1+str2)"
   ]
  },
  {
   "cell_type": "code",
   "execution_count": 101,
   "id": "1ddfd775",
   "metadata": {},
   "outputs": [
    {
     "name": "stdout",
     "output_type": "stream",
     "text": [
      "107\n"
     ]
    }
   ],
   "source": [
    "num1=10\n",
    "str2=\"7\"\n",
    "print(str(num1)+str2)"
   ]
  },
  {
   "cell_type": "code",
   "execution_count": 108,
   "id": "a8afcabe",
   "metadata": {},
   "outputs": [
    {
     "name": "stdout",
     "output_type": "stream",
     "text": [
      "더하기 결과 : 26\n",
      "빼기 결과 : 20\n",
      "곱하기 결과 : 69\n",
      "나누기 결과 : 7.666666666666667\n"
     ]
    }
   ],
   "source": [
    "num1 =23\n",
    "num2 =3\n",
    "print(\"더하기 결과 :\",(num1+num2))\n",
    "print(\"빼기 결과 :\",(num1-num2))\n",
    "print(\"곱하기 결과 :\",(num1*num2))\n",
    "print(\"나누기 결과 :\",(num1/num2))\n"
   ]
  },
  {
   "cell_type": "code",
   "execution_count": 117,
   "id": "23d36244",
   "metadata": {},
   "outputs": [
    {
     "name": "stdout",
     "output_type": "stream",
     "text": [
      "첫 번째 정수를 입력하세요>>20\n",
      "두 번째 정수를 입력하세요>>3\n",
      "더하기 결과 : 23\n",
      "빼기 결과 : 17\n",
      "곱하기 결과 : 60\n",
      "나누기 결과 : 6.666666666666667\n"
     ]
    }
   ],
   "source": [
    "num1= int(input(\"첫 번째 정수를 입력하세요>>\"))\n",
    "num2= int(input(\"두 번째 정수를 입력하세요>>\"))\n",
    "\n",
    "print(f\"더하기 결과 : {num1+num2}\")\n",
    "print(f\"빼기 결과 : {num1-num2}\")\n",
    "print(f\"곱하기 결과 : {num1*num2}\")\n",
    "print(f\"나누기 결과 : {num1/num2}\")\n",
    "\n"
   ]
  },
  {
   "cell_type": "markdown",
   "id": "63f171a9",
   "metadata": {},
   "source": [
    "### input 입력 받아서 산술 연산 하기\n",
    "- 합계와 평균 구하기\n"
   ]
  },
  {
   "cell_type": "code",
   "execution_count": 119,
   "id": "3114ac17",
   "metadata": {},
   "outputs": [
    {
     "name": "stdout",
     "output_type": "stream",
     "text": [
      "python 점수입력 >>50\n",
      "머신러닝 점수입력 >>50\n",
      "딥러닝 점수입력 >>50\n",
      "합계 :150\n",
      "평균 :50.0\n"
     ]
    }
   ],
   "source": [
    "num1 = int(input(\"python 점수입력 >>\"))\n",
    "num2 = int(input(\"머신러닝 점수입력 >>\"))\n",
    "num3 =int(input(\"딥러닝 점수입력 >>\"))\n",
    "print(f\"합계 :{num1+num2+num3}\")\n",
    "print(f\"평균 :{(num1+num2+num3)/3}\")"
   ]
  },
  {
   "cell_type": "code",
   "execution_count": 121,
   "id": "1562b8df",
   "metadata": {},
   "outputs": [
    {
     "name": "stdout",
     "output_type": "stream",
     "text": [
      "xxxxxxxxxx\n",
      "안녕하세요안녕하세요\n"
     ]
    }
   ],
   "source": [
    "s=\"x\"\n",
    "print(s*10)\n",
    "s=\"안녕하세요\"\n",
    "print(s*2)"
   ]
  },
  {
   "cell_type": "markdown",
   "id": "39814310",
   "metadata": {},
   "source": [
    "### 지수연산자\n",
    "- **기호 사용 (** :지수)"
   ]
  },
  {
   "cell_type": "code",
   "execution_count": 123,
   "id": "a6999bec",
   "metadata": {},
   "outputs": [
    {
     "name": "stdout",
     "output_type": "stream",
     "text": [
      "정수입력>>2\n",
      "지수입력>>3\n",
      "2의 3승은 8입니다.\n"
     ]
    }
   ],
   "source": [
    "num1 =int(input(\"정수입력>>\"))\n",
    "num2 =int(input(\"지수입력>>\"))\n",
    "print(f\"{num1}의 {num2}승은 {num**num2}입니다.\")"
   ]
  },
  {
   "cell_type": "markdown",
   "id": "703b740b",
   "metadata": {},
   "source": [
    "### 초를 입력받아 시/분/초로 나누는 알고리즘"
   ]
  },
  {
   "cell_type": "code",
   "execution_count": 128,
   "id": "ccd55eee",
   "metadata": {},
   "outputs": [
    {
     "name": "stdout",
     "output_type": "stream",
     "text": [
      "시간 입력>>7533\n",
      "2시간 5분 33초\n"
     ]
    }
   ],
   "source": [
    "time = int(input(\"시간 입력>>\"))\n",
    "hour =time//3600\n",
    "minute=time%3600//60\n",
    "second=time%3600%60\n",
    "print(f\"{hour}시간 {minute}분 {second}초\")"
   ]
  },
  {
   "cell_type": "markdown",
   "id": "d4807a1c",
   "metadata": {},
   "source": [
    "### 삼항 연산자\n",
    "- 주어진 조건식에서 참인 경우 조건식의 왼쪽부분 실행\n",
    "  - 그게 아니라면 오른쪽 부분을 실행"
   ]
  },
  {
   "cell_type": "code",
   "execution_count": 129,
   "id": "578ad138",
   "metadata": {},
   "outputs": [
    {
     "data": {
      "text/plain": [
       "'합격'"
      ]
     },
     "execution_count": 129,
     "metadata": {},
     "output_type": "execute_result"
    }
   ],
   "source": [
    "score = 80\n",
    "\"합격\" if score >= 60 else \"불합격\""
   ]
  },
  {
   "cell_type": "code",
   "execution_count": 134,
   "id": "251239da",
   "metadata": {},
   "outputs": [
    {
     "name": "stdout",
     "output_type": "stream",
     "text": [
      "정수 입력>>3\n",
      "3는홀수입니다.\n"
     ]
    }
   ],
   "source": [
    "num1 = int(input(\"정수 입력>>\"))\n",
    "num2=\"짝수\" if num1%2==0 else \"홀수\"\n",
    "print(f\"{num1}는{num2}입니다.\")"
   ]
  },
  {
   "cell_type": "code",
   "execution_count": 138,
   "id": "8dfeaaea",
   "metadata": {},
   "outputs": [
    {
     "name": "stdout",
     "output_type": "stream",
     "text": [
      "첫 번째 정수입력>>5\n",
      "두 번째 정수입력>>2\n",
      "두수의 차: 3\n"
     ]
    }
   ],
   "source": [
    "num1 =int(input(\"첫 번째 정수입력>>\"))\n",
    "num2 =int(input(\"두 번째 정수입력>>\"))\n",
    "num3 =num1-num2\n",
    "num4 =num2-num1\n",
    "num5=num3 if num1 >=num2 else num4\n",
    "print(f\"두수의 차: {num5}\")"
   ]
  },
  {
   "cell_type": "markdown",
   "id": "7427c28b",
   "metadata": {},
   "source": [
    "### 조건문\n",
    "- 키워드 시작 후 끝나는 지점을 콜론으로 마무리 지어주기\n",
    "- 실행문장을 들여쓰기 해주기"
   ]
  },
  {
   "cell_type": "code",
   "execution_count": 139,
   "id": "ec95308b",
   "metadata": {},
   "outputs": [
    {
     "name": "stdout",
     "output_type": "stream",
     "text": [
      "실행문장 실행\n"
     ]
    }
   ],
   "source": [
    "if True:\n",
    "    print(\"실행문장 실행\")"
   ]
  },
  {
   "cell_type": "code",
   "execution_count": 140,
   "id": "3d792c2c",
   "metadata": {},
   "outputs": [],
   "source": [
    "if False:\n",
    "    print(\"아닌 경우\")"
   ]
  },
  {
   "cell_type": "code",
   "execution_count": 145,
   "id": "b53b2c17",
   "metadata": {},
   "outputs": [
    {
     "name": "stdout",
     "output_type": "stream",
     "text": [
      "버스를 탄다\n"
     ]
    }
   ],
   "source": [
    "money = 9000\n",
    "if money>=10000:\n",
    "    print(\"택시를 탄다\")\n",
    "else :\n",
    "    print(\"버스를 탄다\")"
   ]
  },
  {
   "cell_type": "markdown",
   "id": "71bd3f4a",
   "metadata": {},
   "source": [
    "### and 연산자\n",
    "- \"이면서\"\n",
    "\n",
    "### else:\n",
    "- if문과 같은 선상에 놓아주기"
   ]
  },
  {
   "cell_type": "code",
   "execution_count": 149,
   "id": "e6204412",
   "metadata": {},
   "outputs": [
    {
     "name": "stdout",
     "output_type": "stream",
     "text": [
      "정수 입력>>>15\n",
      "3과 5의 배수입니다.\n"
     ]
    }
   ],
   "source": [
    "num=int(input(\"정수 입력>>>\"))\n",
    "if num%3==0 and num%5==0:\n",
    "    print(\"3과 5의 배수입니다.\")\n",
    "else :\n",
    "        print(\"3과 5의 배수가 아닙니다\")"
   ]
  },
  {
   "cell_type": "code",
   "execution_count": 152,
   "id": "19021577",
   "metadata": {},
   "outputs": [
    {
     "name": "stdout",
     "output_type": "stream",
     "text": [
      "첫 번째 정수입력>>7\n",
      "두 번째 정수입력>>7\n",
      "두 수가 똑같습니다.\n"
     ]
    }
   ],
   "source": [
    "# elif 문법\n",
    "num1 =int(input(\"첫 번째 정수입력>>\"))\n",
    "num2 =int(input(\"두 번째 정수입력>>\"))\n",
    "if num1>num2:\n",
    "    print(\"첫 번째 정수가 더 큽니다.\")\n",
    "elif num2>num1:\n",
    "    print(\"두 번째 정수가 더 큽니다.\")\n",
    "else :\n",
    "    print(\"두 수가 똑같습니다.\")"
   ]
  },
  {
   "cell_type": "markdown",
   "id": "b238d3fa",
   "metadata": {},
   "source": [
    "### 조건문 주의할 점\n",
    "- if문이 시작했고 elif의 새로운 조건을 넣어줄 때 처음 시작했던 if문과 같은 선상\n",
    "  에 두어야 한다.\n",
    "- 들여쓰기의 중요성 "
   ]
  },
  {
   "cell_type": "code",
   "execution_count": 9,
   "id": "7d1ecb5c",
   "metadata": {},
   "outputs": [
    {
     "name": "stdout",
     "output_type": "stream",
     "text": [
      "점수 입력>>90\n",
      "90점은 A학점 입니다.\n"
     ]
    }
   ],
   "source": [
    "score = int(input(\"점수 입력>>\"))\n",
    "\n",
    "if 100>=score>=90:\n",
    "    print(f\"{score}점은 A학점 입니다.\")\n",
    "elif 90>score>=80:\n",
    "    print(f\"{score}점은 B학점 입니다.\")\n",
    "elif 80>score>=70:\n",
    "    print(f\"{score}점은 C학점 입니다.\")\n",
    "elif 70>score>=60:\n",
    "    print(f\"{score}점은 D학점 입니다.\")\n",
    "elif 60>score:\n",
    "    print(f\"{score}점은 F학점 입니다.\")\n",
    "    "
   ]
  },
  {
   "cell_type": "markdown",
   "id": "d8d2a999",
   "metadata": {},
   "source": [
    "### 리스트\n",
    "- 파이썬의 자료구조 형태이다.\n",
    "- 순서가 있는(인덱스) 수정가능한 객체의 집합\n",
    "- 대괄호[] 작성되어지며, 리스트 내부의 값은 콤마(,)로 구분\n",
    "- 추가,수정,삭제 가능★"
   ]
  },
  {
   "cell_type": "code",
   "execution_count": 16,
   "id": "4c60a993",
   "metadata": {},
   "outputs": [
    {
     "name": "stdout",
     "output_type": "stream",
     "text": [
      "2\n",
      "9\n",
      "17\n"
     ]
    }
   ],
   "source": [
    "#리스트 인덱싱\n",
    "list1 = [2,5,7,9,10] \n",
    "\n",
    "print(list1[0])\n",
    "print(list1[3])\n",
    "print(list1[2]+list1[4])"
   ]
  },
  {
   "cell_type": "code",
   "execution_count": 24,
   "id": "88c3d532",
   "metadata": {},
   "outputs": [
    {
     "name": "stdout",
     "output_type": "stream",
     "text": [
      "b\n",
      "b\n"
     ]
    }
   ],
   "source": [
    "list2=[1,2,3,['a','b','c']]\n",
    "temp= list2[3]\n",
    "print(temp[1])\n",
    "\n",
    "#리스트안에 있는 리스트 인덱싱 방법\n",
    "print(list2[3][1])"
   ]
  },
  {
   "cell_type": "code",
   "execution_count": 30,
   "id": "eb60e6d3",
   "metadata": {},
   "outputs": [
    {
     "data": {
      "text/plain": [
       "[0, 1, 2, 3, 4]"
      ]
     },
     "execution_count": 30,
     "metadata": {},
     "output_type": "execute_result"
    }
   ],
   "source": [
    "list3= [0,1,2,3,4]\n",
    "list3[1:3]\n",
    "\n",
    "#아무런 값을 입력하지 않았을 때\n",
    "#콜론을 기준으로 처음부터 :끝까지 라는 의미\n",
    "list3\n",
    "list3[:]"
   ]
  },
  {
   "cell_type": "code",
   "execution_count": 31,
   "id": "68a0a028",
   "metadata": {},
   "outputs": [
    {
     "data": {
      "text/plain": [
       "[1, 2, 3, 3, 4, 5, 6]"
      ]
     },
     "execution_count": 31,
     "metadata": {},
     "output_type": "execute_result"
    }
   ],
   "source": [
    "#리스트끼리의 연산은 불가능하다. (like 문자열 연산)\n",
    "#리스트끼리 연산할 수 있는 방법은 따로 있다.\n",
    "list4 = [1,2,3]\n",
    "list5 = [3,4,5,6]\n",
    "list4+list5"
   ]
  },
  {
   "cell_type": "markdown",
   "id": "96230798",
   "metadata": {},
   "source": [
    "### append() 함수\n",
    "- 맨 뒤에 값 추가하는 함수\n",
    "- 리스트.append(추가하고싶은 값)"
   ]
  },
  {
   "cell_type": "code",
   "execution_count": 35,
   "id": "18556d5b",
   "metadata": {},
   "outputs": [
    {
     "data": {
      "text/plain": [
       "[0, 1, 2, 3, 4, 5, 500, 900]"
      ]
     },
     "execution_count": 35,
     "metadata": {},
     "output_type": "execute_result"
    }
   ],
   "source": [
    "list5 =[0,1,2,3,4]\n",
    "list5 =[0,1,2,3,4,5]\n",
    "list5 =[0,1,2,3,4,5,500]\n",
    "\n",
    "\n",
    "list5.append(900)\n",
    "list5"
   ]
  },
  {
   "cell_type": "code",
   "execution_count": 37,
   "id": "2148c3cb",
   "metadata": {},
   "outputs": [
    {
     "data": {
      "text/plain": [
       "[0, 5, 1, 2, 3, 4]"
      ]
     },
     "execution_count": 37,
     "metadata": {},
     "output_type": "execute_result"
    }
   ],
   "source": [
    "list6 = [0,1,2,3,4]\n",
    "list6.insert(1,5)\n",
    "list6"
   ]
  },
  {
   "cell_type": "code",
   "execution_count": 46,
   "id": "dd71193f",
   "metadata": {},
   "outputs": [
    {
     "name": "stdout",
     "output_type": "stream",
     "text": [
      "수정전 : 1\n",
      "수정후 : 7\n",
      "[0, 7, 2, 3, 4]\n",
      "[2, 3]\n",
      "[0, 7, 7, 4]\n"
     ]
    }
   ],
   "source": [
    "#리스트의 값을 수정할 때는 똑같은 리스트로 넣어줘야 한다.\n",
    "\n",
    "list6 =[0,1,2,3,4]\n",
    "list6\n",
    "print(\"수정전 :\",list6[1])\n",
    "list6[1]=7\n",
    "print(\"수정후 :\",list6[1])\n",
    "print(list6)\n",
    "print(list6[2:4])\n",
    "list6[2:4]=[7]\n",
    "print(list6)"
   ]
  },
  {
   "cell_type": "code",
   "execution_count": 53,
   "id": "c9b30e09",
   "metadata": {},
   "outputs": [
    {
     "data": {
      "text/plain": [
       "[0, 2, 5]"
      ]
     },
     "execution_count": 53,
     "metadata": {},
     "output_type": "execute_result"
    }
   ],
   "source": [
    "#del : 원하는 값을 지우는 명령어\n",
    "list7 =[0,1,2,3,4,5]\n",
    "del list7[1]\n",
    "list7\n",
    "\n",
    "#범위를 지워줄 때\n",
    "del list7[2:4]\n",
    "list7"
   ]
  },
  {
   "cell_type": "code",
   "execution_count": 59,
   "id": "d6a25ce8",
   "metadata": {},
   "outputs": [
    {
     "data": {
      "text/plain": [
       "['a', 'b', 'c', 'e', 'c', 'c,']"
      ]
     },
     "execution_count": 59,
     "metadata": {},
     "output_type": "execute_result"
    }
   ],
   "source": [
    "# 리스트.remove(값) : 원하는 값을 직접 찾아와서 지우는 함수\n",
    "# remove 함수는 원하는 값을 전부 다 지우기x\n",
    "# 하지만 다른 방법을 통해 가능하다.\n",
    "list7 = ['a','b','c','d','e','c','c,']\n",
    "list7.remove('d')\n",
    "\n",
    "list7"
   ]
  },
  {
   "cell_type": "code",
   "execution_count": 63,
   "id": "2c798789",
   "metadata": {},
   "outputs": [
    {
     "data": {
      "text/plain": [
       "[3, 9, 13, 51, 77, 100]"
      ]
     },
     "execution_count": 63,
     "metadata": {},
     "output_type": "execute_result"
    }
   ],
   "source": [
    "# 리스트.sort():리스트에 있는 값을 오름차순(기본값)으로 정렬해주는 함수\n",
    "list8 = [9,77,13,51,100,3]\n",
    "list8.sort()\n",
    "list8"
   ]
  },
  {
   "cell_type": "code",
   "execution_count": 64,
   "id": "d74bf946",
   "metadata": {},
   "outputs": [
    {
     "data": {
      "text/plain": [
       "[100, 77, 51, 13, 9, 3]"
      ]
     },
     "execution_count": 64,
     "metadata": {},
     "output_type": "execute_result"
    }
   ],
   "source": [
    "#리스트.reverse() : 리스트에 있는 값을 역순(기본값)으로 뒤집음\n",
    "list8.reverse()\n",
    "list8"
   ]
  },
  {
   "cell_type": "code",
   "execution_count": 65,
   "id": "b1496dea",
   "metadata": {},
   "outputs": [
    {
     "data": {
      "text/plain": [
       "3"
      ]
     },
     "execution_count": 65,
     "metadata": {},
     "output_type": "execute_result"
    }
   ],
   "source": [
    "#리스트.index() : 찾고자 하는 값의 위치를 알려준다.\n",
    "list7.index('e')"
   ]
  },
  {
   "cell_type": "code",
   "execution_count": 67,
   "id": "34c52d66",
   "metadata": {},
   "outputs": [
    {
     "data": {
      "text/plain": [
       "['a', 'b', 'c', 'e']"
      ]
     },
     "execution_count": 67,
     "metadata": {},
     "output_type": "execute_result"
    }
   ],
   "source": [
    "#리스트.pop() : 마지막 값을 리시트에서 제거해주는 함수 append의 반대\n",
    "list7.pop()\n",
    "list7"
   ]
  },
  {
   "cell_type": "code",
   "execution_count": 68,
   "id": "16560a2a",
   "metadata": {},
   "outputs": [
    {
     "data": {
      "text/plain": [
       "4"
      ]
     },
     "execution_count": 68,
     "metadata": {},
     "output_type": "execute_result"
    }
   ],
   "source": [
    "# len(리스트) :리스트의 값 개수를 알려주는 함수\n",
    "len(list7)"
   ]
  },
  {
   "cell_type": "markdown",
   "id": "838c214a",
   "metadata": {},
   "source": [
    "### 튜플(tuple)\n",
    "- 파이썬의 자료구조 형태중 하나\n",
    "- 순서가 있는(인덱스 번호가 있음) 집합\n",
    "- 소활호() 로 작성되어지며, 튜플의 내부 값은 콤마(,)로 구분\n",
    "- 추가,수정,삭제 불가능★"
   ]
  },
  {
   "cell_type": "code",
   "execution_count": 70,
   "id": "18a9e249",
   "metadata": {},
   "outputs": [
    {
     "data": {
      "text/plain": [
       "'c'"
      ]
     },
     "execution_count": 70,
     "metadata": {},
     "output_type": "execute_result"
    }
   ],
   "source": [
    "# 튜플 인덱싱\n",
    "\n",
    "tuple1 = (0,1,2,3,('a','b','c'),5)\n",
    "tuple1[4][2]"
   ]
  },
  {
   "cell_type": "code",
   "execution_count": 71,
   "id": "3133fe69",
   "metadata": {},
   "outputs": [
    {
     "data": {
      "text/plain": [
       "(1, 2)"
      ]
     },
     "execution_count": 71,
     "metadata": {},
     "output_type": "execute_result"
    }
   ],
   "source": [
    "# 튜플 슬라이싱\n",
    "tuple1[1:3]\n",
    "\n",
    "# 전체를 슬라이싱 해오고 싶을 때\n",
    "tuple1[:]"
   ]
  },
  {
   "cell_type": "code",
   "execution_count": 72,
   "id": "65ae568c",
   "metadata": {},
   "outputs": [
    {
     "data": {
      "text/plain": [
       "6"
      ]
     },
     "execution_count": 72,
     "metadata": {},
     "output_type": "execute_result"
    }
   ],
   "source": [
    "# len(튜플) : 튜플의 값 개수를 알려주는 함수\n",
    "len(tuple1)"
   ]
  },
  {
   "cell_type": "code",
   "execution_count": 76,
   "id": "4d682130",
   "metadata": {},
   "outputs": [
    {
     "data": {
      "text/plain": [
       "[1, 2, 4]"
      ]
     },
     "execution_count": 76,
     "metadata": {},
     "output_type": "execute_result"
    }
   ],
   "source": [
    "# 리스트 값 수정하기\n",
    "# 수정 할 인덱스에 접근해서 리스트로 감싸주어야 한다.\n",
    "list10 = [1,2,3]\n",
    "list10[2] = 4\n",
    "list10"
   ]
  },
  {
   "cell_type": "code",
   "execution_count": 82,
   "id": "701aa8f1",
   "metadata": {},
   "outputs": [
    {
     "name": "stdout",
     "output_type": "stream",
     "text": [
      "(0, 1, 2, 3, ('a', 'b', 'c'), 5)\n"
     ]
    },
    {
     "data": {
      "text/plain": [
       "(0, 1, 2, 3, ('a', 'b', 'c'), 5)"
      ]
     },
     "execution_count": 82,
     "metadata": {},
     "output_type": "execute_result"
    }
   ],
   "source": [
    "# 튜플에서는?\n",
    "print(tuple1)\n",
    "tuple1\n"
   ]
  },
  {
   "cell_type": "markdown",
   "id": "daaacd19",
   "metadata": {},
   "source": [
    "# 리스트와 튜플의 공통점\n",
    "- 타입과 상관 없이 일련의 요소를 가질 수 있다.\n",
    "- 요소에 순서를 관리한다.\n",
    "\n",
    "# 차이점\n",
    "- 리스트는 가변적이다. 튜플은 불변적이다.\n",
    "- 리스트는 요소가 몇 개 들어갈지 명확하지 않은 경우에 사용\n",
    "- 튜플은 요소 개수를 사전에 정확히 알고 있을 경우에 사용"
   ]
  },
  {
   "cell_type": "code",
   "execution_count": 83,
   "id": "c3dfd9c2",
   "metadata": {},
   "outputs": [
    {
     "data": {
      "text/plain": [
       "'파이썬 최고'"
      ]
     },
     "execution_count": 83,
     "metadata": {},
     "output_type": "execute_result"
    }
   ],
   "source": [
    "#in : 찾고자 하는 값이 포함되어 있으면 True\n",
    "str1 =\"파이썬 최고\"\n",
    "\"최고\" in str1"
   ]
  },
  {
   "cell_type": "code",
   "execution_count": 86,
   "id": "6628dec4",
   "metadata": {},
   "outputs": [
    {
     "data": {
      "text/plain": [
       "False"
      ]
     },
     "execution_count": 86,
     "metadata": {},
     "output_type": "execute_result"
    }
   ],
   "source": [
    "# not in : 찾고자 하는 값이 포함되어 있지 않으면 True\n",
    "\"파이썬\" not in str1"
   ]
  },
  {
   "cell_type": "code",
   "execution_count": 87,
   "id": "bbc99c5a",
   "metadata": {},
   "outputs": [
    {
     "data": {
      "text/plain": [
       "[77, 38, 10]"
      ]
     },
     "execution_count": 87,
     "metadata": {},
     "output_type": "execute_result"
    }
   ],
   "source": [
    "list11 = [77,38,10]\n",
    "list11"
   ]
  },
  {
   "cell_type": "code",
   "execution_count": 88,
   "id": "2ba99b02",
   "metadata": {},
   "outputs": [
    {
     "data": {
      "text/plain": [
       "False"
      ]
     },
     "execution_count": 88,
     "metadata": {},
     "output_type": "execute_result"
    }
   ],
   "source": [
    "33 in list11"
   ]
  },
  {
   "cell_type": "code",
   "execution_count": 91,
   "id": "6ac46f91",
   "metadata": {},
   "outputs": [
    {
     "name": "stdout",
     "output_type": "stream",
     "text": [
      "파이썬최고!!\n",
      "파이썬최고!!\n",
      "파이썬최고!!\n",
      "파이썬최고!!\n",
      "파이썬최고!!\n",
      "파이썬최고!!\n",
      "파이썬최고!!\n",
      "파이썬최고!!\n",
      "파이썬최고!!\n",
      "파이썬최고!!\n",
      "파이썬최고!!\n",
      "파이썬최고!!\n",
      "파이썬최고!!\n"
     ]
    }
   ],
   "source": [
    "#while문\n",
    "#while문 사용하여 \"파이썬최고 \" 13번 출력\n",
    "\n",
    "\n",
    "num1 = 1\n",
    "while num1<=13:\n",
    "    print(\"파이썬최고!!\")\n",
    "    num1+=1"
   ]
  },
  {
   "cell_type": "code",
   "execution_count": 103,
   "id": "4b3c7491",
   "metadata": {},
   "outputs": [
    {
     "name": "stdout",
     "output_type": "stream",
     "text": [
      "무한루프\n",
      "무한루프\n"
     ]
    }
   ],
   "source": [
    "# break\n",
    "\n",
    "while True:\n",
    "    print(\"무한루프\")\n",
    "    print(\"무한루프\")\n",
    "    \n",
    "    break"
   ]
  },
  {
   "cell_type": "code",
   "execution_count": 105,
   "id": "f86b6cd9",
   "metadata": {},
   "outputs": [
    {
     "name": "stdout",
     "output_type": "stream",
     "text": [
      "1\n",
      "2\n",
      "3\n",
      "4\n",
      "5\n"
     ]
    }
   ],
   "source": [
    "number =1\n",
    "\n",
    "while True:\n",
    "    print(number)\n",
    "    number +=1\n",
    "    if number >5:\n",
    "        break"
   ]
  },
  {
   "cell_type": "code",
   "execution_count": 121,
   "id": "a51d198c",
   "metadata": {},
   "outputs": [
    {
     "name": "stdout",
     "output_type": "stream",
     "text": [
      "첫 번째 정수입력>>5\n",
      "두 번째 정수입력>>4\n",
      "두 정수의 합 : 9\n",
      "첫 번째 정수입력>>8\n",
      "두 번째 정수입력>>7\n",
      "두 정수의 합 : 15\n",
      "첫 번째 정수입력>>0\n",
      "두 번째 정수입력>>0\n",
      "프로그램 종료\n"
     ]
    }
   ],
   "source": [
    "\n",
    "while True: \n",
    "    num1=int(input(\"첫 번째 정수입력>>\"))\n",
    "    num2=int(input(\"두 번째 정수입력>>\"))\n",
    "    if num1==0 and num2==0: \n",
    "        print(\"프로그램 종료\") \n",
    "        break\n",
    "        \n",
    "    \n",
    "    print(\"두 정수의 합 :\",num1+num2)\n",
    "#print(\"프로그램 종료\")    "
   ]
  },
  {
   "cell_type": "code",
   "execution_count": 123,
   "id": "2f14ff90",
   "metadata": {},
   "outputs": [],
   "source": [
    "# 라이브러리 random 불러오기ㅣ\n",
    "# 주피터 노트북 실행 후 1회만 실행하면 재실행 안해도 됨\n",
    "#단! 껐다 켰으면 재 실행 해주어야 함\n",
    "import random"
   ]
  },
  {
   "cell_type": "code",
   "execution_count": 165,
   "id": "30bd448d",
   "metadata": {},
   "outputs": [
    {
     "data": {
      "text/plain": [
       "7"
      ]
     },
     "execution_count": 165,
     "metadata": {},
     "output_type": "execute_result"
    }
   ],
   "source": [
    "#1~10 사이의 랜덤한 숫자 추출하기\n",
    "# randint(시작값,끝값)\n",
    "num1=random.randint(1,10)\n",
    "num1"
   ]
  },
  {
   "cell_type": "code",
   "execution_count": 184,
   "id": "16db992b",
   "metadata": {},
   "outputs": [
    {
     "name": "stdout",
     "output_type": "stream",
     "text": [
      "숫자를 입력하세요>>30\n",
      "30보다 작은 값입니다.\n",
      "숫자를 입력하세요>>20\n",
      "20보다 작은 값입니다.\n",
      "숫자를 입력하세요>>10\n",
      "10 보다 큰 값입니다.\n",
      "숫자를 입력하세요>>15\n",
      "15보다 작은 값입니다.\n",
      "숫자를 입력하세요>>13\n",
      "정답을 맞추셨습니다.\n"
     ]
    }
   ],
   "source": [
    "x=random.randint(1,50)\n",
    "while True:\n",
    "   \n",
    "    y=int(input(\"숫자를 입력하세요>>\"))\n",
    "    if y>x:\n",
    "        print(str(y)+\"보다 작은 값입니다.\")\n",
    "    elif x>y:\n",
    "        print(y,\"보다 큰 값입니다.\")\n",
    "    elif x==y:\n",
    "        print(\"정답을 맞추셨습니다.\")\n",
    "        break"
   ]
  },
  {
   "cell_type": "markdown",
   "id": "13be8a69",
   "metadata": {},
   "source": [
    "###  for문"
   ]
  },
  {
   "cell_type": "code",
   "execution_count": 185,
   "id": "0a82db50",
   "metadata": {},
   "outputs": [
    {
     "name": "stdout",
     "output_type": "stream",
     "text": [
      "피자\n",
      "마라탕\n",
      "고기\n"
     ]
    }
   ],
   "source": [
    "#for문 문법\n",
    "list_food =['피자','마라탕','고기']\n",
    "\n",
    "for i in list_food:\n",
    "    print(i)"
   ]
  },
  {
   "cell_type": "code",
   "execution_count": 187,
   "id": "41d95285",
   "metadata": {},
   "outputs": [
    {
     "name": "stdout",
     "output_type": "stream",
     "text": [
      "안\n",
      "녕\n",
      " \n",
      "하\n",
      "세\n",
      "요\n"
     ]
    }
   ],
   "source": [
    "#for문 예시\n",
    "\n",
    "hi = \"안녕 하세요\"\n",
    "\n",
    "for i in hi :\n",
    "    print(i)"
   ]
  },
  {
   "cell_type": "code",
   "execution_count": 188,
   "id": "166682cc",
   "metadata": {},
   "outputs": [
    {
     "name": "stdout",
     "output_type": "stream",
     "text": [
      "햄버거\n",
      "치킨\n",
      "피자\n"
     ]
    }
   ],
   "source": [
    "#for문 예시 (튜플)\n",
    "\n",
    "tuple_foor =('햄버거','치킨','피자')\n",
    "\n",
    "for i in tuple_foor:\n",
    "    print(i)"
   ]
  },
  {
   "cell_type": "code",
   "execution_count": 204,
   "id": "6ada2de6",
   "metadata": {},
   "outputs": [
    {
     "name": "stdout",
     "output_type": "stream",
     "text": [
      "1번 학생은 합격입니다.\n",
      "2번 학생은 불합격입니다.\n",
      "3번 학생은 합격입니다.\n",
      "4번 학생은 합격입니다.\n",
      "5번 학생은 불합격입니다.\n"
     ]
    }
   ],
   "source": [
    "# for문 실습 예제\n",
    "score_list = [90,45,70,60,55]\n",
    "score_list\n",
    "\n",
    "\n",
    "for i in score_list:\n",
    "    if i>=60:\n",
    "        print(str(score_list.index(i)+1)+\"번 학생은 합격입니다.\")\n",
    "    else :\n",
    "        print(str(score_list.index(i)+1)+\"번 학생은 불합격입니다.\")"
   ]
  },
  {
   "cell_type": "markdown",
   "id": "9684da15",
   "metadata": {},
   "source": [
    "### range()함수\n",
    "- 필요한 만큼의 숫자를 만들어내는 \"유용힌\" 기능\n",
    "\n",
    "- range(시작할 숫자,종료할숫자,증감량)\n",
    "  - 증가량은 적지 않으면 1이 기본 값\n",
    "- range(1,10,1) : 1부터 9까지 1씩 증가\n",
    "  - 종료할 숫자는 포함x\n",
    "- range(10,1,-1) : 10부터 2까지 1씩 감소\n",
    "\n",
    "- range(기본값 0,종료할 숫자,기본값1)"
   ]
  },
  {
   "cell_type": "code",
   "execution_count": 208,
   "id": "fc06e8da",
   "metadata": {},
   "outputs": [
    {
     "name": "stdout",
     "output_type": "stream",
     "text": [
      "1\n",
      "2\n",
      "3\n",
      "4\n",
      "5\n",
      "6\n",
      "7\n",
      "8\n",
      "9\n",
      "10\n"
     ]
    }
   ],
   "source": [
    "#for 문 range()함수 사용\n",
    "\n",
    "for i in range(1,11):\n",
    "    print(i)"
   ]
  },
  {
   "cell_type": "code",
   "execution_count": 213,
   "id": "91ff397c",
   "metadata": {},
   "outputs": [
    {
     "name": "stdout",
     "output_type": "stream",
     "text": [
      "1 2 3 4 5 6 7 8 9 10 "
     ]
    }
   ],
   "source": [
    "#print() 함수 : end속성\n",
    "# 함수() 소괄호 안에 커서를 두고 shift+tab 키를 누르면 \n",
    "#여러가지 사용 가능한 속성을 살펴볼수있다\n",
    "#가로출력,나란히,옆으로\n",
    "\n",
    "for i in range(1,11):\n",
    "    print(i,end=\" \")"
   ]
  },
  {
   "cell_type": "code",
   "execution_count": 215,
   "id": "7d0b4cc8",
   "metadata": {},
   "outputs": [
    {
     "name": "stdout",
     "output_type": "stream",
     "text": [
      "0\n",
      "1\n",
      "2\n",
      "3\n",
      "4\n",
      "5\n",
      "6\n",
      "7\n",
      "8\n",
      "9\n",
      "10\n",
      "11\n",
      "12\n",
      "13\n",
      "14\n",
      "15\n",
      "16\n",
      "17\n",
      "18\n",
      "19\n",
      "20\n",
      "21\n",
      "22\n",
      "23\n",
      "24\n",
      "25\n",
      "26\n",
      "27\n",
      "28\n",
      "29\n",
      "30\n",
      "31\n",
      "32\n",
      "33\n",
      "34\n",
      "35\n",
      "36\n",
      "37\n",
      "38\n",
      "39\n",
      "40\n",
      "41\n",
      "42\n",
      "43\n",
      "44\n",
      "45\n",
      "46\n",
      "47\n",
      "48\n",
      "49\n",
      "50\n",
      "51\n",
      "52\n",
      "53\n",
      "54\n",
      "55\n",
      "56\n",
      "57\n",
      "58\n",
      "59\n",
      "60\n",
      "61\n",
      "62\n",
      "63\n",
      "64\n",
      "65\n",
      "66\n",
      "67\n",
      "68\n",
      "69\n",
      "70\n",
      "71\n",
      "72\n",
      "73\n",
      "74\n",
      "75\n",
      "76\n",
      "77\n",
      "78\n",
      "79\n",
      "80\n",
      "81\n",
      "82\n",
      "83\n",
      "84\n",
      "85\n",
      "86\n",
      "87\n",
      "88\n",
      "89\n",
      "90\n",
      "91\n",
      "92\n",
      "93\n",
      "94\n",
      "95\n",
      "96\n",
      "97\n",
      "98\n",
      "99\n",
      "100\n",
      "101\n",
      "102\n",
      "103\n",
      "104\n",
      "105\n",
      "106\n",
      "107\n",
      "108\n",
      "109\n",
      "110\n",
      "111\n",
      "112\n",
      "113\n",
      "114\n",
      "115\n",
      "116\n",
      "117\n",
      "118\n",
      "119\n",
      "120\n",
      "121\n",
      "122\n",
      "123\n",
      "124\n",
      "125\n",
      "126\n",
      "127\n",
      "128\n",
      "129\n",
      "130\n",
      "131\n",
      "132\n",
      "133\n",
      "134\n",
      "135\n",
      "136\n",
      "137\n",
      "138\n",
      "139\n",
      "140\n",
      "141\n",
      "142\n",
      "143\n",
      "144\n",
      "145\n",
      "146\n",
      "147\n",
      "148\n",
      "149\n",
      "150\n",
      "151\n",
      "152\n",
      "153\n",
      "154\n",
      "155\n",
      "156\n",
      "157\n",
      "158\n",
      "159\n",
      "160\n",
      "161\n",
      "162\n",
      "163\n",
      "164\n",
      "165\n",
      "166\n",
      "167\n",
      "168\n",
      "169\n",
      "170\n",
      "171\n",
      "172\n",
      "173\n",
      "174\n",
      "175\n",
      "176\n",
      "177\n",
      "178\n",
      "179\n",
      "180\n",
      "181\n",
      "182\n",
      "183\n",
      "184\n",
      "185\n",
      "186\n",
      "187\n",
      "188\n",
      "189\n",
      "190\n",
      "191\n",
      "192\n",
      "193\n",
      "194\n",
      "195\n",
      "196\n",
      "197\n",
      "198\n",
      "199\n",
      "200\n",
      "201\n",
      "202\n",
      "203\n",
      "204\n",
      "205\n",
      "206\n",
      "207\n",
      "208\n",
      "209\n",
      "210\n",
      "211\n",
      "212\n",
      "213\n",
      "214\n",
      "215\n",
      "216\n",
      "217\n",
      "218\n",
      "219\n",
      "220\n",
      "221\n",
      "222\n",
      "223\n",
      "224\n",
      "225\n",
      "226\n",
      "227\n",
      "228\n",
      "229\n",
      "230\n",
      "231\n",
      "232\n",
      "233\n",
      "234\n",
      "235\n",
      "236\n",
      "237\n",
      "238\n",
      "239\n",
      "240\n",
      "241\n",
      "242\n",
      "243\n",
      "244\n",
      "245\n",
      "246\n",
      "247\n",
      "248\n",
      "249\n",
      "250\n",
      "251\n",
      "252\n",
      "253\n",
      "254\n",
      "255\n",
      "256\n",
      "257\n",
      "258\n",
      "259\n",
      "260\n",
      "261\n",
      "262\n",
      "263\n",
      "264\n",
      "265\n",
      "266\n",
      "267\n",
      "268\n",
      "269\n",
      "270\n",
      "271\n",
      "272\n",
      "273\n",
      "274\n",
      "275\n",
      "276\n",
      "277\n",
      "278\n",
      "279\n",
      "280\n",
      "281\n",
      "282\n",
      "283\n",
      "284\n",
      "285\n",
      "286\n",
      "287\n",
      "288\n",
      "289\n",
      "290\n",
      "291\n",
      "292\n",
      "293\n",
      "294\n",
      "295\n",
      "296\n",
      "297\n",
      "298\n",
      "299\n",
      "300\n",
      "301\n",
      "302\n",
      "303\n",
      "304\n",
      "305\n",
      "306\n",
      "307\n",
      "308\n",
      "309\n",
      "310\n",
      "311\n",
      "312\n",
      "313\n",
      "314\n",
      "315\n",
      "316\n",
      "317\n",
      "318\n",
      "319\n",
      "320\n",
      "321\n",
      "322\n",
      "323\n",
      "324\n",
      "325\n",
      "326\n",
      "327\n",
      "328\n",
      "329\n",
      "330\n",
      "331\n",
      "332\n",
      "333\n",
      "334\n",
      "335\n",
      "336\n",
      "337\n",
      "338\n",
      "339\n",
      "340\n",
      "341\n",
      "342\n",
      "343\n",
      "344\n",
      "345\n",
      "346\n",
      "347\n",
      "348\n",
      "349\n",
      "350\n",
      "351\n",
      "352\n",
      "353\n",
      "354\n",
      "355\n",
      "356\n",
      "357\n",
      "358\n",
      "359\n",
      "360\n",
      "361\n",
      "362\n",
      "363\n",
      "364\n",
      "365\n",
      "366\n",
      "367\n",
      "368\n",
      "369\n",
      "370\n",
      "371\n",
      "372\n",
      "373\n",
      "374\n",
      "375\n",
      "376\n",
      "377\n",
      "378\n",
      "379\n",
      "380\n",
      "381\n",
      "382\n",
      "383\n",
      "384\n",
      "385\n",
      "386\n",
      "387\n",
      "388\n",
      "389\n",
      "390\n",
      "391\n",
      "392\n",
      "393\n",
      "394\n",
      "395\n",
      "396\n",
      "397\n",
      "398\n",
      "399\n",
      "400\n",
      "401\n",
      "402\n",
      "403\n",
      "404\n",
      "405\n",
      "406\n",
      "407\n",
      "408\n",
      "409\n",
      "410\n",
      "411\n",
      "412\n",
      "413\n",
      "414\n",
      "415\n",
      "416\n",
      "417\n",
      "418\n",
      "419\n",
      "420\n",
      "421\n",
      "422\n",
      "423\n",
      "424\n",
      "425\n",
      "426\n",
      "427\n",
      "428\n",
      "429\n",
      "430\n",
      "431\n",
      "432\n",
      "433\n",
      "434\n",
      "435\n",
      "436\n",
      "437\n",
      "438\n",
      "439\n",
      "440\n",
      "441\n",
      "442\n",
      "443\n",
      "444\n",
      "445\n",
      "446\n",
      "447\n",
      "448\n",
      "449\n",
      "450\n",
      "451\n",
      "452\n",
      "453\n",
      "454\n",
      "455\n",
      "456\n",
      "457\n",
      "458\n",
      "459\n",
      "460\n",
      "461\n",
      "462\n",
      "463\n",
      "464\n",
      "465\n",
      "466\n",
      "467\n",
      "468\n",
      "469\n",
      "470\n",
      "471\n",
      "472\n",
      "473\n",
      "474\n",
      "475\n",
      "476\n",
      "477\n",
      "478\n",
      "479\n",
      "480\n",
      "481\n",
      "482\n",
      "483\n",
      "484\n",
      "485\n",
      "486\n",
      "487\n",
      "488\n",
      "489\n",
      "490\n",
      "491\n",
      "492\n",
      "493\n",
      "494\n",
      "495\n",
      "496\n",
      "497\n",
      "498\n",
      "499\n",
      "500\n",
      "501\n",
      "502\n",
      "503\n",
      "504\n",
      "505\n",
      "506\n",
      "507\n",
      "508\n",
      "509\n",
      "510\n",
      "511\n",
      "512\n",
      "513\n",
      "514\n",
      "515\n",
      "516\n",
      "517\n",
      "518\n",
      "519\n",
      "520\n",
      "521\n",
      "522\n",
      "523\n",
      "524\n",
      "525\n",
      "526\n",
      "527\n",
      "528\n",
      "529\n",
      "530\n",
      "531\n",
      "532\n",
      "533\n",
      "534\n",
      "535\n",
      "536\n",
      "537\n",
      "538\n",
      "539\n",
      "540\n",
      "541\n",
      "542\n",
      "543\n",
      "544\n",
      "545\n",
      "546\n",
      "547\n",
      "548\n",
      "549\n",
      "550\n",
      "551\n",
      "552\n",
      "553\n",
      "554\n",
      "555\n",
      "556\n",
      "557\n",
      "558\n",
      "559\n",
      "560\n",
      "561\n",
      "562\n",
      "563\n",
      "564\n",
      "565\n",
      "566\n",
      "567\n",
      "568\n",
      "569\n",
      "570\n",
      "571\n",
      "572\n",
      "573\n",
      "574\n",
      "575\n",
      "576\n",
      "577\n",
      "578\n",
      "579\n",
      "580\n",
      "581\n",
      "582\n",
      "583\n",
      "584\n",
      "585\n",
      "586\n",
      "587\n",
      "588\n",
      "589\n",
      "590\n",
      "591\n",
      "592\n",
      "593\n",
      "594\n",
      "595\n",
      "596\n",
      "597\n",
      "598\n",
      "599\n",
      "600\n",
      "601\n",
      "602\n",
      "603\n",
      "604\n",
      "605\n",
      "606\n",
      "607\n",
      "608\n",
      "609\n",
      "610\n",
      "611\n",
      "612\n",
      "613\n",
      "614\n",
      "615\n",
      "616\n",
      "617\n",
      "618\n",
      "619\n",
      "620\n",
      "621\n",
      "622\n",
      "623\n",
      "624\n",
      "625\n",
      "626\n",
      "627\n",
      "628\n",
      "629\n",
      "630\n",
      "631\n",
      "632\n",
      "633\n",
      "634\n",
      "635\n",
      "636\n",
      "637\n",
      "638\n",
      "639\n",
      "640\n",
      "641\n",
      "642\n",
      "643\n",
      "644\n",
      "645\n",
      "646\n",
      "647\n",
      "648\n",
      "649\n",
      "650\n",
      "651\n",
      "652\n",
      "653\n",
      "654\n",
      "655\n",
      "656\n",
      "657\n",
      "658\n",
      "659\n",
      "660\n",
      "661\n",
      "662\n",
      "663\n",
      "664\n",
      "665\n",
      "666\n",
      "667\n",
      "668\n",
      "669\n",
      "670\n",
      "671\n",
      "672\n",
      "673\n",
      "674\n",
      "675\n",
      "676\n",
      "677\n",
      "678\n",
      "679\n",
      "680\n",
      "681\n",
      "682\n",
      "683\n",
      "684\n",
      "685\n",
      "686\n",
      "687\n",
      "688\n",
      "689\n",
      "690\n",
      "691\n",
      "692\n",
      "693\n",
      "694\n",
      "695\n",
      "696\n",
      "697\n",
      "698\n",
      "699\n",
      "700\n",
      "701\n",
      "702\n",
      "703\n",
      "704\n",
      "705\n",
      "706\n",
      "707\n",
      "708\n",
      "709\n",
      "710\n",
      "711\n",
      "712\n",
      "713\n",
      "714\n",
      "715\n",
      "716\n",
      "717\n",
      "718\n",
      "719\n",
      "720\n",
      "721\n",
      "722\n",
      "723\n",
      "724\n",
      "725\n",
      "726\n",
      "727\n",
      "728\n",
      "729\n",
      "730\n",
      "731\n",
      "732\n",
      "733\n",
      "734\n",
      "735\n",
      "736\n",
      "737\n",
      "738\n",
      "739\n",
      "740\n",
      "741\n",
      "742\n",
      "743\n",
      "744\n",
      "745\n",
      "746\n",
      "747\n",
      "748\n",
      "749\n",
      "750\n",
      "751\n",
      "752\n",
      "753\n",
      "754\n",
      "755\n",
      "756\n",
      "757\n",
      "758\n",
      "759\n",
      "760\n",
      "761\n",
      "762\n",
      "763\n",
      "764\n",
      "765\n",
      "766\n",
      "767\n",
      "768\n",
      "769\n",
      "770\n",
      "771\n",
      "772\n",
      "773\n",
      "774\n",
      "775\n",
      "776\n",
      "777\n",
      "778\n",
      "779\n",
      "780\n",
      "781\n",
      "782\n",
      "783\n",
      "784\n",
      "785\n",
      "786\n",
      "787\n",
      "788\n",
      "789\n",
      "790\n",
      "791\n",
      "792\n",
      "793\n",
      "794\n",
      "795\n",
      "796\n",
      "797\n",
      "798\n",
      "799\n",
      "800\n",
      "801\n",
      "802\n",
      "803\n",
      "804\n",
      "805\n",
      "806\n",
      "807\n",
      "808\n",
      "809\n",
      "810\n",
      "811\n",
      "812\n",
      "813\n",
      "814\n",
      "815\n",
      "816\n",
      "817\n",
      "818\n",
      "819\n",
      "820\n",
      "821\n",
      "822\n",
      "823\n",
      "824\n",
      "825\n",
      "826\n",
      "827\n",
      "828\n",
      "829\n",
      "830\n",
      "831\n",
      "832\n",
      "833\n",
      "834\n",
      "835\n",
      "836\n",
      "837\n",
      "838\n",
      "839\n",
      "840\n",
      "841\n",
      "842\n",
      "843\n",
      "844\n",
      "845\n",
      "846\n",
      "847\n",
      "848\n",
      "849\n",
      "850\n",
      "851\n",
      "852\n",
      "853\n",
      "854\n",
      "855\n",
      "856\n",
      "857\n",
      "858\n",
      "859\n",
      "860\n",
      "861\n",
      "862\n",
      "863\n",
      "864\n",
      "865\n",
      "866\n",
      "867\n",
      "868\n",
      "869\n",
      "870\n",
      "871\n",
      "872\n",
      "873\n",
      "874\n",
      "875\n",
      "876\n",
      "877\n",
      "878\n",
      "879\n",
      "880\n",
      "881\n",
      "882\n",
      "883\n",
      "884\n",
      "885\n",
      "886\n",
      "887\n",
      "888\n",
      "889\n",
      "890\n",
      "891\n",
      "892\n",
      "893\n",
      "894\n",
      "895\n",
      "896\n",
      "897\n",
      "898\n",
      "899\n",
      "900\n",
      "901\n",
      "902\n",
      "903\n",
      "904\n",
      "905\n",
      "906\n",
      "907\n",
      "908\n",
      "909\n",
      "910\n",
      "911\n",
      "912\n",
      "913\n",
      "914\n",
      "915\n",
      "916\n",
      "917\n",
      "918\n",
      "919\n",
      "920\n",
      "921\n",
      "922\n",
      "923\n",
      "924\n",
      "925\n",
      "926\n",
      "927\n",
      "928\n",
      "929\n",
      "930\n",
      "931\n",
      "932\n",
      "933\n",
      "934\n",
      "935\n",
      "936\n",
      "937\n",
      "938\n",
      "939\n",
      "940\n",
      "941\n",
      "942\n",
      "943\n",
      "944\n",
      "945\n",
      "946\n",
      "947\n",
      "948\n",
      "949\n",
      "950\n",
      "951\n",
      "952\n",
      "953\n",
      "954\n",
      "955\n",
      "956\n",
      "957\n",
      "958\n",
      "959\n",
      "960\n",
      "961\n",
      "962\n",
      "963\n",
      "964\n",
      "965\n",
      "966\n",
      "967\n",
      "968\n",
      "969\n",
      "970\n",
      "971\n",
      "972\n",
      "973\n",
      "974\n",
      "975\n",
      "976\n",
      "977\n",
      "978\n",
      "979\n",
      "980\n",
      "981\n",
      "982\n",
      "983\n",
      "984\n",
      "985\n",
      "986\n",
      "987\n",
      "988\n",
      "989\n",
      "990\n",
      "991\n",
      "992\n",
      "993\n",
      "994\n",
      "995\n",
      "996\n",
      "997\n",
      "998\n",
      "999\n",
      "1000\n",
      "1001\n"
     ]
    }
   ],
   "source": [
    "#for 문 range() 함수는 시작값 생략 가능\n",
    "# 하지만 종료할 값은 적어주어야 한다.\n",
    "for i in range(1001):\n",
    "    print(i)"
   ]
  },
  {
   "cell_type": "code",
   "execution_count": 222,
   "id": "9267df33",
   "metadata": {},
   "outputs": [
    {
     "name": "stdout",
     "output_type": "stream",
     "text": [
      "97 96 95 94 93 92 91 90 89 88 87 86 85 84 83 82 81 80 79 78 77 "
     ]
    }
   ],
   "source": [
    "for i in range(97,76,-1):\n",
    "    print(i,end=\" \")"
   ]
  },
  {
   "cell_type": "code",
   "execution_count": 221,
   "id": "71b8a237",
   "metadata": {},
   "outputs": [
    {
     "name": "stdout",
     "output_type": "stream",
     "text": [
      "23 24 25 26 27 28 29 30 31 32 33 34 35 36 37 38 39 40 "
     ]
    }
   ],
   "source": [
    "for i in range(23,41):\n",
    "    print(i,end=\" \")"
   ]
  },
  {
   "cell_type": "code",
   "execution_count": 225,
   "id": "6091a0fb",
   "metadata": {},
   "outputs": [
    {
     "name": "stdout",
     "output_type": "stream",
     "text": [
      "1 2\n",
      "3 4\n",
      "5 6\n"
     ]
    }
   ],
   "source": [
    "#for문에서 사용할 변수는 여러개 사용할 수 있다.\n",
    "#리스트속에 리스트가 있는경우(2번 접근해야하는경우) 사용한다.\n",
    "\n",
    "list1 = [[1,2],\n",
    "         [3,4],\n",
    "         [5,6]]\n",
    "\n",
    "for i,j in list1:\n",
    "    print(i,j)"
   ]
  },
  {
   "cell_type": "code",
   "execution_count": 228,
   "id": "f0034dcc",
   "metadata": {},
   "outputs": [
    {
     "name": "stdout",
     "output_type": "stream",
     "text": [
      "첫 번째 정수 입력>>1\n",
      "두 번째 정수 입력>>20\n",
      "1 2 3 4 5 6 7 8 9 10 11 12 13 14 15 16 17 18 19 20 "
     ]
    }
   ],
   "source": [
    "#for문 실습 예제\n",
    "\n",
    "start =int(input(\"첫 번째 정수 입력>>\"))\n",
    "end =int(input(\"두 번째 정수 입력>>\"))\n",
    "\n",
    "for i in range(start,end+1):\n",
    "    print(i, end=\" \")\n",
    "    \n"
   ]
  },
  {
   "cell_type": "code",
   "execution_count": 232,
   "id": "a0903a37",
   "metadata": {},
   "outputs": [
    {
     "name": "stdout",
     "output_type": "stream",
     "text": [
      "1683\n"
     ]
    }
   ],
   "source": [
    "sum1=0;\n",
    "for i in range(0,100,3):\n",
    "    sum1+=i\n",
    "print(sum1)   "
   ]
  },
  {
   "cell_type": "code",
   "execution_count": 241,
   "id": "93899d07",
   "metadata": {},
   "outputs": [
    {
     "name": "stdout",
     "output_type": "stream",
     "text": [
      "2*1=2\n",
      "2*2=4\n",
      "2*3=6\n",
      "2*4=8\n",
      "2*5=10\n",
      "2*6=12\n",
      "2*7=14\n",
      "2*8=16\n",
      "2*9=18\n"
     ]
    }
   ],
   "source": [
    "x=1\n",
    "for i in range(2,19,2):\n",
    "    print(f\"2*{x}={i}\")\n",
    "    x+=1"
   ]
  },
  {
   "cell_type": "code",
   "execution_count": 247,
   "id": "aebfaa92",
   "metadata": {},
   "outputs": [
    {
     "name": "stdout",
     "output_type": "stream",
     "text": [
      "2*1=2\n",
      "2*2=4\n",
      "2*3=6\n",
      "2*4=8\n",
      "2*5=10\n",
      "2*6=12\n",
      "2*7=14\n",
      "2*8=16\n",
      "2*9=18\n"
     ]
    }
   ],
   "source": [
    "a=2\n",
    "b=1\n",
    "while True:\n",
    "    print(f\"2*{b}={a}\")\n",
    "    a+=2\n",
    "    b+=1\n",
    "    if a>18 :\n",
    "        break"
   ]
  },
  {
   "cell_type": "code",
   "execution_count": 270,
   "id": "f3038a75",
   "metadata": {},
   "outputs": [
    {
     "name": "stdout",
     "output_type": "stream",
     "text": [
      "정수 입력>>10\n",
      "10의 약수:\n",
      "1 2 5 10  10의 약수의 합: 18\n"
     ]
    }
   ],
   "source": [
    "sum2=0;\n",
    "num = int(input(\"정수 입력>>\"))\n",
    "print(f\"{num}의 약수:\")\n",
    "for i in range(1,num+1,1):\n",
    "    if num%i==0:\n",
    "        print(f\"{i}\",end=\" \")\n",
    "        sum2+=i\n",
    "        \n",
    "print(\" \"+f\"{num}의 약수의 합: {sum2}\")       "
   ]
  },
  {
   "cell_type": "code",
   "execution_count": 395,
   "id": "8b78c3cb",
   "metadata": {},
   "outputs": [
    {
     "name": "stdout",
     "output_type": "stream",
     "text": [
      "----------------------------------------\n",
      "[1]시험점수입력 [2]성적확인 [3]종료>>3\n"
     ]
    }
   ],
   "source": [
    "## avg=0\n",
    "#ame= []\n",
    "studentScore = []\n",
    "\n",
    "\n",
    "print(\"-\"*40)\n",
    "\n",
    "while True:\n",
    "    num=int(input(\"[1]시험점수입력 [2]성적확인 [3]종료>>\"))\n",
    "    if num==1:\n",
    "        name= str(input(\"이름 입력 :\"))\n",
    "        java= int(input(\"java 점수 입력 :\"))\n",
    "        web= int(input(\"web 점수 입력 :\"))\n",
    "        #name.append(name)\n",
    "        #studentScore.append([name,java,web])\n",
    "        avg=(java+web)/2\n",
    "        if avg>=90:\n",
    "            grade='A'\n",
    "        elif avg>=80:\n",
    "            grade='B'\n",
    "        elif avg>=70:\n",
    "            grade='C'\n",
    "        elif avg>=60:\n",
    "            grade='D'\n",
    "        else :\n",
    "            grade='F'\n",
    "        studentScore.append([name,java,web,grade])\n",
    "    \n",
    "    elif num==2:\n",
    "        print(\"이름\\tJava\\tWeb\\tGrade\") \n",
    "        print(\"----------------------------------------------\")\n",
    "        #for i in studentScore:\n",
    "        for a,b,c,d in studentScore:\n",
    "            print(f\"{a}\\t{b}\\t{c}\\t{d}\")\n",
    "    elif num==3:\n",
    "        break\n",
    "\n",
    "\n",
    "\n",
    "    "
   ]
  },
  {
   "cell_type": "code",
   "execution_count": 421,
   "id": "95bb3eb0",
   "metadata": {},
   "outputs": [
    {
     "name": "stdout",
     "output_type": "stream",
     "text": [
      "이름을 입력 :박수민\n",
      "주민번호 입력(7자리) :9505203\n",
      "박수민님은 95년 05월 20일에 태어났고, 성별은 남자입니다\n"
     ]
    }
   ],
   "source": [
    "name=str(input(\"이름을 입력 :\"))\n",
    "number=str(input(\"주민번호 입력(7자리) :\"))\n",
    "\n",
    "if number[6]==\"1\"or\"3\":\n",
    "    print(f\"{name}님은 {number[:2]}년 {number[2:4]}월 {number[4:6]}일에 태어났고, 성별은 남자입니다\")\n",
    "else :\n",
    "    print(f\"{name}님은 {number[:2]}년 {number[2:4]}월 {number[4:6]}일에 태어났고, 성별은 여자입니다\")"
   ]
  },
  {
   "cell_type": "code",
   "execution_count": 468,
   "id": "caa07141",
   "metadata": {},
   "outputs": [
    {
     "name": "stdout",
     "output_type": "stream",
     "text": [
      "Life is too short,You need python."
     ]
    }
   ],
   "source": [
    "s=\".nohtyp deen uoY,trohs oot si efiL\"\n",
    "re_s=\"\"\n",
    "#for i in s:\n",
    "#    re_s=i+re_s\n",
    "\n",
    "#print(re_s)\n",
    "\n",
    "for i in range(len(s)-1,-1,-1):\n",
    "    print(s[i],end=\"\") \n",
    "    \n",
    "   "
   ]
  },
  {
   "cell_type": "code",
   "execution_count": 499,
   "id": "885b4bfb",
   "metadata": {},
   "outputs": [
    {
     "name": "stdout",
     "output_type": "stream",
     "text": [
      "2*1=2\t\n",
      "2*2=4\t\n",
      "2*3=6\t\n",
      "2*4=8\t\n",
      "2*5=10\t\n",
      "2*6=12\t\n",
      "2*7=14\t\n",
      "2*8=16\t\n",
      "2*9=18\t\n",
      "3*1=3\t\n",
      "3*2=6\t\n",
      "3*3=9\t\n",
      "3*4=12\t\n",
      "3*5=15\t\n",
      "3*6=18\t\n",
      "3*7=21\t\n",
      "3*8=24\t\n",
      "3*9=27\t\n",
      "4*1=4\t\n",
      "4*2=8\t\n",
      "4*3=12\t\n",
      "4*4=16\t\n",
      "4*5=20\t\n",
      "4*6=24\t\n",
      "4*7=28\t\n",
      "4*8=32\t\n",
      "4*9=36\t\n",
      "5*1=5\t\n",
      "5*2=10\t\n",
      "5*3=15\t\n",
      "5*4=20\t\n",
      "5*5=25\t\n",
      "5*6=30\t\n",
      "5*7=35\t\n",
      "5*8=40\t\n",
      "5*9=45\t\n",
      "6*1=6\t\n",
      "6*2=12\t\n",
      "6*3=18\t\n",
      "6*4=24\t\n",
      "6*5=30\t\n",
      "6*6=36\t\n",
      "6*7=42\t\n",
      "6*8=48\t\n",
      "6*9=54\t\n",
      "7*1=7\t\n",
      "7*2=14\t\n",
      "7*3=21\t\n",
      "7*4=28\t\n",
      "7*5=35\t\n",
      "7*6=42\t\n",
      "7*7=49\t\n",
      "7*8=56\t\n",
      "7*9=63\t\n",
      "8*1=8\t\n",
      "8*2=16\t\n",
      "8*3=24\t\n",
      "8*4=32\t\n",
      "8*5=40\t\n",
      "8*6=48\t\n",
      "8*7=56\t\n",
      "8*8=64\t\n",
      "8*9=72\t\n",
      "9*1=9\t\n",
      "9*2=18\t\n",
      "9*3=27\t\n",
      "9*4=36\t\n",
      "9*5=45\t\n",
      "9*6=54\t\n",
      "9*7=63\t\n",
      "9*8=72\t\n",
      "9*9=81\t\n"
     ]
    }
   ],
   "source": [
    "for i in range(2,10):\n",
    "    for j in range(1,10):\n",
    "        print(f\"{i}*{j}={i*j}\") \n",
    "        \n",
    "    "
   ]
  },
  {
   "cell_type": "markdown",
   "id": "4d72f96a",
   "metadata": {},
   "source": [
    "### 딕셔너리{Key:Value}\n",
    "- key에는 변하지 않는 값을 사용한다\n",
    "- Value에는 변하는 값과 변하지 않는 값 \"모두\" 사용할 수 있다.\n",
    "- 기호는 {}중괄호를 사용한다"
   ]
  },
  {
   "cell_type": "code",
   "execution_count": 515,
   "id": "72d68e8f",
   "metadata": {},
   "outputs": [
    {
     "data": {
      "text/plain": [
       "{'name': 'SH', 'age': 19, 'phone': '010-9648-4889'}"
      ]
     },
     "execution_count": 515,
     "metadata": {},
     "output_type": "execute_result"
    }
   ],
   "source": [
    "dic1 ={\"name\":\"SH\",\n",
    "      \"age\":19,\n",
    "      \"phone\":\"010-9648-4889\"}\n",
    "dic1"
   ]
  },
  {
   "cell_type": "code",
   "execution_count": 505,
   "id": "beb0d537",
   "metadata": {},
   "outputs": [
    {
     "data": {
      "text/plain": [
       "dict"
      ]
     },
     "execution_count": 505,
     "metadata": {},
     "output_type": "execute_result"
    }
   ],
   "source": [
    "#type(): 어떤 형태의 자료형인지 확인 할 수 있는 함수\n",
    "type(dic1)"
   ]
  },
  {
   "cell_type": "code",
   "execution_count": 506,
   "id": "d81a128b",
   "metadata": {},
   "outputs": [
    {
     "data": {
      "text/plain": [
       "{'name': 'SH', 'age': 19, 'phone': '101-9648-4889', 'birth': '09/13'}"
      ]
     },
     "execution_count": 506,
     "metadata": {},
     "output_type": "execute_result"
    }
   ],
   "source": [
    "#딕셔녀리에 값 추가하기\n",
    "#del 딕셔너리명[key이름]\n",
    "#key를 삭제하면 value값 까지 다 삭제\n",
    "dic1[\"birth\"]=\"09/13\"\n",
    "dic1"
   ]
  },
  {
   "cell_type": "code",
   "execution_count": 507,
   "id": "acd410c7",
   "metadata": {},
   "outputs": [
    {
     "data": {
      "text/plain": [
       "{'노래제목': '아무노래', '가수': '지코', '날짜': '2020.01.13'}"
      ]
     },
     "execution_count": 507,
     "metadata": {},
     "output_type": "execute_result"
    }
   ],
   "source": [
    "dic_test={\"노래제목\":\"아무노래\",\n",
    "         \"가수\":\"지코\",\n",
    "         \"날짜\":\"2020.01.13\"}\n",
    "dic_test"
   ]
  },
  {
   "cell_type": "code",
   "execution_count": 509,
   "id": "400050eb",
   "metadata": {},
   "outputs": [
    {
     "data": {
      "text/plain": [
       "{'노래제목': '아무노래', '날짜': '2020.01.13'}"
      ]
     },
     "execution_count": 509,
     "metadata": {},
     "output_type": "execute_result"
    }
   ],
   "source": [
    "del dic_test[\"가수\"]\n",
    "dic_test"
   ]
  },
  {
   "cell_type": "code",
   "execution_count": 516,
   "id": "16dfcafe",
   "metadata": {},
   "outputs": [
    {
     "data": {
      "text/plain": [
       "'010-9648-4889'"
      ]
     },
     "execution_count": 516,
     "metadata": {},
     "output_type": "execute_result"
    }
   ],
   "source": [
    "#딕셔너리 값 가져오기\n",
    "dic1[\"phone\"]"
   ]
  },
  {
   "cell_type": "code",
   "execution_count": 517,
   "id": "a0db5ea7",
   "metadata": {},
   "outputs": [
    {
     "data": {
      "text/plain": [
       "'010-9648-4889'"
      ]
     },
     "execution_count": 517,
     "metadata": {},
     "output_type": "execute_result"
    }
   ],
   "source": [
    "#딕셔너리 값 가져오기 2탄\n",
    "#없는 데이터를 불러오면 에러가 나지 않고 none\n",
    "dic1.get(\"phone\")"
   ]
  },
  {
   "cell_type": "code",
   "execution_count": 521,
   "id": "b96289d1",
   "metadata": {},
   "outputs": [
    {
     "data": {
      "text/plain": [
       "dict_keys(['name', 'age', 'phone'])"
      ]
     },
     "execution_count": 521,
     "metadata": {},
     "output_type": "execute_result"
    }
   ],
   "source": [
    "#딕셔너리 key만 가져오기 Keys함수\n",
    "#딕셔너리명.Keys()\n",
    "dic1.keys()"
   ]
  },
  {
   "cell_type": "code",
   "execution_count": 522,
   "id": "aef2360c",
   "metadata": {},
   "outputs": [
    {
     "data": {
      "text/plain": [
       "['name', 'age', 'phone']"
      ]
     },
     "execution_count": 522,
     "metadata": {},
     "output_type": "execute_result"
    }
   ],
   "source": [
    "#key만 가져왔을 때 list로 생성할 수 있다(담기만 하면 됨)\n",
    "list(dic1.keys())"
   ]
  },
  {
   "cell_type": "code",
   "execution_count": 523,
   "id": "8248c58d",
   "metadata": {},
   "outputs": [
    {
     "data": {
      "text/plain": [
       "dict_values(['SH', 19, '010-9648-4889'])"
      ]
     },
     "execution_count": 523,
     "metadata": {},
     "output_type": "execute_result"
    }
   ],
   "source": [
    "#딕셔너리 value만 가져오기 valuses() 함수\n",
    "#딕셔너리명,valuse()\n",
    "dic1.values()"
   ]
  },
  {
   "cell_type": "code",
   "execution_count": 524,
   "id": "d6d9c3fa",
   "metadata": {},
   "outputs": [
    {
     "data": {
      "text/plain": [
       "['SH', 19, '010-9648-4889']"
      ]
     },
     "execution_count": 524,
     "metadata": {},
     "output_type": "execute_result"
    }
   ],
   "source": [
    "#key만 가져왔을 때 list로 생성할 수 있다(담기만 하면 됨)\n",
    "list(dic1.values())"
   ]
  },
  {
   "cell_type": "code",
   "execution_count": 530,
   "id": "9e23bbfb",
   "metadata": {},
   "outputs": [],
   "source": [
    "dic1[\"birth\"]=\"09/13\"\n",
    "dic1[\"gender\"]=\"남자\""
   ]
  },
  {
   "cell_type": "code",
   "execution_count": 531,
   "id": "ae511665",
   "metadata": {},
   "outputs": [
    {
     "name": "stdout",
     "output_type": "stream",
     "text": [
      "name\n",
      "age\n",
      "phone\n",
      "birth\n",
      "gender\n"
     ]
    }
   ],
   "source": [
    "#딕셔너리 for문 활용\n",
    "for key in dic1.keys():\n",
    "    print(key)"
   ]
  },
  {
   "cell_type": "code",
   "execution_count": 532,
   "id": "a4bcfaea",
   "metadata": {},
   "outputs": [
    {
     "name": "stdout",
     "output_type": "stream",
     "text": [
      "SH\n",
      "19\n",
      "010-9648-4889\n",
      "09/13\n",
      "남자\n"
     ]
    }
   ],
   "source": [
    "for value in dic1.values():\n",
    "    print(value)"
   ]
  },
  {
   "cell_type": "code",
   "execution_count": 534,
   "id": "dc5a4c58",
   "metadata": {},
   "outputs": [
    {
     "name": "stdout",
     "output_type": "stream",
     "text": [
      "name SH\n",
      "age 19\n",
      "phone 010-9648-4889\n",
      "birth 09/13\n",
      "gender 남자\n"
     ]
    }
   ],
   "source": [
    "#key와 value 둘 다 접근하는 for문\n",
    "#items()함수 : 해당하는 key와 value 둘다 접근\n",
    "\n",
    "for key,value in dic1.items():\n",
    "    print(key,value)"
   ]
  },
  {
   "cell_type": "code",
   "execution_count": 536,
   "id": "9a1934f9",
   "metadata": {},
   "outputs": [],
   "source": [
    "#clear():들어있는 값을 모두 비워주는 함수\n",
    "#딕셔너리명.clear()\n",
    "\n",
    "dic1.clear()\n"
   ]
  },
  {
   "cell_type": "code",
   "execution_count": 537,
   "id": "33b52279",
   "metadata": {},
   "outputs": [
    {
     "data": {
      "text/plain": [
       "{}"
      ]
     },
     "execution_count": 537,
     "metadata": {},
     "output_type": "execute_result"
    }
   ],
   "source": [
    "dic1"
   ]
  },
  {
   "cell_type": "code",
   "execution_count": null,
   "id": "02a9dbfb",
   "metadata": {},
   "outputs": [],
   "source": []
  }
 ],
 "metadata": {
  "kernelspec": {
   "display_name": "Python 3 (ipykernel)",
   "language": "python",
   "name": "python3"
  },
  "language_info": {
   "codemirror_mode": {
    "name": "ipython",
    "version": 3
   },
   "file_extension": ".py",
   "mimetype": "text/x-python",
   "name": "python",
   "nbconvert_exporter": "python",
   "pygments_lexer": "ipython3",
   "version": "3.9.12"
  }
 },
 "nbformat": 4,
 "nbformat_minor": 5
}
