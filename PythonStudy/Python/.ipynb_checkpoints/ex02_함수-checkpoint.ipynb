{
 "cells": [
  {
   "cell_type": "markdown",
   "id": "5ecdefa6",
   "metadata": {},
   "source": [
    "# 함수(function)\n",
    "- 하나의 특별한 목적의 작업을 수행하기 위해 독립적으로 설계된 코드의 집합\n"
   ]
  },
  {
   "cell_type": "markdown",
   "id": "96ca7a4d",
   "metadata": {},
   "source": [
    "### 함수를 사용하는 이유\n",
    "- 반복적인 프로그래밍을 피할 수 있다.\n",
    "- 모듈화(함수 만들기)로 인해 전체적인 코드의 가독성이 좋아진다\n",
    "- 프로그램에 문제가 발생하거나 기능의 변경이 필요할 때 손쉽게 유지보수가 가능하다."
   ]
  },
  {
   "cell_type": "code",
   "execution_count": 4,
   "id": "0f816449",
   "metadata": {},
   "outputs": [],
   "source": [
    "### 함수 문법\n",
    "\n",
    "#def 함수명(매개변수):\n",
    "#    실행문장\n",
    "#    return 반환변수"
   ]
  },
  {
   "cell_type": "code",
   "execution_count": 5,
   "id": "f41d8960",
   "metadata": {},
   "outputs": [
    {
     "data": {
      "text/plain": [
       "6"
      ]
     },
     "execution_count": 5,
     "metadata": {},
     "output_type": "execute_result"
    }
   ],
   "source": [
    "#두 수를 더하는 함수 생성\n",
    "def num_sum(num1,num2):\n",
    "    result=num1+num2\n",
    "    return result\n",
    "\n",
    "num_sum(2,4)"
   ]
  },
  {
   "cell_type": "code",
   "execution_count": 8,
   "id": "e7d0aa34",
   "metadata": {},
   "outputs": [],
   "source": [
    "#두 수를 입력 받아 뺀 결과를 출력하는 함수 생성\n",
    "def number_minus(num1,num2):\n",
    "    result = 0\n",
    "    if num1>num2:\n",
    "        result=num1-num2\n",
    "    else :\n",
    "        result=num2-num1\n",
    "    return result\n"
   ]
  },
  {
   "cell_type": "code",
   "execution_count": 9,
   "id": "ce377ad7",
   "metadata": {},
   "outputs": [
    {
     "name": "stdout",
     "output_type": "stream",
     "text": [
      "첫 번째 정수 입력>>10\n",
      "두 번째 정수 입력>>3\n"
     ]
    },
    {
     "data": {
      "text/plain": [
       "7"
      ]
     },
     "execution_count": 9,
     "metadata": {},
     "output_type": "execute_result"
    }
   ],
   "source": [
    "num1=int(input(\"첫 번째 정수 입력>>\"))\n",
    "num2=int(input(\"두 번째 정수 입력>>\"))\n",
    "result =number_minus(num1,num2)\n",
    "result"
   ]
  },
  {
   "cell_type": "code",
   "execution_count": 15,
   "id": "d4859b8a",
   "metadata": {},
   "outputs": [
    {
     "name": "stdout",
     "output_type": "stream",
     "text": [
      "문자열 입력>>ㅋㅋㅋㅋㄴㄴㄴ\n"
     ]
    },
    {
     "data": {
      "text/plain": [
       "'ㅎㅎㅎㅎㄴㄴㄴ'"
      ]
     },
     "execution_count": 15,
     "metadata": {},
     "output_type": "execute_result"
    }
   ],
   "source": [
    "# 문자열을 입력받아 'ㅋ'을 제거하고 return하는 함수를 정의해보자\n",
    "\n",
    "def s_replace(s):\n",
    "    result = s.replace(\"ㅋ\",\"ㅎ\")\n",
    "    return result\n",
    "\n",
    "s = input(\"문자열 입력>>\")\n",
    "result = s_replace(s)\n",
    "result"
   ]
  },
  {
   "cell_type": "markdown",
   "id": "a9f754f2",
   "metadata": {},
   "source": [
    "### replace() 함수\n",
    "- replace(바꾸고 싶은 값,어떤걸로 바꿀지)"
   ]
  },
  {
   "cell_type": "markdown",
   "id": "59b19463",
   "metadata": {},
   "source": [
    "### 독스트링\n",
    "- 함수의 설명을 작성<shift+Tab>"
   ]
  },
  {
   "cell_type": "code",
   "execution_count": 18,
   "id": "584578fe",
   "metadata": {},
   "outputs": [],
   "source": [
    "#덧셈과 뺄셈을 계산하는 함수\n",
    "\n",
    "def cal(num1,num2,op):\n",
    "    \"\"\"덧셈과 뺄셈을 계산하는 함수\"\"\"\n",
    "    if op=='+':\n",
    "        return num1+num2\n",
    "    else :\n",
    "        return num1-num2"
   ]
  },
  {
   "cell_type": "code",
   "execution_count": 75,
   "id": "74f0f2ab",
   "metadata": {},
   "outputs": [],
   "source": [
    "#약수 구하는 함수 만들기 첫번째\n",
    "# 리턴이 없는경우\n",
    "def divisor(num1):\n",
    "    for i in range(1,num1+1,1):\n",
    "        if num1%i==0:\n",
    "            print(i,end=\" \")\n",
    "        \n",
    "   # return a\n",
    "             \n",
    "        "
   ]
  },
  {
   "cell_type": "code",
   "execution_count": 76,
   "id": "42acf8fb",
   "metadata": {},
   "outputs": [
    {
     "name": "stdout",
     "output_type": "stream",
     "text": [
      "1 2 5 10 "
     ]
    }
   ],
   "source": [
    "divisor(10)\n",
    "\n"
   ]
  },
  {
   "cell_type": "code",
   "execution_count": 80,
   "id": "83ebef50",
   "metadata": {},
   "outputs": [],
   "source": [
    "#약수 구하는 함수 만들기 두번째\n",
    "\n",
    "def divisor2(num1):\n",
    "    list =[]\n",
    "    for i in range(1,num1+1):\n",
    "        if num1 % i ==0:\n",
    "            list.append(i)\n",
    "            \n",
    "    return list        \n"
   ]
  },
  {
   "cell_type": "code",
   "execution_count": 81,
   "id": "f939f12d",
   "metadata": {},
   "outputs": [
    {
     "data": {
      "text/plain": [
       "[1, 2, 5, 10]"
      ]
     },
     "execution_count": 81,
     "metadata": {},
     "output_type": "execute_result"
    }
   ],
   "source": [
    "divisor2(10)"
   ]
  },
  {
   "cell_type": "code",
   "execution_count": 82,
   "id": "e7518edc",
   "metadata": {},
   "outputs": [],
   "source": [
    "# 가변 매개변수를 활용해 모든 숫자를 더해서 반환하는 함수 생성\n",
    "\n",
    "def add (*args):\n",
    "    return sum(args)"
   ]
  },
  {
   "cell_type": "code",
   "execution_count": 83,
   "id": "bd13c81b",
   "metadata": {},
   "outputs": [
    {
     "data": {
      "text/plain": [
       "6"
      ]
     },
     "execution_count": 83,
     "metadata": {},
     "output_type": "execute_result"
    }
   ],
   "source": [
    "add(1,2,3)"
   ]
  },
  {
   "cell_type": "code",
   "execution_count": 84,
   "id": "eee7e41d",
   "metadata": {},
   "outputs": [],
   "source": [
    "#함수의 결과값은 언제나 하나이다\n",
    "\n",
    "def add_sub(num1,num2):\n",
    "    return num1+num2,num1-num2\n",
    "    "
   ]
  },
  {
   "cell_type": "code",
   "execution_count": 90,
   "id": "460d4d53",
   "metadata": {},
   "outputs": [
    {
     "data": {
      "text/plain": [
       "(17, 3)"
      ]
     },
     "execution_count": 90,
     "metadata": {},
     "output_type": "execute_result"
    }
   ],
   "source": [
    "add_sub(10,7)"
   ]
  },
  {
   "cell_type": "code",
   "execution_count": 88,
   "id": "fdccc483",
   "metadata": {},
   "outputs": [],
   "source": [
    "result_add,result_sub =add_sub(10,7)"
   ]
  },
  {
   "cell_type": "code",
   "execution_count": 91,
   "id": "40c7dd10",
   "metadata": {},
   "outputs": [
    {
     "name": "stdout",
     "output_type": "stream",
     "text": [
      "17\n",
      "3\n"
     ]
    }
   ],
   "source": [
    "print(result_add)\n",
    "print(result_sub)\n"
   ]
  },
  {
   "cell_type": "code",
   "execution_count": 92,
   "id": "58d8f622",
   "metadata": {},
   "outputs": [],
   "source": [
    "# 제곱근 구하는 함수 만들기\n",
    "\n",
    "def power_of_N(num,power=2):\n",
    "    return num**power\n",
    "    "
   ]
  },
  {
   "cell_type": "code",
   "execution_count": 96,
   "id": "814e7472",
   "metadata": {},
   "outputs": [
    {
     "data": {
      "text/plain": [
       "243"
      ]
     },
     "execution_count": 96,
     "metadata": {},
     "output_type": "execute_result"
    }
   ],
   "source": [
    "power_of_N(3,5)"
   ]
  },
  {
   "cell_type": "markdown",
   "id": "b98dac7f",
   "metadata": {},
   "source": [
    "### 가변 매개변수(**)\n",
    "- 딕셔너리 형태로 함수 내부에서 처리하고 싶을 때\n"
   ]
  },
  {
   "cell_type": "code",
   "execution_count": 97,
   "id": "988cd547",
   "metadata": {},
   "outputs": [],
   "source": [
    "def print_map(**kwargs):\n",
    "    print(kwargs)\n",
    "    \n",
    "    for key,value in kwargs.items():\n",
    "        print(key,\"/\",value)\n",
    "        "
   ]
  },
  {
   "cell_type": "code",
   "execution_count": 99,
   "id": "4b05becd",
   "metadata": {},
   "outputs": [
    {
     "name": "stdout",
     "output_type": "stream",
     "text": [
      "{'하나': 1, '둘': 2, '수정': '거ㅋㅋ'}\n",
      "하나 / 1\n",
      "둘 / 2\n",
      "수정 / 거ㅋㅋ\n"
     ]
    }
   ],
   "source": [
    "print_map(하나 = 1,둘=2,수정=\"거ㅋㅋ\")"
   ]
  },
  {
   "cell_type": "markdown",
   "id": "02a26618",
   "metadata": {},
   "source": [
    "### replace() 함수\n",
    "- 표기법\n",
    " - 바꾸고싶은 데이터.replace(\"바꾸고 싶은 값\",\"바꿀 값\")"
   ]
  },
  {
   "cell_type": "code",
   "execution_count": 100,
   "id": "bab6f6b6",
   "metadata": {},
   "outputs": [],
   "source": [
    "review_list1 = [\"윌 스미스가 하드캐리ㅋㅋㅋㅋㅋㅋㅋ\",\n",
    "               \"쟈스민 너무 멋지고 팬 엄청나게 생길듯\"]\n",
    "review_list2 = [\"색감도 노래도 너무 화려하고 재밌었어요ㅋㅋㅋ\",\n",
    "               \"오늘부터 디즈니 팬입니다ㅋㅋㅋ\",\n",
    "               \"디즈니 의 새로운 해석도 놀랍고. 윌스미스도 신의한수!\"]"
   ]
  },
  {
   "cell_type": "code",
   "execution_count": 103,
   "id": "811ec056",
   "metadata": {},
   "outputs": [],
   "source": [
    "s=review_list1[0]\n"
   ]
  },
  {
   "cell_type": "code",
   "execution_count": 106,
   "id": "9933a724",
   "metadata": {},
   "outputs": [
    {
     "data": {
      "text/plain": [
       "'윌 스미스가 하드캐리'"
      ]
     },
     "execution_count": 106,
     "metadata": {},
     "output_type": "execute_result"
    }
   ],
   "source": [
    "s.replace(\"ㅋ\",\"\")"
   ]
  },
  {
   "cell_type": "code",
   "execution_count": 109,
   "id": "edb4f11e",
   "metadata": {},
   "outputs": [
    {
     "name": "stdout",
     "output_type": "stream",
     "text": [
      "윌 스미스가 하드캐리\n",
      "쟈스민 너무 멋지고 팬 엄청나게 생길듯\n",
      "색감도 노래도 너무 화려하고 재밌었어요\n",
      "오늘부터 디즈니 팬입니다\n",
      "디즈니 의 새로운 해석도 놀랍고. 윌스미스도 신의한수!\n"
     ]
    }
   ],
   "source": [
    "#데이터 전처리 하기\n",
    "#텍스트에 \"ㅋ\"을 모두 제거하고 싶을때\n",
    "#for문을 활용해서 데이터에 하나하나 접근\n",
    "for i in review_list1:\n",
    "    print(i.replace(\"ㅋ\",\"\"))\n",
    "for i in review_list2:\n",
    "    print(i.replace(\"ㅋ\",\"\"))"
   ]
  },
  {
   "cell_type": "code",
   "execution_count": 110,
   "id": "a3250eda",
   "metadata": {},
   "outputs": [],
   "source": [
    "# 위의 코드를 함수로 정의해보자\n",
    "\n",
    "def string_replace(list_test):\n",
    "    for review in list_test:\n",
    "        print(review.replace(\"ㅋ\",\"\"))"
   ]
  },
  {
   "cell_type": "code",
   "execution_count": 112,
   "id": "d58373ab",
   "metadata": {},
   "outputs": [
    {
     "name": "stdout",
     "output_type": "stream",
     "text": [
      "윌 스미스가 하드캐리\n",
      "쟈스민 너무 멋지고 팬 엄청나게 생길듯\n",
      "색감도 노래도 너무 화려하고 재밌었어요\n",
      "오늘부터 디즈니 팬입니다\n",
      "디즈니 의 새로운 해석도 놀랍고. 윌스미스도 신의한수!\n"
     ]
    }
   ],
   "source": [
    "string_replace(review_list1)\n",
    "string_replace(review_list2)"
   ]
  },
  {
   "cell_type": "code",
   "execution_count": 124,
   "id": "4ea5f40e",
   "metadata": {},
   "outputs": [],
   "source": [
    "#인수로 넘겨받은 숫자를 끼리끼리 더해서 반환하는 함수 생성\n",
    "\n",
    "def sum_many(*args):\n",
    "    return sum(args)"
   ]
  },
  {
   "cell_type": "code",
   "execution_count": 128,
   "id": "9246c78d",
   "metadata": {},
   "outputs": [
    {
     "name": "stdout",
     "output_type": "stream",
     "text": [
      "908\n"
     ]
    }
   ],
   "source": [
    "result=sum_many(1,2,33,2,34,6,76,76,23,655)\n",
    "print(result)"
   ]
  },
  {
   "cell_type": "code",
   "execution_count": null,
   "id": "22cc1313",
   "metadata": {},
   "outputs": [],
   "source": []
  }
 ],
 "metadata": {
  "kernelspec": {
   "display_name": "Python 3 (ipykernel)",
   "language": "python",
   "name": "python3"
  },
  "language_info": {
   "codemirror_mode": {
    "name": "ipython",
    "version": 3
   },
   "file_extension": ".py",
   "mimetype": "text/x-python",
   "name": "python",
   "nbconvert_exporter": "python",
   "pygments_lexer": "ipython3",
   "version": "3.9.12"
  }
 },
 "nbformat": 4,
 "nbformat_minor": 5
}
