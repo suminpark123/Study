{
 "cells": [
  {
   "cell_type": "markdown",
   "id": "707751c4",
   "metadata": {},
   "source": [
    "# 모듈 만들기"
   ]
  },
  {
   "cell_type": "code",
   "execution_count": 1,
   "id": "ec3d4cc9",
   "metadata": {},
   "outputs": [],
   "source": [
    "# 두 숫자를 더하는 함수 만들기\n",
    "\n",
    "def add(num1,num2):\n",
    "    return num1+num2"
   ]
  },
  {
   "cell_type": "code",
   "execution_count": 4,
   "id": "3f1c683f",
   "metadata": {},
   "outputs": [],
   "source": [
    "# 두 숫자를 빼주는 함수 만들기\n",
    "\n",
    "def sub(num1,num2):\n",
    "    return num1-num2"
   ]
  },
  {
   "cell_type": "code",
   "execution_count": null,
   "id": "9c39124f",
   "metadata": {},
   "outputs": [],
   "source": []
  }
 ],
 "metadata": {
  "kernelspec": {
   "display_name": "Python 3 (ipykernel)",
   "language": "python",
   "name": "python3"
  },
  "language_info": {
   "codemirror_mode": {
    "name": "ipython",
    "version": 3
   },
   "file_extension": ".py",
   "mimetype": "text/x-python",
   "name": "python",
   "nbconvert_exporter": "python",
   "pygments_lexer": "ipython3",
   "version": "3.9.12"
  }
 },
 "nbformat": 4,
 "nbformat_minor": 5
}
