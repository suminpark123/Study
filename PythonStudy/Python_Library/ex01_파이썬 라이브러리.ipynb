{
 "cells": [
  {
   "cell_type": "markdown",
   "id": "48341836",
   "metadata": {},
   "source": [
    "# 모듈(moudule)사용하기<불러오기>"
   ]
  },
  {
   "cell_type": "code",
   "execution_count": 1,
   "id": "288f3877",
   "metadata": {},
   "outputs": [],
   "source": [
    "#라이브러리 불러오기 첫 번째 방법\n",
    "#\n",
    "\n",
    "import module_test"
   ]
  },
  {
   "cell_type": "code",
   "execution_count": 2,
   "id": "37dac7fc",
   "metadata": {},
   "outputs": [
    {
     "data": {
      "text/plain": [
       "40"
      ]
     },
     "execution_count": 2,
     "metadata": {},
     "output_type": "execute_result"
    }
   ],
   "source": [
    "module_test.add(10,30)"
   ]
  },
  {
   "cell_type": "code",
   "execution_count": 3,
   "id": "774043a0",
   "metadata": {},
   "outputs": [],
   "source": [
    "#라이브러리 불러오기 두 번째 방법\n",
    "from module_test import add"
   ]
  },
  {
   "cell_type": "code",
   "execution_count": 4,
   "id": "1de65e67",
   "metadata": {},
   "outputs": [
    {
     "data": {
      "text/plain": [
       "70"
      ]
     },
     "execution_count": 4,
     "metadata": {},
     "output_type": "execute_result"
    }
   ],
   "source": [
    "add(20,50)"
   ]
  },
  {
   "cell_type": "code",
   "execution_count": null,
   "id": "4c0179ce",
   "metadata": {},
   "outputs": [],
   "source": [
    "module_test."
   ]
  }
 ],
 "metadata": {
  "kernelspec": {
   "display_name": "Python 3 (ipykernel)",
   "language": "python",
   "name": "python3"
  },
  "language_info": {
   "codemirror_mode": {
    "name": "ipython",
    "version": 3
   },
   "file_extension": ".py",
   "mimetype": "text/x-python",
   "name": "python",
   "nbconvert_exporter": "python",
   "pygments_lexer": "ipython3",
   "version": "3.9.12"
  }
 },
 "nbformat": 4,
 "nbformat_minor": 5
}
