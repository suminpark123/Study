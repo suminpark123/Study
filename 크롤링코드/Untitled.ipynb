{
 "cells": [
  {
   "cell_type": "code",
   "execution_count": 1,
   "id": "fffc0ae8",
   "metadata": {},
   "outputs": [],
   "source": [
    "from selenium import webdriver as wb\n",
    "from selenium.webdriver.common.keys import Keys\n",
    "from selenium.webdriver.common.by import By\n",
    "import time\n",
    "import pandas as pd"
   ]
  },
  {
   "cell_type": "code",
   "execution_count": 20,
   "id": "086eb462",
   "metadata": {},
   "outputs": [],
   "source": [
    "driver = wb.Chrome()\n",
    "driver.get(\"https://www.youtube.com/\")"
   ]
  },
  {
   "cell_type": "code",
   "execution_count": 21,
   "id": "ba3ceda3",
   "metadata": {},
   "outputs": [],
   "source": [
    "# 크롬 열고 검색까지 했음\n",
    "\n",
    "search = driver.find_elements(By.CSS_SELECTOR,\"#search\")"
   ]
  },
  {
   "cell_type": "code",
   "execution_count": 22,
   "id": "fa2dcbb5",
   "metadata": {},
   "outputs": [],
   "source": [
    "search[1].send_keys(\"우왁굳\")\n",
    "search[1].send_keys(Keys.ENTER)"
   ]
  },
  {
   "cell_type": "code",
   "execution_count": 3,
   "id": "0b3d4472",
   "metadata": {},
   "outputs": [],
   "source": [
    "# 바디태그에 10번 엔드키를 입력해줌\n",
    "for i in range(10):\n",
    "    driver.find_element(By.CSS_SELECTOR,\"body\").send_keys(Keys.END)\n",
    "    time.sleep(1)"
   ]
  },
  {
   "cell_type": "code",
   "execution_count": 4,
   "id": "804c2318",
   "metadata": {},
   "outputs": [],
   "source": [
    "# 타이틀 불러와서 저장\n",
    "title = driver.find_elements(By.CSS_SELECTOR,\".yt-simple-endpoint.style-scope.ytd-video-renderer\")"
   ]
  },
  {
   "cell_type": "code",
   "execution_count": null,
   "id": "7db8e8a1",
   "metadata": {},
   "outputs": [],
   "source": []
  },
  {
   "cell_type": "code",
   "execution_count": 7,
   "id": "0ccfbb4e",
   "metadata": {},
   "outputs": [],
   "source": [
    "# 담을 리스트 생성\n",
    "title_list = []\n",
    "view_list = []\n",
    "# 리스트안에 타이틀 값 지정\n",
    "for i in title:\n",
    "    if i.text!=\"\":\n",
    "        title_list.append(i.text)"
   ]
  },
  {
   "cell_type": "code",
   "execution_count": 8,
   "id": "2a0fbb63",
   "metadata": {},
   "outputs": [],
   "source": [
    "# 조회수 값 가져옴\n",
    "view = driver.find_elements(By.CSS_SELECTOR,\"span.style-scope.ytd-video-meta-block:nth-child(1)\")"
   ]
  },
  {
   "cell_type": "code",
   "execution_count": 9,
   "id": "067b9a1f",
   "metadata": {},
   "outputs": [],
   "source": [
    "# 리스트에 값 넣음\n",
    "for i in view :\n",
    "    if i.text!=\"\":\n",
    "        view_list.append(i.text)"
   ]
  },
  {
   "cell_type": "code",
   "execution_count": 10,
   "id": "5cdcf89f",
   "metadata": {},
   "outputs": [
    {
     "data": {
      "text/plain": [
       "212"
      ]
     },
     "execution_count": 10,
     "metadata": {},
     "output_type": "execute_result"
    }
   ],
   "source": [
    "len(title_list)"
   ]
  },
  {
   "cell_type": "code",
   "execution_count": 11,
   "id": "605095d8",
   "metadata": {},
   "outputs": [
    {
     "data": {
      "text/plain": [
       "212"
      ]
     },
     "execution_count": 11,
     "metadata": {},
     "output_type": "execute_result"
    }
   ],
   "source": [
    "len(view_list)"
   ]
  },
  {
   "cell_type": "code",
   "execution_count": 11,
   "id": "82030339",
   "metadata": {},
   "outputs": [
    {
     "data": {
      "text/html": [
       "<div>\n",
       "<style scoped>\n",
       "    .dataframe tbody tr th:only-of-type {\n",
       "        vertical-align: middle;\n",
       "    }\n",
       "\n",
       "    .dataframe tbody tr th {\n",
       "        vertical-align: top;\n",
       "    }\n",
       "\n",
       "    .dataframe thead th {\n",
       "        text-align: right;\n",
       "    }\n",
       "</style>\n",
       "<table border=\"1\" class=\"dataframe\">\n",
       "  <thead>\n",
       "    <tr style=\"text-align: right;\">\n",
       "      <th></th>\n",
       "      <th>제목</th>\n",
       "      <th>조회수</th>\n",
       "    </tr>\n",
       "  </thead>\n",
       "  <tbody>\n",
       "    <tr>\n",
       "      <th>0</th>\n",
       "      <td>애니 덕후들 죽도록 패는 융터르 #Shorts</td>\n",
       "      <td>조회수 15만회</td>\n",
       "    </tr>\n",
       "    <tr>\n",
       "      <th>1</th>\n",
       "      <td>GTA5 계곡 물살 재현 수준 #Shorts</td>\n",
       "      <td>조회수 19만회</td>\n",
       "    </tr>\n",
       "    <tr>\n",
       "      <th>2</th>\n",
       "      <td>거지가 된 우왁굳</td>\n",
       "      <td>조회수 10만회</td>\n",
       "    </tr>\n",
       "    <tr>\n",
       "      <th>3</th>\n",
       "      <td>애니메이션 등급을 정하는 컨텐츠 - 티어게임</td>\n",
       "      <td>조회수 156만회</td>\n",
       "    </tr>\n",
       "    <tr>\n",
       "      <th>4</th>\n",
       "      <td>스타 못하니까 더 재밌음 ㅋㅋㅋㅋㅋ</td>\n",
       "      <td>조회수 15만회</td>\n",
       "    </tr>\n",
       "    <tr>\n",
       "      <th>...</th>\n",
       "      <td>...</td>\n",
       "      <td>...</td>\n",
       "    </tr>\n",
       "    <tr>\n",
       "      <th>218</th>\n",
       "      <td>블럭을 먹고 싶어 지는데 정상인가요? - 마인크래프트 눕프로해커 '음식' 편 - 2 -</td>\n",
       "      <td>조회수 78만회</td>\n",
       "    </tr>\n",
       "    <tr>\n",
       "      <th>219</th>\n",
       "      <td>고멤3기 싸이퍼(프리터, 융터르, 비즈니스킴) [우왁굳 반응]</td>\n",
       "      <td>조회수 18만회</td>\n",
       "    </tr>\n",
       "    <tr>\n",
       "      <th>220</th>\n",
       "      <td>[우왁굳] 엔젤님의 왁두 저격</td>\n",
       "      <td>조회수 3.3만회</td>\n",
       "    </tr>\n",
       "    <tr>\n",
       "      <th>221</th>\n",
       "      <td>당신은 우왁굳에 대해 얼마나 잘 아십니까? - vr챗 왁 vs 100</td>\n",
       "      <td>조회수 50만회</td>\n",
       "    </tr>\n",
       "    <tr>\n",
       "      <th>222</th>\n",
       "      <td>너의 모든 순간 왁굳반응</td>\n",
       "      <td>조회수 1.3만회</td>\n",
       "    </tr>\n",
       "  </tbody>\n",
       "</table>\n",
       "<p>223 rows × 2 columns</p>\n",
       "</div>"
      ],
      "text/plain": [
       "                                                   제목        조회수\n",
       "0                           애니 덕후들 죽도록 패는 융터르 #Shorts   조회수 15만회\n",
       "1                            GTA5 계곡 물살 재현 수준 #Shorts   조회수 19만회\n",
       "2                                           거지가 된 우왁굳   조회수 10만회\n",
       "3                            애니메이션 등급을 정하는 컨텐츠 - 티어게임  조회수 156만회\n",
       "4                                 스타 못하니까 더 재밌음 ㅋㅋㅋㅋㅋ   조회수 15만회\n",
       "..                                                ...        ...\n",
       "218  블럭을 먹고 싶어 지는데 정상인가요? - 마인크래프트 눕프로해커 '음식' 편 - 2 -   조회수 78만회\n",
       "219                고멤3기 싸이퍼(프리터, 융터르, 비즈니스킴) [우왁굳 반응]   조회수 18만회\n",
       "220                                  [우왁굳] 엔젤님의 왁두 저격  조회수 3.3만회\n",
       "221            당신은 우왁굳에 대해 얼마나 잘 아십니까? - vr챗 왁 vs 100   조회수 50만회\n",
       "222                                     너의 모든 순간 왁굳반응  조회수 1.3만회\n",
       "\n",
       "[223 rows x 2 columns]"
      ]
     },
     "execution_count": 11,
     "metadata": {},
     "output_type": "execute_result"
    }
   ],
   "source": [
    "# 데이터 프레임 생성\n",
    "pd.DataFrame({\"제목\":title_list,\n",
    "              \"조회수\":view_list})"
   ]
  },
  {
   "cell_type": "code",
   "execution_count": null,
   "id": "014fdfab",
   "metadata": {},
   "outputs": [],
   "source": []
  },
  {
   "cell_type": "code",
   "execution_count": null,
   "id": "3600c0e4",
   "metadata": {},
   "outputs": [],
   "source": []
  }
 ],
 "metadata": {
  "kernelspec": {
   "display_name": "Python 3 (ipykernel)",
   "language": "python",
   "name": "python3"
  },
  "language_info": {
   "codemirror_mode": {
    "name": "ipython",
    "version": 3
   },
   "file_extension": ".py",
   "mimetype": "text/x-python",
   "name": "python",
   "nbconvert_exporter": "python",
   "pygments_lexer": "ipython3",
   "version": "3.9.12"
  }
 },
 "nbformat": 4,
 "nbformat_minor": 5
}
