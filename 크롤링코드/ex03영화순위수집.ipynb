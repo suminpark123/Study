{
 "cells": [
  {
   "cell_type": "code",
   "execution_count": 43,
   "id": "7570fbd2",
   "metadata": {},
   "outputs": [],
   "source": [
    "import requests as req\n",
    "from bs4 import BeautifulSoup as bs\n",
    "import pandas as pd"
   ]
  },
  {
   "cell_type": "code",
   "execution_count": 44,
   "id": "735f103e",
   "metadata": {},
   "outputs": [],
   "source": [
    "url ='https://movie.naver.com/movie/sdb/rank/rmovie.naver?sel=cur&date=20220926'\n",
    "res=req.get(url)"
   ]
  },
  {
   "cell_type": "code",
   "execution_count": 45,
   "id": "bb29068b",
   "metadata": {
    "collapsed": true
   },
   "outputs": [
    {
     "data": {
      "text/plain": [
       "'\\r\\n\\r\\n\\r\\n\\r\\n\\r\\n\\r\\n\\r\\n\\r\\n\\r\\n\\r\\n\\t\\r\\n\\t\\r\\n\\t\\r\\n\\t\\r\\n\\t\\r\\n\\r\\n\\t\\r\\n\\t\\r\\n\\r\\n\\r\\n\\t\\r\\n\\t\\r\\n\\t\\r\\n\\t\\r\\n\\t\\r\\n\\t\\r\\n\\t\\r\\n\\t\\r\\n\\t\\r\\n\\t\\r\\n\\t\\r\\n\\t\\r\\n\\r\\n\\t\\r\\n\\t\\r\\n\\t\\r\\n\\t\\r\\n\\t\\r\\n\\r\\n\\t\\r\\n\\t\\r\\n\\t\\r\\n\\r\\n\\t\\r\\n\\t\\r\\n\\t\\r\\n\\r\\n\\r\\n\\t\\r\\n\\t\\r\\n\\t\\t\\r\\n\\t\\t\\t\\r\\n\\t\\t\\t\\t\\r\\n\\t\\t\\t\\t\\r\\n\\t\\t\\t\\t\\t\\r\\n\\t\\t\\t\\t\\r\\n\\t\\t\\t\\r\\n\\t\\t\\t\\r\\n\\t\\t\\t\\r\\n\\t\\t\\r\\n\\t\\r\\n\\t\\r\\n\\t\\r\\n\\t\\r\\n\\t\\t\\r\\n\\t\\r\\n\\r\\n<!DOCTYPE html>\\r\\n<html lang=\"ko\">\\r\\n<head>\\r\\n<meta http-equiv=\"Content-Type\" content=\"text/html; charset=UTF-8\">\\r\\n<meta http-equiv=\"X-UA-Compatible\" content=\"IE=edge\">\\r\\n\\r\\n\\r\\n\\r\\n\\r\\n\\r\\n\\r\\n<meta property=\"me2:image\" content=\"http://imgmovie.naver.com/today/naverme/naverme_profile.jpg\"/>\\r\\n<meta property=\"me2:post_tag\" content=\"네이버영화 \"/>\\r\\n<meta property=\"me2:category1\" content=\"네이버영화\"/>\\r\\n<meta property=\"me2:category2\" content=\"\"/>\\r\\n\\r\\n\\r\\n\\r\\n\\r\\n\\r\\n\\t\\r\\n\\t\\r\\n\\t\\t<meta property=\"og:title\" content=\"랭킹 : 네이버 영화\"/>\\r\\n\\t\\t\\r\\n\\t\\t\\t\\r\\n\\t\\t\\t\\t<meta property=\"og:description\" content=\"영화, 영화인, 예매, 박스오피스 랭킹 정보 제공\" />\\r\\n\\t\\t\\t\\r\\n\\t\\t\\t\\r\\n\\t\\t\\r\\n\\t\\r\\n\\t\\r\\n\\t\\r\\n\\t\\r\\n\\t\\r\\n\\r\\n\\r\\n<meta property=\"og:type\" content=\"article\"/>\\r\\n<meta property=\"og:url\" content=\"https://movie.naver.com/movie/sdb/rank/rmovie.naver?sel=cur&amp;date=20220926\"/>\\r\\n\\r\\n\\t\\r\\n\\t\\r\\n\\t\\t<meta property=\"og:image\" content=\"http://static.naver.net/m/movie/icons/OG_270_270.png\"/><!-- http://static.naver.net/m/movie/im/navermovie.jpg -->\\r\\n\\t\\r\\n\\r\\n\\r\\n<meta property=\"og:article:thumbnailUrl\" content=\"http://imgmovie.naver.com/today/naverme/naverme_profile.jpg\"/>\\r\\n<meta property=\"og:article:author\" content=\"네이버 영화\"/>\\r\\n<meta property=\"og:article:author:url\" content=\"https://movie.naver.com/\"/>\\r\\n\\r\\n\\r\\n\\n\\n\\n\\t\\n\\t\\n\\t\\n\\t\\n\\t\\t<link rel=\"shortcut icon\" href=\"https://ssl.pstatic.net/static/m/movie/icons/naver_movie_favicon.ico\" type=\"image/x-icon\">\\n\\t\\t\\t\\n\\n\\r\\n<title>랭킹 : 네이버 영화</title>\\r\\n\\r\\n\\r\\n\\r\\n\\r\\n\\r\\n\\t\\r\\n\\t\\r\\n\\t\\r\\n\\t\\r\\n\\t\\t\\r\\n\\t\\t<link rel=\"stylesheet\" type=\"text/css\" href=\"/common/css/movie_tablet.css?20220823114513\">\\r\\n\\t\\t<link rel=\"stylesheet\" type=\"text/css\" href=\"/common/css/common.css?20220823114513\">\\r\\n\\t\\t<link rel=\"stylesheet\" type=\"text/css\" href=\"/common/css/layout.css?20220823114513\">\\r\\n\\t\\t<link rel=\"stylesheet\" type=\"text/css\" href=\"/common/css/old_default.css?20220823114513\">\\r\\n\\t\\t<link rel=\"stylesheet\" type=\"text/css\" href=\"/common/css/old_layout.css?20220823114513\">\\r\\n\\t\\t<link rel=\"stylesheet\" type=\"text/css\" href=\"/common/css/old_common.css?20220823114513\">\\t\\r\\n\\t\\t<link rel=\"stylesheet\" type=\"text/css\" href=\"/common/css/old_super_db.css?20220823114513\">\\r\\n\\t\\r\\n\\t\\r\\n\\t\\r\\n\\t\\r\\n\\t\\r\\n\\r\\n\\r\\n<script type=\"text/javascript\" src=\"/common/js/default-min.js\"></script>\\r\\n\\r\\n</head>\\r\\n<body >\\r\\n\\r\\n\\r\\n\\t\\r\\n\\t\\r\\n\\t\\r\\n\\t\\t\\r\\n\\t\\r\\n\\t\\r\\n\\t\\r\\n\\r\\n<div id=\"wrap\" class=\"fix\">\\r\\n\\t<!-- GNB -->\\r\\n\\t\\r\\n\\r\\n\\r\\n\\r\\n\\r\\n\\r\\n<script type=\"text/javascript\">\\r\\nfunction delayed_submit(object) {\\r\\n\\tif (navigator.userAgent.indexOf(\\'MSIE\\') == -1) {\\r\\n\\t\\tvar b = c = new Date();\\r\\n      \\twhile ((b.getTime() - c.getTime()) < 100) {\\r\\n\\t\\t\\tb = new Date();\\r\\n      \\t}\\r\\n\\t\\t//window.setTimeout(function() {object.submit(); console.log(\\'s\\');}, 300);\\r\\n\\t}\\r\\n}\\r\\nvar gnb_service = \\'movie\\';\\r\\nvar gnb_logout = \\'http://movie.naver.com/movie/sdb/rank/rmovie.naver%3Fsel%3Dcur%26date%3D20220926\\';\\r\\nvar gnb_template = \"gnb_utf8\"; /* https://ssl.pstatic.net/static.gn/templates/gnb_utf8.nhn */\\r\\nvar gnb_brightness=3;\\r\\nvar gnb_response = true;\\r\\n</script>\\r\\n\\r\\n\\r\\n\\t\\r\\n\\t\\r\\n\\r\\n<a name=\"gnb_top\"></a>\\r\\n    <!-- skip navigation -->\\r\\n    <div id=\"u_skip\">\\r\\n            <a href=\"#header\" onclick=\"document.getElementById(\\'header\\').tabIndex=-1;document.getElementById(\\'header\\').focus();return false;\"><span>메인 메뉴로 바로가기</span></a>\\r\\n            <a href=\"#content\" id=\"gnb_goContent\" onclick=\"document.getElementById(\\'content\\').tabIndex=-1;document.getElementById(\\'content\\').focus();return false;\"><span>본문으로 바로가기</span></a>\\r\\n    </div>\\r\\n    <!-- //skip navigation -->\\r\\n\\t<!-- GNB -->\\r\\n\\t<div class=\"gnb_container\">\\r\\n\\t\\t<div class=\"gnb_content\">\\r\\n\\t\\t\\t<div class=\"gnb_box\">\\r\\n\\t\\t\\t \\t<div class=\"gnb_wrap\">\\r\\n\\t\\t\\t\\t\\t<div id=\"gnb\" onload=\"javascript:getGNB();\">\\r\\n\\t\\t\\t\\t   \\t \\t<script type=\"text/javascript\" charset=\"utf-8\" src=\"https://ssl.pstatic.net/static.gn/templates/gnb_utf8.nhn\"></script>\\r\\n\\t\\t\\t\\t\\t</div>\\r\\n\\t\\t\\t\\t</div>\\r\\n\\t\\t\\t\\t<!-- 검색창 -->\\r\\n\\t\\t\\t\\t<form id=\"jSearchForm\" action=\"/movie/search/result.naver\" method=\"get\" style=\"margin:0;display:none;\">\\r\\n\\t\\t\\t\\t\\t<input type=\"text\" name=\"query\" maxlength=\"100\" title=\"영화검색\" />\\r\\n\\t\\t\\t\\t\\t<input type=\"hidden\" name=\"section\" value=\"all\"/>\\r\\n\\t\\t\\t\\t</form>\\r\\n\\t\\t\\t\\t<fieldset id=\"jSearchArea\" class=\"srch_area\">\\r\\n\\t\\t\\t\\t\\t<legend><span class=\"blind\">영화검색 영역</span></legend>\\r\\n\\t\\t\\t\\t\\t<div class=\"srch_field_on _view\">\\r\\n\\t\\t\\t\\t\\t\\t<span class=\"ipt_srch\">\\r\\n\\t\\t\\t\\t\\t\\t\\t<label for=\"ipt_tx_srch\" id=\"search_placeholder\">영화검색</label>\\r\\n\\t\\t\\t\\t\\t\\t\\t<input type=\"text\" id=\"ipt_tx_srch\" class=\"ipt_tx_srch\" name=\"query\" maxlength=\"100\" accesskey=\"s\" style=\"ime-mode:active;\" autocomplete=\"off\" />\\r\\n\\t\\t\\t\\t\\t\\t\\t<span class=\"align\"></span>\\r\\n\\t\\t\\t\\t\\t\\t\\t<span class=\"auto_tx\"><a href=\"#\" title=\"자동완성 펼치기\"><img src=\"https://ssl.pstatic.net/static/movie/2012/06/srch_arrow_down.gif\" width=\"7\" height=\"4\" title=\"자동완성 펼치기\" alt=\"자동완성 펼치기\" /></a></span>\\r\\n\\t\\t\\t\\t\\t\\t</span>\\r\\n\\t\\t\\t\\t\\t\\t<button type=\"submit\" title=\"검색\" class=\"btn_srch\" onclick=\"clickcr(this, \\'GNB.search\\', \\'\\', \\'\\', event); delayed_submit(this);\"><span class=\"blind\">검색</span></button>\\r\\n\\t\\t\\t\\t\\t\\t <!-- 자동 완성 영역임 #autocomplate_template-->\\r\\n\\t\\t\\t\\t\\t</div>\\r\\n\\t\\t\\t\\t</fieldset>\\r\\n\\t\\t\\t\\t<!-- //검색창 -->\\r\\n\\t\\t\\t</div>\\r\\n\\t\\t</div>\\r\\n\\t</div>\\r\\n\\t<!-- //GNB -->\\r\\n\\t<!-- nClicks -->\\r\\n\\t\\r\\n\\t\\t\\r\\n\\t\\t\\r\\n\\t\\t\\r\\n\\t\\t\\t<script type=\"text/javascript\">var nsc = \"movie.sdb\";</script>\\r\\n\\t\\t\\t<script type=\"text/javascript\" src=\"/common/js/clickcr.js\"></script>\\r\\n\\t\\t\\r\\n\\t\\t\\r\\n\\t\\t\\t\\t\\r\\n\\t\\t\\r\\n\\t\\t\\r\\n\\t\\t\\r\\n\\t\\t\\r\\n\\t\\t\\r\\n\\t\\t\\r\\n\\t\\t\\r\\n\\t\\t\\r\\n\\t\\r\\n\\t<!-- // nClicks -->\\t\\r\\n\\t<!-- //GNB -->\\r\\n\\t\\r\\n\\t<!-- LNB -->\\r\\n\\t\\n\\n\\n\\n\\t<!-- header -->\\n\\t<div id=\"header\">\\n\\t\\t<h1 class=\"svc_name\">\\n\\t\\t\\t<a href=\"http://www.naver.com/\" title=\"naver로 바로가기\" class=\"ci_logo\" id=\"lnb_gonaver\" onclick=\"clickcr(this, \\'LNB.naver\\', \\'\\', \\'\\', event);\"><img src=\"https://ssl.pstatic.net/static/movie/2013/07/logo_ci.png\" width=\"62\" height=\"13\" alt=\"NAVER\" /></a>\\n\\t\\t\\t<a href=\"/\" title=\"영화서비스홈으로 바로가기\" class=\"svc_logo\" onclick=\"clickcr(this, \\'LNB.movie\\', \\'\\', \\'\\', event);\"><img src=\"https://ssl.pstatic.net/static/movie/2012/06/logo_svc.png\" width=\"34\" height=\"19\" alt=\"영화\" /></a>\\n\\t\\t</h1>\\n\\t\\t<div id=\"scrollbar\" class=\"scrollbar scrollbar-noscript\">\\n\\t\\t\\t<div class=\"scrollbar-box\">\\n\\t\\t\\t\\t<div class=\"scrollbar-content\">\\n\\t\\t\\t\\t\\t<div class=\"in_scroll\">\\n\\t\\t\\t\\t\\t\\t<ul class=\"navi\">\\n\\t\\t\\t\\t\\t\\t<li>\\n\\t\\t\\t\\t\\t\\t\\t<a href=\"/\" title=\"영화홈\" class=\"menu01\" onclick=\"clickcr(this, \\'LNB.home\\', \\'\\', \\'\\', event);\"><strong>영화홈</strong></a>\\n\\t\\t\\t\\t\\t\\t</li>\\n\\t\\t\\t\\t\\t\\t<li>\\n\\t\\t\\t\\t\\t\\t\\t<a href=\"/movie/running/current.naver\" title=\"상영작·예정작\" class=\"menu02\" onclick=\"clickcr(this, \\'LNB.movies\\', \\'\\', \\'\\', event);\"><strong>상영작·예정작</strong></a>\\n\\t\\t\\t\\t\\t\\t\\t<ul class=\"navi_sub\" style=\"display:none\">\\n\\t\\t\\t\\t\\t\\t\\t<li><a href=\"/movie/running/current.naver\" title=\"현재 상영영화\" class=\"sub2_1\" onclick=\"clickcr(this, \\'LNB.now\\', \\'\\', \\'\\', event);\"><em>현재 상영영화</em></a></li>\\n\\t\\t\\t\\t\\t\\t\\t<li><a href=\"/movie/running/premovie.naver\" title=\"개봉 예정영화\" class=\"sub2_2\" onclick=\"clickcr(this, \\'LNB.soon\\', \\'\\', \\'\\', event);\"><em>개봉 예정영화</em></a></li>\\n\\t\\t\\t\\t\\t\\t\\t<li><a href=\"/movie/running/movieclip.naver\" title=\"예고편\" class=\"sub2_4\" onclick=\"clickcr(this, \\'LNB.tailer\\', \\'\\', \\'\\', event);\"><em>예고편</em></a></li>\\n\\t\\t\\t\\t\\t\\t\\t</ul>\\n\\t\\t\\t\\t\\t\\t</li>\\n\\t\\t\\t\\t\\t\\t<li>\\n\\t\\t\\t\\t\\t\\t\\t<a href=\"/movie/sdb/rank/rmovie.naver\" title=\"영화랭킹\" class=\"menu03_on\" onclick=\"clickcr(this, \\'LNB.db\\', \\'\\', \\'\\', event);\"><strong>영화랭킹</strong></a>\\n\\t\\t\\t\\t\\t\\t\\t<ul class=\"navi_sub\" style=\"display:block\">\\n\\t\\t\\t\\t\\t\\t\\t<li><a href=\"/movie/sdb/rank/rmovie.naver\" title=\"랭킹\" class=\"sub3_1_on\" onclick=\"clickcr(this, \\'LNB.rank\\', \\'\\', \\'\\', event);\"><em>랭킹</em></a></li>\\n\\t\\t\\t\\t\\t\\t\\t<li><a href=\"/movie/sdb/browsing/bmovie_nation.naver\" title=\"디렉토리\" class=\"sub3_2\" onclick=\"clickcr(this, \\'LNB.dir\\', \\'\\', \\'\\', event);\"><em>디렉토리</em></a></li>\\n\\t\\t\\t\\t\\t\\t\\t</ul>\\n\\t\\t\\t\\t\\t\\t</li>\\n\\n\\n\\t\\t\\t\\t\\t\\t<li>\\n\\t\\t\\t\\t\\t\\t\\t<a href=\"/movie/point/af/list.naver\" title=\"평점\" class=\"menu07\" onclick=\"clickcr(this, \\'LNB.comm\\', \\'\\', \\'\\', event);\"><strong>평점</strong></a>\\n                            <ul class=\"navi_sub\" style=\"display:none\">\\n                                <li><a href=\"/movie/point/af/list.naver\" title=\"네티즌 평점\" class=\"sub7_1\" onclick=\"clickcr(this, \\'LNB.rating\\', \\'\\', \\'\\', event);\"><em>네티즌 평점</em></a></li>\\n                                <li><a href=\"/movie/board/review/list.naver\" title=\"네티즌 리뷰\" class=\"sub7_2\" onclick=\"clickcr(this, \\'LNB.review\\', \\'\\', \\'\\', event);\"><em>네티즌 리뷰</em></a></li>\\n                                \\n                            </ul>\\n\\t\\t\\t\\t\\t\\t</li>\\n\\t\\t\\t\\t\\t\\t<li>\\n\\t\\t\\t\\t\\t\\t\\t<a href=\"http://serieson.naver.com/movie/home.nhn\" title=\"다운로드\" class=\"menu08\" onclick=\"clickcr(this, \\'LNB.download\\', \\'\\', \\'\\', event);\" target=\"_blank\"><strong>다운로드</strong></a>\\n\\t\\t\\t\\t\\t\\t</li>\\n\\t\\t\\t\\t\\t\\t<li class=\"nav_indi\">\\n\\t\\t\\t\\t\\t\\t        <a href=\"http://tv.naver.com/indiecinema\" title=\"인디극장 UP\" target=\"_blank\"><strong>인디극장 UP</strong></a><!-- N=a:LNB.indie -->\\n\\t\\t\\t\\t\\t\\t</li>\\t\\t\\t\\t\\t\\t\\n\\t\\t\\t\\t\\t\\t</ul>\\n\\t\\t\\t\\t\\t\\t<!-- div class=\"view_mode\">\\n\\t\\t\\t\\t\\t\\t\\t<a href=\"#\" title=\"\" class=\"normal_on\"><em>1단 보기</em></a>\\n\\t\\t\\t\\t\\t\\t\\t<a href=\"#\" title=\"\" class=\"wide_off\"><em>2단 보기</em></a>\\n\\t\\t\\t\\t\\t\\t</div -->\\n\\t\\t\\t\\t\\t</div>\\n\\t\\t\\t\\t</div>\\n\\t\\t\\t</div>\\n\\t\\t\\t<div class=\"scrollbar-v\">\\n\\t\\t\\t\\t<div class=\"scrollbar-button-up\"></div>\\n\\t\\t\\t\\t<div class=\"scrollbar-track\">\\n\\t\\t\\t\\t\\t<div class=\"scrollbar-thumb\"></div>\\n\\t\\t\\t\\t</div>\\n\\t\\t\\t\\t<div class=\"scrollbar-button-down\"></div>\\n\\t\\t\\t</div>\\n\\t\\t</div>\\n\\t</div>\\n\\t<!-- //header -->\\r\\n\\t<!-- //LNB -->\\r\\n\\t\\r\\n\\t<div id=\"container\">\\r\\n\\t\\t<!-- content -->\\r\\n\\t\\t<div id=\"content\">\\r\\n\\t\\t\\t<div class=\"article\">\\r\\n\\t\\t\\t\\r\\n\\t\\t\\t\\t<div class=\"old_layout old_super_db\">\\r\\n\\r\\n\\t\\t\\t\\t\\r\\n\\t\\t\\t\\t\\t\\r\\n\\r\\n\\r\\n\\r\\n\\r\\n\\r\\n\\r\\n\\t\\t\\t\\r\\n\\t\\t\\t<h3 class=\"h_db_rank\"><strong class=\"blind\">랭킹</strong></h3>\\r\\n\\t\\t\\t<ul class=\"tab_db_rank\">\\r\\n\\t\\t\\t<li><a href=\"/movie/sdb/rank/rmovie.naver\" title=\"영화\" class=\"db_tab01_on\"><em>영화</em></a></li>\\r\\n\\t\\t\\t<li><a href=\"/movie/sdb/rank/rpeople.naver\" title=\"영화인\" class=\"db_tab02\"><em>영화인</em></a></li>\\r\\n\\t\\t\\t<!-- li><a href=\"/movie/sdb/rank/rfestival.naver\" title=\"영화제\" class=\"db_tab03\"><em>영화제</em></a></li -->\\r\\n\\t\\t\\t<!-- li><a href=\"/movie/sdb/rank/rcompany.naver\" title=\"영화사\" class=\"db_tab04\"><em>영화사</em></a></li -->\\r\\n\\t\\t\\t<!-- li><a href=\"/movie/sdb/rank/rnews.naver\" title=\"기자영화\" class=\"db_tab05\"><em>기자</em></a></li -->\\r\\n\\t\\t\\t<!-- li><a href=\"/movie/sdb/rank/rreview.naver\" title=\"네티즌리뷰\" class=\"db_tab06\"><em>네티즌리뷰</em></a></li -->\\r\\n\\t\\t\\t\\r\\n\\t\\t\\t\\r\\n\\t\\t\\t</ul>\\r\\n\\t\\t\\t\\r\\n\\t\\t\\t\\r\\n\\r\\n\\t\\t\\t\\t\\r\\n\\t\\t\\t\\t\\r\\n\\r\\n\\t\\t\\t\\t<!-- Content Body -->\\r\\n\\t\\t\\t\\t<div id=\"cbody\" class=\"type_1\">\\r\\n\\t\\t\\t\\t\\r\\n\\t\\t\\t\\t\\t<div id=\"old_content\">\\r\\n\\t\\t\\t\\t\\t<h4 class=\"tlt\"><img src=\"https://ssl.pstatic.net/imgmovie/2007/img/super_db/tlt_ranking_movie.gif\" alt=\"영화랭킹\" width=\"65\" height=\"15\">\\r\\n\\t\\t\\t\\t\\r\\n\\t\\t\\t</h4>\\r\\n\\t\\t\\t<!-- 탭메뉴 -->\\r\\n\\t\\t\\t<div class=\"tab_type_6\">\\r\\n\\t\\t\\t\\t<ul><!--활성화된 탭의 이미지는 _on.gif 입니다-->\\r\\n\\t\\t\\t\\t\\t<li><a href=\"rmovie.naver?sel=cnt&date=20220926\"><img src=\"https://ssl.pstatic.net/imgmovie/2007/img/super_db/tab_movie_1_off.gif\" alt=\"조회순\" width=\"112\" height=\"28\"></a></li>\\r\\n\\t\\t\\t\\t\\t<li><a href=\"rmovie.naver?sel=cur&date=20220926\"><img src=\"https://ssl.pstatic.net/imgmovie/2007/img/super_db/tab_movie_2_on.gif\" alt=\"평점순(현재상영영화)\" width=\"126\" height=\"28\"></a></li>\\r\\n\\t\\t\\t\\t\\t<li><a href=\"rmovie.naver?sel=pnt&date=20220926\"><img src=\"https://ssl.pstatic.net/imgmovie/2007/img/super_db/tab_movie_3_off.gif\" alt=\"평점순(모든영화)\" width=\"126\" height=\"28\"></a></li>\\r\\n\\t\\t\\t\\t</ul>\\r\\n\\t\\t\\t\\t<p class=\"r_date\">2022.09.26 <a href=\"rmovie.naver?sel=cur&tg=0&date=20220925\"><img src=\"https://ssl.pstatic.net/imgmovie/2007/img/common/btn_prev.gif\" alt=\"prev\" width=\"13\" height=\"13\" style=\"margin-right:1px;\"></a><a href=\"rmovie.naver?sel=cur&tg=0&date=20220927\"><img src=\"https://ssl.pstatic.net/imgmovie/2007/img/common/btn_next.gif\" alt=\"next\" width=\"13\" height=\"13\"></a></p>\\r\\n\\t\\t\\t</div>\\r\\n\\t\\t\\t<!-- //탭메뉴 -->\\r\\n\\t\\t\\t<!-- 랭킹 리스트 -->\\r\\n\\t\\t\\t<table cellspacing=\"0\" class=\"list_ranking\">\\r\\n\\t\\t\\t\\t<caption class=\"blind\">랭킹 테이블</caption>\\r\\n\\t\\t\\t\\r\\n\\t\\t\\t\\r\\n\\t\\t\\t<col width=\"6%\"><col width=\"*\"><col width=\"15%\"><col width=\"3%\"><col width=\"12%\"><col width=\"2%\"><col width=\"5%\"> \\r\\n\\t\\t\\t\\r\\n\\t\\t\\t<thead>\\r\\n\\t\\t\\t\\t<tr>\\r\\n\\t\\t\\t\\t<th scope=\"col\">순위</th>\\r\\n\\t\\t\\t\\t<th scope=\"col\">영화명</th>\\r\\n\\t\\t\\t\\t\\r\\n\\t\\t\\t\\t<th scope=\"col\" colspan=\"3\">평점</th>\\r\\n\\t\\t\\t\\t\\r\\n\\t\\t\\t\\t<th scope=\"col\" colspan=\"2\">변동폭</th>\\r\\n\\t\\t\\t\\t</tr>\\r\\n\\t\\t\\t</thead>\\r\\n\\t\\t\\t<tbody>\\r\\n\\t\\t\\t\\t<tr><td colspan=\"8\" class=\"blank01\"></td></tr>\\r\\n\\t\\t\\t\\t<!-- 예제\\r\\n\\t\\t\\t\\t<tr>\\r\\n\\t\\t\\t\\t\\t<td class=\"ac\"><img src=\"https://ssl.pstatic.net/imgmovie/2007/img/common/bullet_r_g50.gif\" alt=\"50\" width=\"14\" height=\"13\"></td>\\r\\n\\t\\t\\t\\t\\t<td class=\"title\"><a href=\"#\">트랜스포머</a></td>\\r\\n\\t\\t\\t\\t\\t<td class=\"ac\"><img src=\"https://ssl.pstatic.net/imgmovie/2007/img/common/icon_down_1.gif\" alt=\"down\" width=\"7\" height=\"10\"></td>\\r\\n\\t\\t\\t\\t\\t<td class=\"range ac\">7</td>\\r\\n\\t\\t\\t\\t</tr>\\r\\n\\t\\t\\t\\t-->\\r\\n\\t\\t\\t\\t\\r\\n\\t\\t\\t\\t<tr>\\r\\n\\t\\t\\t\\t\\t\\r\\n\\t\\t\\t\\t\\t\\t<td class=\"ac\"><img src=\"https://ssl.pstatic.net/imgmovie/2007/img/common/bullet_r_r01.gif\" alt=\"01\" width=\"14\" height=\"13\"></td>\\r\\n\\t\\t\\t\\t\\t\\r\\n\\t\\t\\t\\t\\t\\t\\r\\n\\t\\t\\t\\t\\t\\r\\n\\t\\t\\t\\t\\t\\r\\n\\t\\t\\t\\t\\t<td class=\"title\">\\r\\n\\t\\t\\t\\t\\t\\t<div class=\"tit5\">\\r\\n\\t\\t\\t\\t\\t\\t\\t<a href=\"/movie/bi/mi/basic.naver?code=81888\" title=\"탑건: 매버릭\">탑건: 매버릭</a>\\r\\n\\t\\t\\t\\t\\t\\t</div>\\r\\n\\t\\t\\t\\t\\t</td>\\r\\n\\t\\t\\t\\t\\t<!-- 평점순일 때 평점 추가하기  -->\\r\\n\\t\\t\\t\\t\\t\\r\\n\\t\\t\\t\\t\\t<td><div class=\"point_type_2\"><div class=\"mask\" style=\"width:97.70000457763672%\"><img src=\"https://ssl.pstatic.net/imgmovie/2007/img/common/point_type_2_bg_on.gif\" width=\"79\" height=\"14\" alt=\"\"></div></div></td>\\r\\n\\t\\t\\t\\t\\t<td class=\"point\">9.77</td>\\r\\n\\t\\t\\t\\t\\t<td class=\"ac\"><a href=\"/movie/point/af/list.naver?st=mcode&sword=81888\" class=\"txt_link\">평점주기</a></td>\\r\\n\\t\\t\\t\\t\\t\\r\\n\\t\\t\\t\\t\\t<!----------------------------------------->  \\r\\n\\t\\t\\t\\t\\t\\r\\n\\t\\t\\t\\t\\t<td class=\"ac\"><img src=\"https://ssl.pstatic.net/imgmovie/2007/img/common/icon_na_1.gif\" alt=\"na\" width=\"7\" height=\"10\" class=\"arrow\"></td>\\r\\n\\t\\t\\t\\t\\t<td class=\"range ac\">0</td>\\r\\n\\t\\t\\t\\t\\t\\r\\n\\t\\t\\t\\t\\t\\r\\n\\t\\t\\t\\t</tr>\\r\\n\\t\\t\\t\\t\\t\\r\\n\\t\\t\\t\\t\\t\\r\\n\\t\\t\\t\\t\\r\\n\\t\\t\\t\\t<tr>\\r\\n\\t\\t\\t\\t\\t\\r\\n\\t\\t\\t\\t\\t\\t<td class=\"ac\"><img src=\"https://ssl.pstatic.net/imgmovie/2007/img/common/bullet_r_r02.gif\" alt=\"02\" width=\"14\" height=\"13\"></td>\\r\\n\\t\\t\\t\\t\\t\\r\\n\\t\\t\\t\\t\\t\\t\\r\\n\\t\\t\\t\\t\\t\\r\\n\\t\\t\\t\\t\\t\\r\\n\\t\\t\\t\\t\\t<td class=\"title\">\\r\\n\\t\\t\\t\\t\\t\\t<div class=\"tit5\">\\r\\n\\t\\t\\t\\t\\t\\t\\t<a href=\"/movie/bi/mi/basic.naver?code=213364\" title=\"인생은 뷰티풀: 비타돌체\">인생은 뷰티풀: 비타돌체</a>\\r\\n\\t\\t\\t\\t\\t\\t</div>\\r\\n\\t\\t\\t\\t\\t</td>\\r\\n\\t\\t\\t\\t\\t<!-- 평점순일 때 평점 추가하기  -->\\r\\n\\t\\t\\t\\t\\t\\r\\n\\t\\t\\t\\t\\t<td><div class=\"point_type_2\"><div class=\"mask\" style=\"width:97.39999771118164%\"><img src=\"https://ssl.pstatic.net/imgmovie/2007/img/common/point_type_2_bg_on.gif\" width=\"79\" height=\"14\" alt=\"\"></div></div></td>\\r\\n\\t\\t\\t\\t\\t<td class=\"point\">9.74</td>\\r\\n\\t\\t\\t\\t\\t<td class=\"ac\"><a href=\"/movie/point/af/list.naver?st=mcode&sword=213364\" class=\"txt_link\">평점주기</a></td>\\r\\n\\t\\t\\t\\t\\t\\r\\n\\t\\t\\t\\t\\t<!----------------------------------------->  \\r\\n\\t\\t\\t\\t\\t\\r\\n\\t\\t\\t\\t\\t<td class=\"ac\"><img src=\"https://ssl.pstatic.net/imgmovie/2007/img/common/icon_na_1.gif\" alt=\"na\" width=\"7\" height=\"10\" class=\"arrow\"></td>\\r\\n\\t\\t\\t\\t\\t<td class=\"range ac\">0</td>\\r\\n\\t\\t\\t\\t\\t\\r\\n\\t\\t\\t\\t\\t\\r\\n\\t\\t\\t\\t</tr>\\r\\n\\t\\t\\t\\t\\t\\r\\n\\t\\t\\t\\t\\t\\r\\n\\t\\t\\t\\t\\r\\n\\t\\t\\t\\t<tr>\\r\\n\\t\\t\\t\\t\\t\\r\\n\\t\\t\\t\\t\\t\\t<td class=\"ac\"><img src=\"https://ssl.pstatic.net/imgmovie/2007/img/common/bullet_r_r03.gif\" alt=\"03\" width=\"14\" height=\"13\"></td>\\r\\n\\t\\t\\t\\t\\t\\r\\n\\t\\t\\t\\t\\t\\t\\r\\n\\t\\t\\t\\t\\t\\r\\n\\t\\t\\t\\t\\t\\r\\n\\t\\t\\t\\t\\t<td class=\"title\">\\r\\n\\t\\t\\t\\t\\t\\t<div class=\"tit5\">\\r\\n\\t\\t\\t\\t\\t\\t\\t<a href=\"/movie/bi/mi/basic.naver?code=217719\" title=\"명탐정 코난: 할로윈의 신부\">명탐정 코난: 할로윈의 신부</a>\\r\\n\\t\\t\\t\\t\\t\\t</div>\\r\\n\\t\\t\\t\\t\\t</td>\\r\\n\\t\\t\\t\\t\\t<!-- 평점순일 때 평점 추가하기  -->\\r\\n\\t\\t\\t\\t\\t\\r\\n\\t\\t\\t\\t\\t<td><div class=\"point_type_2\"><div class=\"mask\" style=\"width:94.70000267028809%\"><img src=\"https://ssl.pstatic.net/imgmovie/2007/img/common/point_type_2_bg_on.gif\" width=\"79\" height=\"14\" alt=\"\"></div></div></td>\\r\\n\\t\\t\\t\\t\\t<td class=\"point\">9.47</td>\\r\\n\\t\\t\\t\\t\\t<td class=\"ac\"><a href=\"/movie/point/af/list.naver?st=mcode&sword=217719\" class=\"txt_link\">평점주기</a></td>\\r\\n\\t\\t\\t\\t\\t\\r\\n\\t\\t\\t\\t\\t<!----------------------------------------->  \\r\\n\\t\\t\\t\\t\\t\\r\\n\\t\\t\\t\\t\\t<td class=\"ac\"><img src=\"https://ssl.pstatic.net/imgmovie/2007/img/common/icon_na_1.gif\" alt=\"na\" width=\"7\" height=\"10\" class=\"arrow\"></td>\\r\\n\\t\\t\\t\\t\\t<td class=\"range ac\">0</td>\\r\\n\\t\\t\\t\\t\\t\\r\\n\\t\\t\\t\\t\\t\\r\\n\\t\\t\\t\\t</tr>\\r\\n\\t\\t\\t\\t\\t\\r\\n\\t\\t\\t\\t\\t\\r\\n\\t\\t\\t\\t\\r\\n\\t\\t\\t\\t<tr>\\r\\n\\t\\t\\t\\t\\t\\r\\n\\t\\t\\t\\t\\t\\t<td class=\"ac\"><img src=\"https://ssl.pstatic.net/imgmovie/2007/img/common/bullet_r_r04.gif\" alt=\"04\" width=\"14\" height=\"13\"></td>\\r\\n\\t\\t\\t\\t\\t\\r\\n\\t\\t\\t\\t\\t\\t\\r\\n\\t\\t\\t\\t\\t\\r\\n\\t\\t\\t\\t\\t\\r\\n\\t\\t\\t\\t\\t<td class=\"title\">\\r\\n\\t\\t\\t\\t\\t\\t<div class=\"tit5\">\\r\\n\\t\\t\\t\\t\\t\\t\\t<a href=\"/movie/bi/mi/basic.naver?code=213733\" title=\"극장판 주술회전 0\">극장판 주술회전 0</a>\\r\\n\\t\\t\\t\\t\\t\\t</div>\\r\\n\\t\\t\\t\\t\\t</td>\\r\\n\\t\\t\\t\\t\\t<!-- 평점순일 때 평점 추가하기  -->\\r\\n\\t\\t\\t\\t\\t\\r\\n\\t\\t\\t\\t\\t<td><div class=\"point_type_2\"><div class=\"mask\" style=\"width:92.29999542236328%\"><img src=\"https://ssl.pstatic.net/imgmovie/2007/img/common/point_type_2_bg_on.gif\" width=\"79\" height=\"14\" alt=\"\"></div></div></td>\\r\\n\\t\\t\\t\\t\\t<td class=\"point\">9.23</td>\\r\\n\\t\\t\\t\\t\\t<td class=\"ac\"><a href=\"/movie/point/af/list.naver?st=mcode&sword=213733\" class=\"txt_link\">평점주기</a></td>\\r\\n\\t\\t\\t\\t\\t\\r\\n\\t\\t\\t\\t\\t<!----------------------------------------->  \\r\\n\\t\\t\\t\\t\\t\\r\\n\\t\\t\\t\\t\\t<td class=\"ac\"><img src=\"https://ssl.pstatic.net/imgmovie/2007/img/common/icon_na_1.gif\" alt=\"na\" width=\"7\" height=\"10\" class=\"arrow\"></td>\\r\\n\\t\\t\\t\\t\\t<td class=\"range ac\">0</td>\\r\\n\\t\\t\\t\\t\\t\\r\\n\\t\\t\\t\\t\\t\\r\\n\\t\\t\\t\\t</tr>\\r\\n\\t\\t\\t\\t\\t\\r\\n\\t\\t\\t\\t\\t\\r\\n\\t\\t\\t\\t\\r\\n\\t\\t\\t\\t<tr>\\r\\n\\t\\t\\t\\t\\t\\r\\n\\t\\t\\t\\t\\t\\t<td class=\"ac\"><img src=\"https://ssl.pstatic.net/imgmovie/2007/img/common/bullet_r_r05.gif\" alt=\"05\" width=\"14\" height=\"13\"></td>\\r\\n\\t\\t\\t\\t\\t\\r\\n\\t\\t\\t\\t\\t\\t\\r\\n\\t\\t\\t\\t\\t\\r\\n\\t\\t\\t\\t\\t\\r\\n\\t\\t\\t\\t\\t<td class=\"title\">\\r\\n\\t\\t\\t\\t\\t\\t<div class=\"tit5\">\\r\\n\\t\\t\\t\\t\\t\\t\\t<a href=\"/movie/bi/mi/basic.naver?code=10105\" title=\"사랑은 비를 타고\">사랑은 비를 타고</a>\\r\\n\\t\\t\\t\\t\\t\\t</div>\\r\\n\\t\\t\\t\\t\\t</td>\\r\\n\\t\\t\\t\\t\\t<!-- 평점순일 때 평점 추가하기  -->\\r\\n\\t\\t\\t\\t\\t\\r\\n\\t\\t\\t\\t\\t<td><div class=\"point_type_2\"><div class=\"mask\" style=\"width:92.10000038146973%\"><img src=\"https://ssl.pstatic.net/imgmovie/2007/img/common/point_type_2_bg_on.gif\" width=\"79\" height=\"14\" alt=\"\"></div></div></td>\\r\\n\\t\\t\\t\\t\\t<td class=\"point\">9.21</td>\\r\\n\\t\\t\\t\\t\\t<td class=\"ac\"><a href=\"/movie/point/af/list.naver?st=mcode&sword=10105\" class=\"txt_link\">평점주기</a></td>\\r\\n\\t\\t\\t\\t\\t\\r\\n\\t\\t\\t\\t\\t<!----------------------------------------->  \\r\\n\\t\\t\\t\\t\\t\\r\\n\\t\\t\\t\\t\\t<td class=\"ac\"><img src=\"https://ssl.pstatic.net/imgmovie/2007/img/common/icon_na_1.gif\" alt=\"na\" width=\"7\" height=\"10\" class=\"arrow\"></td>\\r\\n\\t\\t\\t\\t\\t<td class=\"range ac\">0</td>\\r\\n\\t\\t\\t\\t\\t\\r\\n\\t\\t\\t\\t\\t\\r\\n\\t\\t\\t\\t</tr>\\r\\n\\t\\t\\t\\t\\t\\r\\n\\t\\t\\t\\t\\t\\r\\n\\t\\t\\t\\t\\r\\n\\t\\t\\t\\t<tr>\\r\\n\\t\\t\\t\\t\\t\\r\\n\\t\\t\\t\\t\\t\\t<td class=\"ac\"><img src=\"https://ssl.pstatic.net/imgmovie/2007/img/common/bullet_r_r06.gif\" alt=\"06\" width=\"14\" height=\"13\"></td>\\r\\n\\t\\t\\t\\t\\t\\r\\n\\t\\t\\t\\t\\t\\t\\r\\n\\t\\t\\t\\t\\t\\r\\n\\t\\t\\t\\t\\t\\r\\n\\t\\t\\t\\t\\t<td class=\"title\">\\r\\n\\t\\t\\t\\t\\t\\t<div class=\"tit5\">\\r\\n\\t\\t\\t\\t\\t\\t\\t<a href=\"/movie/bi/mi/basic.naver?code=201073\" title=\"코다\">코다</a>\\r\\n\\t\\t\\t\\t\\t\\t</div>\\r\\n\\t\\t\\t\\t\\t</td>\\r\\n\\t\\t\\t\\t\\t<!-- 평점순일 때 평점 추가하기  -->\\r\\n\\t\\t\\t\\t\\t\\r\\n\\t\\t\\t\\t\\t<td><div class=\"point_type_2\"><div class=\"mask\" style=\"width:91.40000343322754%\"><img src=\"https://ssl.pstatic.net/imgmovie/2007/img/common/point_type_2_bg_on.gif\" width=\"79\" height=\"14\" alt=\"\"></div></div></td>\\r\\n\\t\\t\\t\\t\\t<td class=\"point\">9.14</td>\\r\\n\\t\\t\\t\\t\\t<td class=\"ac\"><a href=\"/movie/point/af/list.naver?st=mcode&sword=201073\" class=\"txt_link\">평점주기</a></td>\\r\\n\\t\\t\\t\\t\\t\\r\\n\\t\\t\\t\\t\\t<!----------------------------------------->  \\r\\n\\t\\t\\t\\t\\t\\r\\n\\t\\t\\t\\t\\t<td class=\"ac\"><img src=\"https://ssl.pstatic.net/imgmovie/2007/img/common/icon_na_1.gif\" alt=\"na\" width=\"7\" height=\"10\" class=\"arrow\"></td>\\r\\n\\t\\t\\t\\t\\t<td class=\"range ac\">0</td>\\r\\n\\t\\t\\t\\t\\t\\r\\n\\t\\t\\t\\t\\t\\r\\n\\t\\t\\t\\t</tr>\\r\\n\\t\\t\\t\\t\\t\\r\\n\\t\\t\\t\\t\\t\\r\\n\\t\\t\\t\\t\\r\\n\\t\\t\\t\\t<tr>\\r\\n\\t\\t\\t\\t\\t\\r\\n\\t\\t\\t\\t\\t\\t<td class=\"ac\"><img src=\"https://ssl.pstatic.net/imgmovie/2007/img/common/bullet_r_r07.gif\" alt=\"07\" width=\"14\" height=\"13\"></td>\\r\\n\\t\\t\\t\\t\\t\\r\\n\\t\\t\\t\\t\\t\\t\\r\\n\\t\\t\\t\\t\\t\\r\\n\\t\\t\\t\\t\\t\\r\\n\\t\\t\\t\\t\\t<td class=\"title\">\\r\\n\\t\\t\\t\\t\\t\\t<div class=\"tit5\">\\r\\n\\t\\t\\t\\t\\t\\t\\t<a href=\"/movie/bi/mi/basic.naver?code=187321\" title=\"1917\">1917</a>\\r\\n\\t\\t\\t\\t\\t\\t</div>\\r\\n\\t\\t\\t\\t\\t</td>\\r\\n\\t\\t\\t\\t\\t<!-- 평점순일 때 평점 추가하기  -->\\r\\n\\t\\t\\t\\t\\t\\r\\n\\t\\t\\t\\t\\t<td><div class=\"point_type_2\"><div class=\"mask\" style=\"width:88.99999618530273%\"><img src=\"https://ssl.pstatic.net/imgmovie/2007/img/common/point_type_2_bg_on.gif\" width=\"79\" height=\"14\" alt=\"\"></div></div></td>\\r\\n\\t\\t\\t\\t\\t<td class=\"point\">8.90</td>\\r\\n\\t\\t\\t\\t\\t<td class=\"ac\"><a href=\"/movie/point/af/list.naver?st=mcode&sword=187321\" class=\"txt_link\">평점주기</a></td>\\r\\n\\t\\t\\t\\t\\t\\r\\n\\t\\t\\t\\t\\t<!----------------------------------------->  \\r\\n\\t\\t\\t\\t\\t\\r\\n\\t\\t\\t\\t\\t<td class=\"ac\"><img src=\"https://ssl.pstatic.net/imgmovie/2007/img/common/icon_na_1.gif\" alt=\"na\" width=\"7\" height=\"10\" class=\"arrow\"></td>\\r\\n\\t\\t\\t\\t\\t<td class=\"range ac\">0</td>\\r\\n\\t\\t\\t\\t\\t\\r\\n\\t\\t\\t\\t\\t\\r\\n\\t\\t\\t\\t</tr>\\r\\n\\t\\t\\t\\t\\t\\r\\n\\t\\t\\t\\t\\t\\r\\n\\t\\t\\t\\t\\r\\n\\t\\t\\t\\t<tr>\\r\\n\\t\\t\\t\\t\\t\\r\\n\\t\\t\\t\\t\\t\\t<td class=\"ac\"><img src=\"https://ssl.pstatic.net/imgmovie/2007/img/common/bullet_r_r08.gif\" alt=\"08\" width=\"14\" height=\"13\"></td>\\r\\n\\t\\t\\t\\t\\t\\r\\n\\t\\t\\t\\t\\t\\t\\r\\n\\t\\t\\t\\t\\t\\r\\n\\t\\t\\t\\t\\t\\r\\n\\t\\t\\t\\t\\t<td class=\"title\">\\r\\n\\t\\t\\t\\t\\t\\t<div class=\"tit5\">\\r\\n\\t\\t\\t\\t\\t\\t\\t<a href=\"/movie/bi/mi/basic.naver?code=17059\" title=\"중경삼림\">중경삼림</a>\\r\\n\\t\\t\\t\\t\\t\\t</div>\\r\\n\\t\\t\\t\\t\\t</td>\\r\\n\\t\\t\\t\\t\\t<!-- 평점순일 때 평점 추가하기  -->\\r\\n\\t\\t\\t\\t\\t\\r\\n\\t\\t\\t\\t\\t<td><div class=\"point_type_2\"><div class=\"mask\" style=\"width:88.90000343322754%\"><img src=\"https://ssl.pstatic.net/imgmovie/2007/img/common/point_type_2_bg_on.gif\" width=\"79\" height=\"14\" alt=\"\"></div></div></td>\\r\\n\\t\\t\\t\\t\\t<td class=\"point\">8.89</td>\\r\\n\\t\\t\\t\\t\\t<td class=\"ac\"><a href=\"/movie/point/af/list.naver?st=mcode&sword=17059\" class=\"txt_link\">평점주기</a></td>\\r\\n\\t\\t\\t\\t\\t\\r\\n\\t\\t\\t\\t\\t<!----------------------------------------->  \\r\\n\\t\\t\\t\\t\\t\\r\\n\\t\\t\\t\\t\\t\\r\\n\\t\\t\\t\\t\\t\\t<td colspan=\"2\" class=\"new_icon\"><img width=\"20\" height=\"5\" alt=\"new\" src=\"https://ssl.pstatic.net/imgmovie/2007/img/common/icon_new_1.gif\"></td>\\r\\n\\t\\t\\t\\t\\t\\r\\n\\t\\t\\t\\t</tr>\\r\\n\\t\\t\\t\\t\\t\\r\\n\\t\\t\\t\\t\\t\\r\\n\\t\\t\\t\\t\\r\\n\\t\\t\\t\\t<tr>\\r\\n\\t\\t\\t\\t\\t\\r\\n\\t\\t\\t\\t\\t\\t<td class=\"ac\"><img src=\"https://ssl.pstatic.net/imgmovie/2007/img/common/bullet_r_r09.gif\" alt=\"09\" width=\"14\" height=\"13\"></td>\\r\\n\\t\\t\\t\\t\\t\\r\\n\\t\\t\\t\\t\\t\\t\\r\\n\\t\\t\\t\\t\\t\\r\\n\\t\\t\\t\\t\\t\\r\\n\\t\\t\\t\\t\\t<td class=\"title\">\\r\\n\\t\\t\\t\\t\\t\\t<div class=\"tit5\">\\r\\n\\t\\t\\t\\t\\t\\t\\t<a href=\"/movie/bi/mi/basic.naver?code=217472\" title=\"엘비스\">엘비스</a>\\r\\n\\t\\t\\t\\t\\t\\t</div>\\r\\n\\t\\t\\t\\t\\t</td>\\r\\n\\t\\t\\t\\t\\t<!-- 평점순일 때 평점 추가하기  -->\\r\\n\\t\\t\\t\\t\\t\\r\\n\\t\\t\\t\\t\\t<td><div class=\"point_type_2\"><div class=\"mask\" style=\"width:88.29999923706055%\"><img src=\"https://ssl.pstatic.net/imgmovie/2007/img/common/point_type_2_bg_on.gif\" width=\"79\" height=\"14\" alt=\"\"></div></div></td>\\r\\n\\t\\t\\t\\t\\t<td class=\"point\">8.83</td>\\r\\n\\t\\t\\t\\t\\t<td class=\"ac\"><a href=\"/movie/point/af/list.naver?st=mcode&sword=217472\" class=\"txt_link\">평점주기</a></td>\\r\\n\\t\\t\\t\\t\\t\\r\\n\\t\\t\\t\\t\\t<!----------------------------------------->  \\r\\n\\t\\t\\t\\t\\t\\r\\n\\t\\t\\t\\t\\t<td class=\"ac\"><img src=\"https://ssl.pstatic.net/imgmovie/2007/img/common/icon_down_1.gif\" alt=\"down\" width=\"7\" height=\"10\" class=\"arrow\"></td>\\r\\n\\t\\t\\t\\t\\t<td class=\"range ac\">1</td>\\r\\n\\t\\t\\t\\t\\t\\r\\n\\t\\t\\t\\t\\t\\r\\n\\t\\t\\t\\t</tr>\\r\\n\\t\\t\\t\\t\\t\\r\\n\\t\\t\\t\\t\\t\\r\\n\\t\\t\\t\\t\\r\\n\\t\\t\\t\\t<tr>\\r\\n\\t\\t\\t\\t\\t\\r\\n\\t\\t\\t\\t\\t\\t\\r\\n\\t\\t\\t\\t\\t<td class=\"ac\"><img src=\"https://ssl.pstatic.net/imgmovie/2007/img/common/bullet_r_r10.gif\" alt=\"010\" width=\"14\" height=\"13\"></td>\\r\\n\\t\\t\\t\\t\\t\\t\\r\\n\\t\\t\\t\\t\\t\\r\\n\\t\\t\\t\\t\\t\\r\\n\\t\\t\\t\\t\\t<td class=\"title\">\\r\\n\\t\\t\\t\\t\\t\\t<div class=\"tit5\">\\r\\n\\t\\t\\t\\t\\t\\t\\t<a href=\"/movie/bi/mi/basic.naver?code=31607\" title=\"고양이를 부탁해\">고양이를 부탁해</a>\\r\\n\\t\\t\\t\\t\\t\\t</div>\\r\\n\\t\\t\\t\\t\\t</td>\\r\\n\\t\\t\\t\\t\\t<!-- 평점순일 때 평점 추가하기  -->\\r\\n\\t\\t\\t\\t\\t\\r\\n\\t\\t\\t\\t\\t<td><div class=\"point_type_2\"><div class=\"mask\" style=\"width:88.10000419616699%\"><img src=\"https://ssl.pstatic.net/imgmovie/2007/img/common/point_type_2_bg_on.gif\" width=\"79\" height=\"14\" alt=\"\"></div></div></td>\\r\\n\\t\\t\\t\\t\\t<td class=\"point\">8.81</td>\\r\\n\\t\\t\\t\\t\\t<td class=\"ac\"><a href=\"/movie/point/af/list.naver?st=mcode&sword=31607\" class=\"txt_link\">평점주기</a></td>\\r\\n\\t\\t\\t\\t\\t\\r\\n\\t\\t\\t\\t\\t<!----------------------------------------->  \\r\\n\\t\\t\\t\\t\\t\\r\\n\\t\\t\\t\\t\\t<td class=\"ac\"><img src=\"https://ssl.pstatic.net/imgmovie/2007/img/common/icon_down_1.gif\" alt=\"down\" width=\"7\" height=\"10\" class=\"arrow\"></td>\\r\\n\\t\\t\\t\\t\\t<td class=\"range ac\">1</td>\\r\\n\\t\\t\\t\\t\\t\\r\\n\\t\\t\\t\\t\\t\\r\\n\\t\\t\\t\\t</tr>\\r\\n\\t\\t\\t\\t\\t\\r\\n\\t\\t\\t\\t\\t\\r\\n\\t\\t\\t\\t\\t\\t<tr><td colspan=\"8\" class=\"line01\"></td></tr>\\r\\n\\t\\t\\t\\t\\t\\r\\n\\t\\t\\t\\t\\r\\n\\t\\t\\t\\t<tr>\\r\\n\\t\\t\\t\\t\\t\\r\\n\\t\\t\\t\\t\\t\\t\\r\\n\\t\\t\\t\\t\\t\\r\\n\\t\\t\\t\\t\\t\\t<td class=\"ac\"><img src=\"https://ssl.pstatic.net/imgmovie/2007/img/common/bullet_r_g11.gif\" alt=\"11\" width=\"14\" height=\"13\"></td>\\r\\n\\t\\t\\t\\t\\t\\r\\n\\t\\t\\t\\t\\t\\r\\n\\t\\t\\t\\t\\t<td class=\"title\">\\r\\n\\t\\t\\t\\t\\t\\t<div class=\"tit5\">\\r\\n\\t\\t\\t\\t\\t\\t\\t<a href=\"/movie/bi/mi/basic.naver?code=150198\" title=\"너의 이름은.\">너의 이름은.</a>\\r\\n\\t\\t\\t\\t\\t\\t</div>\\r\\n\\t\\t\\t\\t\\t</td>\\r\\n\\t\\t\\t\\t\\t<!-- 평점순일 때 평점 추가하기  -->\\r\\n\\t\\t\\t\\t\\t\\r\\n\\t\\t\\t\\t\\t<td><div class=\"point_type_2\"><div class=\"mask\" style=\"width:88.10000419616699%\"><img src=\"https://ssl.pstatic.net/imgmovie/2007/img/common/point_type_2_bg_on.gif\" width=\"79\" height=\"14\" alt=\"\"></div></div></td>\\r\\n\\t\\t\\t\\t\\t<td class=\"point\">8.81</td>\\r\\n\\t\\t\\t\\t\\t<td class=\"ac\"><a href=\"/movie/point/af/list.naver?st=mcode&sword=150198\" class=\"txt_link\">평점주기</a></td>\\r\\n\\t\\t\\t\\t\\t\\r\\n\\t\\t\\t\\t\\t<!----------------------------------------->  \\r\\n\\t\\t\\t\\t\\t\\r\\n\\t\\t\\t\\t\\t\\r\\n\\t\\t\\t\\t\\t\\t<td colspan=\"2\" class=\"new_icon\"><img width=\"20\" height=\"5\" alt=\"new\" src=\"https://ssl.pstatic.net/imgmovie/2007/img/common/icon_new_1.gif\"></td>\\r\\n\\t\\t\\t\\t\\t\\r\\n\\t\\t\\t\\t</tr>\\r\\n\\t\\t\\t\\t\\t\\r\\n\\t\\t\\t\\t\\t\\r\\n\\t\\t\\t\\t\\r\\n\\t\\t\\t\\t<tr>\\r\\n\\t\\t\\t\\t\\t\\r\\n\\t\\t\\t\\t\\t\\t\\r\\n\\t\\t\\t\\t\\t\\r\\n\\t\\t\\t\\t\\t\\t<td class=\"ac\"><img src=\"https://ssl.pstatic.net/imgmovie/2007/img/common/bullet_r_g12.gif\" alt=\"12\" width=\"14\" height=\"13\"></td>\\r\\n\\t\\t\\t\\t\\t\\r\\n\\t\\t\\t\\t\\t\\r\\n\\t\\t\\t\\t\\t<td class=\"title\">\\r\\n\\t\\t\\t\\t\\t\\t<div class=\"tit5\">\\r\\n\\t\\t\\t\\t\\t\\t\\t<a href=\"/movie/bi/mi/basic.naver?code=194196\" title=\"한산: 용의 출현\">한산: 용의 출현</a>\\r\\n\\t\\t\\t\\t\\t\\t</div>\\r\\n\\t\\t\\t\\t\\t</td>\\r\\n\\t\\t\\t\\t\\t<!-- 평점순일 때 평점 추가하기  -->\\r\\n\\t\\t\\t\\t\\t\\r\\n\\t\\t\\t\\t\\t<td><div class=\"point_type_2\"><div class=\"mask\" style=\"width:87.60000228881836%\"><img src=\"https://ssl.pstatic.net/imgmovie/2007/img/common/point_type_2_bg_on.gif\" width=\"79\" height=\"14\" alt=\"\"></div></div></td>\\r\\n\\t\\t\\t\\t\\t<td class=\"point\">8.76</td>\\r\\n\\t\\t\\t\\t\\t<td class=\"ac\"><a href=\"/movie/point/af/list.naver?st=mcode&sword=194196\" class=\"txt_link\">평점주기</a></td>\\r\\n\\t\\t\\t\\t\\t\\r\\n\\t\\t\\t\\t\\t<!----------------------------------------->  \\r\\n\\t\\t\\t\\t\\t\\r\\n\\t\\t\\t\\t\\t<td class=\"ac\"><img src=\"https://ssl.pstatic.net/imgmovie/2007/img/common/icon_down_1.gif\" alt=\"down\" width=\"7\" height=\"10\" class=\"arrow\"></td>\\r\\n\\t\\t\\t\\t\\t<td class=\"range ac\">2</td>\\r\\n\\t\\t\\t\\t\\t\\r\\n\\t\\t\\t\\t\\t\\r\\n\\t\\t\\t\\t</tr>\\r\\n\\t\\t\\t\\t\\t\\r\\n\\t\\t\\t\\t\\t\\r\\n\\t\\t\\t\\t\\r\\n\\t\\t\\t\\t<tr>\\r\\n\\t\\t\\t\\t\\t\\r\\n\\t\\t\\t\\t\\t\\t\\r\\n\\t\\t\\t\\t\\t\\r\\n\\t\\t\\t\\t\\t\\t<td class=\"ac\"><img src=\"https://ssl.pstatic.net/imgmovie/2007/img/common/bullet_r_g13.gif\" alt=\"13\" width=\"14\" height=\"13\"></td>\\r\\n\\t\\t\\t\\t\\t\\r\\n\\t\\t\\t\\t\\t\\r\\n\\t\\t\\t\\t\\t<td class=\"title\">\\r\\n\\t\\t\\t\\t\\t\\t<div class=\"tit5\">\\r\\n\\t\\t\\t\\t\\t\\t\\t<a href=\"/movie/bi/mi/basic.naver?code=126078\" title=\"본 투 비 블루\">본 투 비 블루</a>\\r\\n\\t\\t\\t\\t\\t\\t</div>\\r\\n\\t\\t\\t\\t\\t</td>\\r\\n\\t\\t\\t\\t\\t<!-- 평점순일 때 평점 추가하기  -->\\r\\n\\t\\t\\t\\t\\t\\r\\n\\t\\t\\t\\t\\t<td><div class=\"point_type_2\"><div class=\"mask\" style=\"width:87.29999542236328%\"><img src=\"https://ssl.pstatic.net/imgmovie/2007/img/common/point_type_2_bg_on.gif\" width=\"79\" height=\"14\" alt=\"\"></div></div></td>\\r\\n\\t\\t\\t\\t\\t<td class=\"point\">8.73</td>\\r\\n\\t\\t\\t\\t\\t<td class=\"ac\"><a href=\"/movie/point/af/list.naver?st=mcode&sword=126078\" class=\"txt_link\">평점주기</a></td>\\r\\n\\t\\t\\t\\t\\t\\r\\n\\t\\t\\t\\t\\t<!----------------------------------------->  \\r\\n\\t\\t\\t\\t\\t\\r\\n\\t\\t\\t\\t\\t<td class=\"ac\"><img src=\"https://ssl.pstatic.net/imgmovie/2007/img/common/icon_down_1.gif\" alt=\"down\" width=\"7\" height=\"10\" class=\"arrow\"></td>\\r\\n\\t\\t\\t\\t\\t<td class=\"range ac\">1</td>\\r\\n\\t\\t\\t\\t\\t\\r\\n\\t\\t\\t\\t\\t\\r\\n\\t\\t\\t\\t</tr>\\r\\n\\t\\t\\t\\t\\t\\r\\n\\t\\t\\t\\t\\t\\r\\n\\t\\t\\t\\t\\r\\n\\t\\t\\t\\t<tr>\\r\\n\\t\\t\\t\\t\\t\\r\\n\\t\\t\\t\\t\\t\\t\\r\\n\\t\\t\\t\\t\\t\\r\\n\\t\\t\\t\\t\\t\\t<td class=\"ac\"><img src=\"https://ssl.pstatic.net/imgmovie/2007/img/common/bullet_r_g14.gif\" alt=\"14\" width=\"14\" height=\"13\"></td>\\r\\n\\t\\t\\t\\t\\t\\r\\n\\t\\t\\t\\t\\t\\r\\n\\t\\t\\t\\t\\t<td class=\"title\">\\r\\n\\t\\t\\t\\t\\t\\t<div class=\"tit5\">\\r\\n\\t\\t\\t\\t\\t\\t\\t<a href=\"/movie/bi/mi/basic.naver?code=198413\" title=\"헤어질 결심\">헤어질 결심</a>\\r\\n\\t\\t\\t\\t\\t\\t</div>\\r\\n\\t\\t\\t\\t\\t</td>\\r\\n\\t\\t\\t\\t\\t<!-- 평점순일 때 평점 추가하기  -->\\r\\n\\t\\t\\t\\t\\t\\r\\n\\t\\t\\t\\t\\t<td><div class=\"point_type_2\"><div class=\"mask\" style=\"width:86.80000305175781%\"><img src=\"https://ssl.pstatic.net/imgmovie/2007/img/common/point_type_2_bg_on.gif\" width=\"79\" height=\"14\" alt=\"\"></div></div></td>\\r\\n\\t\\t\\t\\t\\t<td class=\"point\">8.68</td>\\r\\n\\t\\t\\t\\t\\t<td class=\"ac\"><a href=\"/movie/point/af/list.naver?st=mcode&sword=198413\" class=\"txt_link\">평점주기</a></td>\\r\\n\\t\\t\\t\\t\\t\\r\\n\\t\\t\\t\\t\\t<!----------------------------------------->  \\r\\n\\t\\t\\t\\t\\t\\r\\n\\t\\t\\t\\t\\t<td class=\"ac\"><img src=\"https://ssl.pstatic.net/imgmovie/2007/img/common/icon_down_1.gif\" alt=\"down\" width=\"7\" height=\"10\" class=\"arrow\"></td>\\r\\n\\t\\t\\t\\t\\t<td class=\"range ac\">1</td>\\r\\n\\t\\t\\t\\t\\t\\r\\n\\t\\t\\t\\t\\t\\r\\n\\t\\t\\t\\t</tr>\\r\\n\\t\\t\\t\\t\\t\\r\\n\\t\\t\\t\\t\\t\\r\\n\\t\\t\\t\\t\\r\\n\\t\\t\\t\\t<tr>\\r\\n\\t\\t\\t\\t\\t\\r\\n\\t\\t\\t\\t\\t\\t\\r\\n\\t\\t\\t\\t\\t\\r\\n\\t\\t\\t\\t\\t\\t<td class=\"ac\"><img src=\"https://ssl.pstatic.net/imgmovie/2007/img/common/bullet_r_g15.gif\" alt=\"15\" width=\"14\" height=\"13\"></td>\\r\\n\\t\\t\\t\\t\\t\\r\\n\\t\\t\\t\\t\\t\\r\\n\\t\\t\\t\\t\\t<td class=\"title\">\\r\\n\\t\\t\\t\\t\\t\\t<div class=\"tit5\">\\r\\n\\t\\t\\t\\t\\t\\t\\t<a href=\"/movie/bi/mi/basic.naver?code=201641\" title=\"공조2: 인터내셔날\">공조2: 인터내셔날</a>\\r\\n\\t\\t\\t\\t\\t\\t</div>\\r\\n\\t\\t\\t\\t\\t</td>\\r\\n\\t\\t\\t\\t\\t<!-- 평점순일 때 평점 추가하기  -->\\r\\n\\t\\t\\t\\t\\t\\r\\n\\t\\t\\t\\t\\t<td><div class=\"point_type_2\"><div class=\"mask\" style=\"width:86.70000076293945%\"><img src=\"https://ssl.pstatic.net/imgmovie/2007/img/common/point_type_2_bg_on.gif\" width=\"79\" height=\"14\" alt=\"\"></div></div></td>\\r\\n\\t\\t\\t\\t\\t<td class=\"point\">8.67</td>\\r\\n\\t\\t\\t\\t\\t<td class=\"ac\"><a href=\"/movie/point/af/list.naver?st=mcode&sword=201641\" class=\"txt_link\">평점주기</a></td>\\r\\n\\t\\t\\t\\t\\t\\r\\n\\t\\t\\t\\t\\t<!----------------------------------------->  \\r\\n\\t\\t\\t\\t\\t\\r\\n\\t\\t\\t\\t\\t<td class=\"ac\"><img src=\"https://ssl.pstatic.net/imgmovie/2007/img/common/icon_down_1.gif\" alt=\"down\" width=\"7\" height=\"10\" class=\"arrow\"></td>\\r\\n\\t\\t\\t\\t\\t<td class=\"range ac\">1</td>\\r\\n\\t\\t\\t\\t\\t\\r\\n\\t\\t\\t\\t\\t\\r\\n\\t\\t\\t\\t</tr>\\r\\n\\t\\t\\t\\t\\t\\r\\n\\t\\t\\t\\t\\t\\r\\n\\t\\t\\t\\t\\r\\n\\t\\t\\t\\t<tr>\\r\\n\\t\\t\\t\\t\\t\\r\\n\\t\\t\\t\\t\\t\\t\\r\\n\\t\\t\\t\\t\\t\\r\\n\\t\\t\\t\\t\\t\\t<td class=\"ac\"><img src=\"https://ssl.pstatic.net/imgmovie/2007/img/common/bullet_r_g16.gif\" alt=\"16\" width=\"14\" height=\"13\"></td>\\r\\n\\t\\t\\t\\t\\t\\r\\n\\t\\t\\t\\t\\t\\r\\n\\t\\t\\t\\t\\t<td class=\"title\">\\r\\n\\t\\t\\t\\t\\t\\t<div class=\"tit5\">\\r\\n\\t\\t\\t\\t\\t\\t\\t<a href=\"/movie/bi/mi/basic.naver?code=69270\" title=\"지금, 이대로가 좋아요\">지금, 이대로가 좋아요</a>\\r\\n\\t\\t\\t\\t\\t\\t</div>\\r\\n\\t\\t\\t\\t\\t</td>\\r\\n\\t\\t\\t\\t\\t<!-- 평점순일 때 평점 추가하기  -->\\r\\n\\t\\t\\t\\t\\t\\r\\n\\t\\t\\t\\t\\t<td><div class=\"point_type_2\"><div class=\"mask\" style=\"width:86.49999618530273%\"><img src=\"https://ssl.pstatic.net/imgmovie/2007/img/common/point_type_2_bg_on.gif\" width=\"79\" height=\"14\" alt=\"\"></div></div></td>\\r\\n\\t\\t\\t\\t\\t<td class=\"point\">8.65</td>\\r\\n\\t\\t\\t\\t\\t<td class=\"ac\"><a href=\"/movie/point/af/list.naver?st=mcode&sword=69270\" class=\"txt_link\">평점주기</a></td>\\r\\n\\t\\t\\t\\t\\t\\r\\n\\t\\t\\t\\t\\t<!----------------------------------------->  \\r\\n\\t\\t\\t\\t\\t\\r\\n\\t\\t\\t\\t\\t<td class=\"ac\"><img src=\"https://ssl.pstatic.net/imgmovie/2007/img/common/icon_down_1.gif\" alt=\"down\" width=\"7\" height=\"10\" class=\"arrow\"></td>\\r\\n\\t\\t\\t\\t\\t<td class=\"range ac\">1</td>\\r\\n\\t\\t\\t\\t\\t\\r\\n\\t\\t\\t\\t\\t\\r\\n\\t\\t\\t\\t</tr>\\r\\n\\t\\t\\t\\t\\t\\r\\n\\t\\t\\t\\t\\t\\r\\n\\t\\t\\t\\t\\r\\n\\t\\t\\t\\t<tr>\\r\\n\\t\\t\\t\\t\\t\\r\\n\\t\\t\\t\\t\\t\\t\\r\\n\\t\\t\\t\\t\\t\\r\\n\\t\\t\\t\\t\\t\\t<td class=\"ac\"><img src=\"https://ssl.pstatic.net/imgmovie/2007/img/common/bullet_r_g17.gif\" alt=\"17\" width=\"14\" height=\"13\"></td>\\r\\n\\t\\t\\t\\t\\t\\r\\n\\t\\t\\t\\t\\t\\r\\n\\t\\t\\t\\t\\t<td class=\"title\">\\r\\n\\t\\t\\t\\t\\t\\t<div class=\"tit5\">\\r\\n\\t\\t\\t\\t\\t\\t\\t<a href=\"/movie/bi/mi/basic.naver?code=204640\" title=\"육사오(6/45)\">육사오(6/45)</a>\\r\\n\\t\\t\\t\\t\\t\\t</div>\\r\\n\\t\\t\\t\\t\\t</td>\\r\\n\\t\\t\\t\\t\\t<!-- 평점순일 때 평점 추가하기  -->\\r\\n\\t\\t\\t\\t\\t\\r\\n\\t\\t\\t\\t\\t<td><div class=\"point_type_2\"><div class=\"mask\" style=\"width:86.30000114440918%\"><img src=\"https://ssl.pstatic.net/imgmovie/2007/img/common/point_type_2_bg_on.gif\" width=\"79\" height=\"14\" alt=\"\"></div></div></td>\\r\\n\\t\\t\\t\\t\\t<td class=\"point\">8.63</td>\\r\\n\\t\\t\\t\\t\\t<td class=\"ac\"><a href=\"/movie/point/af/list.naver?st=mcode&sword=204640\" class=\"txt_link\">평점주기</a></td>\\r\\n\\t\\t\\t\\t\\t\\r\\n\\t\\t\\t\\t\\t<!----------------------------------------->  \\r\\n\\t\\t\\t\\t\\t\\r\\n\\t\\t\\t\\t\\t<td class=\"ac\"><img src=\"https://ssl.pstatic.net/imgmovie/2007/img/common/icon_down_1.gif\" alt=\"down\" width=\"7\" height=\"10\" class=\"arrow\"></td>\\r\\n\\t\\t\\t\\t\\t<td class=\"range ac\">1</td>\\r\\n\\t\\t\\t\\t\\t\\r\\n\\t\\t\\t\\t\\t\\r\\n\\t\\t\\t\\t</tr>\\r\\n\\t\\t\\t\\t\\t\\r\\n\\t\\t\\t\\t\\t\\r\\n\\t\\t\\t\\t\\r\\n\\t\\t\\t\\t<tr>\\r\\n\\t\\t\\t\\t\\t\\r\\n\\t\\t\\t\\t\\t\\t\\r\\n\\t\\t\\t\\t\\t\\r\\n\\t\\t\\t\\t\\t\\t<td class=\"ac\"><img src=\"https://ssl.pstatic.net/imgmovie/2007/img/common/bullet_r_g18.gif\" alt=\"18\" width=\"14\" height=\"13\"></td>\\r\\n\\t\\t\\t\\t\\t\\r\\n\\t\\t\\t\\t\\t\\r\\n\\t\\t\\t\\t\\t<td class=\"title\">\\r\\n\\t\\t\\t\\t\\t\\t<div class=\"tit5\">\\r\\n\\t\\t\\t\\t\\t\\t\\t<a href=\"/movie/bi/mi/basic.naver?code=134963\" title=\"라라랜드\">라라랜드</a>\\r\\n\\t\\t\\t\\t\\t\\t</div>\\r\\n\\t\\t\\t\\t\\t</td>\\r\\n\\t\\t\\t\\t\\t<!-- 평점순일 때 평점 추가하기  -->\\r\\n\\t\\t\\t\\t\\t\\r\\n\\t\\t\\t\\t\\t<td><div class=\"point_type_2\"><div class=\"mask\" style=\"width:86.19999885559082%\"><img src=\"https://ssl.pstatic.net/imgmovie/2007/img/common/point_type_2_bg_on.gif\" width=\"79\" height=\"14\" alt=\"\"></div></div></td>\\r\\n\\t\\t\\t\\t\\t<td class=\"point\">8.62</td>\\r\\n\\t\\t\\t\\t\\t<td class=\"ac\"><a href=\"/movie/point/af/list.naver?st=mcode&sword=134963\" class=\"txt_link\">평점주기</a></td>\\r\\n\\t\\t\\t\\t\\t\\r\\n\\t\\t\\t\\t\\t<!----------------------------------------->  \\r\\n\\t\\t\\t\\t\\t\\r\\n\\t\\t\\t\\t\\t<td class=\"ac\"><img src=\"https://ssl.pstatic.net/imgmovie/2007/img/common/icon_down_1.gif\" alt=\"down\" width=\"7\" height=\"10\" class=\"arrow\"></td>\\r\\n\\t\\t\\t\\t\\t<td class=\"range ac\">1</td>\\r\\n\\t\\t\\t\\t\\t\\r\\n\\t\\t\\t\\t\\t\\r\\n\\t\\t\\t\\t</tr>\\r\\n\\t\\t\\t\\t\\t\\r\\n\\t\\t\\t\\t\\t\\r\\n\\t\\t\\t\\t\\r\\n\\t\\t\\t\\t<tr>\\r\\n\\t\\t\\t\\t\\t\\r\\n\\t\\t\\t\\t\\t\\t\\r\\n\\t\\t\\t\\t\\t\\r\\n\\t\\t\\t\\t\\t\\t<td class=\"ac\"><img src=\"https://ssl.pstatic.net/imgmovie/2007/img/common/bullet_r_g19.gif\" alt=\"19\" width=\"14\" height=\"13\"></td>\\r\\n\\t\\t\\t\\t\\t\\r\\n\\t\\t\\t\\t\\t\\r\\n\\t\\t\\t\\t\\t<td class=\"title\">\\r\\n\\t\\t\\t\\t\\t\\t<div class=\"tit5\">\\r\\n\\t\\t\\t\\t\\t\\t\\t<a href=\"/movie/bi/mi/basic.naver?code=82283\" title=\"실버라이닝 플레이북\">실버라이닝 플레이북</a>\\r\\n\\t\\t\\t\\t\\t\\t</div>\\r\\n\\t\\t\\t\\t\\t</td>\\r\\n\\t\\t\\t\\t\\t<!-- 평점순일 때 평점 추가하기  -->\\r\\n\\t\\t\\t\\t\\t\\r\\n\\t\\t\\t\\t\\t<td><div class=\"point_type_2\"><div class=\"mask\" style=\"width:85.69999694824219%\"><img src=\"https://ssl.pstatic.net/imgmovie/2007/img/common/point_type_2_bg_on.gif\" width=\"79\" height=\"14\" alt=\"\"></div></div></td>\\r\\n\\t\\t\\t\\t\\t<td class=\"point\">8.57</td>\\r\\n\\t\\t\\t\\t\\t<td class=\"ac\"><a href=\"/movie/point/af/list.naver?st=mcode&sword=82283\" class=\"txt_link\">평점주기</a></td>\\r\\n\\t\\t\\t\\t\\t\\r\\n\\t\\t\\t\\t\\t<!----------------------------------------->  \\r\\n\\t\\t\\t\\t\\t\\r\\n\\t\\t\\t\\t\\t<td class=\"ac\"><img src=\"https://ssl.pstatic.net/imgmovie/2007/img/common/icon_down_1.gif\" alt=\"down\" width=\"7\" height=\"10\" class=\"arrow\"></td>\\r\\n\\t\\t\\t\\t\\t<td class=\"range ac\">1</td>\\r\\n\\t\\t\\t\\t\\t\\r\\n\\t\\t\\t\\t\\t\\r\\n\\t\\t\\t\\t</tr>\\r\\n\\t\\t\\t\\t\\t\\r\\n\\t\\t\\t\\t\\t\\r\\n\\t\\t\\t\\t\\r\\n\\t\\t\\t\\t<tr>\\r\\n\\t\\t\\t\\t\\t\\r\\n\\t\\t\\t\\t\\t\\t\\r\\n\\t\\t\\t\\t\\t\\r\\n\\t\\t\\t\\t\\t\\t<td class=\"ac\"><img src=\"https://ssl.pstatic.net/imgmovie/2007/img/common/bullet_r_g20.gif\" alt=\"20\" width=\"14\" height=\"13\"></td>\\r\\n\\t\\t\\t\\t\\t\\r\\n\\t\\t\\t\\t\\t\\r\\n\\t\\t\\t\\t\\t<td class=\"title\">\\r\\n\\t\\t\\t\\t\\t\\t<div class=\"tit5\">\\r\\n\\t\\t\\t\\t\\t\\t\\t<a href=\"/movie/bi/mi/basic.naver?code=195758\" title=\"헌트\">헌트</a>\\r\\n\\t\\t\\t\\t\\t\\t</div>\\r\\n\\t\\t\\t\\t\\t</td>\\r\\n\\t\\t\\t\\t\\t<!-- 평점순일 때 평점 추가하기  -->\\r\\n\\t\\t\\t\\t\\t\\r\\n\\t\\t\\t\\t\\t<td><div class=\"point_type_2\"><div class=\"mask\" style=\"width:84.30000305175781%\"><img src=\"https://ssl.pstatic.net/imgmovie/2007/img/common/point_type_2_bg_on.gif\" width=\"79\" height=\"14\" alt=\"\"></div></div></td>\\r\\n\\t\\t\\t\\t\\t<td class=\"point\">8.43</td>\\r\\n\\t\\t\\t\\t\\t<td class=\"ac\"><a href=\"/movie/point/af/list.naver?st=mcode&sword=195758\" class=\"txt_link\">평점주기</a></td>\\r\\n\\t\\t\\t\\t\\t\\r\\n\\t\\t\\t\\t\\t<!----------------------------------------->  \\r\\n\\t\\t\\t\\t\\t\\r\\n\\t\\t\\t\\t\\t<td class=\"ac\"><img src=\"https://ssl.pstatic.net/imgmovie/2007/img/common/icon_down_1.gif\" alt=\"down\" width=\"7\" height=\"10\" class=\"arrow\"></td>\\r\\n\\t\\t\\t\\t\\t<td class=\"range ac\">1</td>\\r\\n\\t\\t\\t\\t\\t\\r\\n\\t\\t\\t\\t\\t\\r\\n\\t\\t\\t\\t</tr>\\r\\n\\t\\t\\t\\t\\t\\r\\n\\t\\t\\t\\t\\t\\r\\n\\t\\t\\t\\t\\t\\t<tr><td colspan=\"8\" class=\"line01\"></td></tr>\\r\\n\\t\\t\\t\\t\\t\\r\\n\\t\\t\\t\\t\\r\\n\\t\\t\\t\\t<tr>\\r\\n\\t\\t\\t\\t\\t\\r\\n\\t\\t\\t\\t\\t\\t\\r\\n\\t\\t\\t\\t\\t\\r\\n\\t\\t\\t\\t\\t\\t<td class=\"ac\"><img src=\"https://ssl.pstatic.net/imgmovie/2007/img/common/bullet_r_g21.gif\" alt=\"21\" width=\"14\" height=\"13\"></td>\\r\\n\\t\\t\\t\\t\\t\\r\\n\\t\\t\\t\\t\\t\\r\\n\\t\\t\\t\\t\\t<td class=\"title\">\\r\\n\\t\\t\\t\\t\\t\\t<div class=\"tit5\">\\r\\n\\t\\t\\t\\t\\t\\t\\t<a href=\"/movie/bi/mi/basic.naver?code=66820\" title=\"초속5센티미터\">초속5센티미터</a>\\r\\n\\t\\t\\t\\t\\t\\t</div>\\r\\n\\t\\t\\t\\t\\t</td>\\r\\n\\t\\t\\t\\t\\t<!-- 평점순일 때 평점 추가하기  -->\\r\\n\\t\\t\\t\\t\\t\\r\\n\\t\\t\\t\\t\\t<td><div class=\"point_type_2\"><div class=\"mask\" style=\"width:83.59999656677246%\"><img src=\"https://ssl.pstatic.net/imgmovie/2007/img/common/point_type_2_bg_on.gif\" width=\"79\" height=\"14\" alt=\"\"></div></div></td>\\r\\n\\t\\t\\t\\t\\t<td class=\"point\">8.36</td>\\r\\n\\t\\t\\t\\t\\t<td class=\"ac\"><a href=\"/movie/point/af/list.naver?st=mcode&sword=66820\" class=\"txt_link\">평점주기</a></td>\\r\\n\\t\\t\\t\\t\\t\\r\\n\\t\\t\\t\\t\\t<!----------------------------------------->  \\r\\n\\t\\t\\t\\t\\t\\r\\n\\t\\t\\t\\t\\t\\r\\n\\t\\t\\t\\t\\t\\t<td colspan=\"2\" class=\"new_icon\"><img width=\"20\" height=\"5\" alt=\"new\" src=\"https://ssl.pstatic.net/imgmovie/2007/img/common/icon_new_1.gif\"></td>\\r\\n\\t\\t\\t\\t\\t\\r\\n\\t\\t\\t\\t</tr>\\r\\n\\t\\t\\t\\t\\t\\r\\n\\t\\t\\t\\t\\t\\r\\n\\t\\t\\t\\t\\r\\n\\t\\t\\t\\t<tr>\\r\\n\\t\\t\\t\\t\\t\\r\\n\\t\\t\\t\\t\\t\\t\\r\\n\\t\\t\\t\\t\\t\\r\\n\\t\\t\\t\\t\\t\\t<td class=\"ac\"><img src=\"https://ssl.pstatic.net/imgmovie/2007/img/common/bullet_r_g22.gif\" alt=\"22\" width=\"14\" height=\"13\"></td>\\r\\n\\t\\t\\t\\t\\t\\r\\n\\t\\t\\t\\t\\t\\r\\n\\t\\t\\t\\t\\t<td class=\"title\">\\r\\n\\t\\t\\t\\t\\t\\t<div class=\"tit5\">\\r\\n\\t\\t\\t\\t\\t\\t\\t<a href=\"/movie/bi/mi/basic.naver?code=26545\" title=\"큐어\">큐어</a>\\r\\n\\t\\t\\t\\t\\t\\t</div>\\r\\n\\t\\t\\t\\t\\t</td>\\r\\n\\t\\t\\t\\t\\t<!-- 평점순일 때 평점 추가하기  -->\\r\\n\\t\\t\\t\\t\\t\\r\\n\\t\\t\\t\\t\\t<td><div class=\"point_type_2\"><div class=\"mask\" style=\"width:83.29999923706055%\"><img src=\"https://ssl.pstatic.net/imgmovie/2007/img/common/point_type_2_bg_on.gif\" width=\"79\" height=\"14\" alt=\"\"></div></div></td>\\r\\n\\t\\t\\t\\t\\t<td class=\"point\">8.33</td>\\r\\n\\t\\t\\t\\t\\t<td class=\"ac\"><a href=\"/movie/point/af/list.naver?st=mcode&sword=26545\" class=\"txt_link\">평점주기</a></td>\\r\\n\\t\\t\\t\\t\\t\\r\\n\\t\\t\\t\\t\\t<!----------------------------------------->  \\r\\n\\t\\t\\t\\t\\t\\r\\n\\t\\t\\t\\t\\t<td class=\"ac\"><img src=\"https://ssl.pstatic.net/imgmovie/2007/img/common/icon_down_1.gif\" alt=\"down\" width=\"7\" height=\"10\" class=\"arrow\"></td>\\r\\n\\t\\t\\t\\t\\t<td class=\"range ac\">2</td>\\r\\n\\t\\t\\t\\t\\t\\r\\n\\t\\t\\t\\t\\t\\r\\n\\t\\t\\t\\t</tr>\\r\\n\\t\\t\\t\\t\\t\\r\\n\\t\\t\\t\\t\\t\\r\\n\\t\\t\\t\\t\\r\\n\\t\\t\\t\\t<tr>\\r\\n\\t\\t\\t\\t\\t\\r\\n\\t\\t\\t\\t\\t\\t\\r\\n\\t\\t\\t\\t\\t\\r\\n\\t\\t\\t\\t\\t\\t<td class=\"ac\"><img src=\"https://ssl.pstatic.net/imgmovie/2007/img/common/bullet_r_g23.gif\" alt=\"23\" width=\"14\" height=\"13\"></td>\\r\\n\\t\\t\\t\\t\\t\\r\\n\\t\\t\\t\\t\\t\\r\\n\\t\\t\\t\\t\\t<td class=\"title\">\\r\\n\\t\\t\\t\\t\\t\\t<div class=\"tit5\">\\r\\n\\t\\t\\t\\t\\t\\t\\t<a href=\"/movie/bi/mi/basic.naver?code=113983\" title=\"비비안 마이어를 찾아서\">비비안 마이어를 찾아서</a>\\r\\n\\t\\t\\t\\t\\t\\t</div>\\r\\n\\t\\t\\t\\t\\t</td>\\r\\n\\t\\t\\t\\t\\t<!-- 평점순일 때 평점 추가하기  -->\\r\\n\\t\\t\\t\\t\\t\\r\\n\\t\\t\\t\\t\\t<td><div class=\"point_type_2\"><div class=\"mask\" style=\"width:83.19999694824219%\"><img src=\"https://ssl.pstatic.net/imgmovie/2007/img/common/point_type_2_bg_on.gif\" width=\"79\" height=\"14\" alt=\"\"></div></div></td>\\r\\n\\t\\t\\t\\t\\t<td class=\"point\">8.32</td>\\r\\n\\t\\t\\t\\t\\t<td class=\"ac\"><a href=\"/movie/point/af/list.naver?st=mcode&sword=113983\" class=\"txt_link\">평점주기</a></td>\\r\\n\\t\\t\\t\\t\\t\\r\\n\\t\\t\\t\\t\\t<!----------------------------------------->  \\r\\n\\t\\t\\t\\t\\t\\r\\n\\t\\t\\t\\t\\t\\r\\n\\t\\t\\t\\t\\t\\t<td colspan=\"2\" class=\"new_icon\"><img width=\"20\" height=\"5\" alt=\"new\" src=\"https://ssl.pstatic.net/imgmovie/2007/img/common/icon_new_1.gif\"></td>\\r\\n\\t\\t\\t\\t\\t\\r\\n\\t\\t\\t\\t</tr>\\r\\n\\t\\t\\t\\t\\t\\r\\n\\t\\t\\t\\t\\t\\r\\n\\t\\t\\t\\t\\r\\n\\t\\t\\t\\t<tr>\\r\\n\\t\\t\\t\\t\\t\\r\\n\\t\\t\\t\\t\\t\\t\\r\\n\\t\\t\\t\\t\\t\\r\\n\\t\\t\\t\\t\\t\\t<td class=\"ac\"><img src=\"https://ssl.pstatic.net/imgmovie/2007/img/common/bullet_r_g24.gif\" alt=\"24\" width=\"14\" height=\"13\"></td>\\r\\n\\t\\t\\t\\t\\t\\r\\n\\t\\t\\t\\t\\t\\r\\n\\t\\t\\t\\t\\t<td class=\"title\">\\r\\n\\t\\t\\t\\t\\t\\t<div class=\"tit5\">\\r\\n\\t\\t\\t\\t\\t\\t\\t<a href=\"/movie/bi/mi/basic.naver?code=103178\" title=\"리스본행 야간열차\">리스본행 야간열차</a>\\r\\n\\t\\t\\t\\t\\t\\t</div>\\r\\n\\t\\t\\t\\t\\t</td>\\r\\n\\t\\t\\t\\t\\t<!-- 평점순일 때 평점 추가하기  -->\\r\\n\\t\\t\\t\\t\\t\\r\\n\\t\\t\\t\\t\\t<td><div class=\"point_type_2\"><div class=\"mask\" style=\"width:83.10000419616699%\"><img src=\"https://ssl.pstatic.net/imgmovie/2007/img/common/point_type_2_bg_on.gif\" width=\"79\" height=\"14\" alt=\"\"></div></div></td>\\r\\n\\t\\t\\t\\t\\t<td class=\"point\">8.31</td>\\r\\n\\t\\t\\t\\t\\t<td class=\"ac\"><a href=\"/movie/point/af/list.naver?st=mcode&sword=103178\" class=\"txt_link\">평점주기</a></td>\\r\\n\\t\\t\\t\\t\\t\\r\\n\\t\\t\\t\\t\\t<!----------------------------------------->  \\r\\n\\t\\t\\t\\t\\t\\r\\n\\t\\t\\t\\t\\t<td class=\"ac\"><img src=\"https://ssl.pstatic.net/imgmovie/2007/img/common/icon_down_1.gif\" alt=\"down\" width=\"7\" height=\"10\" class=\"arrow\"></td>\\r\\n\\t\\t\\t\\t\\t<td class=\"range ac\">3</td>\\r\\n\\t\\t\\t\\t\\t\\r\\n\\t\\t\\t\\t\\t\\r\\n\\t\\t\\t\\t</tr>\\r\\n\\t\\t\\t\\t\\t\\r\\n\\t\\t\\t\\t\\t\\r\\n\\t\\t\\t\\t\\r\\n\\t\\t\\t\\t<tr>\\r\\n\\t\\t\\t\\t\\t\\r\\n\\t\\t\\t\\t\\t\\t\\r\\n\\t\\t\\t\\t\\t\\r\\n\\t\\t\\t\\t\\t\\t<td class=\"ac\"><img src=\"https://ssl.pstatic.net/imgmovie/2007/img/common/bullet_r_g25.gif\" alt=\"25\" width=\"14\" height=\"13\"></td>\\r\\n\\t\\t\\t\\t\\t\\r\\n\\t\\t\\t\\t\\t\\r\\n\\t\\t\\t\\t\\t<td class=\"title\">\\r\\n\\t\\t\\t\\t\\t\\t<div class=\"tit5\">\\r\\n\\t\\t\\t\\t\\t\\t\\t<a href=\"/movie/bi/mi/basic.naver?code=13244\" title=\"킬 빌 - 1부\">킬 빌 - 1부</a>\\r\\n\\t\\t\\t\\t\\t\\t</div>\\r\\n\\t\\t\\t\\t\\t</td>\\r\\n\\t\\t\\t\\t\\t<!-- 평점순일 때 평점 추가하기  -->\\r\\n\\t\\t\\t\\t\\t\\r\\n\\t\\t\\t\\t\\t<td><div class=\"point_type_2\"><div class=\"mask\" style=\"width:83.00000190734863%\"><img src=\"https://ssl.pstatic.net/imgmovie/2007/img/common/point_type_2_bg_on.gif\" width=\"79\" height=\"14\" alt=\"\"></div></div></td>\\r\\n\\t\\t\\t\\t\\t<td class=\"point\">8.30</td>\\r\\n\\t\\t\\t\\t\\t<td class=\"ac\"><a href=\"/movie/point/af/list.naver?st=mcode&sword=13244\" class=\"txt_link\">평점주기</a></td>\\r\\n\\t\\t\\t\\t\\t\\r\\n\\t\\t\\t\\t\\t<!----------------------------------------->  \\r\\n\\t\\t\\t\\t\\t\\r\\n\\t\\t\\t\\t\\t<td class=\"ac\"><img src=\"https://ssl.pstatic.net/imgmovie/2007/img/common/icon_down_1.gif\" alt=\"down\" width=\"7\" height=\"10\" class=\"arrow\"></td>\\r\\n\\t\\t\\t\\t\\t<td class=\"range ac\">3</td>\\r\\n\\t\\t\\t\\t\\t\\r\\n\\t\\t\\t\\t\\t\\r\\n\\t\\t\\t\\t</tr>\\r\\n\\t\\t\\t\\t\\t\\r\\n\\t\\t\\t\\t\\t\\r\\n\\t\\t\\t\\t\\r\\n\\t\\t\\t\\t<tr>\\r\\n\\t\\t\\t\\t\\t\\r\\n\\t\\t\\t\\t\\t\\t\\r\\n\\t\\t\\t\\t\\t\\r\\n\\t\\t\\t\\t\\t\\t<td class=\"ac\"><img src=\"https://ssl.pstatic.net/imgmovie/2007/img/common/bullet_r_g26.gif\" alt=\"26\" width=\"14\" height=\"13\"></td>\\r\\n\\t\\t\\t\\t\\t\\r\\n\\t\\t\\t\\t\\t\\r\\n\\t\\t\\t\\t\\t<td class=\"title\">\\r\\n\\t\\t\\t\\t\\t\\t<div class=\"tit5\">\\r\\n\\t\\t\\t\\t\\t\\t\\t<a href=\"/movie/bi/mi/basic.naver?code=206637\" title=\"애프터 양\">애프터 양</a>\\r\\n\\t\\t\\t\\t\\t\\t</div>\\r\\n\\t\\t\\t\\t\\t</td>\\r\\n\\t\\t\\t\\t\\t<!-- 평점순일 때 평점 추가하기  -->\\r\\n\\t\\t\\t\\t\\t\\r\\n\\t\\t\\t\\t\\t<td><div class=\"point_type_2\"><div class=\"mask\" style=\"width:81.80000305175781%\"><img src=\"https://ssl.pstatic.net/imgmovie/2007/img/common/point_type_2_bg_on.gif\" width=\"79\" height=\"14\" alt=\"\"></div></div></td>\\r\\n\\t\\t\\t\\t\\t<td class=\"point\">8.18</td>\\r\\n\\t\\t\\t\\t\\t<td class=\"ac\"><a href=\"/movie/point/af/list.naver?st=mcode&sword=206637\" class=\"txt_link\">평점주기</a></td>\\r\\n\\t\\t\\t\\t\\t\\r\\n\\t\\t\\t\\t\\t<!----------------------------------------->  \\r\\n\\t\\t\\t\\t\\t\\r\\n\\t\\t\\t\\t\\t<td class=\"ac\"><img src=\"https://ssl.pstatic.net/imgmovie/2007/img/common/icon_down_1.gif\" alt=\"down\" width=\"7\" height=\"10\" class=\"arrow\"></td>\\r\\n\\t\\t\\t\\t\\t<td class=\"range ac\">3</td>\\r\\n\\t\\t\\t\\t\\t\\r\\n\\t\\t\\t\\t\\t\\r\\n\\t\\t\\t\\t</tr>\\r\\n\\t\\t\\t\\t\\t\\r\\n\\t\\t\\t\\t\\t\\r\\n\\t\\t\\t\\t\\r\\n\\t\\t\\t\\t<tr>\\r\\n\\t\\t\\t\\t\\t\\r\\n\\t\\t\\t\\t\\t\\t\\r\\n\\t\\t\\t\\t\\t\\r\\n\\t\\t\\t\\t\\t\\t<td class=\"ac\"><img src=\"https://ssl.pstatic.net/imgmovie/2007/img/common/bullet_r_g27.gif\" alt=\"27\" width=\"14\" height=\"13\"></td>\\r\\n\\t\\t\\t\\t\\t\\r\\n\\t\\t\\t\\t\\t\\r\\n\\t\\t\\t\\t\\t<td class=\"title\">\\r\\n\\t\\t\\t\\t\\t\\t<div class=\"tit5\">\\r\\n\\t\\t\\t\\t\\t\\t\\t<a href=\"/movie/bi/mi/basic.naver?code=31477\" title=\"릴리 슈슈의 모든 것\">릴리 슈슈의 모든 것</a>\\r\\n\\t\\t\\t\\t\\t\\t</div>\\r\\n\\t\\t\\t\\t\\t</td>\\r\\n\\t\\t\\t\\t\\t<!-- 평점순일 때 평점 추가하기  -->\\r\\n\\t\\t\\t\\t\\t\\r\\n\\t\\t\\t\\t\\t<td><div class=\"point_type_2\"><div class=\"mask\" style=\"width:81.19999885559082%\"><img src=\"https://ssl.pstatic.net/imgmovie/2007/img/common/point_type_2_bg_on.gif\" width=\"79\" height=\"14\" alt=\"\"></div></div></td>\\r\\n\\t\\t\\t\\t\\t<td class=\"point\">8.12</td>\\r\\n\\t\\t\\t\\t\\t<td class=\"ac\"><a href=\"/movie/point/af/list.naver?st=mcode&sword=31477\" class=\"txt_link\">평점주기</a></td>\\r\\n\\t\\t\\t\\t\\t\\r\\n\\t\\t\\t\\t\\t<!----------------------------------------->  \\r\\n\\t\\t\\t\\t\\t\\r\\n\\t\\t\\t\\t\\t<td class=\"ac\"><img src=\"https://ssl.pstatic.net/imgmovie/2007/img/common/icon_down_1.gif\" alt=\"down\" width=\"7\" height=\"10\" class=\"arrow\"></td>\\r\\n\\t\\t\\t\\t\\t<td class=\"range ac\">3</td>\\r\\n\\t\\t\\t\\t\\t\\r\\n\\t\\t\\t\\t\\t\\r\\n\\t\\t\\t\\t</tr>\\r\\n\\t\\t\\t\\t\\t\\r\\n\\t\\t\\t\\t\\t\\r\\n\\t\\t\\t\\t\\r\\n\\t\\t\\t\\t<tr>\\r\\n\\t\\t\\t\\t\\t\\r\\n\\t\\t\\t\\t\\t\\t\\r\\n\\t\\t\\t\\t\\t\\r\\n\\t\\t\\t\\t\\t\\t<td class=\"ac\"><img src=\"https://ssl.pstatic.net/imgmovie/2007/img/common/bullet_r_g28.gif\" alt=\"28\" width=\"14\" height=\"13\"></td>\\r\\n\\t\\t\\t\\t\\t\\r\\n\\t\\t\\t\\t\\t\\r\\n\\t\\t\\t\\t\\t<td class=\"title\">\\r\\n\\t\\t\\t\\t\\t\\t<div class=\"tit5\">\\r\\n\\t\\t\\t\\t\\t\\t\\t<a href=\"/movie/bi/mi/basic.naver?code=181114\" title=\"날씨의 아이\">날씨의 아이</a>\\r\\n\\t\\t\\t\\t\\t\\t</div>\\r\\n\\t\\t\\t\\t\\t</td>\\r\\n\\t\\t\\t\\t\\t<!-- 평점순일 때 평점 추가하기  -->\\r\\n\\t\\t\\t\\t\\t\\r\\n\\t\\t\\t\\t\\t<td><div class=\"point_type_2\"><div class=\"mask\" style=\"width:79.60000038146973%\"><img src=\"https://ssl.pstatic.net/imgmovie/2007/img/common/point_type_2_bg_on.gif\" width=\"79\" height=\"14\" alt=\"\"></div></div></td>\\r\\n\\t\\t\\t\\t\\t<td class=\"point\">7.96</td>\\r\\n\\t\\t\\t\\t\\t<td class=\"ac\"><a href=\"/movie/point/af/list.naver?st=mcode&sword=181114\" class=\"txt_link\">평점주기</a></td>\\r\\n\\t\\t\\t\\t\\t\\r\\n\\t\\t\\t\\t\\t<!----------------------------------------->  \\r\\n\\t\\t\\t\\t\\t\\r\\n\\t\\t\\t\\t\\t\\r\\n\\t\\t\\t\\t\\t\\t<td colspan=\"2\" class=\"new_icon\"><img width=\"20\" height=\"5\" alt=\"new\" src=\"https://ssl.pstatic.net/imgmovie/2007/img/common/icon_new_1.gif\"></td>\\r\\n\\t\\t\\t\\t\\t\\r\\n\\t\\t\\t\\t</tr>\\r\\n\\t\\t\\t\\t\\t\\r\\n\\t\\t\\t\\t\\t\\r\\n\\t\\t\\t\\t\\r\\n\\t\\t\\t\\t<tr>\\r\\n\\t\\t\\t\\t\\t\\r\\n\\t\\t\\t\\t\\t\\t\\r\\n\\t\\t\\t\\t\\t\\r\\n\\t\\t\\t\\t\\t\\t<td class=\"ac\"><img src=\"https://ssl.pstatic.net/imgmovie/2007/img/common/bullet_r_g29.gif\" alt=\"29\" width=\"14\" height=\"13\"></td>\\r\\n\\t\\t\\t\\t\\t\\r\\n\\t\\t\\t\\t\\t\\r\\n\\t\\t\\t\\t\\t<td class=\"title\">\\r\\n\\t\\t\\t\\t\\t\\t<div class=\"tit5\">\\r\\n\\t\\t\\t\\t\\t\\t\\t<a href=\"/movie/bi/mi/basic.naver?code=217035\" title=\"DC 리그 오브 슈퍼-펫\">DC 리그 오브 슈퍼-펫</a>\\r\\n\\t\\t\\t\\t\\t\\t</div>\\r\\n\\t\\t\\t\\t\\t</td>\\r\\n\\t\\t\\t\\t\\t<!-- 평점순일 때 평점 추가하기  -->\\r\\n\\t\\t\\t\\t\\t\\r\\n\\t\\t\\t\\t\\t<td><div class=\"point_type_2\"><div class=\"mask\" style=\"width:77.8000020980835%\"><img src=\"https://ssl.pstatic.net/imgmovie/2007/img/common/point_type_2_bg_on.gif\" width=\"79\" height=\"14\" alt=\"\"></div></div></td>\\r\\n\\t\\t\\t\\t\\t<td class=\"point\">7.78</td>\\r\\n\\t\\t\\t\\t\\t<td class=\"ac\"><a href=\"/movie/point/af/list.naver?st=mcode&sword=217035\" class=\"txt_link\">평점주기</a></td>\\r\\n\\t\\t\\t\\t\\t\\r\\n\\t\\t\\t\\t\\t<!----------------------------------------->  \\r\\n\\t\\t\\t\\t\\t\\r\\n\\t\\t\\t\\t\\t\\r\\n\\t\\t\\t\\t\\t\\t<td colspan=\"2\" class=\"new_icon\"><img width=\"20\" height=\"5\" alt=\"new\" src=\"https://ssl.pstatic.net/imgmovie/2007/img/common/icon_new_1.gif\"></td>\\r\\n\\t\\t\\t\\t\\t\\r\\n\\t\\t\\t\\t</tr>\\r\\n\\t\\t\\t\\t\\t\\r\\n\\t\\t\\t\\t\\t\\r\\n\\t\\t\\t\\t\\r\\n\\t\\t\\t\\t<tr>\\r\\n\\t\\t\\t\\t\\t\\r\\n\\t\\t\\t\\t\\t\\t\\r\\n\\t\\t\\t\\t\\t\\r\\n\\t\\t\\t\\t\\t\\t<td class=\"ac\"><img src=\"https://ssl.pstatic.net/imgmovie/2007/img/common/bullet_r_g30.gif\" alt=\"30\" width=\"14\" height=\"13\"></td>\\r\\n\\t\\t\\t\\t\\t\\r\\n\\t\\t\\t\\t\\t\\r\\n\\t\\t\\t\\t\\t<td class=\"title\">\\r\\n\\t\\t\\t\\t\\t\\t<div class=\"tit5\">\\r\\n\\t\\t\\t\\t\\t\\t\\t<a href=\"/movie/bi/mi/basic.naver?code=206638\" title=\"사랑할 땐 누구나 최악이 된다\">사랑할 땐 누구나 최악이 된다</a>\\r\\n\\t\\t\\t\\t\\t\\t</div>\\r\\n\\t\\t\\t\\t\\t</td>\\r\\n\\t\\t\\t\\t\\t<!-- 평점순일 때 평점 추가하기  -->\\r\\n\\t\\t\\t\\t\\t\\r\\n\\t\\t\\t\\t\\t<td><div class=\"point_type_2\"><div class=\"mask\" style=\"width:77.10000038146973%\"><img src=\"https://ssl.pstatic.net/imgmovie/2007/img/common/point_type_2_bg_on.gif\" width=\"79\" height=\"14\" alt=\"\"></div></div></td>\\r\\n\\t\\t\\t\\t\\t<td class=\"point\">7.71</td>\\r\\n\\t\\t\\t\\t\\t<td class=\"ac\"><a href=\"/movie/point/af/list.naver?st=mcode&sword=206638\" class=\"txt_link\">평점주기</a></td>\\r\\n\\t\\t\\t\\t\\t\\r\\n\\t\\t\\t\\t\\t<!----------------------------------------->  \\r\\n\\t\\t\\t\\t\\t\\r\\n\\t\\t\\t\\t\\t<td class=\"ac\"><img src=\"https://ssl.pstatic.net/imgmovie/2007/img/common/icon_down_1.gif\" alt=\"down\" width=\"7\" height=\"10\" class=\"arrow\"></td>\\r\\n\\t\\t\\t\\t\\t<td class=\"range ac\">5</td>\\r\\n\\t\\t\\t\\t\\t\\r\\n\\t\\t\\t\\t\\t\\r\\n\\t\\t\\t\\t</tr>\\r\\n\\t\\t\\t\\t\\t\\r\\n\\t\\t\\t\\t\\t\\r\\n\\t\\t\\t\\t\\t\\t<tr><td colspan=\"8\" class=\"line01\"></td></tr>\\r\\n\\t\\t\\t\\t\\t\\r\\n\\t\\t\\t\\t\\r\\n\\t\\t\\t\\t<tr>\\r\\n\\t\\t\\t\\t\\t\\r\\n\\t\\t\\t\\t\\t\\t\\r\\n\\t\\t\\t\\t\\t\\r\\n\\t\\t\\t\\t\\t\\t<td class=\"ac\"><img src=\"https://ssl.pstatic.net/imgmovie/2007/img/common/bullet_r_g31.gif\" alt=\"31\" width=\"14\" height=\"13\"></td>\\r\\n\\t\\t\\t\\t\\t\\r\\n\\t\\t\\t\\t\\t\\r\\n\\t\\t\\t\\t\\t<td class=\"title\">\\r\\n\\t\\t\\t\\t\\t\\t<div class=\"tit5\">\\r\\n\\t\\t\\t\\t\\t\\t\\t<a href=\"/movie/bi/mi/basic.naver?code=202465\" title=\"블랙폰\">블랙폰</a>\\r\\n\\t\\t\\t\\t\\t\\t</div>\\r\\n\\t\\t\\t\\t\\t</td>\\r\\n\\t\\t\\t\\t\\t<!-- 평점순일 때 평점 추가하기  -->\\r\\n\\t\\t\\t\\t\\t\\r\\n\\t\\t\\t\\t\\t<td><div class=\"point_type_2\"><div class=\"mask\" style=\"width:76.90000057220459%\"><img src=\"https://ssl.pstatic.net/imgmovie/2007/img/common/point_type_2_bg_on.gif\" width=\"79\" height=\"14\" alt=\"\"></div></div></td>\\r\\n\\t\\t\\t\\t\\t<td class=\"point\">7.69</td>\\r\\n\\t\\t\\t\\t\\t<td class=\"ac\"><a href=\"/movie/point/af/list.naver?st=mcode&sword=202465\" class=\"txt_link\">평점주기</a></td>\\r\\n\\t\\t\\t\\t\\t\\r\\n\\t\\t\\t\\t\\t<!----------------------------------------->  \\r\\n\\t\\t\\t\\t\\t\\r\\n\\t\\t\\t\\t\\t<td class=\"ac\"><img src=\"https://ssl.pstatic.net/imgmovie/2007/img/common/icon_down_1.gif\" alt=\"down\" width=\"7\" height=\"10\" class=\"arrow\"></td>\\r\\n\\t\\t\\t\\t\\t<td class=\"range ac\">5</td>\\r\\n\\t\\t\\t\\t\\t\\r\\n\\t\\t\\t\\t\\t\\r\\n\\t\\t\\t\\t</tr>\\r\\n\\t\\t\\t\\t\\t\\r\\n\\t\\t\\t\\t\\t\\r\\n\\t\\t\\t\\t\\r\\n\\t\\t\\t\\t<tr>\\r\\n\\t\\t\\t\\t\\t\\r\\n\\t\\t\\t\\t\\t\\t\\r\\n\\t\\t\\t\\t\\t\\r\\n\\t\\t\\t\\t\\t\\t<td class=\"ac\"><img src=\"https://ssl.pstatic.net/imgmovie/2007/img/common/bullet_r_g32.gif\" alt=\"32\" width=\"14\" height=\"13\"></td>\\r\\n\\t\\t\\t\\t\\t\\r\\n\\t\\t\\t\\t\\t\\r\\n\\t\\t\\t\\t\\t<td class=\"title\">\\r\\n\\t\\t\\t\\t\\t\\t<div class=\"tit5\">\\r\\n\\t\\t\\t\\t\\t\\t\\t<a href=\"/movie/bi/mi/basic.naver?code=37493\" title=\"킬 빌 - 2부\">킬 빌 - 2부</a>\\r\\n\\t\\t\\t\\t\\t\\t</div>\\r\\n\\t\\t\\t\\t\\t</td>\\r\\n\\t\\t\\t\\t\\t<!-- 평점순일 때 평점 추가하기  -->\\r\\n\\t\\t\\t\\t\\t\\r\\n\\t\\t\\t\\t\\t<td><div class=\"point_type_2\"><div class=\"mask\" style=\"width:76.10000133514404%\"><img src=\"https://ssl.pstatic.net/imgmovie/2007/img/common/point_type_2_bg_on.gif\" width=\"79\" height=\"14\" alt=\"\"></div></div></td>\\r\\n\\t\\t\\t\\t\\t<td class=\"point\">7.61</td>\\r\\n\\t\\t\\t\\t\\t<td class=\"ac\"><a href=\"/movie/point/af/list.naver?st=mcode&sword=37493\" class=\"txt_link\">평점주기</a></td>\\r\\n\\t\\t\\t\\t\\t\\r\\n\\t\\t\\t\\t\\t<!----------------------------------------->  \\r\\n\\t\\t\\t\\t\\t\\r\\n\\t\\t\\t\\t\\t<td class=\"ac\"><img src=\"https://ssl.pstatic.net/imgmovie/2007/img/common/icon_down_1.gif\" alt=\"down\" width=\"7\" height=\"10\" class=\"arrow\"></td>\\r\\n\\t\\t\\t\\t\\t<td class=\"range ac\">5</td>\\r\\n\\t\\t\\t\\t\\t\\r\\n\\t\\t\\t\\t\\t\\r\\n\\t\\t\\t\\t</tr>\\r\\n\\t\\t\\t\\t\\t\\r\\n\\t\\t\\t\\t\\t\\r\\n\\t\\t\\t\\t\\r\\n\\t\\t\\t\\t<tr>\\r\\n\\t\\t\\t\\t\\t\\r\\n\\t\\t\\t\\t\\t\\t\\r\\n\\t\\t\\t\\t\\t\\r\\n\\t\\t\\t\\t\\t\\t<td class=\"ac\"><img src=\"https://ssl.pstatic.net/imgmovie/2007/img/common/bullet_r_g33.gif\" alt=\"33\" width=\"14\" height=\"13\"></td>\\r\\n\\t\\t\\t\\t\\t\\r\\n\\t\\t\\t\\t\\t\\r\\n\\t\\t\\t\\t\\t<td class=\"title\">\\r\\n\\t\\t\\t\\t\\t\\t<div class=\"tit5\">\\r\\n\\t\\t\\t\\t\\t\\t\\t<a href=\"/movie/bi/mi/basic.naver?code=199004\" title=\"썸머 필름을 타고!\">썸머 필름을 타고!</a>\\r\\n\\t\\t\\t\\t\\t\\t</div>\\r\\n\\t\\t\\t\\t\\t</td>\\r\\n\\t\\t\\t\\t\\t<!-- 평점순일 때 평점 추가하기  -->\\r\\n\\t\\t\\t\\t\\t\\r\\n\\t\\t\\t\\t\\t<td><div class=\"point_type_2\"><div class=\"mask\" style=\"width:75.39999961853027%\"><img src=\"https://ssl.pstatic.net/imgmovie/2007/img/common/point_type_2_bg_on.gif\" width=\"79\" height=\"14\" alt=\"\"></div></div></td>\\r\\n\\t\\t\\t\\t\\t<td class=\"point\">7.54</td>\\r\\n\\t\\t\\t\\t\\t<td class=\"ac\"><a href=\"/movie/point/af/list.naver?st=mcode&sword=199004\" class=\"txt_link\">평점주기</a></td>\\r\\n\\t\\t\\t\\t\\t\\r\\n\\t\\t\\t\\t\\t<!----------------------------------------->  \\r\\n\\t\\t\\t\\t\\t\\r\\n\\t\\t\\t\\t\\t<td class=\"ac\"><img src=\"https://ssl.pstatic.net/imgmovie/2007/img/common/icon_down_1.gif\" alt=\"down\" width=\"7\" height=\"10\" class=\"arrow\"></td>\\r\\n\\t\\t\\t\\t\\t<td class=\"range ac\">5</td>\\r\\n\\t\\t\\t\\t\\t\\r\\n\\t\\t\\t\\t\\t\\r\\n\\t\\t\\t\\t</tr>\\r\\n\\t\\t\\t\\t\\t\\r\\n\\t\\t\\t\\t\\t\\r\\n\\t\\t\\t\\t\\r\\n\\t\\t\\t\\t<tr>\\r\\n\\t\\t\\t\\t\\t\\r\\n\\t\\t\\t\\t\\t\\t\\r\\n\\t\\t\\t\\t\\t\\r\\n\\t\\t\\t\\t\\t\\t<td class=\"ac\"><img src=\"https://ssl.pstatic.net/imgmovie/2007/img/common/bullet_r_g34.gif\" alt=\"34\" width=\"14\" height=\"13\"></td>\\r\\n\\t\\t\\t\\t\\t\\r\\n\\t\\t\\t\\t\\t\\r\\n\\t\\t\\t\\t\\t<td class=\"title\">\\r\\n\\t\\t\\t\\t\\t\\t<div class=\"tit5\">\\r\\n\\t\\t\\t\\t\\t\\t\\t<a href=\"/movie/bi/mi/basic.naver?code=214552\" title=\"놉\">놉</a>\\r\\n\\t\\t\\t\\t\\t\\t</div>\\r\\n\\t\\t\\t\\t\\t</td>\\r\\n\\t\\t\\t\\t\\t<!-- 평점순일 때 평점 추가하기  -->\\r\\n\\t\\t\\t\\t\\t\\r\\n\\t\\t\\t\\t\\t<td><div class=\"point_type_2\"><div class=\"mask\" style=\"width:67.69999980926514%\"><img src=\"https://ssl.pstatic.net/imgmovie/2007/img/common/point_type_2_bg_on.gif\" width=\"79\" height=\"14\" alt=\"\"></div></div></td>\\r\\n\\t\\t\\t\\t\\t<td class=\"point\">6.77</td>\\r\\n\\t\\t\\t\\t\\t<td class=\"ac\"><a href=\"/movie/point/af/list.naver?st=mcode&sword=214552\" class=\"txt_link\">평점주기</a></td>\\r\\n\\t\\t\\t\\t\\t\\r\\n\\t\\t\\t\\t\\t<!----------------------------------------->  \\r\\n\\t\\t\\t\\t\\t\\r\\n\\t\\t\\t\\t\\t<td class=\"ac\"><img src=\"https://ssl.pstatic.net/imgmovie/2007/img/common/icon_down_1.gif\" alt=\"down\" width=\"7\" height=\"10\" class=\"arrow\"></td>\\r\\n\\t\\t\\t\\t\\t<td class=\"range ac\">4</td>\\r\\n\\t\\t\\t\\t\\t\\r\\n\\t\\t\\t\\t\\t\\r\\n\\t\\t\\t\\t</tr>\\r\\n\\t\\t\\t\\t\\t\\r\\n\\t\\t\\t\\t\\t\\r\\n\\t\\t\\t\\t\\r\\n\\t\\t\\t\\t<tr>\\r\\n\\t\\t\\t\\t\\t\\r\\n\\t\\t\\t\\t\\t\\t\\r\\n\\t\\t\\t\\t\\t\\r\\n\\t\\t\\t\\t\\t\\t<td class=\"ac\"><img src=\"https://ssl.pstatic.net/imgmovie/2007/img/common/bullet_r_g35.gif\" alt=\"35\" width=\"14\" height=\"13\"></td>\\r\\n\\t\\t\\t\\t\\t\\r\\n\\t\\t\\t\\t\\t\\r\\n\\t\\t\\t\\t\\t<td class=\"title\">\\r\\n\\t\\t\\t\\t\\t\\t<div class=\"tit5\">\\r\\n\\t\\t\\t\\t\\t\\t\\t<a href=\"/movie/bi/mi/basic.naver?code=184519\" title=\"비상선언\">비상선언</a>\\r\\n\\t\\t\\t\\t\\t\\t</div>\\r\\n\\t\\t\\t\\t\\t</td>\\r\\n\\t\\t\\t\\t\\t<!-- 평점순일 때 평점 추가하기  -->\\r\\n\\t\\t\\t\\t\\t\\r\\n\\t\\t\\t\\t\\t<td><div class=\"point_type_2\"><div class=\"mask\" style=\"width:65.10000228881836%\"><img src=\"https://ssl.pstatic.net/imgmovie/2007/img/common/point_type_2_bg_on.gif\" width=\"79\" height=\"14\" alt=\"\"></div></div></td>\\r\\n\\t\\t\\t\\t\\t<td class=\"point\">6.51</td>\\r\\n\\t\\t\\t\\t\\t<td class=\"ac\"><a href=\"/movie/point/af/list.naver?st=mcode&sword=184519\" class=\"txt_link\">평점주기</a></td>\\r\\n\\t\\t\\t\\t\\t\\r\\n\\t\\t\\t\\t\\t<!----------------------------------------->  \\r\\n\\t\\t\\t\\t\\t\\r\\n\\t\\t\\t\\t\\t<td class=\"ac\"><img src=\"https://ssl.pstatic.net/imgmovie/2007/img/common/icon_down_1.gif\" alt=\"down\" width=\"7\" height=\"10\" class=\"arrow\"></td>\\r\\n\\t\\t\\t\\t\\t<td class=\"range ac\">4</td>\\r\\n\\t\\t\\t\\t\\t\\r\\n\\t\\t\\t\\t\\t\\r\\n\\t\\t\\t\\t</tr>\\r\\n\\t\\t\\t\\t\\t\\r\\n\\t\\t\\t\\t\\t\\r\\n\\t\\t\\t\\t\\r\\n\\t\\t\\t\\t<tr>\\r\\n\\t\\t\\t\\t\\t\\r\\n\\t\\t\\t\\t\\t\\t\\r\\n\\t\\t\\t\\t\\t\\r\\n\\t\\t\\t\\t\\t\\t<td class=\"ac\"><img src=\"https://ssl.pstatic.net/imgmovie/2007/img/common/bullet_r_g36.gif\" alt=\"36\" width=\"14\" height=\"13\"></td>\\r\\n\\t\\t\\t\\t\\t\\r\\n\\t\\t\\t\\t\\t\\r\\n\\t\\t\\t\\t\\t<td class=\"title\">\\r\\n\\t\\t\\t\\t\\t\\t<div class=\"tit5\">\\r\\n\\t\\t\\t\\t\\t\\t\\t<a href=\"/movie/bi/mi/basic.naver?code=196854\" title=\"브로커\">브로커</a>\\r\\n\\t\\t\\t\\t\\t\\t</div>\\r\\n\\t\\t\\t\\t\\t</td>\\r\\n\\t\\t\\t\\t\\t<!-- 평점순일 때 평점 추가하기  -->\\r\\n\\t\\t\\t\\t\\t\\r\\n\\t\\t\\t\\t\\t<td><div class=\"point_type_2\"><div class=\"mask\" style=\"width:55.39999961853027%\"><img src=\"https://ssl.pstatic.net/imgmovie/2007/img/common/point_type_2_bg_on.gif\" width=\"79\" height=\"14\" alt=\"\"></div></div></td>\\r\\n\\t\\t\\t\\t\\t<td class=\"point\">5.54</td>\\r\\n\\t\\t\\t\\t\\t<td class=\"ac\"><a href=\"/movie/point/af/list.naver?st=mcode&sword=196854\" class=\"txt_link\">평점주기</a></td>\\r\\n\\t\\t\\t\\t\\t\\r\\n\\t\\t\\t\\t\\t<!----------------------------------------->  \\r\\n\\t\\t\\t\\t\\t\\r\\n\\t\\t\\t\\t\\t<td class=\"ac\"><img src=\"https://ssl.pstatic.net/imgmovie/2007/img/common/icon_down_1.gif\" alt=\"down\" width=\"7\" height=\"10\" class=\"arrow\"></td>\\r\\n\\t\\t\\t\\t\\t<td class=\"range ac\">4</td>\\r\\n\\t\\t\\t\\t\\t\\r\\n\\t\\t\\t\\t\\t\\r\\n\\t\\t\\t\\t</tr>\\r\\n\\t\\t\\t\\t\\t\\r\\n\\t\\t\\t\\t\\t\\r\\n\\t\\t\\t\\t\\r\\n\\t\\t\\t\\t<tr>\\r\\n\\t\\t\\t\\t\\t\\r\\n\\t\\t\\t\\t\\t\\t\\r\\n\\t\\t\\t\\t\\t\\r\\n\\t\\t\\t\\t\\t\\t<td class=\"ac\"><img src=\"https://ssl.pstatic.net/imgmovie/2007/img/common/bullet_r_g37.gif\" alt=\"37\" width=\"14\" height=\"13\"></td>\\r\\n\\t\\t\\t\\t\\t\\r\\n\\t\\t\\t\\t\\t\\r\\n\\t\\t\\t\\t\\t<td class=\"title\">\\r\\n\\t\\t\\t\\t\\t\\t<div class=\"tit5\">\\r\\n\\t\\t\\t\\t\\t\\t\\t<a href=\"/movie/bi/mi/basic.naver?code=211161\" title=\"늑대사냥\">늑대사냥</a>\\r\\n\\t\\t\\t\\t\\t\\t</div>\\r\\n\\t\\t\\t\\t\\t</td>\\r\\n\\t\\t\\t\\t\\t<!-- 평점순일 때 평점 추가하기  -->\\r\\n\\t\\t\\t\\t\\t\\r\\n\\t\\t\\t\\t\\t<td><div class=\"point_type_2\"><div class=\"mask\" style=\"width:43.29999923706055%\"><img src=\"https://ssl.pstatic.net/imgmovie/2007/img/common/point_type_2_bg_on.gif\" width=\"79\" height=\"14\" alt=\"\"></div></div></td>\\r\\n\\t\\t\\t\\t\\t<td class=\"point\">4.33</td>\\r\\n\\t\\t\\t\\t\\t<td class=\"ac\"><a href=\"/movie/point/af/list.naver?st=mcode&sword=211161\" class=\"txt_link\">평점주기</a></td>\\r\\n\\t\\t\\t\\t\\t\\r\\n\\t\\t\\t\\t\\t<!----------------------------------------->  \\r\\n\\t\\t\\t\\t\\t\\r\\n\\t\\t\\t\\t\\t<td class=\"ac\"><img src=\"https://ssl.pstatic.net/imgmovie/2007/img/common/icon_down_1.gif\" alt=\"down\" width=\"7\" height=\"10\" class=\"arrow\"></td>\\r\\n\\t\\t\\t\\t\\t<td class=\"range ac\">4</td>\\r\\n\\t\\t\\t\\t\\t\\r\\n\\t\\t\\t\\t\\t\\r\\n\\t\\t\\t\\t</tr>\\r\\n\\t\\t\\t\\t\\t\\r\\n\\t\\t\\t\\t\\t\\r\\n\\t\\t\\t\\t\\r\\n\\t\\t\\t\\t\\t<tr><td colspan=\"8\" class=\"blank01\"></td></tr>\\r\\n\\t\\t\\t</tbody>\\r\\n\\t\\t\\t</table>\\r\\n\\t\\t\\t<!-- 페이지 네비게이션 시작 -->\\r\\n\\t\\t\\t\\r\\n\\t\\t\\t<!-- 페이지 네비게이션 끝 -->\\r\\n\\t\\t\\t\\r\\n\\t\\t\\t\\r\\n\\t\\t\\t<!-- //랭킹 리스트 -->\\r\\n\\t\\t\\t<span class=\"txt_mark\">※</span> <span class=\"txt_term\">집계기준 : <strong>2022.09.26</strong>일 까지 네이버영화에 수록 된 영화의 관람 후 평점</span>\\r\\n\\t\\t\\t<!-- 네이버 영화평점랭킹 선정방법 -->\\r\\n\\t\\t\\t<div class=\"box_choice_way\">\\r\\n\\t\\t\\t\\t<img src=\"https://ssl.pstatic.net/imgmovie/2007/img/super_db/txt_movie_ranking_01.gif\" alt=\"네이버 영화평점랭킹 선정방법\" width=\"154\" height=\"13\">\\r\\n\\t\\t\\t\\t<dl class=\"choice_way\">\\r\\n\\t\\t\\t\\t\\t<dt><img src=\"https://ssl.pstatic.net/imgmovie/2007/img/super_db/txt_movie_ranking_01_1.gif\" alt=\"집계기준\" width=\"39\" height=\"11\"></dt><dd>전국기준 현재 상영되고 있는 영화 중 <em>평점 응답자가 <strong>300명</strong> 이상</em>인 경우</dd>\\r\\n\\t\\t\\t\\t\\t<dt><img src=\"https://ssl.pstatic.net/imgmovie/2007/img/super_db/txt_movie_ranking_01_2.gif\" alt=\"집계기간\" width=\"40\" height=\"11\"></dt><dd>전일까지의 누적 평점</dd>\\r\\n\\t\\t\\t\\t\\t<dt><img src=\"https://ssl.pstatic.net/imgmovie/2007/img/super_db/txt_movie_ranking_01_3.gif\" alt=\"표본오차\" width=\"40\" height=\"11\"></dt><dd><em>95% 신뢰수준에서 ±5.65</em></dd>\\r\\n\\t\\t\\t\\t</dl>\\r\\n\\t\\t\\t\\t<table cellpadding=\"0\" cellspacing=\"0\" class=\"choice_way_data\">\\r\\n\\t\\t\\t\\t<col width=\"48\"><col width=\"73\"><col width=\"73\"><col width=\"73\"><col width=\"73\"><col width=\"73\"><col width=\"110\">\\r\\n\\t\\t\\t\\t<tr>\\r\\n\\t\\t\\t\\t\\t<th scope=\"row\" class=\"bgwhite\">구분</th>\\r\\n\\t\\t\\t\\t\\t<td>N</td>\\r\\n\\t\\t\\t\\t\\t<td>Range</td>\\r\\n\\t\\t\\t\\t\\t<td>Minimum</td>\\r\\n\\t\\t\\t\\t\\t<td>Maximum</td>\\r\\n\\t\\t\\t\\t\\t<td>Mean</td>\\r\\n\\t\\t\\t\\t\\t<td>Std.Deviation</td>\\r\\n\\t\\t\\t\\t</tr>\\r\\n\\t\\t\\t\\t<tr>\\r\\n\\t\\t\\t\\t\\t<th scope=\"row\" class=\"bgwhite\">평점</th>\\r\\n\\t\\t\\t\\t\\t<td class=\"range ac\">26</td>\\r\\n\\t\\t\\t\\t\\t<td class=\"range ac\">4.39</td>\\r\\n\\t\\t\\t\\t\\t<td class=\"range ac\">4.75</td>\\r\\n\\t\\t\\t\\t\\t<td class=\"range ac\">9.14</td>\\r\\n\\t\\t\\t\\t\\t<td class=\"range ac\">7.59</td>\\r\\n\\t\\t\\t\\t\\t<td class=\"range ac\">7.59</td>\\r\\n\\t\\t\\t\\t</tr>\\r\\n\\t\\t\\t\\t</table>\\r\\n\\t\\t\\t\\t<dl class=\"choice_way_qna\">\\r\\n\\t\\t\\t\\t\\t<dt><img src=\"https://ssl.pstatic.net/imgmovie/2007/img/super_db/txt_movie_ranking_02.gif\" alt=\"왜 평점응답자를 300명 이상으로 정하나요?\" width=\"221\" height=\"12\"></dt>\\r\\n\\t\\t\\t\\t\\t<dd>일반적인 여론조사에서의 최소 응답자수가 300명이기 때문입니다.</dd>\\r\\n\\t\\t\\t\\t\\t<dt><img src=\"https://ssl.pstatic.net/imgmovie/2007/img/super_db/txt_movie_ranking_03.gif\" alt=\"표본오차 95% 신뢰수준에서 ±5.65가 무슨 뜻인가요?\" width=\"271\" height=\"12\"></dt>\\r\\n\\t\\t\\t\\t\\t<dd>동일한 실험을 100번 했을 경우 95번은 ±5.65% 범위 내에서 동일한 결과가 나온다는 말입니다.</dd>\\r\\n\\t\\t\\t\\t\\t<dt><img src=\"https://ssl.pstatic.net/imgmovie/2007/img/super_db/txt_movie_ranking_04.gif\" alt=\"Descriptive Statistics는 어떻게 보는건가요?\" width=\"234\" height=\"12\"></dt>\\r\\n\\t\\t\\t\\t\\t<dd>\\r\\n\\t\\t\\t\\t\\t\\t<ul>\\r\\n\\t\\t\\t\\t\\t\\t\\t<li>N=Case의 숫자</li>\\r\\n\\t\\t\\t\\t\\t\\t\\t<li>Range=응답자의 범위</li>\\r\\n\\t\\t\\t\\t\\t\\t\\t<li>Minimum=최소 응답값</li>\\r\\n\\t\\t\\t\\t\\t\\t\\t<li>Maximum=최대응답값</li>\\r\\n\\t\\t\\t\\t\\t\\t\\t<li>Mean=평균</li>\\r\\n\\t\\t\\t\\t\\t\\t\\t<li>Std.Deviation=표준편자</li>\\r\\n\\t\\t\\t\\t\\t\\t</ul>\\r\\n\\t\\t\\t\\t\\t</dd>\\r\\n\\t\\t\\t\\t</dl>\\r\\n\\t\\t\\t</div>\\r\\n\\t\\t\\t<!-- //네이버 영화평점랭킹 선정방법 -->\\r\\n\\t\\t\\t\\r\\n\\t\\t\\t\\r\\n\\t\\t\\t\\r\\n\\t\\t\\t<!-- 탑버튼 -->\\r\\n\\t\\t\\t<div class=\"go_top\">\\r\\n\\t\\t\\t<a href=\"#gnb_top\"><img src=\"https://ssl.pstatic.net/imgmovie/2007/img/common/btn_top.gif\" alt=\"TOP\" width=\"30\" height=\"11\"></a>\\r\\n\\t\\t\\t</div>\\r\\n\\t\\t\\t<!-- //탑버튼 -->\\r\\n\\t\\t\\r\\n\\t\\t<img src=\"https://ssl.pstatic.net/imgmovie/2007/img/common/blank.gif\" alt=\"\" class=\"clear\">\\r\\n\\t<!-- //Content Body -->\\r\\n<script type=\"text/javascript\" src=\"/common/js/jindo2.js\"></script>\\r\\n\\t\\t\\t\\t\\t</div>\\r\\n\\t\\t\\t\\r\\n\\t\\t\\t\\t\\t<div id=\"assistant\">\\r\\n\\t\\t\\t\\t\\t\\t\\r\\n\\r\\n\\r\\n\\r\\n\\r\\n\\r\\n\\r\\n\\r\\n\\t\\r\\n\\t\\r\\n\\t\\r\\n\\t\\t\\r\\n\\r\\n\\r\\n\\r\\n\\r\\n\\r\\n<!-- 우측 메뉴 -->\\r\\n\\r\\n\\t \\r\\n\\r\\n\\r\\n\\r\\n\\t<!-- 영화 인기검색어 -->\\r\\n\\t<div class=\"box_type_1 mb_8\">\\r\\n\\t<h3><img src=\"https://ssl.pstatic.net/imgmovie/2007/img/super_db/tlt_r_best_movie.gif\" alt=\"영화 인기검색어\" width=\"75\" height=\"11\"></h3>\\r\\n\\t\\t<ul class=\"r_ranking\">\\r\\n\\t\\t\\t\\r\\n\\t\\t\\t\\r\\n\\t\\t\\t\\t\\r\\n\\t\\t\\t\\t\\r\\n\\t\\t\\t\\t\\r\\n\\t\\t\\t\\t\\r\\n\\t\\t\\t\\t\\r\\n\\t\\t\\t\\t<li class=\"ranking01\">\\r\\n\\t\\t\\t\\t\\r\\n\\t\\t\\t\\t\\r\\n\\t\\t\\t\\t<a href=\"/movie/bi/mi/basic.naver?code=211161\" onclick=\"clickcr(this,\\'pop.list\\',\\'211161\\',\\'1\\',event);\" class=\\'b\\' title=\"늑대사냥\"><span class=\"blind\">1위</span>늑대사냥</a>\\r\\n\\t\\t\\t\\t<span class=\"rank\">\\r\\n\\t\\t\\t\\t\\r\\n\\t\\t\\t\\t\\r\\n\\t\\t\\t\\t\\r\\n\\t\\t\\t\\t\\r\\n\\t\\t\\t\\t\\t\\r\\n\\t\\t\\t\\t\\r\\n\\t\\t\\t\\t\\r\\n\\t\\t\\t\\t\\r\\n\\t\\t\\t\\t\\t\\r\\n\\t\\t\\t\\t\\t\\r\\n\\t\\t\\t\\t\\t\\r\\n\\t\\t\\t\\t\\t\\r\\n\\t\\t\\t\\t\\r\\n\\t\\t\\t\\t<img src=\"https://ssl.pstatic.net/imgmovie/2007/img/common/icon_na_1.gif\"\\r\\n\\t\\t\\t\\t\\t alt=\"순위 변동 없음\"\\r\\n\\t\\t\\t\\t\\t width=\"7\" height=\"10\">0</span>\\r\\n\\t\\t\\t\\t\\r\\n\\t\\t\\t\\r\\n\\t\\t\\t\\t\\r\\n\\t\\t\\t\\t\\r\\n\\t\\t\\t\\t\\r\\n\\t\\t\\t\\t\\r\\n\\t\\t\\t\\t<li class=\"ranking02\">\\r\\n\\t\\t\\t\\t\\r\\n\\t\\t\\t\\t\\r\\n\\t\\t\\t\\t<a href=\"/movie/bi/mi/basic.naver?code=201641\" onclick=\"clickcr(this,\\'pop.list\\',\\'201641\\',\\'2\\',event);\"  title=\"공조2: 인터내셔날\"><span class=\"blind\">2위</span>공조2: 인터내셔날</a>\\r\\n\\t\\t\\t\\t<span class=\"rank\">\\r\\n\\t\\t\\t\\t\\r\\n\\t\\t\\t\\t\\r\\n\\t\\t\\t\\t\\r\\n\\t\\t\\t\\t\\r\\n\\t\\t\\t\\t\\t\\r\\n\\t\\t\\t\\t\\r\\n\\t\\t\\t\\t\\r\\n\\t\\t\\t\\t\\r\\n\\t\\t\\t\\t\\t\\r\\n\\t\\t\\t\\t\\t\\r\\n\\t\\t\\t\\t\\t\\r\\n\\t\\t\\t\\t\\t\\r\\n\\t\\t\\t\\t\\r\\n\\t\\t\\t\\t<img src=\"https://ssl.pstatic.net/imgmovie/2007/img/common/icon_na_1.gif\"\\r\\n\\t\\t\\t\\t\\t alt=\"순위 변동 없음\"\\r\\n\\t\\t\\t\\t\\t width=\"7\" height=\"10\">0</span>\\r\\n\\t\\t\\t\\t\\r\\n\\t\\t\\t\\r\\n\\t\\t\\t\\t\\r\\n\\t\\t\\t\\t\\r\\n\\t\\t\\t\\t\\r\\n\\t\\t\\t\\t\\r\\n\\t\\t\\t\\t<li class=\"ranking03\">\\r\\n\\t\\t\\t\\t\\r\\n\\t\\t\\t\\t\\r\\n\\t\\t\\t\\t<a href=\"/movie/bi/mi/basic.naver?code=221031\" onclick=\"clickcr(this,\\'pop.list\\',\\'221031\\',\\'3\\',event);\"  title=\"아바타 리마스터링\"><span class=\"blind\">3위</span>아바타 리마스터링</a>\\r\\n\\t\\t\\t\\t<span class=\"rank\">\\r\\n\\t\\t\\t\\t\\r\\n\\t\\t\\t\\t\\r\\n\\t\\t\\t\\t\\r\\n\\t\\t\\t\\t\\r\\n\\t\\t\\t\\t\\t\\r\\n\\t\\t\\t\\t\\r\\n\\t\\t\\t\\t\\r\\n\\t\\t\\t\\t\\r\\n\\t\\t\\t\\t\\t\\r\\n\\t\\t\\t\\t\\t\\r\\n\\t\\t\\t\\t\\t\\r\\n\\t\\t\\t\\t\\t\\r\\n\\t\\t\\t\\t\\r\\n\\t\\t\\t\\t<img src=\"https://ssl.pstatic.net/imgmovie/2007/img/common/icon_na_1.gif\"\\r\\n\\t\\t\\t\\t\\t alt=\"순위 변동 없음\"\\r\\n\\t\\t\\t\\t\\t width=\"7\" height=\"10\">0</span>\\r\\n\\t\\t\\t\\t\\r\\n\\t\\t\\t\\r\\n\\t\\t\\t\\t\\r\\n\\t\\t\\t\\t\\r\\n\\t\\t\\t\\t\\r\\n\\t\\t\\t\\t\\r\\n\\t\\t\\t\\t<li class=\"ranking04\">\\r\\n\\t\\t\\t\\t\\r\\n\\t\\t\\t\\t\\r\\n\\t\\t\\t\\t<a href=\"/movie/bi/mi/basic.naver?code=204640\" onclick=\"clickcr(this,\\'pop.list\\',\\'204640\\',\\'4\\',event);\"  title=\"육사오(6/45)\"><span class=\"blind\">4위</span>육사오(6/45)</a>\\r\\n\\t\\t\\t\\t<span class=\"rank\">\\r\\n\\t\\t\\t\\t\\r\\n\\t\\t\\t\\t\\r\\n\\t\\t\\t\\t\\r\\n\\t\\t\\t\\t\\r\\n\\t\\t\\t\\t\\t\\r\\n\\t\\t\\t\\t\\r\\n\\t\\t\\t\\t\\r\\n\\t\\t\\t\\t\\r\\n\\t\\t\\t\\t\\t\\r\\n\\t\\t\\t\\t\\t\\r\\n\\t\\t\\t\\t\\t\\r\\n\\t\\t\\t\\t\\t\\r\\n\\t\\t\\t\\t\\r\\n\\t\\t\\t\\t<img src=\"https://ssl.pstatic.net/imgmovie/2007/img/common/icon_na_1.gif\"\\r\\n\\t\\t\\t\\t\\t alt=\"순위 변동 없음\"\\r\\n\\t\\t\\t\\t\\t width=\"7\" height=\"10\">0</span>\\r\\n\\t\\t\\t\\t\\r\\n\\t\\t\\t\\r\\n\\t\\t\\t\\t\\r\\n\\t\\t\\t\\t\\r\\n\\t\\t\\t\\t\\r\\n\\t\\t\\t\\t\\r\\n\\t\\t\\t\\t<li class=\"ranking05\">\\r\\n\\t\\t\\t\\t\\r\\n\\t\\t\\t\\t\\r\\n\\t\\t\\t\\t<a href=\"/movie/bi/mi/basic.naver?code=195758\" onclick=\"clickcr(this,\\'pop.list\\',\\'195758\\',\\'5\\',event);\"  title=\"헌트\"><span class=\"blind\">5위</span>헌트</a>\\r\\n\\t\\t\\t\\t<span class=\"rank\">\\r\\n\\t\\t\\t\\t\\r\\n\\t\\t\\t\\t\\r\\n\\t\\t\\t\\t\\r\\n\\t\\t\\t\\t\\r\\n\\t\\t\\t\\t\\t\\r\\n\\t\\t\\t\\t\\r\\n\\t\\t\\t\\t\\r\\n\\t\\t\\t\\t\\r\\n\\t\\t\\t\\t\\t\\r\\n\\t\\t\\t\\t\\t\\r\\n\\t\\t\\t\\t\\t\\r\\n\\t\\t\\t\\t\\t\\r\\n\\t\\t\\t\\t\\r\\n\\t\\t\\t\\t<img src=\"https://ssl.pstatic.net/imgmovie/2007/img/common/icon_na_1.gif\"\\r\\n\\t\\t\\t\\t\\t alt=\"순위 변동 없음\"\\r\\n\\t\\t\\t\\t\\t width=\"7\" height=\"10\">0</span>\\r\\n\\t\\t\\t\\t\\r\\n\\t\\t\\t\\r\\n\\t\\t</ul>\\r\\n        <!--[D] 더보기 위치 이동 -->\\r\\n        <a href=\"/movie/sdb/rank/rmovie.naver\" onclick=\"clickcr(this,\\'pop.more\\',\\'\\',\\'\\',event);\" class=\"more\">더보기</a>\\r\\n        <p class=\"term\">2022.09.27</p>\\r\\n\\t</div>\\r\\n  \\r\\n\\r\\n\\t \\r\\n\\r\\n\\r\\n\\r\\n\\t<!-- 영화인 인기검색어 -->\\r\\n\\t<div class=\"box_type_1 mb_8\">\\r\\n\\t<h3><img src=\"https://ssl.pstatic.net/imgmovie/2007/img/super_db/tlt_r_best_star.gif\" alt=\"영화인 인기검색어\" width=\"85\" height=\"11\"></h3>\\r\\n\\t\\t<ul class=\"r_ranking\">\\r\\n\\t\\t\\t\\r\\n\\t\\t\\t\\r\\n\\t\\t\\t\\t\\r\\n\\t\\t\\t\\t\\r\\n\\t\\t\\t\\t\\r\\n\\t\\t\\t\\t\\r\\n\\t\\t\\t\\t\\r\\n\\t\\t\\t\\t<li class=\"ranking01\">\\r\\n\\t\\t\\t\\t\\r\\n\\t\\t\\t\\t\\r\\n\\t\\t\\t\\t<a href=\"/movie/bi/pi/basic.naver?st=1&code=309736\" onclick=\"clickcr(this,\\'peo.list\\',\\'309736\\',\\'1\\',event);\" class=\\'b\\' title=\"김홍선\"><span class=\"blind\">1위</span>김홍선</a>\\r\\n\\t\\t\\t\\t<span class=\"rank\">\\r\\n\\t\\t\\t\\t\\r\\n\\t\\t\\t\\t\\r\\n\\t\\t\\t\\t\\r\\n\\t\\t\\t\\t\\r\\n\\t\\t\\t\\t\\t\\r\\n\\t\\t\\t\\t\\r\\n\\t\\t\\t\\t\\r\\n\\r\\n\\t\\t\\t\\t\\r\\n\\t\\t\\t\\t\\t\\r\\n\\t\\t\\t\\t\\t\\r\\n\\t\\t\\t\\t\\t\\r\\n\\t\\t\\t\\t\\t\\r\\n\\t\\t\\t\\t\\r\\n\\r\\n\\t\\t\\t\\t<img src=\"https://ssl.pstatic.net/imgmovie/2007/img/common/icon_na_1.gif\"\\r\\n\\t\\t\\t\\t\\t alt=\"\"\\r\\n\\t\\t\\t\\t\\t width=\"7\" height=\"10\">0</span>\\r\\n\\t\\t\\t\\t\\r\\n\\t\\t\\t\\r\\n\\t\\t\\t\\t\\r\\n\\t\\t\\t\\t\\r\\n\\t\\t\\t\\t\\r\\n\\t\\t\\t\\t\\r\\n\\t\\t\\t\\t<li class=\"ranking02\">\\r\\n\\t\\t\\t\\t\\r\\n\\t\\t\\t\\t\\r\\n\\t\\t\\t\\t<a href=\"/movie/bi/pi/basic.naver?st=1&code=621\" onclick=\"clickcr(this,\\'peo.list\\',\\'621\\',\\'2\\',event);\"  title=\"제임스 카메론\"><span class=\"blind\">2위</span>제임스 카메론</a>\\r\\n\\t\\t\\t\\t<span class=\"rank\">\\r\\n\\t\\t\\t\\t\\r\\n\\t\\t\\t\\t\\r\\n\\t\\t\\t\\t\\r\\n\\t\\t\\t\\t\\r\\n\\t\\t\\t\\t\\t\\r\\n\\t\\t\\t\\t\\r\\n\\t\\t\\t\\t\\r\\n\\r\\n\\t\\t\\t\\t\\r\\n\\t\\t\\t\\t\\t\\r\\n\\t\\t\\t\\t\\t\\r\\n\\t\\t\\t\\t\\t\\r\\n\\t\\t\\t\\t\\t\\r\\n\\t\\t\\t\\t\\r\\n\\r\\n\\t\\t\\t\\t<img src=\"https://ssl.pstatic.net/imgmovie/2007/img/common/icon_na_1.gif\"\\r\\n\\t\\t\\t\\t\\t alt=\"\"\\r\\n\\t\\t\\t\\t\\t width=\"7\" height=\"10\">0</span>\\r\\n\\t\\t\\t\\t\\r\\n\\t\\t\\t\\r\\n\\t\\t\\t\\t\\r\\n\\t\\t\\t\\t\\r\\n\\t\\t\\t\\t\\r\\n\\t\\t\\t\\t\\r\\n\\t\\t\\t\\t<li class=\"ranking03\">\\r\\n\\t\\t\\t\\t\\r\\n\\t\\t\\t\\t\\r\\n\\t\\t\\t\\t<a href=\"/movie/bi/pi/basic.naver?st=1&code=68580\" onclick=\"clickcr(this,\\'peo.list\\',\\'68580\\',\\'3\\',event);\"  title=\"이석훈\"><span class=\"blind\">3위</span>이석훈</a>\\r\\n\\t\\t\\t\\t<span class=\"rank\">\\r\\n\\t\\t\\t\\t\\r\\n\\t\\t\\t\\t\\r\\n\\t\\t\\t\\t\\r\\n\\t\\t\\t\\t\\r\\n\\t\\t\\t\\t\\t\\r\\n\\t\\t\\t\\t\\r\\n\\t\\t\\t\\t\\r\\n\\r\\n\\t\\t\\t\\t\\r\\n\\t\\t\\t\\t\\t\\r\\n\\t\\t\\t\\t\\t\\r\\n\\t\\t\\t\\t\\t\\r\\n\\t\\t\\t\\t\\t\\r\\n\\t\\t\\t\\t\\r\\n\\r\\n\\t\\t\\t\\t<img src=\"https://ssl.pstatic.net/imgmovie/2007/img/common/icon_na_1.gif\"\\r\\n\\t\\t\\t\\t\\t alt=\"\"\\r\\n\\t\\t\\t\\t\\t width=\"7\" height=\"10\">0</span>\\r\\n\\t\\t\\t\\t\\r\\n\\t\\t\\t\\r\\n\\t\\t\\t\\t\\r\\n\\t\\t\\t\\t\\r\\n\\t\\t\\t\\t\\r\\n\\t\\t\\t\\t\\r\\n\\t\\t\\t\\t<li class=\"ranking04\">\\r\\n\\t\\t\\t\\t\\r\\n\\t\\t\\t\\t\\r\\n\\t\\t\\t\\t<a href=\"/movie/bi/pi/basic.naver?st=1&code=51218\" onclick=\"clickcr(this,\\'peo.list\\',\\'51218\\',\\'4\\',event);\"  title=\"한재림\"><span class=\"blind\">4위</span>한재림</a>\\r\\n\\t\\t\\t\\t<span class=\"rank\">\\r\\n\\t\\t\\t\\t\\r\\n\\t\\t\\t\\t\\r\\n\\t\\t\\t\\t\\r\\n\\t\\t\\t\\t\\r\\n\\t\\t\\t\\t\\t\\r\\n\\t\\t\\t\\t\\r\\n\\t\\t\\t\\t\\r\\n\\r\\n\\t\\t\\t\\t\\r\\n\\t\\t\\t\\t\\t\\r\\n\\t\\t\\t\\t\\t\\r\\n\\t\\t\\t\\t\\t\\r\\n\\t\\t\\t\\t\\t\\r\\n\\t\\t\\t\\t\\r\\n\\r\\n\\t\\t\\t\\t<img src=\"https://ssl.pstatic.net/imgmovie/2007/img/common/icon_na_1.gif\"\\r\\n\\t\\t\\t\\t\\t alt=\"\"\\r\\n\\t\\t\\t\\t\\t width=\"7\" height=\"10\">0</span>\\r\\n\\t\\t\\t\\t\\r\\n\\t\\t\\t\\r\\n\\t\\t\\t\\t\\r\\n\\t\\t\\t\\t\\r\\n\\t\\t\\t\\t\\r\\n\\t\\t\\t\\t\\r\\n\\t\\t\\t\\t<li class=\"ranking05\">\\r\\n\\t\\t\\t\\t\\r\\n\\t\\t\\t\\t\\r\\n\\t\\t\\t\\t<a href=\"/movie/bi/pi/basic.naver?st=1&code=110579\" onclick=\"clickcr(this,\\'peo.list\\',\\'110579\\',\\'5\\',event);\"  title=\"이사벨 퍼만\"><span class=\"blind\">5위</span>이사벨 퍼만</a>\\r\\n\\t\\t\\t\\t<span class=\"rank\">\\r\\n\\t\\t\\t\\t\\r\\n\\t\\t\\t\\t\\r\\n\\t\\t\\t\\t\\r\\n\\t\\t\\t\\t\\r\\n\\t\\t\\t\\t\\r\\n\\t\\t\\t\\t\\t\\r\\n\\t\\t\\t\\t\\r\\n\\r\\n\\t\\t\\t\\t\\r\\n\\t\\t\\t\\t\\t\\r\\n\\t\\t\\t\\t\\t\\r\\n\\t\\t\\t\\t\\t\\r\\n\\t\\t\\t\\t\\t\\r\\n\\t\\t\\t\\t\\r\\n\\r\\n\\t\\t\\t\\t<img src=\"https://ssl.pstatic.net/imgmovie/2007/img/common/icon_up_1.gif\"\\r\\n\\t\\t\\t\\t\\t alt=\"\"\\r\\n\\t\\t\\t\\t\\t width=\"7\" height=\"10\">2</span>\\r\\n\\t\\t\\t\\t\\r\\n\\t\\t\\t\\r\\n\\t\\t</ul>\\r\\n\\t\\t<a href=\"/movie/sdb/rank/rpeople.naver\" onclick=\"clickcr(this,\\'peo.more\\',\\'\\',\\'\\',event);\" class=\"more\">더보기</a>\\r\\n\\t\\t<p class=\"term\">2022.09.27</p>\\r\\n\\t</div>\\r\\n  \\r\\n\\r\\n\\t   \\r\\n\\r\\n\\t \\r\\n\\r\\n\\r\\n\\r\\n\\r\\n<!--박스오피스-->\\r\\n<div class=\"box_type_1 mb_8\">\\r\\n\\t<h3><img src=\"https://ssl.pstatic.net/imgmovie/2007/img/running/tlt_r_boxoffice.gif\" alt=\"박스오피스\" width=\"51\" height=\"11\"></h3>\\r\\n\\t<ul class=\"r_ranking box\">\\r\\n\\t\\r\\n\\t\\t\\t<li class=\"ranking01\"><a href=\"/movie/bi/mi/basic.naver?code=201641\" onclick=\"clickcr(this,\\'box.list\\',\\'201641\\',\\'1\\',event);\" class=\"b\" title=\"공조2: 인터내셔날\"><span class=\"blind\">1위</span>공조2: 인터내셔날</a> <span class=\"ratio  check\"\"><em>484433</em> 명</span></li>\\r\\n\\t\\r\\n\\t\\t\\t<li class=\"ranking02\"><a href=\"/movie/bi/mi/basic.naver?code=211161\" onclick=\"clickcr(this,\\'box.list\\',\\'211161\\',\\'2\\',event);\" title=\"늑대사냥\"><span class=\"blind\">2위</span>늑대사냥</a> <span class=\"ratio \"><em>194946</em> 명</span></li>\\r\\n\\t\\r\\n\\t\\t\\t<li class=\"ranking03\"><a href=\"/movie/bi/mi/basic.naver?code=221031\" onclick=\"clickcr(this,\\'box.list\\',\\'221031\\',\\'3\\',event);\" title=\"아바타 리마스터링\"><span class=\"blind\">3위</span>아바타 리마스터링</a> <span class=\"ratio \"><em>88918</em> 명</span></li>\\r\\n\\t\\r\\n\\t\\t\\t<li class=\"ranking04\"><a href=\"/movie/bi/mi/basic.naver?code=204640\" onclick=\"clickcr(this,\\'box.list\\',\\'204640\\',\\'4\\',event);\" title=\"육사오(6/45)\"><span class=\"blind\">4위</span>육사오(6/45)</a> <span class=\"ratio \"><em>50396</em> 명</span></li>\\r\\n\\t\\r\\n\\t\\t\\t<li class=\"ranking05\"><a href=\"/movie/bi/mi/basic.naver?code=210852\" onclick=\"clickcr(this,\\'box.list\\',\\'210852\\',\\'5\\',event);\" title=\"정직한 후보2\"><span class=\"blind\">5위</span>정직한 후보2</a> <span class=\"ratio \"><em>24315</em> 명</span></li>\\r\\n\\t\\r\\n\\t</ul>\\r\\n\\t<a href=\"/movie/sdb/rank/rboxoffice.naver\" onclick=\"clickcr(this,\\'box.more\\',\\'\\',\\'\\',event);\" class=\"more\">더보기</a>\\r\\n\\t<div class=\"term_1\"><span class=\"cnt\">주말관객 기준</span><div class=\"date\">20220923-20220925</div></div>\\r\\n</div>\\r\\n<!--//박스오피스-->\\r\\n  \\r\\n\\r\\n\\r\\n\\t\\r\\n\\t\\r\\n\\t\\r\\n\\t\\r\\n\\t\\t\\r\\n\\t\\r\\n\\t\\r\\n\\t\\t\\r\\n\\t\\r\\n\\r\\n\\r\\n\\t\\t\\t\\t\\t</div>\\r\\n\\t\\t\\t\\t\\t<img src=\"https://ssl.pstatic.net/imgmovie/2007/img/common/blank.gif\" alt=\"\" class=\"clear\">\\r\\n\\t\\t\\t\\t</div>\\r\\n\\t\\t\\t\\t<!-- //Content Body -->\\r\\n\\r\\n\\t\\t\\t\\t</div>\\r\\n\\t\\t\\t</div>\\r\\n\\t\\t</div>\\r\\n\\t\\t<!-- //content -->\\r\\n\\t</div>\\r\\n\\t<!-- //container -->\\r\\n\\r\\n\\t<!-- Footer -->\\r\\n\\t<script type=\"text/javascript\" src=\"/common/js/jindo/component/1.0.2/jindo.Component.js\"></script>\\r\\n\\t<script type=\"text/javascript\" src=\"/common/js/jindo/component/1.0.2/jindo.UIComponent.js\"></script>\\r\\n\\t\\n\\n\\n\\n\\n\\n\\n<!-- footer -->\\n<div id=\"footer\">\\n\\t<div class=\"in_footer\">\\n\\t\\t<div class=\"foot_con\">\\n\\t\\t\\t<ul>\\n\\t\\t\\t\\t<li class=\"first\"><a href=\"http://www.naver.com/rules/service.html\" target=\"_blank\" onclick=\"clickcr(this, \\'fot.agreement\\', \\'\\', \\'\\', event);\">이용약관</a></li>\\n\\t\\t\\t\\t<li><a href=\"http://www.naver.com/rules/privacy.html\" target=\"_blank\"  onclick=\"clickcr(this, \\'fot.privacy\\', \\'\\', \\'\\', event);\"><strong>개인정보처리방침</strong></a></li>\\n\\t\\t\\t\\t<li><a href=\"http://www.naver.com/rules/disclaimer.html\" target=\"_blank\" onclick=\"clickcr(this, \\'fot.disclaimer\\', \\'\\', \\'\\', event);\">책임의 한계와 법적고지</a></li>\\n\\t\\t\\t\\t<li><a href=\"https://help.naver.com/support/service/main.nhn?serviceNo=800\" target=\"_blank\" onclick=\"clickcr(this, \\'fot.help\\', \\'\\', \\'\\', event);\">영화 고객센터</a></li>\\n\\t\\t\\t</ul>\\n\\t\\t\\t<p class=\"info\">본 콘텐츠의 저작권은 저작권자 또는 제공처에 있으며, 이를 무단 이용하는 경우 저작권법 등에 따라 법적 책임을 질 수 있습니다.</p>\\n\\t\\t\\t<p class=\"info\">\\n\\t\\t\\t\\t사업자등록번호 : 220-81-62517<span>통신판매업 신고번호</span> : 경기성남 제 2006 - 692호<span>대표이사 : 최수연</span><span><a href=\"http://www.ftc.go.kr/info/bizinfo/communicationList.jsp\" onclick=\"clickcr(this, \\'fot.bizinfo\\', \\'\\', \\'\\', event);\">사업자등록정보 확인</a></span><br>\\n\\t\\t\\t\\t주소 : 경기도 성남시 분당구 정자일로 95, NAVER 1784, 13561 <span>대표전화 : 1588-3820</span>\\n\\t\\t\\t</p>\\n\\t\\t\\t<address>\\n\\t\\t\\t\\t<a href=\"https://www.navercorp.com\" target=\"_blank\" class=\"logo\" onclick=\"clickcr(this, \\'fot.nhn\\', \\'\\', \\'\\', event);\"><img src=\"https://ssl.pstatic.net/static/movie/2013/07/logo_naver.png\" width=\"63\" height=\"11\" alt=\"NAVER\"></a>\\n\\t\\t\\t\\t<em>Copyright &copy;</em>\\n\\t\\t\\t\\t<a href=\"https://www.navercorp.com\" target=\"_blank\" onclick=\"clickcr(this, \\'fot.corp\\', \\'\\', \\'\\', event);\">NAVER Corp.</a>\\n\\t\\t\\t\\t<span>All Rights Reserved.</span>\\n\\t\\t\\t</address>\\n\\t\\t</div>\\n\\t</div>\\n</div>\\n<!-- //footer -->\\n\\n\\n\\n\\n\\r\\n\\r\\n\\r\\n\\r\\n<script type=\"text/javascript\">\\r\\n\\r\\nif (false) {\\r\\n\\tvar alertType = \"NONE\";\\r\\n\\tvar koreanTitle = \"\";\\r\\n\\tvar movieCode = \"0\";\\r\\n\\tvar userReserveCount = \"0\";\\r\\n\\tvar todayDatetime = \"20220928151014\";\\r\\n\\tvar endDatetimeAfterTwoDays = \"00000000000000\";\\r\\n\\t\\r\\n\\t\\r\\n\\tif (movieCode > 0) {\\r\\n\\t\\topenWriteActualPointAlert (alertType, koreanTitle, movieCode, userReserveCount, todayDatetime, endDatetimeAfterTwoDays);\\r\\n\\t}\\r\\n}\\r\\n\\r\\nfunction openWriteActualPointAlert (alertType, koreanTitle, movieCode, count, today, endDate) {\\r\\n\\tif (alertType == \"ONE\" || alertType == \"MORE\") {\\r\\n\\t\\tsetCookieLastUserReserveDate(today, endDate);\\r\\n\\t\\tif (confirm(\"관람하신 \" + koreanTitle + \"에\\\\n평점 등록 시 네이버페이 마일리지 500원 적립!\\\\n지금 평점쓰기 메뉴로 이동하시겠습니까?\")) {\\r\\n\\t\\t\\ttop.location.href = \"http://movie.naver.com/movie/bi/mi/point.naver?code=\" + movieCode;\\r\\n\\t\\t}\\r\\n\\t}\\r\\n\\t\\r\\n}\\r\\n\\r\\nfunction setCookieLastUserReserveDate(today, endDate) {\\r\\n\\tvar cookieForNotOpenActualPointPopup = jindo.$Cookie();\\r\\n\\t\\r\\n\\t\\r\\n\\tcookieForNotOpenActualPointPopup.remove(\"lastUserReserveDatetime\");\\r\\n\\tcookieForNotOpenActualPointPopup.remove(\"lastUserReserveCheckDatetime\");\\r\\n\\t\\r\\n\\tcookieForNotOpenActualPointPopup.set(\"lastUserReserveDatetime\", endDate, 9999, \"movie.naver.com\");\\r\\n\\tcookieForNotOpenActualPointPopup.set(\"lastUserReserveCheckDatetime\", today, 9999, \"movie.naver.com\");\\r\\n}\\r\\n\\r\\n</script>\\n\\n\\n\\n\\r\\n\\r\\n\\r\\n\\r\\n\\r\\n<script type=\"text/javascript\">\\r\\n\\t\\r\\n\\t\\t\\r\\n\\t\\t\\r\\n\\t\\t\\r\\n\\t\\t\\r\\n\\t\\t\\tvar alertMessage = \"지원되지 않는 브라우저로 서비스 이용에 제한이 있습니다.\";\\r\\n\\t\\t\\r\\n\\t\\r\\n\\r\\n\\tfunction getBrowser() {\\r\\n\\t\\tvar ua = navigator.userAgent;\\r\\n\\t\\tif (/NAVER/.test(ua)) {\\r\\n\\t\\t\\treturn \"NAVER_APP\";\\r\\n\\t\\t} else if (/IEMobile/.test(ua)) {\\r\\n\\t\\t\\treturn \"INTERNET_EXPLORER_MOBILE\";\\r\\n\\t\\t} else if (/MSIE/.test(ua) || /Trident/.test(ua)) {\\r\\n\\t\\t\\treturn \"INTERNET_EXPLORER\";\\r\\n\\t\\t} else if (/Firefox/.test(ua)) {\\r\\n\\t\\t\\treturn \"FIREFOX\";\\r\\n\\t\\t} else if (/Opera\\\\//.test(ua) || /OPR\\\\//.test(ua)) {\\r\\n\\t\\t\\treturn \"OPERA\";\\r\\n\\t\\t}  else if (/Swing\\\\//.test(ua)) {\\r\\n\\t\\t\\treturn \"SWING\";\\r\\n\\t\\t} else if (/Chrome\\\\//.test(ua) || /CriOS\\\\//.test(ua)) {\\r\\n\\t\\t\\treturn \"CHROME\";\\r\\n\\t\\t} else if (/BAND\\\\//.test(ua)) {\\r\\n\\t\\t\\treturn \"BAND_APP\";\\r\\n\\t\\t} else if (/FBAN\\\\/FBIOS/.test(ua)) {\\r\\n\\t\\t\\treturn \"FACEBOOK_APP\";\\r\\n\\t\\t} else if (/Twitter/.test(ua)) {\\r\\n\\t\\t\\treturn \"TWITTER_APP\";\\r\\n\\t\\t} else if (/KAKAOTALK/.test(ua)) {\\r\\n\\t\\t\\treturn \"KAKAOTALK_APP\";\\r\\n\\t\\t} else if (/Android/.test(ua) && /Safari/.test(ua)) {\\r\\n\\t\\t\\treturn \"ANDROID_INTERNET_APP\";\\r\\n\\t\\t} else if (/Safari/.test(ua)) {\\r\\n\\t\\t\\treturn \"SAFARI\";\\r\\n\\t\\t}\\r\\n\\r\\n\\t\\treturn \"\";\\r\\n\\t}\\r\\n\\t\\r\\n\\tif (getBrowser() === \"UNKNOWN\" && jindo.$Cookie().get(\"notSupportBrowserAlert\") != \\'true\\') {\\r\\n\\t\\talert(alertMessage);\\r\\n\\t\\tjindo.$Cookie().set(\"notSupportBrowserAlert\", \"true\", \"9999\", \"movie.naver.com\");\\r\\n\\t}\\r\\n</script>\\r\\n\\n\\n\\r\\n<script type=\"text/javascript\" src=\"/common/js/lcslog.js\"></script>\\r\\n<script type=\"text/javascript\" src=\"/common/js/jindo/component/1.0.2/jindo.Component.min.js\"></script>\\r\\n<script type=\"text/javascript\" src=\"/common/js/vendor/jindo.WatchInput.js\" charset=\"UTF-8\"></script>\\r\\n<script type=\"text/javascript\" src=\"/common/js/lib/Core.js?20220823114513\" charset=\"UTF-8\"></script>\\r\\n<script type=\"text/javascript\" src=\"/common/js/lib/LNB.js?20220823114513\" charset=\"UTF-8\"></script>\\r\\n<script type=\"text/javascript\" src=\"/common/js/lib/Search.js?20220823114513\" charset=\"UTF-8\"></script>\\r\\n\\n\\n\\n\\t\\n\\t\\n\\t\\t\\n\\t\\n\\n\\n\\n\\n\\t\\n\\t\\n\\n<script type=\"text/javascript\">\\n\\n    // nhn.movie.Search가 jindo 기반이어서 javascript로 전환함\\n    if (document.addEventListener) {\\n        document.addEventListener(\"DOMContentLoaded\", function () {\\n            document.removeEventListener(\"DOMContentLoaded\", arguments.callee, false);\\n            loadFooter();\\n        }, false);\\n    }\\n// Internet Explorer\\n    else if (document.attachEvent) {\\n        // onreadystatechange 는 모든 브라우저가 반환\\n        document.attachEvent(\"onreadystatechange\", function () {\\n            if (document.readyState == \"complete\" || document.readyState == \\'loaded\\') {\\n                document.detachEvent(\"onreadystatechange\", arguments.callee);\\n                loadFooter();\\n            }\\n        });\\n    }\\n\\n    function loadFooter() {\\n        var goNaver = document.getElementById(\"lnb_gonaver\");\\n        goNaver.addEventListener(\"focus\", focusonNaverIcon, false);\\n\\n        // LNB - 사용처를 못 찾음\\n//   \\tvar oLNB = new nhn.movie.LNB();\\n\\n        // 상단 검색영역\\n        var oSearch = new nhn.movie.Search({\\n            area : \"jSearchArea\",\\n            autosearch : \"https://auto-movie.naver.com/ac?q_enc=UTF-8&st=1&r_lt=1&n_ext=1&t_koreng=1&r_format=json&r_enc=utf-8&r_unicode=0&r_escape=1&q=\",\\n            movelink : \"/movie/bi/mi/basic.naver?code=\",\\n            peoplelink : \"/movie/bi/pi/basic.naver?code=\"\\n        });\\n\\n        getGNB();\\n    }\\n\\n    function focusonNaverIcon(event) {\\n        event.preventDefault();\\t// jindo.$Event.CANCEL_DEFAULT 와 동일한 기능으로 추측됨\\n        document.getElementById(\\'ipt_tx_srch\\').value= \"\";\\n        document.getElementById(\\'search_placeholder\\').style = \"display:inline;\";\\n        if (document.getElementById(\\'jAutoComplate\\') != undefined && document.getElementById(\\'jAutoComplate\\') !== null) {\\n            document.getElementById(\\'jAutoComplate\\').style = \"display:none;\"\\n        }\\n    }\\n\\n    \\n    window.addEventListener(\\'pageshow\\', function(event) { lcs_do(); });\\n\\n    document.addEventListener(\\'click\\', function (event) {\\n        var welSource = event.srcElement;\\t// jindo.$Element(oEvent.element);\\n        if (!document.getElementById(\"gnb\").contains(welSource)) {\\n            gnbAllLayerClose();\\n        }\\n    });\\n</script>\\n\\n\\t\\r\\n\\t<!-- //Footer -->\\r\\n\\t\\t\\t\\r\\n</div>\\r\\n\\r\\n\\r\\n</body>\\r\\n</html>\\t'"
      ]
     },
     "execution_count": 45,
     "metadata": {},
     "output_type": "execute_result"
    }
   ],
   "source": [
    "res.text"
   ]
  },
  {
   "cell_type": "code",
   "execution_count": 46,
   "id": "a7ff3815",
   "metadata": {},
   "outputs": [],
   "source": [
    "#bs 객체화\n",
    "#bs(페이지정보,'parsing방법')\n",
    "soup=bs(res.text,'lxml')"
   ]
  },
  {
   "cell_type": "code",
   "execution_count": 47,
   "id": "6121acaa",
   "metadata": {},
   "outputs": [],
   "source": [
    "#양화 제목,평점 수집하기\n",
    "point=soup.select('.point')"
   ]
  },
  {
   "cell_type": "code",
   "execution_count": 78,
   "id": "d6488e0a",
   "metadata": {},
   "outputs": [],
   "source": [
    "moviename=soup.select('.tit5>a')"
   ]
  },
  {
   "cell_type": "code",
   "execution_count": 79,
   "id": "1554c936",
   "metadata": {},
   "outputs": [
    {
     "data": {
      "text/plain": [
       "37"
      ]
     },
     "execution_count": 79,
     "metadata": {},
     "output_type": "execute_result"
    }
   ],
   "source": [
    "len(soup.select('.tit5'))"
   ]
  },
  {
   "cell_type": "code",
   "execution_count": 68,
   "id": "88200139",
   "metadata": {
    "collapsed": true
   },
   "outputs": [
    {
     "name": "stdout",
     "output_type": "stream",
     "text": [
      "9.77\n",
      "9.74\n",
      "9.47\n",
      "9.23\n",
      "9.21\n",
      "9.14\n",
      "8.90\n",
      "8.89\n",
      "8.83\n",
      "8.81\n",
      "8.81\n",
      "8.76\n",
      "8.73\n",
      "8.68\n",
      "8.67\n",
      "8.65\n",
      "8.63\n",
      "8.62\n",
      "8.57\n",
      "8.43\n",
      "8.36\n",
      "8.33\n",
      "8.32\n",
      "8.31\n",
      "8.30\n",
      "8.18\n",
      "8.12\n",
      "7.96\n",
      "7.78\n",
      "7.71\n",
      "7.69\n",
      "7.61\n",
      "7.54\n",
      "6.77\n",
      "6.51\n",
      "5.54\n",
      "4.33\n"
     ]
    }
   ],
   "source": [
    "for i in soup.select('.point') :\n",
    "    print(i.text)"
   ]
  },
  {
   "cell_type": "code",
   "execution_count": 86,
   "id": "3244ecab",
   "metadata": {
    "collapsed": true
   },
   "outputs": [
    {
     "name": "stdout",
     "output_type": "stream",
     "text": [
      "탑건: 매버릭\n",
      "인생은 뷰티풀: 비타돌체\n",
      "명탐정 코난: 할로윈의 신부\n",
      "극장판 주술회전 0\n",
      "사랑은 비를 타고\n",
      "코다\n",
      "1917\n",
      "중경삼림\n",
      "엘비스\n",
      "고양이를 부탁해\n",
      "너의 이름은.\n",
      "한산: 용의 출현\n",
      "본 투 비 블루\n",
      "헤어질 결심\n",
      "공조2: 인터내셔날\n",
      "지금, 이대로가 좋아요\n",
      "육사오(6/45)\n",
      "라라랜드\n",
      "실버라이닝 플레이북\n",
      "헌트\n",
      "초속5센티미터\n",
      "큐어\n",
      "비비안 마이어를 찾아서\n",
      "리스본행 야간열차\n",
      "킬 빌 - 1부\n",
      "애프터 양\n",
      "릴리 슈슈의 모든 것\n",
      "날씨의 아이\n",
      "DC 리그 오브 슈퍼-펫\n",
      "사랑할 땐 누구나 최악이 된다\n",
      "블랙폰\n",
      "킬 빌 - 2부\n",
      "썸머 필름을 타고!\n",
      "놉\n",
      "비상선언\n",
      "브로커\n",
      "늑대사냥\n"
     ]
    }
   ],
   "source": [
    "for i in soup.select('.tit5>a') :\n",
    "    print(i.text)"
   ]
  },
  {
   "cell_type": "code",
   "execution_count": 75,
   "id": "bc753c11",
   "metadata": {
    "scrolled": true
   },
   "outputs": [
    {
     "data": {
      "text/plain": [
       "37"
      ]
     },
     "execution_count": 75,
     "metadata": {},
     "output_type": "execute_result"
    }
   ],
   "source": [
    "len(soup.select('.tit5'))"
   ]
  },
  {
   "cell_type": "code",
   "execution_count": 80,
   "id": "16c91eee",
   "metadata": {},
   "outputs": [],
   "source": [
    "point_list=[]\n",
    "moviename_list=[]\n",
    "rank_list=[]\n",
    "\n",
    "for i in range(len(point)):\n",
    "    point_list.append(point[i].text)\n",
    "    moviename_list.append(moviename[i].text)\n",
    "    rank_list.append(i+1)"
   ]
  },
  {
   "cell_type": "code",
   "execution_count": 81,
   "id": "ff704c44",
   "metadata": {},
   "outputs": [],
   "source": [
    "dic={'영화제목':moviename_list,'평점':point_list,'순위':rank_list}"
   ]
  },
  {
   "cell_type": "code",
   "execution_count": 82,
   "id": "d4014966",
   "metadata": {},
   "outputs": [],
   "source": [
    "movie=pd.DataFrame(dic)"
   ]
  },
  {
   "cell_type": "code",
   "execution_count": 83,
   "id": "b57b3bea",
   "metadata": {},
   "outputs": [],
   "source": [
    "movie.set_index('순위',inplace=True)"
   ]
  },
  {
   "cell_type": "code",
   "execution_count": 84,
   "id": "d29fada7",
   "metadata": {},
   "outputs": [
    {
     "data": {
      "text/html": [
       "<div>\n",
       "<style scoped>\n",
       "    .dataframe tbody tr th:only-of-type {\n",
       "        vertical-align: middle;\n",
       "    }\n",
       "\n",
       "    .dataframe tbody tr th {\n",
       "        vertical-align: top;\n",
       "    }\n",
       "\n",
       "    .dataframe thead th {\n",
       "        text-align: right;\n",
       "    }\n",
       "</style>\n",
       "<table border=\"1\" class=\"dataframe\">\n",
       "  <thead>\n",
       "    <tr style=\"text-align: right;\">\n",
       "      <th></th>\n",
       "      <th>영화제목</th>\n",
       "      <th>평점</th>\n",
       "    </tr>\n",
       "    <tr>\n",
       "      <th>순위</th>\n",
       "      <th></th>\n",
       "      <th></th>\n",
       "    </tr>\n",
       "  </thead>\n",
       "  <tbody>\n",
       "    <tr>\n",
       "      <th>1</th>\n",
       "      <td>탑건: 매버릭</td>\n",
       "      <td>9.77</td>\n",
       "    </tr>\n",
       "    <tr>\n",
       "      <th>2</th>\n",
       "      <td>인생은 뷰티풀: 비타돌체</td>\n",
       "      <td>9.74</td>\n",
       "    </tr>\n",
       "    <tr>\n",
       "      <th>3</th>\n",
       "      <td>명탐정 코난: 할로윈의 신부</td>\n",
       "      <td>9.47</td>\n",
       "    </tr>\n",
       "    <tr>\n",
       "      <th>4</th>\n",
       "      <td>극장판 주술회전 0</td>\n",
       "      <td>9.23</td>\n",
       "    </tr>\n",
       "    <tr>\n",
       "      <th>5</th>\n",
       "      <td>사랑은 비를 타고</td>\n",
       "      <td>9.21</td>\n",
       "    </tr>\n",
       "    <tr>\n",
       "      <th>6</th>\n",
       "      <td>코다</td>\n",
       "      <td>9.14</td>\n",
       "    </tr>\n",
       "    <tr>\n",
       "      <th>7</th>\n",
       "      <td>1917</td>\n",
       "      <td>8.90</td>\n",
       "    </tr>\n",
       "    <tr>\n",
       "      <th>8</th>\n",
       "      <td>중경삼림</td>\n",
       "      <td>8.89</td>\n",
       "    </tr>\n",
       "    <tr>\n",
       "      <th>9</th>\n",
       "      <td>엘비스</td>\n",
       "      <td>8.83</td>\n",
       "    </tr>\n",
       "    <tr>\n",
       "      <th>10</th>\n",
       "      <td>고양이를 부탁해</td>\n",
       "      <td>8.81</td>\n",
       "    </tr>\n",
       "    <tr>\n",
       "      <th>11</th>\n",
       "      <td>너의 이름은.</td>\n",
       "      <td>8.81</td>\n",
       "    </tr>\n",
       "    <tr>\n",
       "      <th>12</th>\n",
       "      <td>한산: 용의 출현</td>\n",
       "      <td>8.76</td>\n",
       "    </tr>\n",
       "    <tr>\n",
       "      <th>13</th>\n",
       "      <td>본 투 비 블루</td>\n",
       "      <td>8.73</td>\n",
       "    </tr>\n",
       "    <tr>\n",
       "      <th>14</th>\n",
       "      <td>헤어질 결심</td>\n",
       "      <td>8.68</td>\n",
       "    </tr>\n",
       "    <tr>\n",
       "      <th>15</th>\n",
       "      <td>공조2: 인터내셔날</td>\n",
       "      <td>8.67</td>\n",
       "    </tr>\n",
       "    <tr>\n",
       "      <th>16</th>\n",
       "      <td>지금, 이대로가 좋아요</td>\n",
       "      <td>8.65</td>\n",
       "    </tr>\n",
       "    <tr>\n",
       "      <th>17</th>\n",
       "      <td>육사오(6/45)</td>\n",
       "      <td>8.63</td>\n",
       "    </tr>\n",
       "    <tr>\n",
       "      <th>18</th>\n",
       "      <td>라라랜드</td>\n",
       "      <td>8.62</td>\n",
       "    </tr>\n",
       "    <tr>\n",
       "      <th>19</th>\n",
       "      <td>실버라이닝 플레이북</td>\n",
       "      <td>8.57</td>\n",
       "    </tr>\n",
       "    <tr>\n",
       "      <th>20</th>\n",
       "      <td>헌트</td>\n",
       "      <td>8.43</td>\n",
       "    </tr>\n",
       "    <tr>\n",
       "      <th>21</th>\n",
       "      <td>초속5센티미터</td>\n",
       "      <td>8.36</td>\n",
       "    </tr>\n",
       "    <tr>\n",
       "      <th>22</th>\n",
       "      <td>큐어</td>\n",
       "      <td>8.33</td>\n",
       "    </tr>\n",
       "    <tr>\n",
       "      <th>23</th>\n",
       "      <td>비비안 마이어를 찾아서</td>\n",
       "      <td>8.32</td>\n",
       "    </tr>\n",
       "    <tr>\n",
       "      <th>24</th>\n",
       "      <td>리스본행 야간열차</td>\n",
       "      <td>8.31</td>\n",
       "    </tr>\n",
       "    <tr>\n",
       "      <th>25</th>\n",
       "      <td>킬 빌 - 1부</td>\n",
       "      <td>8.30</td>\n",
       "    </tr>\n",
       "    <tr>\n",
       "      <th>26</th>\n",
       "      <td>애프터 양</td>\n",
       "      <td>8.18</td>\n",
       "    </tr>\n",
       "    <tr>\n",
       "      <th>27</th>\n",
       "      <td>릴리 슈슈의 모든 것</td>\n",
       "      <td>8.12</td>\n",
       "    </tr>\n",
       "    <tr>\n",
       "      <th>28</th>\n",
       "      <td>날씨의 아이</td>\n",
       "      <td>7.96</td>\n",
       "    </tr>\n",
       "    <tr>\n",
       "      <th>29</th>\n",
       "      <td>DC 리그 오브 슈퍼-펫</td>\n",
       "      <td>7.78</td>\n",
       "    </tr>\n",
       "    <tr>\n",
       "      <th>30</th>\n",
       "      <td>사랑할 땐 누구나 최악이 된다</td>\n",
       "      <td>7.71</td>\n",
       "    </tr>\n",
       "    <tr>\n",
       "      <th>31</th>\n",
       "      <td>블랙폰</td>\n",
       "      <td>7.69</td>\n",
       "    </tr>\n",
       "    <tr>\n",
       "      <th>32</th>\n",
       "      <td>킬 빌 - 2부</td>\n",
       "      <td>7.61</td>\n",
       "    </tr>\n",
       "    <tr>\n",
       "      <th>33</th>\n",
       "      <td>썸머 필름을 타고!</td>\n",
       "      <td>7.54</td>\n",
       "    </tr>\n",
       "    <tr>\n",
       "      <th>34</th>\n",
       "      <td>놉</td>\n",
       "      <td>6.77</td>\n",
       "    </tr>\n",
       "    <tr>\n",
       "      <th>35</th>\n",
       "      <td>비상선언</td>\n",
       "      <td>6.51</td>\n",
       "    </tr>\n",
       "    <tr>\n",
       "      <th>36</th>\n",
       "      <td>브로커</td>\n",
       "      <td>5.54</td>\n",
       "    </tr>\n",
       "    <tr>\n",
       "      <th>37</th>\n",
       "      <td>늑대사냥</td>\n",
       "      <td>4.33</td>\n",
       "    </tr>\n",
       "  </tbody>\n",
       "</table>\n",
       "</div>"
      ],
      "text/plain": [
       "                영화제목    평점\n",
       "순위                        \n",
       "1            탑건: 매버릭  9.77\n",
       "2      인생은 뷰티풀: 비타돌체  9.74\n",
       "3    명탐정 코난: 할로윈의 신부  9.47\n",
       "4         극장판 주술회전 0  9.23\n",
       "5          사랑은 비를 타고  9.21\n",
       "6                 코다  9.14\n",
       "7               1917  8.90\n",
       "8               중경삼림  8.89\n",
       "9                엘비스  8.83\n",
       "10          고양이를 부탁해  8.81\n",
       "11           너의 이름은.  8.81\n",
       "12         한산: 용의 출현  8.76\n",
       "13          본 투 비 블루  8.73\n",
       "14            헤어질 결심  8.68\n",
       "15        공조2: 인터내셔날  8.67\n",
       "16      지금, 이대로가 좋아요  8.65\n",
       "17         육사오(6/45)  8.63\n",
       "18              라라랜드  8.62\n",
       "19        실버라이닝 플레이북  8.57\n",
       "20                헌트  8.43\n",
       "21           초속5센티미터  8.36\n",
       "22                큐어  8.33\n",
       "23      비비안 마이어를 찾아서  8.32\n",
       "24         리스본행 야간열차  8.31\n",
       "25          킬 빌 - 1부  8.30\n",
       "26             애프터 양  8.18\n",
       "27       릴리 슈슈의 모든 것  8.12\n",
       "28            날씨의 아이  7.96\n",
       "29     DC 리그 오브 슈퍼-펫  7.78\n",
       "30  사랑할 땐 누구나 최악이 된다  7.71\n",
       "31               블랙폰  7.69\n",
       "32          킬 빌 - 2부  7.61\n",
       "33        썸머 필름을 타고!  7.54\n",
       "34                 놉  6.77\n",
       "35              비상선언  6.51\n",
       "36               브로커  5.54\n",
       "37              늑대사냥  4.33"
      ]
     },
     "execution_count": 84,
     "metadata": {},
     "output_type": "execute_result"
    }
   ],
   "source": [
    "movie"
   ]
  },
  {
   "cell_type": "code",
   "execution_count": 87,
   "id": "45b4013f",
   "metadata": {},
   "outputs": [],
   "source": [
    "movie.to_csv(\"영화순위.csv\",encoding='CP949')"
   ]
  },
  {
   "cell_type": "code",
   "execution_count": 88,
   "id": "cd52e310",
   "metadata": {},
   "outputs": [],
   "source": [
    "#한글을 파일로 저장할때는 인코딩필수\n",
    "#인코딩하는 방법 euc-kr utf-8 utf-8-sig ''"
   ]
  },
  {
   "cell_type": "code",
   "execution_count": null,
   "id": "e05838a4",
   "metadata": {},
   "outputs": [],
   "source": []
  }
 ],
 "metadata": {
  "kernelspec": {
   "display_name": "Python 3 (ipykernel)",
   "language": "python",
   "name": "python3"
  },
  "language_info": {
   "codemirror_mode": {
    "name": "ipython",
    "version": 3
   },
   "file_extension": ".py",
   "mimetype": "text/x-python",
   "name": "python",
   "nbconvert_exporter": "python",
   "pygments_lexer": "ipython3",
   "version": "3.9.12"
  }
 },
 "nbformat": 4,
 "nbformat_minor": 5
}
