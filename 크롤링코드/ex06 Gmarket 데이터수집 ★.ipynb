{
 "cells": [
  {
   "cell_type": "code",
   "execution_count": 3,
   "id": "125ac697",
   "metadata": {},
   "outputs": [],
   "source": [
    "from selenium import webdriver as wb\n",
    "from selenium.webdriver.common.by import By\n",
    "#컴퓨터에게 시간을 부여할 때 사용\n",
    "import time\n",
    "from tqdm import tqdm_notebook as tq\n",
    "import pandas as pd"
   ]
  },
  {
   "cell_type": "code",
   "execution_count": 4,
   "id": "37e58191",
   "metadata": {},
   "outputs": [],
   "source": [
    "driver=wb.Chrome()\n",
    "driver.get('https://corners.gmarket.co.kr/Bestsellers')"
   ]
  },
  {
   "cell_type": "code",
   "execution_count": 6,
   "id": "31d82148",
   "metadata": {},
   "outputs": [],
   "source": [
    "#1. 첫번째 상품의 이미지를 클릭\n",
    "imgs=driver.find_elements(By.CLASS_NAME,'lazy')"
   ]
  },
  {
   "cell_type": "code",
   "execution_count": 7,
   "id": "53f7752c",
   "metadata": {},
   "outputs": [],
   "source": [
    "imgs[0].click()"
   ]
  },
  {
   "cell_type": "code",
   "execution_count": 10,
   "id": "144597da",
   "metadata": {},
   "outputs": [],
   "source": [
    "#2. 상품의 이름을 수집\n",
    "title=driver.find_element(By.CLASS_NAME,'itemtit')"
   ]
  },
  {
   "cell_type": "code",
   "execution_count": 15,
   "id": "cd41dd31",
   "metadata": {},
   "outputs": [
    {
     "data": {
      "text/plain": [
       "'(신세계강남점) 네파 C-TR 데이브 보아 플리스 자켓 7H76161 7H86161'"
      ]
     },
     "execution_count": 15,
     "metadata": {},
     "output_type": "execute_result"
    }
   ],
   "source": [
    "title.text"
   ]
  },
  {
   "cell_type": "code",
   "execution_count": 20,
   "id": "fdf8f336",
   "metadata": {},
   "outputs": [],
   "source": [
    "price=driver.find_element(By.CLASS_NAME,'price_real')"
   ]
  },
  {
   "cell_type": "code",
   "execution_count": 21,
   "id": "32cf1e52",
   "metadata": {},
   "outputs": [
    {
     "data": {
      "text/plain": [
       "'36,340원'"
      ]
     },
     "execution_count": 21,
     "metadata": {},
     "output_type": "execute_result"
    }
   ],
   "source": [
    "price.text"
   ]
  },
  {
   "cell_type": "code",
   "execution_count": 22,
   "id": "108a0dbd",
   "metadata": {},
   "outputs": [],
   "source": [
    "#4. 페이지 뒤로가기\n",
    "driver.back()"
   ]
  },
  {
   "cell_type": "code",
   "execution_count": 5,
   "id": "8077f5de",
   "metadata": {},
   "outputs": [
    {
     "name": "stderr",
     "output_type": "stream",
     "text": [
      "C:\\Users\\smhrd\\AppData\\Local\\Temp\\ipykernel_7436\\3062219866.py:7: TqdmDeprecationWarning: This function will be removed in tqdm==5.0.0\n",
      "Please use `tqdm.notebook.tqdm` instead of `tqdm.tqdm_notebook`\n",
      "  for i in tq(range(10)):\n"
     ]
    },
    {
     "data": {
      "application/vnd.jupyter.widget-view+json": {
       "model_id": "30921e4b87bc4057a987ad0b901c765e",
       "version_major": 2,
       "version_minor": 0
      },
      "text/plain": [
       "  0%|          | 0/10 [00:00<?, ?it/s]"
      ]
     },
     "metadata": {},
     "output_type": "display_data"
    }
   ],
   "source": [
    "\n",
    "# 상품 1번~10번까지 수집\n",
    "# 데이터를 활용하기 위해서 비어있는 리스트에 글자정보만 담아주기\n",
    "# 최종적으로 수집된 데이터를 활용해서 데이터 프레임을 제작\n",
    "title_list=[]\n",
    "price_list=[]\n",
    "rank_list=[]\n",
    "for i in tq(range(10)):\n",
    "    imgs=driver.find_elements(By.CLASS_NAME,'lazy')\n",
    "    imgs[i].click()\n",
    "    #time.sleep(몇초) = 코드 중간중간에 쉬는시간을 부여\n",
    "    #서버에게 부담을 주지 않기 위해서\n",
    "    #화면에 전환이 있었을때는 항상 넣어주자(클라이언트 서버가 통신할때)\n",
    "    #무조건 내가 지정한 시간만큼 멈춘다\n",
    "    time.sleep(1)\n",
    "    #암묵적인 쉬는시간\n",
    "    # html파일을 다 받아오면 정해진 시간을 다 소비하는게 아니고 중간에라도 다음로직을 실행\n",
    "    #driver.implicitly_wait(10)\n",
    "    title=driver.find_element(By.CLASS_NAME,'itemtit')\n",
    "    title_list.append(title.text)\n",
    "    price=driver.find_element(By.CLASS_NAME,'price_real')\n",
    "    price_list.append(price.text)\n",
    "    rank_list.append(i+1)\n",
    "    driver.back()\n",
    "    time.sleep(1)\n",
    "    "
   ]
  },
  {
   "cell_type": "code",
   "execution_count": 6,
   "id": "4fb05c93",
   "metadata": {},
   "outputs": [],
   "source": [
    "dic={\"제품정보\":title_list,\"가격정보\":price_list,'순위':rank_list}"
   ]
  },
  {
   "cell_type": "code",
   "execution_count": 7,
   "id": "aac0fed2",
   "metadata": {},
   "outputs": [],
   "source": [
    "gmarket=pd.DataFrame(dic)"
   ]
  },
  {
   "cell_type": "code",
   "execution_count": 8,
   "id": "95ddb70f",
   "metadata": {},
   "outputs": [],
   "source": [
    "gmarket.set_index('순위',inplace=True)"
   ]
  },
  {
   "cell_type": "code",
   "execution_count": 10,
   "id": "e4fd544c",
   "metadata": {},
   "outputs": [],
   "source": [
    "gmarket.to_csv('gmarket.csv',encoding='CP949')"
   ]
  },
  {
   "cell_type": "code",
   "execution_count": null,
   "id": "b712b7c7",
   "metadata": {},
   "outputs": [],
   "source": []
  }
 ],
 "metadata": {
  "kernelspec": {
   "display_name": "Python 3 (ipykernel)",
   "language": "python",
   "name": "python3"
  },
  "language_info": {
   "codemirror_mode": {
    "name": "ipython",
    "version": 3
   },
   "file_extension": ".py",
   "mimetype": "text/x-python",
   "name": "python",
   "nbconvert_exporter": "python",
   "pygments_lexer": "ipython3",
   "version": "3.9.12"
  }
 },
 "nbformat": 4,
 "nbformat_minor": 5
}
