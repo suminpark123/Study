{
 "cells": [
  {
   "cell_type": "markdown",
   "id": "a779a814",
   "metadata": {},
   "source": [
    "# 선택자 한번에 복사해오는법\n",
    "- f12 개발자 도구에서 원하는 요소를 찾기\n",
    "- 마우스 우클릭 > copy selector \n",
    "- [주의점]\n",
    "- 1.copyselector는 내가 선택한 요소 딱 한개만 가지고오는 방법\n",
    "- 2. 복수개의 데이터가 필요한 경우에는 수정이 필요\n",
    "- ex) nth-child(3)>a= 3번째 자식의 a태그만 가지고 온다. 그래서 li>a라고 수정하면 모든 a를 가지고 올 수 있다.\n"
   ]
  },
  {
   "cell_type": "code",
   "execution_count": 1,
   "id": "713e7e40",
   "metadata": {},
   "outputs": [],
   "source": [
    "from selenium import webdriver as wb\n",
    "from selenium.webdriver.common.by import By\n",
    "import time\n",
    "from tqdm import tqdm_notebook as tq\n",
    "import pandas as pd\n",
    "from selenium.webdriver.common.keys import Keys"
   ]
  },
  {
   "cell_type": "code",
   "execution_count": 2,
   "id": "f9acb201",
   "metadata": {},
   "outputs": [],
   "source": [
    "# 1. 크롬창을 실행해서 한솥메뉴사이트로 이동\n",
    "# 2. 상품의 이름,가격을 수집\n",
    "driver=wb.Chrome()\n",
    "driver.get('https://www.hsd.co.kr/menu/menu_list')"
   ]
  },
  {
   "cell_type": "code",
   "execution_count": 39,
   "id": "ae4daadc",
   "metadata": {},
   "outputs": [],
   "source": [
    "text=driver.find_elements(By.CLASS_NAME,'h.fz_03')"
   ]
  },
  {
   "cell_type": "code",
   "execution_count": 37,
   "id": "c9651d29",
   "metadata": {},
   "outputs": [],
   "source": [
    "price=driver.find_elements(By.CSS_SELECTOR,\".item-price>strong\")"
   ]
  },
  {
   "cell_type": "code",
   "execution_count": 40,
   "id": "e2f3a59e",
   "metadata": {},
   "outputs": [
    {
     "name": "stdout",
     "output_type": "stream",
     "text": [
      "더블함박\n",
      "해바라기\n",
      "데미햄버그 불고기 파스타\n",
      "데미햄버그 불고기 덮밥\n",
      "핫 치즈 닭갈비덮밥\n",
      "오리지널 치즈 닭갈비덮밥\n",
      "매화(순살 고등어 간장구이)\n",
      "진달래\n",
      "개나리(순살 고등어 간장구이)\n",
      "돈까스도련님고기고기\n",
      "탕수육도련님고기고기\n",
      "새치 고기고기\n",
      "돈치 고기고기\n",
      "오븐구이 오리도시락\n",
      "숯불직화구이\n",
      "소불고기\n",
      "메가치킨제육\n",
      "칠리 찹쌀탕수육도련님\n",
      "동백\n",
      "치킨제육\n",
      "돈까스도련님\n",
      "제육볶음\n",
      "돈치스팸 도시락\n",
      "제육 김치찌개 정식\n",
      "제육 김치 부대찌개 정식\n",
      "돈치스팸 김치 부대찌개 정식\n",
      "빅치킨마요 김치 부대찌개 정식\n",
      "치킨마요 김치 부대찌개 정식\n",
      "빅치킨마요 김치찌개 정식\n",
      "치킨마요 김치찌개 정식\n",
      "메가스팸마요\n",
      "스팸마요\n",
      "메가치킨마요\n",
      "왕치킨마요\n",
      "빅치킨마요\n",
      "치킨마요\n",
      "참치마요\n",
      "돈치마요\n",
      "돈까스 카레\n",
      "스팸 김치볶음밥\n",
      "김치볶음밥\n",
      "스팸철판볶음밥\n",
      "소불고기 철판볶음밥\n",
      "나시고랭\n",
      "묵은지 김치찌개\n",
      "김치 부대찌개\n",
      "숯불직화구이 덮밥\n",
      "마파두부 덮밥\n",
      "왕카레돈까스덮밥\n",
      "새우돈까스 덮밥\n",
      "돈까스 덮밥\n",
      "소불고기 감초고추장 비빔밥\n",
      "시골제육 두부강된장 비빔밥\n",
      "참치야채 감초고추장\n",
      "튼튼도시락\n",
      "토네이도 소세지 파스타\n",
      "트리플 치즈 파스타\n",
      "토마토 미트 파스타\n",
      "반찬 계란말이\n",
      "반찬 묵은지김치찌개\n",
      "반찬 카레\n",
      "반찬 순살 고등어데리야끼\n",
      "반찬 김치 부대찌개\n",
      "반찬 치킨\n",
      "반찬 고기고기\n",
      "반찬 돈까스 도련님\n",
      "반찬 제육볶음\n",
      "반찬 토네이도 소세지\n",
      "반찬 반달돈까스\n",
      "뉴 감자고로케\n",
      "미니 찹쌀핫도그\n",
      "미니 찹쌀탕수육\n",
      "케이준후라이\n",
      "후라이드 순살(소)_스리라차마요소스\n",
      "후라이드 순살(중)\n",
      "후라이드 순살(소)_양념치킨소스\n",
      "후라이드 순살(소)_케이준소스\n",
      "오리지널 닭강정(중)\n",
      "오리지널 닭강정(소)\n",
      "오징어젓갈\n",
      "한솥 두부강된장소스\n",
      "한솥 감초볶음고추장소스\n",
      "볶음김치\n",
      "김치\n",
      "무말랭이 무침\n",
      "한솥밥\n",
      "현미밥\n",
      "리얼 티라미수 찰떡\n",
      "리얼꿀 미니호떡\n"
     ]
    }
   ],
   "source": [
    "#상품명을 수집\n",
    "# class_name을 사용하는 경우에는 클래스가 복수개라면 뒤에 나오는 값들은 .으로 표시\n",
    "for i in text:\n",
    "    print(i.text)"
   ]
  },
  {
   "cell_type": "code",
   "execution_count": 38,
   "id": "7a0e0b3b",
   "metadata": {},
   "outputs": [
    {
     "name": "stdout",
     "output_type": "stream",
     "text": [
      "6,700\n",
      "10,000\n",
      "5,200\n",
      "4,800\n",
      "5,900\n",
      "5,900\n",
      "10,000\n",
      "7,500\n",
      "8,500\n",
      "6,000\n",
      "5,800\n",
      "6,700\n",
      "5,800\n",
      "6,900\n",
      "6,500\n",
      "5,400\n",
      "7,000\n",
      "4,200\n",
      "5,800\n",
      "4,700\n",
      "4,500\n",
      "4,200\n",
      "4,900\n",
      "8,200\n",
      "8,500\n",
      "8,500\n",
      "7,500\n",
      "6,900\n",
      "7,000\n",
      "6,500\n",
      "5,600\n",
      "3,700\n",
      "5,800\n",
      "4,800\n",
      "4,100\n",
      "3,500\n",
      "3,200\n",
      "3,800\n",
      "4,500\n",
      "4,700\n",
      "3,900\n",
      "4,500\n",
      "4,700\n",
      "6,000\n",
      "4,500\n",
      "5,800\n",
      "5,900\n",
      "5,000\n",
      "5,900\n",
      "4,100\n",
      "4,000\n",
      "5,200\n",
      "5,000\n",
      "3,300\n",
      "5,000\n",
      "5,500\n",
      "5,500\n",
      "4,500\n",
      "2,500\n",
      "4,000\n",
      "2,800\n",
      "3,900\n",
      "4,500\n",
      "3,600\n",
      "3,400\n",
      "3,800\n",
      "3,200\n",
      "2,600\n",
      "2,800\n",
      "2,700\n",
      "2,500\n",
      "2,200\n",
      "1,700\n",
      "4,000\n",
      "7,500\n",
      "4,000\n",
      "4,000\n",
      "8,000\n",
      "3,400\n",
      "500\n",
      "1,800\n",
      "500\n",
      "500\n",
      "400\n",
      "400\n",
      "1,000\n",
      "1,700\n",
      "1,500\n",
      "2,200\n"
     ]
    }
   ],
   "source": [
    "for i in price:\n",
    "    print(i.text)"
   ]
  },
  {
   "cell_type": "code",
   "execution_count": 27,
   "id": "22f7d22d",
   "metadata": {},
   "outputs": [],
   "source": [
    "#더보기 클릭하기\n",
    "btn=driver.find_element(By.CLASS_NAME,\"c_05\")"
   ]
  },
  {
   "cell_type": "code",
   "execution_count": 28,
   "id": "34ad41cb",
   "metadata": {},
   "outputs": [],
   "source": [
    "btn.click()"
   ]
  },
  {
   "cell_type": "code",
   "execution_count": 29,
   "id": "b3897129",
   "metadata": {},
   "outputs": [
    {
     "ename": "ElementNotInteractableException",
     "evalue": "Message: element not interactable\n  (Session info: chrome=106.0.5249.91)\nStacktrace:\nBacktrace:\n\tOrdinal0 [0x00B41ED3+2236115]\n\tOrdinal0 [0x00AD92F1+1807089]\n\tOrdinal0 [0x009E65C0+812480]\n\tOrdinal0 [0x00A16586+1009030]\n\tOrdinal0 [0x00A0C416+967702]\n\tOrdinal0 [0x00A31A8C+1120908]\n\tOrdinal0 [0x00A0BD84+966020]\n\tOrdinal0 [0x00A31CA4+1121444]\n\tOrdinal0 [0x00A459E2+1202658]\n\tOrdinal0 [0x00A318A6+1120422]\n\tOrdinal0 [0x00A0A73D+960317]\n\tOrdinal0 [0x00A0B71F+964383]\n\tGetHandleVerifier [0x00DEE7E2+2743074]\n\tGetHandleVerifier [0x00DE08D4+2685972]\n\tGetHandleVerifier [0x00BD2BAA+532202]\n\tGetHandleVerifier [0x00BD1990+527568]\n\tOrdinal0 [0x00AE080C+1837068]\n\tOrdinal0 [0x00AE4CD8+1854680]\n\tOrdinal0 [0x00AE4DC5+1854917]\n\tOrdinal0 [0x00AEED64+1895780]\n\tBaseThreadInitThunk [0x7628FA29+25]\n\tRtlGetAppContainerNamedObjectPath [0x779F7B5E+286]\n\tRtlGetAppContainerNamedObjectPath [0x779F7B2E+238]\n",
     "output_type": "error",
     "traceback": [
      "\u001b[1;31m---------------------------------------------------------------------------\u001b[0m",
      "\u001b[1;31mElementNotInteractableException\u001b[0m           Traceback (most recent call last)",
      "Input \u001b[1;32mIn [29]\u001b[0m, in \u001b[0;36m<cell line: 3>\u001b[1;34m()\u001b[0m\n\u001b[0;32m      2\u001b[0m \u001b[38;5;28;01mwhile\u001b[39;00m \u001b[38;5;28;01mTrue\u001b[39;00m:\n\u001b[0;32m      3\u001b[0m     btn\u001b[38;5;241m=\u001b[39mdriver\u001b[38;5;241m.\u001b[39mfind_element(By\u001b[38;5;241m.\u001b[39mCLASS_NAME,\u001b[38;5;124m\"\u001b[39m\u001b[38;5;124mc_05\u001b[39m\u001b[38;5;124m\"\u001b[39m)\n\u001b[1;32m----> 4\u001b[0m     \u001b[43mbtn\u001b[49m\u001b[38;5;241;43m.\u001b[39;49m\u001b[43mclick\u001b[49m\u001b[43m(\u001b[49m\u001b[43m)\u001b[49m\n\u001b[0;32m      5\u001b[0m     time\u001b[38;5;241m.\u001b[39msleep(\u001b[38;5;241m0.5\u001b[39m)\n",
      "File \u001b[1;32m~\\anaconda3\\lib\\site-packages\\selenium\\webdriver\\remote\\webelement.py:88\u001b[0m, in \u001b[0;36mWebElement.click\u001b[1;34m(self)\u001b[0m\n\u001b[0;32m     86\u001b[0m \u001b[38;5;28;01mdef\u001b[39;00m \u001b[38;5;21mclick\u001b[39m(\u001b[38;5;28mself\u001b[39m) \u001b[38;5;241m-\u001b[39m\u001b[38;5;241m>\u001b[39m \u001b[38;5;28;01mNone\u001b[39;00m:\n\u001b[0;32m     87\u001b[0m     \u001b[38;5;124;03m\"\"\"Clicks the element.\"\"\"\u001b[39;00m\n\u001b[1;32m---> 88\u001b[0m     \u001b[38;5;28;43mself\u001b[39;49m\u001b[38;5;241;43m.\u001b[39;49m\u001b[43m_execute\u001b[49m\u001b[43m(\u001b[49m\u001b[43mCommand\u001b[49m\u001b[38;5;241;43m.\u001b[39;49m\u001b[43mCLICK_ELEMENT\u001b[49m\u001b[43m)\u001b[49m\n",
      "File \u001b[1;32m~\\anaconda3\\lib\\site-packages\\selenium\\webdriver\\remote\\webelement.py:396\u001b[0m, in \u001b[0;36mWebElement._execute\u001b[1;34m(self, command, params)\u001b[0m\n\u001b[0;32m    394\u001b[0m     params \u001b[38;5;241m=\u001b[39m {}\n\u001b[0;32m    395\u001b[0m params[\u001b[38;5;124m'\u001b[39m\u001b[38;5;124mid\u001b[39m\u001b[38;5;124m'\u001b[39m] \u001b[38;5;241m=\u001b[39m \u001b[38;5;28mself\u001b[39m\u001b[38;5;241m.\u001b[39m_id\n\u001b[1;32m--> 396\u001b[0m \u001b[38;5;28;01mreturn\u001b[39;00m \u001b[38;5;28;43mself\u001b[39;49m\u001b[38;5;241;43m.\u001b[39;49m\u001b[43m_parent\u001b[49m\u001b[38;5;241;43m.\u001b[39;49m\u001b[43mexecute\u001b[49m\u001b[43m(\u001b[49m\u001b[43mcommand\u001b[49m\u001b[43m,\u001b[49m\u001b[43m \u001b[49m\u001b[43mparams\u001b[49m\u001b[43m)\u001b[49m\n",
      "File \u001b[1;32m~\\anaconda3\\lib\\site-packages\\selenium\\webdriver\\remote\\webdriver.py:429\u001b[0m, in \u001b[0;36mWebDriver.execute\u001b[1;34m(self, driver_command, params)\u001b[0m\n\u001b[0;32m    427\u001b[0m response \u001b[38;5;241m=\u001b[39m \u001b[38;5;28mself\u001b[39m\u001b[38;5;241m.\u001b[39mcommand_executor\u001b[38;5;241m.\u001b[39mexecute(driver_command, params)\n\u001b[0;32m    428\u001b[0m \u001b[38;5;28;01mif\u001b[39;00m response:\n\u001b[1;32m--> 429\u001b[0m     \u001b[38;5;28;43mself\u001b[39;49m\u001b[38;5;241;43m.\u001b[39;49m\u001b[43merror_handler\u001b[49m\u001b[38;5;241;43m.\u001b[39;49m\u001b[43mcheck_response\u001b[49m\u001b[43m(\u001b[49m\u001b[43mresponse\u001b[49m\u001b[43m)\u001b[49m\n\u001b[0;32m    430\u001b[0m     response[\u001b[38;5;124m'\u001b[39m\u001b[38;5;124mvalue\u001b[39m\u001b[38;5;124m'\u001b[39m] \u001b[38;5;241m=\u001b[39m \u001b[38;5;28mself\u001b[39m\u001b[38;5;241m.\u001b[39m_unwrap_value(\n\u001b[0;32m    431\u001b[0m         response\u001b[38;5;241m.\u001b[39mget(\u001b[38;5;124m'\u001b[39m\u001b[38;5;124mvalue\u001b[39m\u001b[38;5;124m'\u001b[39m, \u001b[38;5;28;01mNone\u001b[39;00m))\n\u001b[0;32m    432\u001b[0m     \u001b[38;5;28;01mreturn\u001b[39;00m response\n",
      "File \u001b[1;32m~\\anaconda3\\lib\\site-packages\\selenium\\webdriver\\remote\\errorhandler.py:243\u001b[0m, in \u001b[0;36mErrorHandler.check_response\u001b[1;34m(self, response)\u001b[0m\n\u001b[0;32m    241\u001b[0m         alert_text \u001b[38;5;241m=\u001b[39m value[\u001b[38;5;124m'\u001b[39m\u001b[38;5;124malert\u001b[39m\u001b[38;5;124m'\u001b[39m]\u001b[38;5;241m.\u001b[39mget(\u001b[38;5;124m'\u001b[39m\u001b[38;5;124mtext\u001b[39m\u001b[38;5;124m'\u001b[39m)\n\u001b[0;32m    242\u001b[0m     \u001b[38;5;28;01mraise\u001b[39;00m exception_class(message, screen, stacktrace, alert_text)  \u001b[38;5;66;03m# type: ignore[call-arg]  # mypy is not smart enough here\u001b[39;00m\n\u001b[1;32m--> 243\u001b[0m \u001b[38;5;28;01mraise\u001b[39;00m exception_class(message, screen, stacktrace)\n",
      "\u001b[1;31mElementNotInteractableException\u001b[0m: Message: element not interactable\n  (Session info: chrome=106.0.5249.91)\nStacktrace:\nBacktrace:\n\tOrdinal0 [0x00B41ED3+2236115]\n\tOrdinal0 [0x00AD92F1+1807089]\n\tOrdinal0 [0x009E65C0+812480]\n\tOrdinal0 [0x00A16586+1009030]\n\tOrdinal0 [0x00A0C416+967702]\n\tOrdinal0 [0x00A31A8C+1120908]\n\tOrdinal0 [0x00A0BD84+966020]\n\tOrdinal0 [0x00A31CA4+1121444]\n\tOrdinal0 [0x00A459E2+1202658]\n\tOrdinal0 [0x00A318A6+1120422]\n\tOrdinal0 [0x00A0A73D+960317]\n\tOrdinal0 [0x00A0B71F+964383]\n\tGetHandleVerifier [0x00DEE7E2+2743074]\n\tGetHandleVerifier [0x00DE08D4+2685972]\n\tGetHandleVerifier [0x00BD2BAA+532202]\n\tGetHandleVerifier [0x00BD1990+527568]\n\tOrdinal0 [0x00AE080C+1837068]\n\tOrdinal0 [0x00AE4CD8+1854680]\n\tOrdinal0 [0x00AE4DC5+1854917]\n\tOrdinal0 [0x00AEED64+1895780]\n\tBaseThreadInitThunk [0x7628FA29+25]\n\tRtlGetAppContainerNamedObjectPath [0x779F7B5E+286]\n\tRtlGetAppContainerNamedObjectPath [0x779F7B2E+238]\n"
     ]
    }
   ],
   "source": [
    "# 더보기를 반복해서 실행\n",
    "while True:\n",
    "    btn=driver.find_element(By.CLASS_NAME,\"c_05\")\n",
    "    btn.click()\n",
    "    time.sleep(0.5)\n",
    "    "
   ]
  },
  {
   "cell_type": "markdown",
   "id": "dea84b02",
   "metadata": {},
   "source": [
    "# 예외처리\n",
    "- 오류가 나기전까지 코드를 실행하다가, 오류가 났을때 다른 코드를 실행\n",
    "- try=오류가 나기 전까지 동작할 코드를 적는 영역\n",
    "- except = 오류가 나면 실행할 코드"
   ]
  },
  {
   "cell_type": "code",
   "execution_count": 30,
   "id": "eb04a7e2",
   "metadata": {},
   "outputs": [
    {
     "name": "stdout",
     "output_type": "stream",
     "text": [
      "더보기 완료\n"
     ]
    }
   ],
   "source": [
    "try :\n",
    "    while True:\n",
    "        btn=driver.find_element(By.CLASS_NAME,\"c_05\")\n",
    "        btn.click()\n",
    "        time.sleep(0.5)\n",
    "    \n",
    "    \n",
    "except:\n",
    "    print('더보기 완료')"
   ]
  },
  {
   "cell_type": "markdown",
   "id": "90f42e4a",
   "metadata": {},
   "source": [
    "# 셀레니움을 활용한 데이터수집시 지켜야 할 것들"
   ]
  },
  {
   "cell_type": "markdown",
   "id": "419ba0fd",
   "metadata": {},
   "source": [
    "### 1. 데이터 수집하는 프로세스를 잘 지켜야한다.\n",
    "- 1.화면구성 단계=내가 수집할 데이터가 다 준비가 되게 셋팅\n",
    "- 2. 데이터 수집단계 = 구성된 화면에서 요소들을 찾는 것\n",
    "- 3. 데이터의 가공단계 = 수집된 데이터에서 사용자가 사용할 데이터만 추출(리스트에 순수 글자 정보등을 담는 행위)\n",
    "- 4. 데이터 활용단계 = 파일로 저장,DB로 저장"
   ]
  },
  {
   "cell_type": "markdown",
   "id": "fdf5162d",
   "metadata": {},
   "source": [
    "### 2. 사람처럼 코딩하자\n",
    "- 이유 : 컴퓨터는 사람보다 처리하는 속도가 매우 빠름\n",
    "- 클라이언트와 서버간의 통신이 필요할때 부하가 발생 > 부정확한 데이터 수집,코드 에러,ip차단\n",
    "- time.sleep을 잘 활용하자 > 요청이 발생할때(화면이 전환될때)\n",
    "- 사람이 되는건 가능하고 ,사람이 불가능한 행위는 컴퓨터도 불가능한다."
   ]
  },
  {
   "cell_type": "markdown",
   "id": "7bdd5655",
   "metadata": {},
   "source": [
    "# ActionChains\n",
    "- 이벤트를 묶어서 처리 할 때 사용하는 라이브러리"
   ]
  },
  {
   "cell_type": "code",
   "execution_count": 31,
   "id": "1302fb65",
   "metadata": {},
   "outputs": [],
   "source": [
    "from selenium.webdriver import ActionChains"
   ]
  },
  {
   "cell_type": "code",
   "execution_count": 75,
   "id": "ed1bd906",
   "metadata": {},
   "outputs": [],
   "source": [
    "driver=wb.Chrome()\n",
    "driver.get('https://www.hsd.co.kr/')"
   ]
  },
  {
   "cell_type": "code",
   "execution_count": 77,
   "id": "94b2f7c6",
   "metadata": {},
   "outputs": [],
   "source": [
    "#1. 메뉴탭에 마우스를 올리기\n",
    "#2. 올린 상태에서 전체메뉴 클릭\n",
    "\n",
    "menu=driver.find_element(By.CSS_SELECTOR,'#gnb > div.gnb_menu > ul > li:nth-child(3) > p > a')\n",
    "allList=driver.find_element(By.CSS_SELECTOR,'#gnb > div.gnb_menu > ul > li:nth-child(3) > div > ul > li:nth-child(1) > a')\n",
    "ActionChains(driver).move_to_element(menu).click(allList).perform()"
   ]
  },
  {
   "cell_type": "code",
   "execution_count": null,
   "id": "1b8f7f25",
   "metadata": {},
   "outputs": [],
   "source": [
    "# 한솥도시락 데이터 프레임> csv 저장까지 해보기"
   ]
  },
  {
   "cell_type": "code",
   "execution_count": 32,
   "id": "affbb2b8",
   "metadata": {},
   "outputs": [],
   "source": [
    "text_list = []\n",
    "price_list = []\n",
    "number_list = []\n",
    "for i in range(len(text)):\n",
    "    text_list.append(text[i].text)\n",
    "    price_list.append(price[i].text)\n",
    "    number_list.append(i + 1)"
   ]
  },
  {
   "cell_type": "code",
   "execution_count": 33,
   "id": "f0812c59",
   "metadata": {},
   "outputs": [],
   "source": [
    "dic = {'메뉴' : text_list,\n",
    "      '가격' : price_list,\n",
    "      '번호' : number_list}\n",
    "\n",
    "han = pd.DataFrame(dic)\n",
    "han.set_index('번호', inplace = True)"
   ]
  },
  {
   "cell_type": "code",
   "execution_count": 34,
   "id": "317f3d90",
   "metadata": {},
   "outputs": [],
   "source": [
    "han.to_csv('한솥도시락.csv', encoding = 'euc-kr')"
   ]
  },
  {
   "cell_type": "code",
   "execution_count": 35,
   "id": "93bbab79",
   "metadata": {},
   "outputs": [
    {
     "data": {
      "text/html": [
       "<div>\n",
       "<style scoped>\n",
       "    .dataframe tbody tr th:only-of-type {\n",
       "        vertical-align: middle;\n",
       "    }\n",
       "\n",
       "    .dataframe tbody tr th {\n",
       "        vertical-align: top;\n",
       "    }\n",
       "\n",
       "    .dataframe thead th {\n",
       "        text-align: right;\n",
       "    }\n",
       "</style>\n",
       "<table border=\"1\" class=\"dataframe\">\n",
       "  <thead>\n",
       "    <tr style=\"text-align: right;\">\n",
       "      <th></th>\n",
       "      <th>메뉴</th>\n",
       "      <th>가격</th>\n",
       "    </tr>\n",
       "    <tr>\n",
       "      <th>번호</th>\n",
       "      <th></th>\n",
       "      <th></th>\n",
       "    </tr>\n",
       "  </thead>\n",
       "  <tbody>\n",
       "    <tr>\n",
       "      <th>1</th>\n",
       "      <td>더블함박</td>\n",
       "      <td>6,700</td>\n",
       "    </tr>\n",
       "    <tr>\n",
       "      <th>2</th>\n",
       "      <td>해바라기</td>\n",
       "      <td>10,000</td>\n",
       "    </tr>\n",
       "    <tr>\n",
       "      <th>3</th>\n",
       "      <td>데미햄버그 불고기 파스타</td>\n",
       "      <td>5,200</td>\n",
       "    </tr>\n",
       "    <tr>\n",
       "      <th>4</th>\n",
       "      <td>데미햄버그 불고기 덮밥</td>\n",
       "      <td>4,800</td>\n",
       "    </tr>\n",
       "    <tr>\n",
       "      <th>5</th>\n",
       "      <td>핫 치즈 닭갈비덮밥</td>\n",
       "      <td>5,900</td>\n",
       "    </tr>\n",
       "    <tr>\n",
       "      <th>6</th>\n",
       "      <td>오리지널 치즈 닭갈비덮밥</td>\n",
       "      <td>5,900</td>\n",
       "    </tr>\n",
       "  </tbody>\n",
       "</table>\n",
       "</div>"
      ],
      "text/plain": [
       "               메뉴      가격\n",
       "번호                       \n",
       "1            더블함박   6,700\n",
       "2            해바라기  10,000\n",
       "3   데미햄버그 불고기 파스타   5,200\n",
       "4    데미햄버그 불고기 덮밥   4,800\n",
       "5      핫 치즈 닭갈비덮밥   5,900\n",
       "6   오리지널 치즈 닭갈비덮밥   5,900"
      ]
     },
     "execution_count": 35,
     "metadata": {},
     "output_type": "execute_result"
    }
   ],
   "source": [
    "han"
   ]
  },
  {
   "cell_type": "code",
   "execution_count": null,
   "id": "f488fbb0",
   "metadata": {},
   "outputs": [],
   "source": []
  }
 ],
 "metadata": {
  "kernelspec": {
   "display_name": "Python 3 (ipykernel)",
   "language": "python",
   "name": "python3"
  },
  "language_info": {
   "codemirror_mode": {
    "name": "ipython",
    "version": 3
   },
   "file_extension": ".py",
   "mimetype": "text/x-python",
   "name": "python",
   "nbconvert_exporter": "python",
   "pygments_lexer": "ipython3",
   "version": "3.9.12"
  }
 },
 "nbformat": 4,
 "nbformat_minor": 5
}
