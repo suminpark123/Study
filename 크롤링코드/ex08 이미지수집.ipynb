{
 "cells": [
  {
   "cell_type": "code",
   "execution_count": 5,
   "id": "d9f7c02a",
   "metadata": {},
   "outputs": [],
   "source": [
    "from selenium import webdriver as wb\n",
    "from selenium.webdriver.common.by import By\n",
    "from selenium.webdriver.common.keys import Keys\n",
    "import time\n",
    "#파일시스템을 위한 라이브러리(폴더,파일,삭제,생성,검색)\n",
    "import os\n",
    "# 이미지의 url값을 파일로 변형해주는 라이브러리\n",
    "from urllib.request import urlretrieve as ur"
   ]
  },
  {
   "cell_type": "code",
   "execution_count": 19,
   "id": "dcc209b5",
   "metadata": {},
   "outputs": [],
   "source": [
    "# 1. 크롬 실행 후 > 네이버 사이트로 이동\n",
    "# 2.검색창에 원하는 단어 검색\n",
    "# 3.검색진행(클릭,엔터)\n",
    "# 4. 상단 탭중 이미지 탭을 클릭해서 사이트를 이동\n",
    "driver=wb.Chrome()\n",
    "driver.get('https://www.naver.com/')"
   ]
  },
  {
   "cell_type": "code",
   "execution_count": 20,
   "id": "538adbf8",
   "metadata": {},
   "outputs": [],
   "source": [
    "search=driver.find_element(By.ID,\"query\")"
   ]
  },
  {
   "cell_type": "code",
   "execution_count": 21,
   "id": "3f87bcd5",
   "metadata": {},
   "outputs": [],
   "source": [
    "search.send_keys('손흥민')"
   ]
  },
  {
   "cell_type": "code",
   "execution_count": 22,
   "id": "06a11b60",
   "metadata": {},
   "outputs": [],
   "source": [
    "search.send_keys(Keys.ENTER)"
   ]
  },
  {
   "cell_type": "code",
   "execution_count": 23,
   "id": "4af07b00",
   "metadata": {},
   "outputs": [],
   "source": [
    "img=driver.find_element(By.CSS_SELECTOR,'#lnb > div.lnb_group > div > ul > li:nth-child(4) > a')"
   ]
  },
  {
   "cell_type": "code",
   "execution_count": 24,
   "id": "d5987467",
   "metadata": {},
   "outputs": [],
   "source": [
    "img.click()"
   ]
  },
  {
   "cell_type": "code",
   "execution_count": 35,
   "id": "d25ee57f",
   "metadata": {},
   "outputs": [],
   "source": [
    "# 스크롤 마지막까지 페이지다운\n",
    "body=driver.find_element(By.CSS_SELECTOR,'body')\n",
    "for i in range(10):\n",
    "    body.send_keys(Keys.END)"
   ]
  },
  {
   "cell_type": "code",
   "execution_count": 25,
   "id": "58fe7916",
   "metadata": {},
   "outputs": [],
   "source": [
    "#1. 이미지 태그들을 수집\n",
    "#2. 이미지 태그속 src속성만 추출하기 위해서\n",
    "img1=driver.find_elements(By.CSS_SELECTOR,'._image._listImage')"
   ]
  },
  {
   "cell_type": "code",
   "execution_count": 26,
   "id": "cd902b2b",
   "metadata": {},
   "outputs": [
    {
     "data": {
      "text/plain": [
       "'https://search.pstatic.net/common/?src=http%3A%2F%2Fimgnews.naver.net%2Fimage%2F421%2F2022%2F09%2F18%2F0006339542_001_20220918065101649.jpg&type=a340'"
      ]
     },
     "execution_count": 26,
     "metadata": {},
     "output_type": "execute_result"
    }
   ],
   "source": [
    "img1[0].get_attribute('src')"
   ]
  },
  {
   "cell_type": "code",
   "execution_count": 27,
   "id": "66906f6c",
   "metadata": {},
   "outputs": [],
   "source": [
    "# src만 담아줄 리스트를 제작\n",
    "src_list=[]\n",
    "for i in img1:\n",
    "    src_list.append(i.get_attribute('src'))"
   ]
  },
  {
   "cell_type": "code",
   "execution_count": 29,
   "id": "1149dd86",
   "metadata": {},
   "outputs": [],
   "source": [
    "# 이미지 저장\n",
    "# 폴더를 생성\n",
    "# 바탕화면에 이미지라는 폴더가 없다면,바탕화면에 이미지라는 폴더를 만들어줘\n",
    "if not os.path.isdir('C:/Users/smhrd/Desktop/이미지'):\n",
    "    os.mkdir('C:/Users/smhrd/Desktop/이미지')\n"
   ]
  },
  {
   "cell_type": "code",
   "execution_count": null,
   "id": "8486f931",
   "metadata": {},
   "outputs": [],
   "source": [
    "# url값을 이미지 폴더에 저장"
   ]
  },
  {
   "cell_type": "code",
   "execution_count": 31,
   "id": "71158b4d",
   "metadata": {},
   "outputs": [],
   "source": [
    "cnt =0\n",
    "for i in src_list:\n",
    "    ur(i,'C:/Users/smhrd/Desktop/이미지/'+str(cnt)+\".jpg\") #str(cnt) \n",
    "    cnt = cnt+1\n",
    "    time.sleep(1)"
   ]
  },
  {
   "cell_type": "code",
   "execution_count": 34,
   "id": "2c2d4097",
   "metadata": {},
   "outputs": [
    {
     "name": "stdout",
     "output_type": "stream",
     "text": [
      "가나다라0\n",
      "가나다라1\n",
      "가나다라2\n",
      "가나다라3\n",
      "가나다라4\n",
      "가나다라5\n",
      "가나다라6\n",
      "가나다라7\n",
      "가나다라8\n",
      "가나다라9\n"
     ]
    }
   ],
   "source": [
    "num =0\n",
    "for i in range(10):\n",
    "    print(f\"가나다라{num}\")\n",
    "    num=num+1\n"
   ]
  },
  {
   "cell_type": "markdown",
   "id": "10fa7490",
   "metadata": {},
   "source": [
    "# 이미지가 중간에 깨지는 이유는?\n",
    "- 이미지는 텍스트 파일보다 크기가 더 크기 때문에\n",
    "- 화면상에 스크롤을 통해서 더 많은 양의 데이터를 로딩시키기\n",
    "- 1.크롬실행\n",
    "- 2.스크롤을 충분히 실행(for문)//화면구성\n",
    "- 3.img태그 수집//요소 수집\n",
    "- 4.img태그 속 속성(src)추출// 데이터가공\n",
    "- 5.파일저장 // 데이터활용"
   ]
  },
  {
   "cell_type": "code",
   "execution_count": null,
   "id": "bb2786c1",
   "metadata": {},
   "outputs": [],
   "source": []
  },
  {
   "cell_type": "code",
   "execution_count": null,
   "id": "16eddf3d",
   "metadata": {},
   "outputs": [],
   "source": []
  },
  {
   "cell_type": "code",
   "execution_count": null,
   "id": "0603f1cc",
   "metadata": {},
   "outputs": [],
   "source": []
  }
 ],
 "metadata": {
  "kernelspec": {
   "display_name": "Python 3 (ipykernel)",
   "language": "python",
   "name": "python3"
  },
  "language_info": {
   "codemirror_mode": {
    "name": "ipython",
    "version": 3
   },
   "file_extension": ".py",
   "mimetype": "text/x-python",
   "name": "python",
   "nbconvert_exporter": "python",
   "pygments_lexer": "ipython3",
   "version": "3.9.12"
  }
 },
 "nbformat": 4,
 "nbformat_minor": 5
}
