{
 "cells": [
  {
   "cell_type": "markdown",
   "id": "a6e62931",
   "metadata": {},
   "source": [
    "# Selenium 라이브러리\n",
    "- 웹 브라우저를 자동으로 제어하기 위한 라이브러리\n",
    "- 반드시 한번 설치 필요\n",
    "- webdriver = 브라우저\n",
    "- Keys = 컴퓨터용 키보드\n",
    "- By = 선택자를 구분지을 때 사용"
   ]
  },
  {
   "cell_type": "code",
   "execution_count": 1,
   "id": "ef831780",
   "metadata": {
    "collapsed": true
   },
   "outputs": [
    {
     "name": "stdout",
     "output_type": "stream",
     "text": [
      "Collecting selenium\n",
      "  Downloading selenium-4.5.0-py3-none-any.whl (995 kB)\n",
      "Collecting trio-websocket~=0.9\n",
      "  Downloading trio_websocket-0.9.2-py3-none-any.whl (16 kB)\n",
      "Requirement already satisfied: urllib3[socks]~=1.26 in c:\\users\\smhrd\\anaconda3\\lib\\site-packages (from selenium) (1.26.9)\n",
      "Collecting trio~=0.17\n",
      "  Downloading trio-0.22.0-py3-none-any.whl (384 kB)\n",
      "Requirement already satisfied: certifi>=2021.10.8 in c:\\users\\smhrd\\anaconda3\\lib\\site-packages (from selenium) (2021.10.8)\n",
      "Requirement already satisfied: cffi>=1.14 in c:\\users\\smhrd\\anaconda3\\lib\\site-packages (from trio~=0.17->selenium) (1.15.0)\n",
      "Collecting exceptiongroup>=1.0.0rc9\n",
      "  Downloading exceptiongroup-1.0.0rc9-py3-none-any.whl (12 kB)\n",
      "Requirement already satisfied: attrs>=19.2.0 in c:\\users\\smhrd\\anaconda3\\lib\\site-packages (from trio~=0.17->selenium) (21.4.0)\n",
      "Requirement already satisfied: sortedcontainers in c:\\users\\smhrd\\anaconda3\\lib\\site-packages (from trio~=0.17->selenium) (2.4.0)\n",
      "Requirement already satisfied: sniffio in c:\\users\\smhrd\\anaconda3\\lib\\site-packages (from trio~=0.17->selenium) (1.2.0)\n",
      "Collecting async-generator>=1.9\n",
      "  Downloading async_generator-1.10-py3-none-any.whl (18 kB)\n",
      "Requirement already satisfied: idna in c:\\users\\smhrd\\anaconda3\\lib\\site-packages (from trio~=0.17->selenium) (3.3)\n",
      "Collecting outcome\n",
      "  Downloading outcome-1.2.0-py2.py3-none-any.whl (9.7 kB)\n",
      "Requirement already satisfied: pycparser in c:\\users\\smhrd\\anaconda3\\lib\\site-packages (from cffi>=1.14->trio~=0.17->selenium) (2.21)\n",
      "Collecting wsproto>=0.14\n",
      "  Downloading wsproto-1.2.0-py3-none-any.whl (24 kB)\n",
      "Requirement already satisfied: PySocks!=1.5.7,<2.0,>=1.5.6 in c:\\users\\smhrd\\anaconda3\\lib\\site-packages (from urllib3[socks]~=1.26->selenium) (1.7.1)\n",
      "Collecting h11<1,>=0.9.0\n",
      "  Downloading h11-0.14.0-py3-none-any.whl (58 kB)\n",
      "Installing collected packages: outcome, h11, exceptiongroup, async-generator, wsproto, trio, trio-websocket, selenium\n",
      "Successfully installed async-generator-1.10 exceptiongroup-1.0.0rc9 h11-0.14.0 outcome-1.2.0 selenium-4.5.0 trio-0.22.0 trio-websocket-0.9.2 wsproto-1.2.0\n"
     ]
    }
   ],
   "source": [
    "!pip install selenium"
   ]
  },
  {
   "cell_type": "code",
   "execution_count": 2,
   "id": "46aa8e4b",
   "metadata": {},
   "outputs": [],
   "source": [
    "#자동제어를 하기 위해서 크롬드라이버를 설치\n",
    "#항상 사용자가 사용하는 크롬버전과 같은 버전을 설치\n",
    "# 브라우저가 업데이트 되면 크롬드라이버도 같은 버전을 사용해야함\n",
    "# 작업중인 파이썬 파일과 같은경로에 두는걸 추천\n"
   ]
  },
  {
   "cell_type": "code",
   "execution_count": 5,
   "id": "e42b108e",
   "metadata": {},
   "outputs": [],
   "source": [
    "from selenium import webdriver as wb\n",
    "from selenium.webdriver.common.keys import Keys\n",
    "from selenium.webdriver.common.by import By"
   ]
  },
  {
   "cell_type": "code",
   "execution_count": 30,
   "id": "cc4cac99",
   "metadata": {},
   "outputs": [],
   "source": [
    "#크롬창을 실행\n",
    "# wb.Chrome('크롬드라이버의 경로') 같은경로면 생략가능\n",
    "driver=wb.Chrome()\n"
   ]
  },
  {
   "cell_type": "code",
   "execution_count": 31,
   "id": "9f9051b0",
   "metadata": {},
   "outputs": [],
   "source": [
    "# .get('url')=페이지의 정보를 요청\n",
    "driver.get('https://www.naver.com/')\n"
   ]
  },
  {
   "cell_type": "code",
   "execution_count": 18,
   "id": "e6e06637",
   "metadata": {},
   "outputs": [],
   "source": [
    "# 검색창에 원하는 단어를 입력해서 검색\n",
    "#1. 검색창의 위치(요소)검사\n",
    "search=driver.find_element(By.ID,\"query\")"
   ]
  },
  {
   "cell_type": "code",
   "execution_count": 20,
   "id": "22793fb8",
   "metadata": {},
   "outputs": [],
   "source": [
    "#2. 검색창에 내가 원하는 값을 전달\n",
    "# send_keys('값')=특정 요소에게 값을 보낼때 사용\n",
    "search.send_keys('hot')"
   ]
  },
  {
   "cell_type": "code",
   "execution_count": 22,
   "id": "bf800cff",
   "metadata": {},
   "outputs": [],
   "source": [
    "#3. 키보드를 통해서 enter 입력\n",
    "search.send_keys(Keys.ENTER)"
   ]
  },
  {
   "cell_type": "code",
   "execution_count": 23,
   "id": "00d50b04",
   "metadata": {},
   "outputs": [],
   "source": [
    "#4. 페이지를 뒤로가기\n",
    "# 뒤로가기 버튼은 html코드가 아니다\n",
    "\n",
    "driver.back()"
   ]
  },
  {
   "cell_type": "code",
   "execution_count": 39,
   "id": "de500e6d",
   "metadata": {},
   "outputs": [],
   "source": [
    "#페이지가 변하는 경우에는 항상 요소를 다시 수집\n",
    "search=driver.find_element(By.ID,\"query\")\n",
    "search.send_keys('god')"
   ]
  },
  {
   "cell_type": "code",
   "execution_count": 40,
   "id": "fcfbb553",
   "metadata": {},
   "outputs": [],
   "source": [
    "btn=driver.find_element(By.ID,\"search_btn\")"
   ]
  },
  {
   "cell_type": "code",
   "execution_count": 41,
   "id": "3a0a920a",
   "metadata": {},
   "outputs": [],
   "source": [
    "btn.click()"
   ]
  },
  {
   "cell_type": "code",
   "execution_count": 46,
   "id": "8ab584d1",
   "metadata": {},
   "outputs": [],
   "source": [
    "#6. 페이지의 스크롤을 맨밑으로 이동\n",
    "body=driver.find_element(By.TAG_NAME,'body')\n",
    "#body=driver.find_element(By.CSS_SELECTOR,'body')\n"
   ]
  },
  {
   "cell_type": "code",
   "execution_count": 47,
   "id": "98437e0b",
   "metadata": {},
   "outputs": [],
   "source": [
    "body.send_keys(Keys.END)"
   ]
  },
  {
   "cell_type": "code",
   "execution_count": null,
   "id": "d8973f3c",
   "metadata": {},
   "outputs": [],
   "source": [
    "#7.창을 닫기"
   ]
  },
  {
   "cell_type": "code",
   "execution_count": 48,
   "id": "159691b6",
   "metadata": {},
   "outputs": [],
   "source": [
    "driver.close()\n",
    "#driver.quit()"
   ]
  },
  {
   "cell_type": "code",
   "execution_count": null,
   "id": "5bf2518a",
   "metadata": {},
   "outputs": [],
   "source": []
  }
 ],
 "metadata": {
  "kernelspec": {
   "display_name": "Python 3 (ipykernel)",
   "language": "python",
   "name": "python3"
  },
  "language_info": {
   "codemirror_mode": {
    "name": "ipython",
    "version": 3
   },
   "file_extension": ".py",
   "mimetype": "text/x-python",
   "name": "python",
   "nbconvert_exporter": "python",
   "pygments_lexer": "ipython3",
   "version": "3.9.12"
  }
 },
 "nbformat": 4,
 "nbformat_minor": 5
}
